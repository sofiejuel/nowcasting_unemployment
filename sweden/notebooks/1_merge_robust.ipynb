{
 "cells": [
  {
   "cell_type": "markdown",
   "metadata": {},
   "source": [
    "## Import"
   ]
  },
  {
   "cell_type": "code",
   "execution_count": 55,
   "metadata": {},
   "outputs": [],
   "source": [
    "import pandas as pd\n",
    "import numpy as np\n",
    "import requests\n",
    "\n",
    "\n",
    "\n",
    "import os\n",
    "import sys\n",
    "currentdir = os.path.dirname(os.path.realpath('analysis_DK'))\n",
    "parentdir = os.path.dirname(currentdir)\n",
    "sys.path.append(parentdir)\n",
    "\n",
    "from func import global_id, quarter_to_month, reindex, GT_dict"
   ]
  },
  {
   "cell_type": "markdown",
   "metadata": {
    "toc-hr-collapsed": false
   },
   "source": [
    "## DK "
   ]
  },
  {
   "cell_type": "markdown",
   "metadata": {},
   "source": [
    "#### Target data "
   ]
  },
  {
   "cell_type": "code",
   "execution_count": 56,
   "metadata": {},
   "outputs": [],
   "source": [
    "df_dk_target = pd.read_csv(r'data/target/df_DK_target.csv', parse_dates = ['date'])"
   ]
  },
  {
   "cell_type": "code",
   "execution_count": 57,
   "metadata": {},
   "outputs": [],
   "source": [
    "df_dk_target = df_dk_target.sort_values(by=['ID', 'date'])"
   ]
  },
  {
   "cell_type": "code",
   "execution_count": 58,
   "metadata": {},
   "outputs": [
    {
     "data": {
      "text/plain": [
       "Timestamp('2008-01-01 00:00:00')"
      ]
     },
     "execution_count": 58,
     "metadata": {},
     "output_type": "execute_result"
    }
   ],
   "source": [
    "df_dk_target.date.min()"
   ]
  },
  {
   "cell_type": "code",
   "execution_count": 59,
   "metadata": {},
   "outputs": [
    {
     "data": {
      "text/plain": [
       "Timestamp('2019-07-01 00:00:00')"
      ]
     },
     "execution_count": 59,
     "metadata": {},
     "output_type": "execute_result"
    }
   ],
   "source": [
    "df_dk_target.date.max()"
   ]
  },
  {
   "cell_type": "markdown",
   "metadata": {},
   "source": [
    "#### Job posts"
   ]
  },
  {
   "cell_type": "code",
   "execution_count": 60,
   "metadata": {},
   "outputs": [],
   "source": [
    "df_dk_jobs = pd.read_csv(r'data/job_posts/df_DK_jobposts_quarterly_final.csv', parse_dates = ['date'])"
   ]
  },
  {
   "cell_type": "code",
   "execution_count": 61,
   "metadata": {},
   "outputs": [
    {
     "data": {
      "text/plain": [
       "72786"
      ]
     },
     "execution_count": 61,
     "metadata": {},
     "output_type": "execute_result"
    }
   ],
   "source": [
    "df_dk_jobs[df_dk_jobs.date == '2019-01-01'].jobs.sum()"
   ]
  },
  {
   "cell_type": "code",
   "execution_count": 62,
   "metadata": {},
   "outputs": [],
   "source": [
    "df_dk_jobs = df_dk_jobs.drop(['labour_force'], axis = 1)"
   ]
  },
  {
   "cell_type": "markdown",
   "metadata": {},
   "source": [
    "Merge on labour force "
   ]
  },
  {
   "cell_type": "code",
   "execution_count": 63,
   "metadata": {},
   "outputs": [],
   "source": [
    "df_dk_labour = pd.read_csv(r'data/job_posts/df_DK_labour_force.csv', parse_dates = ['date'])"
   ]
  },
  {
   "cell_type": "code",
   "execution_count": 64,
   "metadata": {},
   "outputs": [],
   "source": [
    "df_dk_jobs = df_dk_jobs.merge(df_dk_labour, on = ['date', 'ID'])"
   ]
  },
  {
   "cell_type": "code",
   "execution_count": 65,
   "metadata": {},
   "outputs": [],
   "source": [
    "df_dk_jobs['labour_force'] = df_dk_jobs.groupby('ID').labour_force.shift(1)"
   ]
  },
  {
   "cell_type": "markdown",
   "metadata": {},
   "source": [
    "Create job rate"
   ]
  },
  {
   "cell_type": "code",
   "execution_count": 66,
   "metadata": {},
   "outputs": [],
   "source": [
    "jobs_list = ['jobs', 'sector_information_technology', 'sector_engineering_technology','sector_management_staff', 'sector_trade_service',\n",
    "       'sector_industry_craft', 'sector_sales_communication',\n",
    "       'sector_teaching', 'sector_office_finance', 'sector_social_health',\n",
    "       'sector_other']"
   ]
  },
  {
   "cell_type": "code",
   "execution_count": 67,
   "metadata": {},
   "outputs": [],
   "source": [
    "for col in jobs_list:\n",
    "    df_dk_jobs[col] = (df_dk_jobs[col] / df_dk_jobs['labour_force'])*100"
   ]
  },
  {
   "cell_type": "code",
   "execution_count": 68,
   "metadata": {},
   "outputs": [],
   "source": [
    "df_dk_jobs = df_dk_jobs.drop(['labour_force'], axis = 1)"
   ]
  },
  {
   "cell_type": "code",
   "execution_count": 69,
   "metadata": {},
   "outputs": [
    {
     "data": {
      "text/plain": [
       "Timestamp('2008-01-01 00:00:00')"
      ]
     },
     "execution_count": 69,
     "metadata": {},
     "output_type": "execute_result"
    }
   ],
   "source": [
    "df_dk_jobs.date.min()"
   ]
  },
  {
   "cell_type": "code",
   "execution_count": 70,
   "metadata": {},
   "outputs": [
    {
     "data": {
      "text/plain": [
       "Timestamp('2019-07-01 00:00:00')"
      ]
     },
     "execution_count": 70,
     "metadata": {},
     "output_type": "execute_result"
    }
   ],
   "source": [
    "df_dk_jobs.date.max()"
   ]
  },
  {
   "cell_type": "markdown",
   "metadata": {},
   "source": [
    "#### Google"
   ]
  },
  {
   "cell_type": "code",
   "execution_count": null,
   "metadata": {},
   "outputs": [],
   "source": []
  },
  {
   "cell_type": "markdown",
   "metadata": {},
   "source": [
    "#### Regional"
   ]
  },
  {
   "cell_type": "code",
   "execution_count": 71,
   "metadata": {},
   "outputs": [],
   "source": [
    "df_dk_controls = pd.read_csv(r'data/controls/df_DK_controls.csv', parse_dates = ['date'])"
   ]
  },
  {
   "cell_type": "code",
   "execution_count": 72,
   "metadata": {},
   "outputs": [],
   "source": [
    "df_dk_controls = df_dk_controls.drop(['w_ave_socio_index'], axis = 1)"
   ]
  },
  {
   "cell_type": "code",
   "execution_count": 73,
   "metadata": {},
   "outputs": [],
   "source": [
    "df_dk_controls = df_dk_controls[df_dk_controls['date'].map(lambda x: x.month).isin([1, 4, 7, 10])]"
   ]
  },
  {
   "cell_type": "code",
   "execution_count": 74,
   "metadata": {},
   "outputs": [
    {
     "data": {
      "text/plain": [
       "Timestamp('2007-04-01 00:00:00')"
      ]
     },
     "execution_count": 74,
     "metadata": {},
     "output_type": "execute_result"
    }
   ],
   "source": [
    "df_dk_controls.date.min()"
   ]
  },
  {
   "cell_type": "code",
   "execution_count": 75,
   "metadata": {},
   "outputs": [
    {
     "data": {
      "text/plain": [
       "Timestamp('2019-07-01 00:00:00')"
      ]
     },
     "execution_count": 75,
     "metadata": {},
     "output_type": "execute_result"
    }
   ],
   "source": [
    "df_dk_controls.date.max()"
   ]
  },
  {
   "cell_type": "markdown",
   "metadata": {},
   "source": [
    "#### Merge data"
   ]
  },
  {
   "cell_type": "code",
   "execution_count": 76,
   "metadata": {},
   "outputs": [
    {
     "data": {
      "text/plain": [
       "(235, 14)"
      ]
     },
     "execution_count": 76,
     "metadata": {},
     "output_type": "execute_result"
    }
   ],
   "source": [
    "df_DK = df_dk_target.merge(df_dk_jobs, on = ['date', 'ID'])\n",
    "df_DK.shape"
   ]
  },
  {
   "cell_type": "code",
   "execution_count": 77,
   "metadata": {},
   "outputs": [
    {
     "data": {
      "text/plain": [
       "(235, 18)"
      ]
     },
     "execution_count": 77,
     "metadata": {},
     "output_type": "execute_result"
    }
   ],
   "source": [
    "df_DK = df_DK.merge(df_dk_controls, on = ['date', 'ID'])\n",
    "df_DK.shape"
   ]
  },
  {
   "cell_type": "code",
   "execution_count": 78,
   "metadata": {},
   "outputs": [
    {
     "data": {
      "text/plain": [
       "Timestamp('2008-01-01 00:00:00')"
      ]
     },
     "execution_count": 78,
     "metadata": {},
     "output_type": "execute_result"
    }
   ],
   "source": [
    "df_DK.date.min()"
   ]
  },
  {
   "cell_type": "code",
   "execution_count": 79,
   "metadata": {},
   "outputs": [
    {
     "data": {
      "text/html": [
       "<div>\n",
       "<style scoped>\n",
       "    .dataframe tbody tr th:only-of-type {\n",
       "        vertical-align: middle;\n",
       "    }\n",
       "\n",
       "    .dataframe tbody tr th {\n",
       "        vertical-align: top;\n",
       "    }\n",
       "\n",
       "    .dataframe thead th {\n",
       "        text-align: right;\n",
       "    }\n",
       "</style>\n",
       "<table border=\"1\" class=\"dataframe\">\n",
       "  <thead>\n",
       "    <tr style=\"text-align: right;\">\n",
       "      <th></th>\n",
       "      <th>date</th>\n",
       "      <th>target_actual</th>\n",
       "      <th>ID</th>\n",
       "      <th>jobs</th>\n",
       "      <th>sector_information_technology</th>\n",
       "      <th>sector_engineering_technology</th>\n",
       "      <th>sector_management_staff</th>\n",
       "      <th>sector_trade_service</th>\n",
       "      <th>sector_industry_craft</th>\n",
       "      <th>sector_sales_communication</th>\n",
       "      <th>sector_teaching</th>\n",
       "      <th>sector_office_finance</th>\n",
       "      <th>sector_social_health</th>\n",
       "      <th>sector_other</th>\n",
       "      <th>pop</th>\n",
       "      <th>mvu_lvu_share_pop</th>\n",
       "      <th>labour_force_share</th>\n",
       "      <th>w_ave_urban_index</th>\n",
       "    </tr>\n",
       "  </thead>\n",
       "  <tbody>\n",
       "    <tr>\n",
       "      <td>1</td>\n",
       "      <td>2008-04-01</td>\n",
       "      <td>4.13</td>\n",
       "      <td>Capital</td>\n",
       "      <td>3.432511</td>\n",
       "      <td>0.269507</td>\n",
       "      <td>0.229372</td>\n",
       "      <td>0.342377</td>\n",
       "      <td>0.502130</td>\n",
       "      <td>0.298991</td>\n",
       "      <td>0.262332</td>\n",
       "      <td>0.404260</td>\n",
       "      <td>0.754933</td>\n",
       "      <td>0.402130</td>\n",
       "      <td>0.372197</td>\n",
       "      <td>1645825</td>\n",
       "      <td>18.521046</td>\n",
       "      <td>52.812799</td>\n",
       "      <td>97.184792</td>\n",
       "    </tr>\n",
       "    <tr>\n",
       "      <td>2</td>\n",
       "      <td>2008-07-01</td>\n",
       "      <td>3.72</td>\n",
       "      <td>Capital</td>\n",
       "      <td>2.837729</td>\n",
       "      <td>0.236353</td>\n",
       "      <td>0.195413</td>\n",
       "      <td>0.294151</td>\n",
       "      <td>0.424885</td>\n",
       "      <td>0.221101</td>\n",
       "      <td>0.221674</td>\n",
       "      <td>0.356995</td>\n",
       "      <td>0.601147</td>\n",
       "      <td>0.338188</td>\n",
       "      <td>0.288073</td>\n",
       "      <td>1648990</td>\n",
       "      <td>19.020249</td>\n",
       "      <td>51.326716</td>\n",
       "      <td>97.226230</td>\n",
       "    </tr>\n",
       "    <tr>\n",
       "      <td>3</td>\n",
       "      <td>2008-10-01</td>\n",
       "      <td>3.88</td>\n",
       "      <td>Capital</td>\n",
       "      <td>2.253597</td>\n",
       "      <td>0.179017</td>\n",
       "      <td>0.171703</td>\n",
       "      <td>0.253118</td>\n",
       "      <td>0.277818</td>\n",
       "      <td>0.119424</td>\n",
       "      <td>0.174460</td>\n",
       "      <td>0.297842</td>\n",
       "      <td>0.485731</td>\n",
       "      <td>0.330096</td>\n",
       "      <td>0.235612</td>\n",
       "      <td>1650985</td>\n",
       "      <td>18.997265</td>\n",
       "      <td>52.493338</td>\n",
       "      <td>97.213391</td>\n",
       "    </tr>\n",
       "    <tr>\n",
       "      <td>4</td>\n",
       "      <td>2009-01-01</td>\n",
       "      <td>6.18</td>\n",
       "      <td>Capital</td>\n",
       "      <td>1.941019</td>\n",
       "      <td>0.129733</td>\n",
       "      <td>0.139442</td>\n",
       "      <td>0.204126</td>\n",
       "      <td>0.239806</td>\n",
       "      <td>0.083374</td>\n",
       "      <td>0.130947</td>\n",
       "      <td>0.264078</td>\n",
       "      <td>0.399879</td>\n",
       "      <td>0.357403</td>\n",
       "      <td>0.228398</td>\n",
       "      <td>1660042</td>\n",
       "      <td>18.893618</td>\n",
       "      <td>52.154598</td>\n",
       "      <td>97.219624</td>\n",
       "    </tr>\n",
       "    <tr>\n",
       "      <td>5</td>\n",
       "      <td>2009-04-01</td>\n",
       "      <td>6.56</td>\n",
       "      <td>Capital</td>\n",
       "      <td>1.766508</td>\n",
       "      <td>0.097506</td>\n",
       "      <td>0.103444</td>\n",
       "      <td>0.180998</td>\n",
       "      <td>0.239667</td>\n",
       "      <td>0.089430</td>\n",
       "      <td>0.126841</td>\n",
       "      <td>0.273397</td>\n",
       "      <td>0.315321</td>\n",
       "      <td>0.289311</td>\n",
       "      <td>0.249525</td>\n",
       "      <td>1662285</td>\n",
       "      <td>18.868124</td>\n",
       "      <td>50.858507</td>\n",
       "      <td>97.251816</td>\n",
       "    </tr>\n",
       "    <tr>\n",
       "      <td>...</td>\n",
       "      <td>...</td>\n",
       "      <td>...</td>\n",
       "      <td>...</td>\n",
       "      <td>...</td>\n",
       "      <td>...</td>\n",
       "      <td>...</td>\n",
       "      <td>...</td>\n",
       "      <td>...</td>\n",
       "      <td>...</td>\n",
       "      <td>...</td>\n",
       "      <td>...</td>\n",
       "      <td>...</td>\n",
       "      <td>...</td>\n",
       "      <td>...</td>\n",
       "      <td>...</td>\n",
       "      <td>...</td>\n",
       "      <td>...</td>\n",
       "      <td>...</td>\n",
       "    </tr>\n",
       "    <tr>\n",
       "      <td>230</td>\n",
       "      <td>2018-07-01</td>\n",
       "      <td>4.64</td>\n",
       "      <td>Zealand</td>\n",
       "      <td>1.658612</td>\n",
       "      <td>0.064781</td>\n",
       "      <td>0.124936</td>\n",
       "      <td>0.170694</td>\n",
       "      <td>0.223907</td>\n",
       "      <td>0.235219</td>\n",
       "      <td>0.123136</td>\n",
       "      <td>0.235219</td>\n",
       "      <td>0.184576</td>\n",
       "      <td>0.418509</td>\n",
       "      <td>0.211568</td>\n",
       "      <td>835107</td>\n",
       "      <td>13.596821</td>\n",
       "      <td>45.878892</td>\n",
       "      <td>81.492432</td>\n",
       "    </tr>\n",
       "    <tr>\n",
       "      <td>231</td>\n",
       "      <td>2018-10-01</td>\n",
       "      <td>5.44</td>\n",
       "      <td>Zealand</td>\n",
       "      <td>1.706443</td>\n",
       "      <td>0.067526</td>\n",
       "      <td>0.125773</td>\n",
       "      <td>0.198454</td>\n",
       "      <td>0.226289</td>\n",
       "      <td>0.214948</td>\n",
       "      <td>0.134278</td>\n",
       "      <td>0.268814</td>\n",
       "      <td>0.195876</td>\n",
       "      <td>0.430412</td>\n",
       "      <td>0.216753</td>\n",
       "      <td>836379</td>\n",
       "      <td>13.576142</td>\n",
       "      <td>45.852419</td>\n",
       "      <td>81.500688</td>\n",
       "    </tr>\n",
       "    <tr>\n",
       "      <td>232</td>\n",
       "      <td>2019-01-01</td>\n",
       "      <td>5.64</td>\n",
       "      <td>Zealand</td>\n",
       "      <td>1.949482</td>\n",
       "      <td>0.073834</td>\n",
       "      <td>0.131347</td>\n",
       "      <td>0.202073</td>\n",
       "      <td>0.263731</td>\n",
       "      <td>0.265803</td>\n",
       "      <td>0.148446</td>\n",
       "      <td>0.238601</td>\n",
       "      <td>0.230052</td>\n",
       "      <td>0.516321</td>\n",
       "      <td>0.279016</td>\n",
       "      <td>836694</td>\n",
       "      <td>13.571031</td>\n",
       "      <td>46.022296</td>\n",
       "      <td>81.505010</td>\n",
       "    </tr>\n",
       "    <tr>\n",
       "      <td>233</td>\n",
       "      <td>2019-04-01</td>\n",
       "      <td>4.76</td>\n",
       "      <td>Zealand</td>\n",
       "      <td>1.893846</td>\n",
       "      <td>0.057692</td>\n",
       "      <td>0.125385</td>\n",
       "      <td>0.192564</td>\n",
       "      <td>0.270256</td>\n",
       "      <td>0.271795</td>\n",
       "      <td>0.124103</td>\n",
       "      <td>0.277949</td>\n",
       "      <td>0.201282</td>\n",
       "      <td>0.454359</td>\n",
       "      <td>0.289231</td>\n",
       "      <td>836738</td>\n",
       "      <td>13.570317</td>\n",
       "      <td>46.898601</td>\n",
       "      <td>81.516592</td>\n",
       "    </tr>\n",
       "    <tr>\n",
       "      <td>234</td>\n",
       "      <td>2019-07-01</td>\n",
       "      <td>4.83</td>\n",
       "      <td>Zealand</td>\n",
       "      <td>1.448872</td>\n",
       "      <td>0.049123</td>\n",
       "      <td>0.097494</td>\n",
       "      <td>0.151880</td>\n",
       "      <td>0.190476</td>\n",
       "      <td>0.227569</td>\n",
       "      <td>0.103759</td>\n",
       "      <td>0.194987</td>\n",
       "      <td>0.165414</td>\n",
       "      <td>0.354887</td>\n",
       "      <td>0.190727</td>\n",
       "      <td>836675</td>\n",
       "      <td>13.848388</td>\n",
       "      <td>46.561758</td>\n",
       "      <td>81.526265</td>\n",
       "    </tr>\n",
       "  </tbody>\n",
       "</table>\n",
       "<p>230 rows × 18 columns</p>\n",
       "</div>"
      ],
      "text/plain": [
       "          date  target_actual       ID      jobs  \\\n",
       "1   2008-04-01           4.13  Capital  3.432511   \n",
       "2   2008-07-01           3.72  Capital  2.837729   \n",
       "3   2008-10-01           3.88  Capital  2.253597   \n",
       "4   2009-01-01           6.18  Capital  1.941019   \n",
       "5   2009-04-01           6.56  Capital  1.766508   \n",
       "..         ...            ...      ...       ...   \n",
       "230 2018-07-01           4.64  Zealand  1.658612   \n",
       "231 2018-10-01           5.44  Zealand  1.706443   \n",
       "232 2019-01-01           5.64  Zealand  1.949482   \n",
       "233 2019-04-01           4.76  Zealand  1.893846   \n",
       "234 2019-07-01           4.83  Zealand  1.448872   \n",
       "\n",
       "     sector_information_technology  sector_engineering_technology  \\\n",
       "1                         0.269507                       0.229372   \n",
       "2                         0.236353                       0.195413   \n",
       "3                         0.179017                       0.171703   \n",
       "4                         0.129733                       0.139442   \n",
       "5                         0.097506                       0.103444   \n",
       "..                             ...                            ...   \n",
       "230                       0.064781                       0.124936   \n",
       "231                       0.067526                       0.125773   \n",
       "232                       0.073834                       0.131347   \n",
       "233                       0.057692                       0.125385   \n",
       "234                       0.049123                       0.097494   \n",
       "\n",
       "     sector_management_staff  sector_trade_service  sector_industry_craft  \\\n",
       "1                   0.342377              0.502130               0.298991   \n",
       "2                   0.294151              0.424885               0.221101   \n",
       "3                   0.253118              0.277818               0.119424   \n",
       "4                   0.204126              0.239806               0.083374   \n",
       "5                   0.180998              0.239667               0.089430   \n",
       "..                       ...                   ...                    ...   \n",
       "230                 0.170694              0.223907               0.235219   \n",
       "231                 0.198454              0.226289               0.214948   \n",
       "232                 0.202073              0.263731               0.265803   \n",
       "233                 0.192564              0.270256               0.271795   \n",
       "234                 0.151880              0.190476               0.227569   \n",
       "\n",
       "     sector_sales_communication  sector_teaching  sector_office_finance  \\\n",
       "1                      0.262332         0.404260               0.754933   \n",
       "2                      0.221674         0.356995               0.601147   \n",
       "3                      0.174460         0.297842               0.485731   \n",
       "4                      0.130947         0.264078               0.399879   \n",
       "5                      0.126841         0.273397               0.315321   \n",
       "..                          ...              ...                    ...   \n",
       "230                    0.123136         0.235219               0.184576   \n",
       "231                    0.134278         0.268814               0.195876   \n",
       "232                    0.148446         0.238601               0.230052   \n",
       "233                    0.124103         0.277949               0.201282   \n",
       "234                    0.103759         0.194987               0.165414   \n",
       "\n",
       "     sector_social_health  sector_other      pop  mvu_lvu_share_pop  \\\n",
       "1                0.402130      0.372197  1645825          18.521046   \n",
       "2                0.338188      0.288073  1648990          19.020249   \n",
       "3                0.330096      0.235612  1650985          18.997265   \n",
       "4                0.357403      0.228398  1660042          18.893618   \n",
       "5                0.289311      0.249525  1662285          18.868124   \n",
       "..                    ...           ...      ...                ...   \n",
       "230              0.418509      0.211568   835107          13.596821   \n",
       "231              0.430412      0.216753   836379          13.576142   \n",
       "232              0.516321      0.279016   836694          13.571031   \n",
       "233              0.454359      0.289231   836738          13.570317   \n",
       "234              0.354887      0.190727   836675          13.848388   \n",
       "\n",
       "     labour_force_share  w_ave_urban_index  \n",
       "1             52.812799          97.184792  \n",
       "2             51.326716          97.226230  \n",
       "3             52.493338          97.213391  \n",
       "4             52.154598          97.219624  \n",
       "5             50.858507          97.251816  \n",
       "..                  ...                ...  \n",
       "230           45.878892          81.492432  \n",
       "231           45.852419          81.500688  \n",
       "232           46.022296          81.505010  \n",
       "233           46.898601          81.516592  \n",
       "234           46.561758          81.526265  \n",
       "\n",
       "[230 rows x 18 columns]"
      ]
     },
     "execution_count": 79,
     "metadata": {},
     "output_type": "execute_result"
    }
   ],
   "source": [
    "df_DK[df_DK['jobs'].notnull()]"
   ]
  },
  {
   "cell_type": "code",
   "execution_count": 80,
   "metadata": {},
   "outputs": [],
   "source": [
    "df_DK['country'] = 'DK'"
   ]
  },
  {
   "cell_type": "code",
   "execution_count": 81,
   "metadata": {},
   "outputs": [
    {
     "data": {
      "text/html": [
       "<div>\n",
       "<style scoped>\n",
       "    .dataframe tbody tr th:only-of-type {\n",
       "        vertical-align: middle;\n",
       "    }\n",
       "\n",
       "    .dataframe tbody tr th {\n",
       "        vertical-align: top;\n",
       "    }\n",
       "\n",
       "    .dataframe thead th {\n",
       "        text-align: right;\n",
       "    }\n",
       "</style>\n",
       "<table border=\"1\" class=\"dataframe\">\n",
       "  <thead>\n",
       "    <tr style=\"text-align: right;\">\n",
       "      <th></th>\n",
       "      <th>date</th>\n",
       "      <th>target_actual</th>\n",
       "      <th>ID</th>\n",
       "      <th>jobs</th>\n",
       "      <th>sector_information_technology</th>\n",
       "      <th>sector_engineering_technology</th>\n",
       "      <th>sector_management_staff</th>\n",
       "      <th>sector_trade_service</th>\n",
       "      <th>sector_industry_craft</th>\n",
       "      <th>sector_sales_communication</th>\n",
       "      <th>sector_teaching</th>\n",
       "      <th>sector_office_finance</th>\n",
       "      <th>sector_social_health</th>\n",
       "      <th>sector_other</th>\n",
       "      <th>pop</th>\n",
       "      <th>mvu_lvu_share_pop</th>\n",
       "      <th>labour_force_share</th>\n",
       "      <th>w_ave_urban_index</th>\n",
       "      <th>country</th>\n",
       "    </tr>\n",
       "  </thead>\n",
       "  <tbody>\n",
       "    <tr>\n",
       "      <td>0</td>\n",
       "      <td>2008-01-01</td>\n",
       "      <td>3.92</td>\n",
       "      <td>Capital</td>\n",
       "      <td>NaN</td>\n",
       "      <td>NaN</td>\n",
       "      <td>NaN</td>\n",
       "      <td>NaN</td>\n",
       "      <td>NaN</td>\n",
       "      <td>NaN</td>\n",
       "      <td>NaN</td>\n",
       "      <td>NaN</td>\n",
       "      <td>NaN</td>\n",
       "      <td>NaN</td>\n",
       "      <td>NaN</td>\n",
       "      <td>1636749</td>\n",
       "      <td>18.623747</td>\n",
       "      <td>52.882006</td>\n",
       "      <td>97.166662</td>\n",
       "      <td>DK</td>\n",
       "    </tr>\n",
       "    <tr>\n",
       "      <td>1</td>\n",
       "      <td>2008-04-01</td>\n",
       "      <td>4.13</td>\n",
       "      <td>Capital</td>\n",
       "      <td>3.432511</td>\n",
       "      <td>0.269507</td>\n",
       "      <td>0.229372</td>\n",
       "      <td>0.342377</td>\n",
       "      <td>0.502130</td>\n",
       "      <td>0.298991</td>\n",
       "      <td>0.262332</td>\n",
       "      <td>0.404260</td>\n",
       "      <td>0.754933</td>\n",
       "      <td>0.402130</td>\n",
       "      <td>0.372197</td>\n",
       "      <td>1645825</td>\n",
       "      <td>18.521046</td>\n",
       "      <td>52.812799</td>\n",
       "      <td>97.184792</td>\n",
       "      <td>DK</td>\n",
       "    </tr>\n",
       "    <tr>\n",
       "      <td>2</td>\n",
       "      <td>2008-07-01</td>\n",
       "      <td>3.72</td>\n",
       "      <td>Capital</td>\n",
       "      <td>2.837729</td>\n",
       "      <td>0.236353</td>\n",
       "      <td>0.195413</td>\n",
       "      <td>0.294151</td>\n",
       "      <td>0.424885</td>\n",
       "      <td>0.221101</td>\n",
       "      <td>0.221674</td>\n",
       "      <td>0.356995</td>\n",
       "      <td>0.601147</td>\n",
       "      <td>0.338188</td>\n",
       "      <td>0.288073</td>\n",
       "      <td>1648990</td>\n",
       "      <td>19.020249</td>\n",
       "      <td>51.326716</td>\n",
       "      <td>97.226230</td>\n",
       "      <td>DK</td>\n",
       "    </tr>\n",
       "    <tr>\n",
       "      <td>3</td>\n",
       "      <td>2008-10-01</td>\n",
       "      <td>3.88</td>\n",
       "      <td>Capital</td>\n",
       "      <td>2.253597</td>\n",
       "      <td>0.179017</td>\n",
       "      <td>0.171703</td>\n",
       "      <td>0.253118</td>\n",
       "      <td>0.277818</td>\n",
       "      <td>0.119424</td>\n",
       "      <td>0.174460</td>\n",
       "      <td>0.297842</td>\n",
       "      <td>0.485731</td>\n",
       "      <td>0.330096</td>\n",
       "      <td>0.235612</td>\n",
       "      <td>1650985</td>\n",
       "      <td>18.997265</td>\n",
       "      <td>52.493338</td>\n",
       "      <td>97.213391</td>\n",
       "      <td>DK</td>\n",
       "    </tr>\n",
       "    <tr>\n",
       "      <td>4</td>\n",
       "      <td>2009-01-01</td>\n",
       "      <td>6.18</td>\n",
       "      <td>Capital</td>\n",
       "      <td>1.941019</td>\n",
       "      <td>0.129733</td>\n",
       "      <td>0.139442</td>\n",
       "      <td>0.204126</td>\n",
       "      <td>0.239806</td>\n",
       "      <td>0.083374</td>\n",
       "      <td>0.130947</td>\n",
       "      <td>0.264078</td>\n",
       "      <td>0.399879</td>\n",
       "      <td>0.357403</td>\n",
       "      <td>0.228398</td>\n",
       "      <td>1660042</td>\n",
       "      <td>18.893618</td>\n",
       "      <td>52.154598</td>\n",
       "      <td>97.219624</td>\n",
       "      <td>DK</td>\n",
       "    </tr>\n",
       "  </tbody>\n",
       "</table>\n",
       "</div>"
      ],
      "text/plain": [
       "        date  target_actual       ID      jobs  sector_information_technology  \\\n",
       "0 2008-01-01           3.92  Capital       NaN                            NaN   \n",
       "1 2008-04-01           4.13  Capital  3.432511                       0.269507   \n",
       "2 2008-07-01           3.72  Capital  2.837729                       0.236353   \n",
       "3 2008-10-01           3.88  Capital  2.253597                       0.179017   \n",
       "4 2009-01-01           6.18  Capital  1.941019                       0.129733   \n",
       "\n",
       "   sector_engineering_technology  sector_management_staff  \\\n",
       "0                            NaN                      NaN   \n",
       "1                       0.229372                 0.342377   \n",
       "2                       0.195413                 0.294151   \n",
       "3                       0.171703                 0.253118   \n",
       "4                       0.139442                 0.204126   \n",
       "\n",
       "   sector_trade_service  sector_industry_craft  sector_sales_communication  \\\n",
       "0                   NaN                    NaN                         NaN   \n",
       "1              0.502130               0.298991                    0.262332   \n",
       "2              0.424885               0.221101                    0.221674   \n",
       "3              0.277818               0.119424                    0.174460   \n",
       "4              0.239806               0.083374                    0.130947   \n",
       "\n",
       "   sector_teaching  sector_office_finance  sector_social_health  sector_other  \\\n",
       "0              NaN                    NaN                   NaN           NaN   \n",
       "1         0.404260               0.754933              0.402130      0.372197   \n",
       "2         0.356995               0.601147              0.338188      0.288073   \n",
       "3         0.297842               0.485731              0.330096      0.235612   \n",
       "4         0.264078               0.399879              0.357403      0.228398   \n",
       "\n",
       "       pop  mvu_lvu_share_pop  labour_force_share  w_ave_urban_index country  \n",
       "0  1636749          18.623747           52.882006          97.166662      DK  \n",
       "1  1645825          18.521046           52.812799          97.184792      DK  \n",
       "2  1648990          19.020249           51.326716          97.226230      DK  \n",
       "3  1650985          18.997265           52.493338          97.213391      DK  \n",
       "4  1660042          18.893618           52.154598          97.219624      DK  "
      ]
     },
     "execution_count": 81,
     "metadata": {},
     "output_type": "execute_result"
    }
   ],
   "source": [
    "df_DK.head()"
   ]
  },
  {
   "cell_type": "code",
   "execution_count": 82,
   "metadata": {},
   "outputs": [
    {
     "data": {
      "text/plain": [
       "Timestamp('2019-07-01 00:00:00')"
      ]
     },
     "execution_count": 82,
     "metadata": {},
     "output_type": "execute_result"
    }
   ],
   "source": [
    "df_DK.date.max()"
   ]
  },
  {
   "cell_type": "code",
   "execution_count": 83,
   "metadata": {},
   "outputs": [
    {
     "data": {
      "text/plain": [
       "Timestamp('2008-01-01 00:00:00')"
      ]
     },
     "execution_count": 83,
     "metadata": {},
     "output_type": "execute_result"
    }
   ],
   "source": [
    "df_DK.date.min()"
   ]
  },
  {
   "cell_type": "markdown",
   "metadata": {},
   "source": [
    "#### Save the data "
   ]
  },
  {
   "cell_type": "code",
   "execution_count": 84,
   "metadata": {},
   "outputs": [
    {
     "ename": "FileNotFoundError",
     "evalue": "[Errno 2] No such file or directory: 'data/DK_SE_NO/df_dk.csv'",
     "output_type": "error",
     "traceback": [
      "\u001b[0;31m---------------------------------------------------------------------------\u001b[0m",
      "\u001b[0;31mFileNotFoundError\u001b[0m                         Traceback (most recent call last)",
      "\u001b[0;32m<ipython-input-84-cf50389eba8d>\u001b[0m in \u001b[0;36m<module>\u001b[0;34m\u001b[0m\n\u001b[0;32m----> 1\u001b[0;31m \u001b[0mdf_DK\u001b[0m\u001b[0;34m.\u001b[0m\u001b[0mto_csv\u001b[0m\u001b[0;34m(\u001b[0m\u001b[0;34m'data/DK_SE_NO/df_dk.csv'\u001b[0m\u001b[0;34m)\u001b[0m\u001b[0;34m\u001b[0m\u001b[0;34m\u001b[0m\u001b[0m\n\u001b[0m",
      "\u001b[0;32m/anaconda3/lib/python3.7/site-packages/pandas/core/generic.py\u001b[0m in \u001b[0;36mto_csv\u001b[0;34m(self, path_or_buf, sep, na_rep, float_format, columns, header, index, index_label, mode, encoding, compression, quoting, quotechar, line_terminator, chunksize, date_format, doublequote, escapechar, decimal)\u001b[0m\n\u001b[1;32m   3226\u001b[0m             \u001b[0mdecimal\u001b[0m\u001b[0;34m=\u001b[0m\u001b[0mdecimal\u001b[0m\u001b[0;34m,\u001b[0m\u001b[0;34m\u001b[0m\u001b[0;34m\u001b[0m\u001b[0m\n\u001b[1;32m   3227\u001b[0m         )\n\u001b[0;32m-> 3228\u001b[0;31m         \u001b[0mformatter\u001b[0m\u001b[0;34m.\u001b[0m\u001b[0msave\u001b[0m\u001b[0;34m(\u001b[0m\u001b[0;34m)\u001b[0m\u001b[0;34m\u001b[0m\u001b[0;34m\u001b[0m\u001b[0m\n\u001b[0m\u001b[1;32m   3229\u001b[0m \u001b[0;34m\u001b[0m\u001b[0m\n\u001b[1;32m   3230\u001b[0m         \u001b[0;32mif\u001b[0m \u001b[0mpath_or_buf\u001b[0m \u001b[0;32mis\u001b[0m \u001b[0;32mNone\u001b[0m\u001b[0;34m:\u001b[0m\u001b[0;34m\u001b[0m\u001b[0;34m\u001b[0m\u001b[0m\n",
      "\u001b[0;32m/anaconda3/lib/python3.7/site-packages/pandas/io/formats/csvs.py\u001b[0m in \u001b[0;36msave\u001b[0;34m(self)\u001b[0m\n\u001b[1;32m    181\u001b[0m                 \u001b[0mself\u001b[0m\u001b[0;34m.\u001b[0m\u001b[0mmode\u001b[0m\u001b[0;34m,\u001b[0m\u001b[0;34m\u001b[0m\u001b[0;34m\u001b[0m\u001b[0m\n\u001b[1;32m    182\u001b[0m                 \u001b[0mencoding\u001b[0m\u001b[0;34m=\u001b[0m\u001b[0mself\u001b[0m\u001b[0;34m.\u001b[0m\u001b[0mencoding\u001b[0m\u001b[0;34m,\u001b[0m\u001b[0;34m\u001b[0m\u001b[0;34m\u001b[0m\u001b[0m\n\u001b[0;32m--> 183\u001b[0;31m                 \u001b[0mcompression\u001b[0m\u001b[0;34m=\u001b[0m\u001b[0mself\u001b[0m\u001b[0;34m.\u001b[0m\u001b[0mcompression\u001b[0m\u001b[0;34m,\u001b[0m\u001b[0;34m\u001b[0m\u001b[0;34m\u001b[0m\u001b[0m\n\u001b[0m\u001b[1;32m    184\u001b[0m             )\n\u001b[1;32m    185\u001b[0m             \u001b[0mclose\u001b[0m \u001b[0;34m=\u001b[0m \u001b[0;32mTrue\u001b[0m\u001b[0;34m\u001b[0m\u001b[0;34m\u001b[0m\u001b[0m\n",
      "\u001b[0;32m/anaconda3/lib/python3.7/site-packages/pandas/io/common.py\u001b[0m in \u001b[0;36m_get_handle\u001b[0;34m(path_or_buf, mode, encoding, compression, memory_map, is_text)\u001b[0m\n\u001b[1;32m    397\u001b[0m         \u001b[0;32mif\u001b[0m \u001b[0mencoding\u001b[0m\u001b[0;34m:\u001b[0m\u001b[0;34m\u001b[0m\u001b[0;34m\u001b[0m\u001b[0m\n\u001b[1;32m    398\u001b[0m             \u001b[0;31m# Encoding\u001b[0m\u001b[0;34m\u001b[0m\u001b[0;34m\u001b[0m\u001b[0;34m\u001b[0m\u001b[0m\n\u001b[0;32m--> 399\u001b[0;31m             \u001b[0mf\u001b[0m \u001b[0;34m=\u001b[0m \u001b[0mopen\u001b[0m\u001b[0;34m(\u001b[0m\u001b[0mpath_or_buf\u001b[0m\u001b[0;34m,\u001b[0m \u001b[0mmode\u001b[0m\u001b[0;34m,\u001b[0m \u001b[0mencoding\u001b[0m\u001b[0;34m=\u001b[0m\u001b[0mencoding\u001b[0m\u001b[0;34m,\u001b[0m \u001b[0mnewline\u001b[0m\u001b[0;34m=\u001b[0m\u001b[0;34m\"\"\u001b[0m\u001b[0;34m)\u001b[0m\u001b[0;34m\u001b[0m\u001b[0;34m\u001b[0m\u001b[0m\n\u001b[0m\u001b[1;32m    400\u001b[0m         \u001b[0;32melif\u001b[0m \u001b[0mis_text\u001b[0m\u001b[0;34m:\u001b[0m\u001b[0;34m\u001b[0m\u001b[0;34m\u001b[0m\u001b[0m\n\u001b[1;32m    401\u001b[0m             \u001b[0;31m# No explicit encoding\u001b[0m\u001b[0;34m\u001b[0m\u001b[0;34m\u001b[0m\u001b[0;34m\u001b[0m\u001b[0m\n",
      "\u001b[0;31mFileNotFoundError\u001b[0m: [Errno 2] No such file or directory: 'data/DK_SE_NO/df_dk.csv'"
     ]
    }
   ],
   "source": [
    "df_DK.to_csv('data/DK_SE_NO/df_dk.csv')"
   ]
  },
  {
   "cell_type": "markdown",
   "metadata": {
    "toc-hr-collapsed": true
   },
   "source": [
    "## SE"
   ]
  },
  {
   "cell_type": "markdown",
   "metadata": {},
   "source": [
    "#### Target data "
   ]
  },
  {
   "cell_type": "code",
   "execution_count": 139,
   "metadata": {},
   "outputs": [],
   "source": [
    "df_se_target = pd.read_csv(r'data/target/df_SE_target.csv', parse_dates = ['date'])"
   ]
  },
  {
   "cell_type": "code",
   "execution_count": 140,
   "metadata": {},
   "outputs": [
    {
     "data": {
      "text/plain": [
       "Timestamp('2005-04-01 00:00:00')"
      ]
     },
     "execution_count": 140,
     "metadata": {},
     "output_type": "execute_result"
    }
   ],
   "source": [
    "df_se_target.date.min()"
   ]
  },
  {
   "cell_type": "code",
   "execution_count": 141,
   "metadata": {},
   "outputs": [
    {
     "data": {
      "text/plain": [
       "Timestamp('2019-07-01 00:00:00')"
      ]
     },
     "execution_count": 141,
     "metadata": {},
     "output_type": "execute_result"
    }
   ],
   "source": [
    "df_se_target.date.max()"
   ]
  },
  {
   "cell_type": "markdown",
   "metadata": {},
   "source": [
    "Create target lag"
   ]
  },
  {
   "cell_type": "code",
   "execution_count": 142,
   "metadata": {},
   "outputs": [],
   "source": [
    "#df_se_target['target_lag'] = df_se_target.target_actual.shift(1)"
   ]
  },
  {
   "cell_type": "markdown",
   "metadata": {},
   "source": [
    "#### Job posts"
   ]
  },
  {
   "cell_type": "code",
   "execution_count": 143,
   "metadata": {},
   "outputs": [],
   "source": [
    "df_se_jobs = pd.read_csv(r'data/job_posts/df_SE_jobposts_quarterly_final.csv', parse_dates = ['date'])"
   ]
  },
  {
   "cell_type": "code",
   "execution_count": 144,
   "metadata": {},
   "outputs": [],
   "source": [
    "df_se_jobs = df_se_jobs.drop(['labour_force'], axis = 1)"
   ]
  },
  {
   "cell_type": "markdown",
   "metadata": {},
   "source": [
    "Merge on labour force "
   ]
  },
  {
   "cell_type": "code",
   "execution_count": 145,
   "metadata": {},
   "outputs": [],
   "source": [
    "df_se_labour = pd.read_csv(r'data/job_posts/df_SE_labour_force.csv', parse_dates = ['date'])"
   ]
  },
  {
   "cell_type": "code",
   "execution_count": 146,
   "metadata": {},
   "outputs": [],
   "source": [
    "df_se_jobs = df_se_jobs.merge(df_se_labour, on = ['date', 'ID'])"
   ]
  },
  {
   "cell_type": "code",
   "execution_count": 147,
   "metadata": {},
   "outputs": [],
   "source": [
    "df_se_jobs['labour_force'] = df_se_jobs.groupby('ID').labour_force.shift(1)"
   ]
  },
  {
   "cell_type": "markdown",
   "metadata": {},
   "source": [
    "Create job rate"
   ]
  },
  {
   "cell_type": "code",
   "execution_count": 148,
   "metadata": {},
   "outputs": [],
   "source": [
    "jobs_list = ['jobs', 'sector_information_technology', 'sector_engineering_technology','sector_management_staff', 'sector_trade_service',\n",
    "       'sector_industry_craft', 'sector_sales_communication',\n",
    "       'sector_teaching', 'sector_office_finance', 'sector_social_health',\n",
    "       'sector_other']"
   ]
  },
  {
   "cell_type": "code",
   "execution_count": 149,
   "metadata": {},
   "outputs": [],
   "source": [
    "for col in jobs_list:\n",
    "    df_se_jobs[col] = (df_se_jobs[col] / df_se_jobs['labour_force'])*100"
   ]
  },
  {
   "cell_type": "code",
   "execution_count": 150,
   "metadata": {},
   "outputs": [],
   "source": [
    "df_se_jobs = df_se_jobs.drop(['labour_force'], axis = 1)"
   ]
  },
  {
   "cell_type": "code",
   "execution_count": 151,
   "metadata": {},
   "outputs": [
    {
     "data": {
      "text/plain": [
       "Timestamp('2005-04-01 00:00:00')"
      ]
     },
     "execution_count": 151,
     "metadata": {},
     "output_type": "execute_result"
    }
   ],
   "source": [
    "df_se_jobs.date.min()"
   ]
  },
  {
   "cell_type": "code",
   "execution_count": 152,
   "metadata": {},
   "outputs": [
    {
     "data": {
      "text/plain": [
       "Timestamp('2019-07-01 00:00:00')"
      ]
     },
     "execution_count": 152,
     "metadata": {},
     "output_type": "execute_result"
    }
   ],
   "source": [
    "df_se_jobs.date.max()"
   ]
  },
  {
   "cell_type": "markdown",
   "metadata": {},
   "source": [
    "#### Google"
   ]
  },
  {
   "cell_type": "markdown",
   "metadata": {},
   "source": [
    "#### Regional"
   ]
  },
  {
   "cell_type": "code",
   "execution_count": 153,
   "metadata": {},
   "outputs": [],
   "source": [
    "df_SE_controls = pd.read_csv('data/controls/df_SE_controls.csv', parse_dates = ['date'])"
   ]
  },
  {
   "cell_type": "code",
   "execution_count": 154,
   "metadata": {},
   "outputs": [],
   "source": [
    "df_SE_controls = df_SE_controls[['reg_nr','ID','date','pop', 'labour_force_share','mvu_lvu_share','urban_share']]"
   ]
  },
  {
   "cell_type": "code",
   "execution_count": 155,
   "metadata": {},
   "outputs": [],
   "source": [
    "df_SE_controls = df_SE_controls.replace('Västra Götaland', 'Västra Götalands')"
   ]
  },
  {
   "cell_type": "code",
   "execution_count": 156,
   "metadata": {},
   "outputs": [
    {
     "data": {
      "text/plain": [
       "Timestamp('2005-01-01 00:00:00')"
      ]
     },
     "execution_count": 156,
     "metadata": {},
     "output_type": "execute_result"
    }
   ],
   "source": [
    "df_SE_controls.date.min()"
   ]
  },
  {
   "cell_type": "code",
   "execution_count": 157,
   "metadata": {},
   "outputs": [
    {
     "data": {
      "text/plain": [
       "Timestamp('2019-07-01 00:00:00')"
      ]
     },
     "execution_count": 157,
     "metadata": {},
     "output_type": "execute_result"
    }
   ],
   "source": [
    "df_SE_controls.date.max()"
   ]
  },
  {
   "cell_type": "markdown",
   "metadata": {},
   "source": [
    "Shift controls"
   ]
  },
  {
   "cell_type": "code",
   "execution_count": 158,
   "metadata": {},
   "outputs": [],
   "source": [
    "df_SE_controls['pop'] = df_SE_controls.groupby('ID').pop.shift(5)\n",
    "df_SE_controls['labour_force_share'] = df_SE_controls.groupby('ID').labour_force_share.shift(1)\n",
    "df_SE_controls['mvu_lvu_share'] = df_SE_controls.groupby('ID').mvu_lvu_share.shift(6)\n",
    "df_SE_controls['urban_share'] = df_SE_controls.groupby('ID').urban_share.shift(7)"
   ]
  },
  {
   "cell_type": "markdown",
   "metadata": {},
   "source": [
    "#### Merge data"
   ]
  },
  {
   "cell_type": "code",
   "execution_count": 159,
   "metadata": {},
   "outputs": [],
   "source": [
    "df_SE = df_se_target.merge(df_se_jobs, on = ['date', 'ID'])"
   ]
  },
  {
   "cell_type": "code",
   "execution_count": 160,
   "metadata": {},
   "outputs": [],
   "source": [
    "df_SE = df_SE.merge(df_SE_controls, on = ['date', 'ID'], how = 'left')"
   ]
  },
  {
   "cell_type": "code",
   "execution_count": 161,
   "metadata": {},
   "outputs": [],
   "source": [
    "df_SE['country'] = 'SE'"
   ]
  },
  {
   "cell_type": "code",
   "execution_count": 162,
   "metadata": {},
   "outputs": [],
   "source": [
    "#df_SE = df_SE[df_SE.date >= '2007-01-01']"
   ]
  },
  {
   "cell_type": "code",
   "execution_count": 163,
   "metadata": {},
   "outputs": [
    {
     "data": {
      "text/plain": [
       "Timestamp('2005-04-01 00:00:00')"
      ]
     },
     "execution_count": 163,
     "metadata": {},
     "output_type": "execute_result"
    }
   ],
   "source": [
    "df_SE.date.min()"
   ]
  },
  {
   "cell_type": "code",
   "execution_count": 164,
   "metadata": {},
   "outputs": [
    {
     "data": {
      "text/plain": [
       "Timestamp('2019-07-01 00:00:00')"
      ]
     },
     "execution_count": 164,
     "metadata": {},
     "output_type": "execute_result"
    }
   ],
   "source": [
    "df_SE.date.max()"
   ]
  },
  {
   "cell_type": "code",
   "execution_count": 165,
   "metadata": {},
   "outputs": [
    {
     "data": {
      "text/plain": [
       "(1218, 20)"
      ]
     },
     "execution_count": 165,
     "metadata": {},
     "output_type": "execute_result"
    }
   ],
   "source": [
    "df_SE.shape"
   ]
  },
  {
   "cell_type": "markdown",
   "metadata": {},
   "source": [
    "#### Save the data "
   ]
  },
  {
   "cell_type": "markdown",
   "metadata": {
    "toc-hr-collapsed": true
   },
   "source": [
    "## NO"
   ]
  },
  {
   "cell_type": "code",
   "execution_count": 53,
   "metadata": {},
   "outputs": [],
   "source": [
    "df_no_target = pd.read_csv(r'data/target/df_NO_target.csv',  parse_dates = ['date'])"
   ]
  },
  {
   "cell_type": "markdown",
   "metadata": {},
   "source": [
    "#### Target data "
   ]
  },
  {
   "cell_type": "code",
   "execution_count": 54,
   "metadata": {},
   "outputs": [
    {
     "data": {
      "text/plain": [
       "Timestamp('1996-01-01 00:00:00')"
      ]
     },
     "execution_count": 54,
     "metadata": {},
     "output_type": "execute_result"
    }
   ],
   "source": [
    "df_no_target.date.min()"
   ]
  },
  {
   "cell_type": "code",
   "execution_count": 55,
   "metadata": {},
   "outputs": [
    {
     "data": {
      "text/plain": [
       "Timestamp('2019-04-01 00:00:00')"
      ]
     },
     "execution_count": 55,
     "metadata": {},
     "output_type": "execute_result"
    }
   ],
   "source": [
    "df_no_target.date.max()"
   ]
  },
  {
   "cell_type": "markdown",
   "metadata": {},
   "source": [
    "Create target lag"
   ]
  },
  {
   "cell_type": "code",
   "execution_count": 56,
   "metadata": {},
   "outputs": [],
   "source": [
    "df_no_target['target_lag'] = df_no_target.groupby('ID').target_actual.shift(1)"
   ]
  },
  {
   "cell_type": "markdown",
   "metadata": {},
   "source": [
    "#### Job posts"
   ]
  },
  {
   "cell_type": "code",
   "execution_count": 57,
   "metadata": {},
   "outputs": [],
   "source": [
    "df_no_jobs = pd.read_csv(r'data/job_posts/df_NO_jobposts_quarterly_final.csv', parse_dates = ['date'])"
   ]
  },
  {
   "cell_type": "code",
   "execution_count": 58,
   "metadata": {},
   "outputs": [],
   "source": [
    "df_no_jobs = df_no_jobs.drop(['labour_force'], axis = 1)"
   ]
  },
  {
   "cell_type": "markdown",
   "metadata": {},
   "source": [
    "Correct Nord- Sør trøndelag"
   ]
  },
  {
   "cell_type": "code",
   "execution_count": 59,
   "metadata": {},
   "outputs": [],
   "source": [
    "test = df_no_jobs[df_no_jobs['ID'].str.startswith('Nord-Trøndelag')]\n",
    "#test = test.reset_index()\n",
    "\n",
    "test2 = df_no_jobs[df_no_jobs['ID'].str.startswith('Sør-Trøndelag')]\n",
    "#test2 = test2.reset_index()\n"
   ]
  },
  {
   "cell_type": "code",
   "execution_count": 60,
   "metadata": {},
   "outputs": [],
   "source": [
    "temp = pd.concat([test,test2])\n",
    "temp = temp.groupby('date').sum()\n",
    "temp['ID'] ='Trøndelag'"
   ]
  },
  {
   "cell_type": "code",
   "execution_count": 61,
   "metadata": {},
   "outputs": [],
   "source": [
    "temp = temp.reset_index()"
   ]
  },
  {
   "cell_type": "markdown",
   "metadata": {},
   "source": [
    "Correct labour force for those two regions"
   ]
  },
  {
   "cell_type": "code",
   "execution_count": 62,
   "metadata": {},
   "outputs": [],
   "source": [
    "df = pd.read_csv(\"data/other/df_NO_labour_force.csv\",  parse_dates = ['date'])\n",
    "df = df[['date','labour_force', 'ID']]"
   ]
  },
  {
   "cell_type": "code",
   "execution_count": 63,
   "metadata": {},
   "outputs": [],
   "source": [
    "test = df[df['ID'].str.startswith('Nord-Trøndelag')]\n",
    "test = test.reset_index()\n",
    "\n",
    "test2 = df[df['ID'].str.startswith('Sør-Trøndelag')]\n",
    "test2 = test2.reset_index()\n",
    "\n",
    "test3 = df[df['ID'].str.startswith('Trøndelag')]\n",
    "test3 = test3.reset_index()"
   ]
  },
  {
   "cell_type": "code",
   "execution_count": 64,
   "metadata": {},
   "outputs": [],
   "source": [
    "temp = pd.concat([test,test2, test3])\n",
    "temp = temp.groupby('date').sum()\n",
    "temp['ID'] ='Trøndelag'"
   ]
  },
  {
   "cell_type": "code",
   "execution_count": 65,
   "metadata": {},
   "outputs": [],
   "source": [
    "temp = temp.reset_index()"
   ]
  },
  {
   "cell_type": "code",
   "execution_count": 66,
   "metadata": {},
   "outputs": [],
   "source": [
    "temp = temp[['date', 'labour_force', 'ID']]"
   ]
  },
  {
   "cell_type": "code",
   "execution_count": 67,
   "metadata": {},
   "outputs": [],
   "source": [
    "df= df[~df.ID.isin(['Nord-Trøndelag', 'Sør-Trøndelag', 'Trøndelag'])]\n",
    "\n",
    "df = pd.concat([df, temp])\n",
    "df['labour_force'] = df['labour_force']*1000"
   ]
  },
  {
   "cell_type": "code",
   "execution_count": 68,
   "metadata": {},
   "outputs": [],
   "source": [
    "df_no_jobs = df_no_jobs.merge(df, on = ['date', 'ID'])"
   ]
  },
  {
   "cell_type": "code",
   "execution_count": 69,
   "metadata": {},
   "outputs": [],
   "source": [
    "df_no_jobs['labour_force'] =  df_no_jobs.groupby('ID').labour_force.shift(1)"
   ]
  },
  {
   "cell_type": "markdown",
   "metadata": {},
   "source": [
    "Create job rate"
   ]
  },
  {
   "cell_type": "code",
   "execution_count": 70,
   "metadata": {},
   "outputs": [],
   "source": [
    "jobs_list = ['jobs', 'sector_information_technology', 'sector_engineering_technology','sector_management_staff', 'sector_trade_service',\n",
    "       'sector_industry_craft', 'sector_sales_communication',\n",
    "       'sector_teaching', 'sector_office_finance', 'sector_social_health',\n",
    "       'sector_other']"
   ]
  },
  {
   "cell_type": "code",
   "execution_count": 71,
   "metadata": {},
   "outputs": [],
   "source": [
    "for col in jobs_list:\n",
    "    df_no_jobs[col] = (df_no_jobs[col] / df_no_jobs['labour_force'])*100"
   ]
  },
  {
   "cell_type": "code",
   "execution_count": 72,
   "metadata": {},
   "outputs": [],
   "source": [
    "df_no_jobs = df_no_jobs.drop(['labour_force'], axis = 1)"
   ]
  },
  {
   "cell_type": "markdown",
   "metadata": {},
   "source": [
    "#### Google"
   ]
  },
  {
   "cell_type": "markdown",
   "metadata": {},
   "source": [
    "#### Regional"
   ]
  },
  {
   "cell_type": "code",
   "execution_count": 73,
   "metadata": {},
   "outputs": [],
   "source": [
    "df_NO_controls = pd.read_csv('data/other/df_NO_controls.csv', parse_dates = ['date'])"
   ]
  },
  {
   "cell_type": "code",
   "execution_count": 74,
   "metadata": {},
   "outputs": [
    {
     "data": {
      "text/html": [
       "<div>\n",
       "<style scoped>\n",
       "    .dataframe tbody tr th:only-of-type {\n",
       "        vertical-align: middle;\n",
       "    }\n",
       "\n",
       "    .dataframe tbody tr th {\n",
       "        vertical-align: top;\n",
       "    }\n",
       "\n",
       "    .dataframe thead th {\n",
       "        text-align: right;\n",
       "    }\n",
       "</style>\n",
       "<table border=\"1\" class=\"dataframe\">\n",
       "  <thead>\n",
       "    <tr style=\"text-align: right;\">\n",
       "      <th></th>\n",
       "      <th>ID</th>\n",
       "      <th>date</th>\n",
       "      <th>pop</th>\n",
       "      <th>reg_nr</th>\n",
       "      <th>labour_force_share</th>\n",
       "      <th>mvu_lvu_share</th>\n",
       "      <th>urban_share</th>\n",
       "    </tr>\n",
       "  </thead>\n",
       "  <tbody>\n",
       "    <tr>\n",
       "      <td>1219</td>\n",
       "      <td>Trøndelag</td>\n",
       "      <td>2018-10-01</td>\n",
       "      <td>458744</td>\n",
       "      <td>50</td>\n",
       "      <td>70.0</td>\n",
       "      <td>33.7</td>\n",
       "      <td>74.662993</td>\n",
       "    </tr>\n",
       "    <tr>\n",
       "      <td>1220</td>\n",
       "      <td>Trøndelag</td>\n",
       "      <td>2019-01-01</td>\n",
       "      <td>464060</td>\n",
       "      <td>50</td>\n",
       "      <td>71.0</td>\n",
       "      <td>NaN</td>\n",
       "      <td>NaN</td>\n",
       "    </tr>\n",
       "    <tr>\n",
       "      <td>1221</td>\n",
       "      <td>Trøndelag</td>\n",
       "      <td>2019-04-01</td>\n",
       "      <td>464060</td>\n",
       "      <td>50</td>\n",
       "      <td>70.0</td>\n",
       "      <td>NaN</td>\n",
       "      <td>NaN</td>\n",
       "    </tr>\n",
       "    <tr>\n",
       "      <td>1222</td>\n",
       "      <td>Trøndelag</td>\n",
       "      <td>2019-07-01</td>\n",
       "      <td>464060</td>\n",
       "      <td>50</td>\n",
       "      <td>NaN</td>\n",
       "      <td>NaN</td>\n",
       "      <td>NaN</td>\n",
       "    </tr>\n",
       "    <tr>\n",
       "      <td>1223</td>\n",
       "      <td>Trøndelag</td>\n",
       "      <td>2019-10-01</td>\n",
       "      <td>464060</td>\n",
       "      <td>50</td>\n",
       "      <td>NaN</td>\n",
       "      <td>NaN</td>\n",
       "      <td>NaN</td>\n",
       "    </tr>\n",
       "  </tbody>\n",
       "</table>\n",
       "</div>"
      ],
      "text/plain": [
       "             ID       date     pop  reg_nr  labour_force_share  mvu_lvu_share  \\\n",
       "1219  Trøndelag 2018-10-01  458744      50                70.0           33.7   \n",
       "1220  Trøndelag 2019-01-01  464060      50                71.0            NaN   \n",
       "1221  Trøndelag 2019-04-01  464060      50                70.0            NaN   \n",
       "1222  Trøndelag 2019-07-01  464060      50                 NaN            NaN   \n",
       "1223  Trøndelag 2019-10-01  464060      50                 NaN            NaN   \n",
       "\n",
       "      urban_share  \n",
       "1219    74.662993  \n",
       "1220          NaN  \n",
       "1221          NaN  \n",
       "1222          NaN  \n",
       "1223          NaN  "
      ]
     },
     "execution_count": 74,
     "metadata": {},
     "output_type": "execute_result"
    }
   ],
   "source": [
    "df_NO_controls.tail()"
   ]
  },
  {
   "cell_type": "code",
   "execution_count": 75,
   "metadata": {},
   "outputs": [],
   "source": [
    "df_NO_controls = df_NO_controls.replace('Finnmark - Finnmárku', 'Finnmark')\n",
    "df_NO_controls = df_NO_controls.replace('Troms - Romsa', 'Troms')"
   ]
  },
  {
   "cell_type": "markdown",
   "metadata": {},
   "source": [
    "Shift controls"
   ]
  },
  {
   "cell_type": "code",
   "execution_count": 76,
   "metadata": {},
   "outputs": [],
   "source": [
    "df_NO_controls['pop'] = df_NO_controls.groupby('ID').pop.shift(1)\n",
    "df_NO_controls['labour_force_share'] = df_NO_controls.groupby('ID').labour_force_share.shift(1)\n",
    "df_NO_controls['mvu_lvu_share'] = df_NO_controls.groupby('ID').mvu_lvu_share.shift(6)\n",
    "df_NO_controls['urban_share'] = df_NO_controls.groupby('ID').urban_share.shift(4)"
   ]
  },
  {
   "cell_type": "code",
   "execution_count": 77,
   "metadata": {},
   "outputs": [
    {
     "data": {
      "text/html": [
       "<div>\n",
       "<style scoped>\n",
       "    .dataframe tbody tr th:only-of-type {\n",
       "        vertical-align: middle;\n",
       "    }\n",
       "\n",
       "    .dataframe tbody tr th {\n",
       "        vertical-align: top;\n",
       "    }\n",
       "\n",
       "    .dataframe thead th {\n",
       "        text-align: right;\n",
       "    }\n",
       "</style>\n",
       "<table border=\"1\" class=\"dataframe\">\n",
       "  <thead>\n",
       "    <tr style=\"text-align: right;\">\n",
       "      <th></th>\n",
       "      <th>ID</th>\n",
       "      <th>date</th>\n",
       "      <th>pop</th>\n",
       "      <th>reg_nr</th>\n",
       "      <th>labour_force_share</th>\n",
       "      <th>mvu_lvu_share</th>\n",
       "      <th>urban_share</th>\n",
       "    </tr>\n",
       "  </thead>\n",
       "  <tbody>\n",
       "    <tr>\n",
       "      <td>1219</td>\n",
       "      <td>Trøndelag</td>\n",
       "      <td>2018-10-01</td>\n",
       "      <td>458744.0</td>\n",
       "      <td>50</td>\n",
       "      <td>70.0</td>\n",
       "      <td>31.15</td>\n",
       "      <td>74.361851</td>\n",
       "    </tr>\n",
       "    <tr>\n",
       "      <td>1220</td>\n",
       "      <td>Trøndelag</td>\n",
       "      <td>2019-01-01</td>\n",
       "      <td>458744.0</td>\n",
       "      <td>50</td>\n",
       "      <td>70.0</td>\n",
       "      <td>31.15</td>\n",
       "      <td>74.662993</td>\n",
       "    </tr>\n",
       "    <tr>\n",
       "      <td>1221</td>\n",
       "      <td>Trøndelag</td>\n",
       "      <td>2019-04-01</td>\n",
       "      <td>464060.0</td>\n",
       "      <td>50</td>\n",
       "      <td>71.0</td>\n",
       "      <td>31.15</td>\n",
       "      <td>74.662993</td>\n",
       "    </tr>\n",
       "    <tr>\n",
       "      <td>1222</td>\n",
       "      <td>Trøndelag</td>\n",
       "      <td>2019-07-01</td>\n",
       "      <td>464060.0</td>\n",
       "      <td>50</td>\n",
       "      <td>70.0</td>\n",
       "      <td>33.70</td>\n",
       "      <td>74.662993</td>\n",
       "    </tr>\n",
       "    <tr>\n",
       "      <td>1223</td>\n",
       "      <td>Trøndelag</td>\n",
       "      <td>2019-10-01</td>\n",
       "      <td>464060.0</td>\n",
       "      <td>50</td>\n",
       "      <td>NaN</td>\n",
       "      <td>33.70</td>\n",
       "      <td>74.662993</td>\n",
       "    </tr>\n",
       "  </tbody>\n",
       "</table>\n",
       "</div>"
      ],
      "text/plain": [
       "             ID       date       pop  reg_nr  labour_force_share  \\\n",
       "1219  Trøndelag 2018-10-01  458744.0      50                70.0   \n",
       "1220  Trøndelag 2019-01-01  458744.0      50                70.0   \n",
       "1221  Trøndelag 2019-04-01  464060.0      50                71.0   \n",
       "1222  Trøndelag 2019-07-01  464060.0      50                70.0   \n",
       "1223  Trøndelag 2019-10-01  464060.0      50                 NaN   \n",
       "\n",
       "      mvu_lvu_share  urban_share  \n",
       "1219          31.15    74.361851  \n",
       "1220          31.15    74.662993  \n",
       "1221          31.15    74.662993  \n",
       "1222          33.70    74.662993  \n",
       "1223          33.70    74.662993  "
      ]
     },
     "execution_count": 77,
     "metadata": {},
     "output_type": "execute_result"
    }
   ],
   "source": [
    "df_NO_controls.tail()"
   ]
  },
  {
   "cell_type": "markdown",
   "metadata": {},
   "source": [
    "#### Merge data"
   ]
  },
  {
   "cell_type": "code",
   "execution_count": 78,
   "metadata": {},
   "outputs": [],
   "source": [
    "df_NO = df_no_target.merge(df_no_jobs, on = ['date', 'ID'])"
   ]
  },
  {
   "cell_type": "code",
   "execution_count": 79,
   "metadata": {},
   "outputs": [],
   "source": [
    "df_NO = df_NO.merge(df_NO_controls, on = ['date', 'ID'], how = 'left')"
   ]
  },
  {
   "cell_type": "code",
   "execution_count": 80,
   "metadata": {},
   "outputs": [],
   "source": [
    "df_NO['country'] = 'NO'"
   ]
  },
  {
   "cell_type": "code",
   "execution_count": 81,
   "metadata": {},
   "outputs": [],
   "source": [
    "df_NO = df_NO[df_NO.date >= '2007-01-01']"
   ]
  },
  {
   "cell_type": "code",
   "execution_count": 82,
   "metadata": {},
   "outputs": [
    {
     "data": {
      "text/plain": [
       "Timestamp('2007-01-01 00:00:00')"
      ]
     },
     "execution_count": 82,
     "metadata": {},
     "output_type": "execute_result"
    }
   ],
   "source": [
    "df_NO.date.min()"
   ]
  },
  {
   "cell_type": "code",
   "execution_count": 83,
   "metadata": {},
   "outputs": [
    {
     "data": {
      "text/plain": [
       "Timestamp('2019-04-01 00:00:00')"
      ]
     },
     "execution_count": 83,
     "metadata": {},
     "output_type": "execute_result"
    }
   ],
   "source": [
    "df_NO.date.max()"
   ]
  },
  {
   "cell_type": "markdown",
   "metadata": {},
   "source": [
    "#### Save the data "
   ]
  },
  {
   "cell_type": "markdown",
   "metadata": {
    "toc-hr-collapsed": true
   },
   "source": [
    "## Concat the files"
   ]
  },
  {
   "cell_type": "code",
   "execution_count": 85,
   "metadata": {},
   "outputs": [],
   "source": [
    "df_DK = df_DK.rename(columns = {'pop' : 'population', 'mvu_lvu_share_pop' : 'high_edu_share',\n",
    "       'w_ave_urban_index' : 'urban_share'})"
   ]
  },
  {
   "cell_type": "code",
   "execution_count": 86,
   "metadata": {},
   "outputs": [],
   "source": [
    "df_DK = df_DK[['date', 'target_actual', 'ID','jobs',\n",
    "       'sector_information_technology', 'sector_engineering_technology',\n",
    "       'sector_management_staff', 'sector_trade_service',\n",
    "       'sector_industry_craft', 'sector_sales_communication',\n",
    "       'sector_teaching', 'sector_office_finance', 'sector_social_health',\n",
    "       'sector_other', 'population', 'high_edu_share', 'labour_force_share',\n",
    "       'urban_share', 'country']]"
   ]
  },
  {
   "cell_type": "code",
   "execution_count": 87,
   "metadata": {},
   "outputs": [
    {
     "data": {
      "text/plain": [
       "Index(['date', 'target_actual', 'ID', 'jobs', 'sector_information_technology',\n",
       "       'sector_engineering_technology', 'sector_management_staff',\n",
       "       'sector_trade_service', 'sector_industry_craft',\n",
       "       'sector_sales_communication', 'sector_teaching',\n",
       "       'sector_office_finance', 'sector_social_health', 'sector_other',\n",
       "       'population', 'high_edu_share', 'labour_force_share', 'urban_share',\n",
       "       'country'],\n",
       "      dtype='object')"
      ]
     },
     "execution_count": 87,
     "metadata": {},
     "output_type": "execute_result"
    }
   ],
   "source": [
    "df_DK.columns"
   ]
  },
  {
   "cell_type": "code",
   "execution_count": 88,
   "metadata": {},
   "outputs": [
    {
     "ename": "NameError",
     "evalue": "name 'df_SE' is not defined",
     "output_type": "error",
     "traceback": [
      "\u001b[0;31m---------------------------------------------------------------------------\u001b[0m",
      "\u001b[0;31mNameError\u001b[0m                                 Traceback (most recent call last)",
      "\u001b[0;32m<ipython-input-88-7dda9cbb66c0>\u001b[0m in \u001b[0;36m<module>\u001b[0;34m\u001b[0m\n\u001b[0;32m----> 1\u001b[0;31m \u001b[0mdf_SE\u001b[0m \u001b[0;34m=\u001b[0m \u001b[0mdf_SE\u001b[0m\u001b[0;34m.\u001b[0m\u001b[0mrename\u001b[0m\u001b[0;34m(\u001b[0m\u001b[0mcolumns\u001b[0m \u001b[0;34m=\u001b[0m \u001b[0;34m{\u001b[0m\u001b[0;34m'pop'\u001b[0m \u001b[0;34m:\u001b[0m \u001b[0;34m'population'\u001b[0m\u001b[0;34m,\u001b[0m \u001b[0;34m'mvu_lvu_share'\u001b[0m \u001b[0;34m:\u001b[0m \u001b[0;34m'high_edu_share'\u001b[0m\u001b[0;34m}\u001b[0m\u001b[0;34m)\u001b[0m\u001b[0;34m\u001b[0m\u001b[0;34m\u001b[0m\u001b[0m\n\u001b[0m",
      "\u001b[0;31mNameError\u001b[0m: name 'df_SE' is not defined"
     ]
    }
   ],
   "source": [
    "df_SE = df_SE.rename(columns = {'pop' : 'population', 'mvu_lvu_share' : 'high_edu_share'})"
   ]
  },
  {
   "cell_type": "code",
   "execution_count": 167,
   "metadata": {},
   "outputs": [],
   "source": [
    "df_SE = df_SE[['date', 'target_actual', 'ID', 'jobs',\n",
    "       'sector_information_technology', 'sector_engineering_technology',\n",
    "       'sector_management_staff', 'sector_trade_service',\n",
    "       'sector_industry_craft', 'sector_sales_communication',\n",
    "       'sector_teaching', 'sector_office_finance', 'sector_social_health',\n",
    "       'sector_other', 'population', 'high_edu_share', 'labour_force_share',\n",
    "       'urban_share', 'country']]"
   ]
  },
  {
   "cell_type": "code",
   "execution_count": 168,
   "metadata": {},
   "outputs": [
    {
     "data": {
      "text/plain": [
       "Index(['date', 'target_actual', 'ID', 'jobs', 'sector_information_technology',\n",
       "       'sector_engineering_technology', 'sector_management_staff',\n",
       "       'sector_trade_service', 'sector_industry_craft',\n",
       "       'sector_sales_communication', 'sector_teaching',\n",
       "       'sector_office_finance', 'sector_social_health', 'sector_other',\n",
       "       'population', 'high_edu_share', 'labour_force_share', 'urban_share',\n",
       "       'country'],\n",
       "      dtype='object')"
      ]
     },
     "execution_count": 168,
     "metadata": {},
     "output_type": "execute_result"
    }
   ],
   "source": [
    "df_SE.columns"
   ]
  },
  {
   "cell_type": "code",
   "execution_count": 90,
   "metadata": {},
   "outputs": [],
   "source": [
    "df_NO = df_NO.rename(columns = {'pop' : 'population', 'mvu_lvu_share' : 'high_edu_share',\n",
    "       'w_ave_urban_index' : 'urban_share'})"
   ]
  },
  {
   "cell_type": "code",
   "execution_count": 91,
   "metadata": {},
   "outputs": [],
   "source": [
    "df_NO = df_NO[['date', 'target_actual', 'ID', 'target_lag', 'jobs',\n",
    "       'sector_information_technology', 'sector_engineering_technology',\n",
    "       'sector_management_staff', 'sector_trade_service',\n",
    "       'sector_industry_craft', 'sector_sales_communication',\n",
    "       'sector_teaching', 'sector_office_finance', 'sector_social_health',\n",
    "       'sector_other', 'population', 'high_edu_share', 'labour_force_share',\n",
    "       'urban_share', 'country']]"
   ]
  },
  {
   "cell_type": "code",
   "execution_count": 92,
   "metadata": {},
   "outputs": [
    {
     "data": {
      "text/plain": [
       "Index(['date', 'target_actual', 'ID', 'target_lag', 'jobs',\n",
       "       'sector_information_technology', 'sector_engineering_technology',\n",
       "       'sector_management_staff', 'sector_trade_service',\n",
       "       'sector_industry_craft', 'sector_sales_communication',\n",
       "       'sector_teaching', 'sector_office_finance', 'sector_social_health',\n",
       "       'sector_other', 'population', 'high_edu_share', 'labour_force_share',\n",
       "       'urban_share', 'country'],\n",
       "      dtype='object')"
      ]
     },
     "execution_count": 92,
     "metadata": {},
     "output_type": "execute_result"
    }
   ],
   "source": [
    "df_NO.columns"
   ]
  },
  {
   "cell_type": "code",
   "execution_count": 93,
   "metadata": {},
   "outputs": [],
   "source": [
    "df_descriptive = pd.concat([df_DK, df_SE, df_NO])"
   ]
  },
  {
   "cell_type": "code",
   "execution_count": 98,
   "metadata": {},
   "outputs": [
    {
     "data": {
      "text/html": [
       "<div>\n",
       "<style scoped>\n",
       "    .dataframe tbody tr th:only-of-type {\n",
       "        vertical-align: middle;\n",
       "    }\n",
       "\n",
       "    .dataframe tbody tr th {\n",
       "        vertical-align: top;\n",
       "    }\n",
       "\n",
       "    .dataframe thead th {\n",
       "        text-align: right;\n",
       "    }\n",
       "</style>\n",
       "<table border=\"1\" class=\"dataframe\">\n",
       "  <thead>\n",
       "    <tr style=\"text-align: right;\">\n",
       "      <th></th>\n",
       "      <th>date</th>\n",
       "      <th>target_actual</th>\n",
       "      <th>ID</th>\n",
       "      <th>target_lag</th>\n",
       "      <th>jobs</th>\n",
       "      <th>sector_information_technology</th>\n",
       "      <th>sector_engineering_technology</th>\n",
       "      <th>sector_management_staff</th>\n",
       "      <th>sector_trade_service</th>\n",
       "      <th>sector_industry_craft</th>\n",
       "      <th>sector_sales_communication</th>\n",
       "      <th>sector_teaching</th>\n",
       "      <th>sector_office_finance</th>\n",
       "      <th>sector_social_health</th>\n",
       "      <th>sector_other</th>\n",
       "      <th>population</th>\n",
       "      <th>high_edu_share</th>\n",
       "      <th>labour_force_share</th>\n",
       "      <th>urban_share</th>\n",
       "      <th>country</th>\n",
       "    </tr>\n",
       "  </thead>\n",
       "  <tbody>\n",
       "    <tr>\n",
       "      <td>0</td>\n",
       "      <td>2008-01-01</td>\n",
       "      <td>3.92</td>\n",
       "      <td>Capital</td>\n",
       "      <td>NaN</td>\n",
       "      <td>NaN</td>\n",
       "      <td>NaN</td>\n",
       "      <td>NaN</td>\n",
       "      <td>NaN</td>\n",
       "      <td>NaN</td>\n",
       "      <td>NaN</td>\n",
       "      <td>NaN</td>\n",
       "      <td>NaN</td>\n",
       "      <td>NaN</td>\n",
       "      <td>NaN</td>\n",
       "      <td>NaN</td>\n",
       "      <td>1644835.0</td>\n",
       "      <td>18.532193</td>\n",
       "      <td>54.716735</td>\n",
       "      <td>97.177557</td>\n",
       "      <td>DK</td>\n",
       "    </tr>\n",
       "    <tr>\n",
       "      <td>1</td>\n",
       "      <td>2008-04-01</td>\n",
       "      <td>4.13</td>\n",
       "      <td>Capital</td>\n",
       "      <td>3.92</td>\n",
       "      <td>3.432511</td>\n",
       "      <td>0.269507</td>\n",
       "      <td>0.229372</td>\n",
       "      <td>0.342377</td>\n",
       "      <td>0.502130</td>\n",
       "      <td>0.298991</td>\n",
       "      <td>0.262332</td>\n",
       "      <td>0.404260</td>\n",
       "      <td>0.754933</td>\n",
       "      <td>0.402130</td>\n",
       "      <td>0.372197</td>\n",
       "      <td>1645825.0</td>\n",
       "      <td>18.521046</td>\n",
       "      <td>53.468625</td>\n",
       "      <td>97.179641</td>\n",
       "      <td>DK</td>\n",
       "    </tr>\n",
       "    <tr>\n",
       "      <td>2</td>\n",
       "      <td>2008-07-01</td>\n",
       "      <td>3.72</td>\n",
       "      <td>Capital</td>\n",
       "      <td>4.13</td>\n",
       "      <td>2.837729</td>\n",
       "      <td>0.236353</td>\n",
       "      <td>0.195413</td>\n",
       "      <td>0.294151</td>\n",
       "      <td>0.424885</td>\n",
       "      <td>0.221101</td>\n",
       "      <td>0.221674</td>\n",
       "      <td>0.356995</td>\n",
       "      <td>0.601147</td>\n",
       "      <td>0.338188</td>\n",
       "      <td>0.288073</td>\n",
       "      <td>1648990.0</td>\n",
       "      <td>19.020249</td>\n",
       "      <td>54.093718</td>\n",
       "      <td>97.218878</td>\n",
       "      <td>DK</td>\n",
       "    </tr>\n",
       "    <tr>\n",
       "      <td>3</td>\n",
       "      <td>2008-10-01</td>\n",
       "      <td>3.88</td>\n",
       "      <td>Capital</td>\n",
       "      <td>3.72</td>\n",
       "      <td>2.253597</td>\n",
       "      <td>0.179017</td>\n",
       "      <td>0.171703</td>\n",
       "      <td>0.253118</td>\n",
       "      <td>0.277818</td>\n",
       "      <td>0.119424</td>\n",
       "      <td>0.174460</td>\n",
       "      <td>0.297842</td>\n",
       "      <td>0.485731</td>\n",
       "      <td>0.330096</td>\n",
       "      <td>0.235612</td>\n",
       "      <td>1650985.0</td>\n",
       "      <td>18.997265</td>\n",
       "      <td>52.816955</td>\n",
       "      <td>97.216177</td>\n",
       "      <td>DK</td>\n",
       "    </tr>\n",
       "    <tr>\n",
       "      <td>4</td>\n",
       "      <td>2009-01-01</td>\n",
       "      <td>6.18</td>\n",
       "      <td>Capital</td>\n",
       "      <td>3.88</td>\n",
       "      <td>1.941019</td>\n",
       "      <td>0.129733</td>\n",
       "      <td>0.139442</td>\n",
       "      <td>0.204126</td>\n",
       "      <td>0.239806</td>\n",
       "      <td>0.083374</td>\n",
       "      <td>0.130947</td>\n",
       "      <td>0.264078</td>\n",
       "      <td>0.399879</td>\n",
       "      <td>0.357403</td>\n",
       "      <td>0.228398</td>\n",
       "      <td>1660042.0</td>\n",
       "      <td>18.893618</td>\n",
       "      <td>50.239693</td>\n",
       "      <td>97.229164</td>\n",
       "      <td>DK</td>\n",
       "    </tr>\n",
       "    <tr>\n",
       "      <td>...</td>\n",
       "      <td>...</td>\n",
       "      <td>...</td>\n",
       "      <td>...</td>\n",
       "      <td>...</td>\n",
       "      <td>...</td>\n",
       "      <td>...</td>\n",
       "      <td>...</td>\n",
       "      <td>...</td>\n",
       "      <td>...</td>\n",
       "      <td>...</td>\n",
       "      <td>...</td>\n",
       "      <td>...</td>\n",
       "      <td>...</td>\n",
       "      <td>...</td>\n",
       "      <td>...</td>\n",
       "      <td>...</td>\n",
       "      <td>...</td>\n",
       "      <td>...</td>\n",
       "      <td>...</td>\n",
       "      <td>...</td>\n",
       "    </tr>\n",
       "    <tr>\n",
       "      <td>1049</td>\n",
       "      <td>2018-04-01</td>\n",
       "      <td>5.00</td>\n",
       "      <td>Finnmark</td>\n",
       "      <td>5.13</td>\n",
       "      <td>2.497436</td>\n",
       "      <td>0.046154</td>\n",
       "      <td>0.097436</td>\n",
       "      <td>0.248718</td>\n",
       "      <td>0.315385</td>\n",
       "      <td>0.187179</td>\n",
       "      <td>0.182051</td>\n",
       "      <td>0.400000</td>\n",
       "      <td>0.151282</td>\n",
       "      <td>0.728205</td>\n",
       "      <td>0.441026</td>\n",
       "      <td>76167.0</td>\n",
       "      <td>27.000000</td>\n",
       "      <td>68.000000</td>\n",
       "      <td>77.366742</td>\n",
       "      <td>NO</td>\n",
       "    </tr>\n",
       "    <tr>\n",
       "      <td>1050</td>\n",
       "      <td>2018-07-01</td>\n",
       "      <td>2.56</td>\n",
       "      <td>Finnmark</td>\n",
       "      <td>5.00</td>\n",
       "      <td>1.960000</td>\n",
       "      <td>0.067500</td>\n",
       "      <td>0.102500</td>\n",
       "      <td>0.170000</td>\n",
       "      <td>0.237500</td>\n",
       "      <td>0.217500</td>\n",
       "      <td>0.122500</td>\n",
       "      <td>0.167500</td>\n",
       "      <td>0.165000</td>\n",
       "      <td>0.602500</td>\n",
       "      <td>0.385000</td>\n",
       "      <td>76167.0</td>\n",
       "      <td>27.400000</td>\n",
       "      <td>69.000000</td>\n",
       "      <td>77.366742</td>\n",
       "      <td>NO</td>\n",
       "    </tr>\n",
       "    <tr>\n",
       "      <td>1051</td>\n",
       "      <td>2018-10-01</td>\n",
       "      <td>5.13</td>\n",
       "      <td>Finnmark</td>\n",
       "      <td>2.56</td>\n",
       "      <td>2.338462</td>\n",
       "      <td>0.053846</td>\n",
       "      <td>0.158974</td>\n",
       "      <td>0.320513</td>\n",
       "      <td>0.233333</td>\n",
       "      <td>0.238462</td>\n",
       "      <td>0.171795</td>\n",
       "      <td>0.256410</td>\n",
       "      <td>0.187179</td>\n",
       "      <td>0.666667</td>\n",
       "      <td>0.369231</td>\n",
       "      <td>76167.0</td>\n",
       "      <td>27.400000</td>\n",
       "      <td>69.000000</td>\n",
       "      <td>77.366742</td>\n",
       "      <td>NO</td>\n",
       "    </tr>\n",
       "    <tr>\n",
       "      <td>1052</td>\n",
       "      <td>2019-01-01</td>\n",
       "      <td>7.50</td>\n",
       "      <td>Finnmark</td>\n",
       "      <td>5.13</td>\n",
       "      <td>2.446154</td>\n",
       "      <td>0.087179</td>\n",
       "      <td>0.138462</td>\n",
       "      <td>0.228205</td>\n",
       "      <td>0.279487</td>\n",
       "      <td>0.212821</td>\n",
       "      <td>0.143590</td>\n",
       "      <td>0.335897</td>\n",
       "      <td>0.187179</td>\n",
       "      <td>0.651282</td>\n",
       "      <td>0.469231</td>\n",
       "      <td>76167.0</td>\n",
       "      <td>27.400000</td>\n",
       "      <td>69.000000</td>\n",
       "      <td>77.721323</td>\n",
       "      <td>NO</td>\n",
       "    </tr>\n",
       "    <tr>\n",
       "      <td>1053</td>\n",
       "      <td>2019-04-01</td>\n",
       "      <td>5.13</td>\n",
       "      <td>Finnmark</td>\n",
       "      <td>7.50</td>\n",
       "      <td>0.282500</td>\n",
       "      <td>0.137500</td>\n",
       "      <td>0.142500</td>\n",
       "      <td>0.285000</td>\n",
       "      <td>0.292500</td>\n",
       "      <td>0.175000</td>\n",
       "      <td>0.165000</td>\n",
       "      <td>0.347500</td>\n",
       "      <td>0.165000</td>\n",
       "      <td>0.665000</td>\n",
       "      <td>0.465000</td>\n",
       "      <td>75865.0</td>\n",
       "      <td>27.400000</td>\n",
       "      <td>70.000000</td>\n",
       "      <td>77.721323</td>\n",
       "      <td>NO</td>\n",
       "    </tr>\n",
       "  </tbody>\n",
       "</table>\n",
       "<p>1978 rows × 20 columns</p>\n",
       "</div>"
      ],
      "text/plain": [
       "           date  target_actual        ID  target_lag      jobs  \\\n",
       "0    2008-01-01           3.92   Capital         NaN       NaN   \n",
       "1    2008-04-01           4.13   Capital        3.92  3.432511   \n",
       "2    2008-07-01           3.72   Capital        4.13  2.837729   \n",
       "3    2008-10-01           3.88   Capital        3.72  2.253597   \n",
       "4    2009-01-01           6.18   Capital        3.88  1.941019   \n",
       "...         ...            ...       ...         ...       ...   \n",
       "1049 2018-04-01           5.00  Finnmark        5.13  2.497436   \n",
       "1050 2018-07-01           2.56  Finnmark        5.00  1.960000   \n",
       "1051 2018-10-01           5.13  Finnmark        2.56  2.338462   \n",
       "1052 2019-01-01           7.50  Finnmark        5.13  2.446154   \n",
       "1053 2019-04-01           5.13  Finnmark        7.50  0.282500   \n",
       "\n",
       "      sector_information_technology  sector_engineering_technology  \\\n",
       "0                               NaN                            NaN   \n",
       "1                          0.269507                       0.229372   \n",
       "2                          0.236353                       0.195413   \n",
       "3                          0.179017                       0.171703   \n",
       "4                          0.129733                       0.139442   \n",
       "...                             ...                            ...   \n",
       "1049                       0.046154                       0.097436   \n",
       "1050                       0.067500                       0.102500   \n",
       "1051                       0.053846                       0.158974   \n",
       "1052                       0.087179                       0.138462   \n",
       "1053                       0.137500                       0.142500   \n",
       "\n",
       "      sector_management_staff  sector_trade_service  sector_industry_craft  \\\n",
       "0                         NaN                   NaN                    NaN   \n",
       "1                    0.342377              0.502130               0.298991   \n",
       "2                    0.294151              0.424885               0.221101   \n",
       "3                    0.253118              0.277818               0.119424   \n",
       "4                    0.204126              0.239806               0.083374   \n",
       "...                       ...                   ...                    ...   \n",
       "1049                 0.248718              0.315385               0.187179   \n",
       "1050                 0.170000              0.237500               0.217500   \n",
       "1051                 0.320513              0.233333               0.238462   \n",
       "1052                 0.228205              0.279487               0.212821   \n",
       "1053                 0.285000              0.292500               0.175000   \n",
       "\n",
       "      sector_sales_communication  sector_teaching  sector_office_finance  \\\n",
       "0                            NaN              NaN                    NaN   \n",
       "1                       0.262332         0.404260               0.754933   \n",
       "2                       0.221674         0.356995               0.601147   \n",
       "3                       0.174460         0.297842               0.485731   \n",
       "4                       0.130947         0.264078               0.399879   \n",
       "...                          ...              ...                    ...   \n",
       "1049                    0.182051         0.400000               0.151282   \n",
       "1050                    0.122500         0.167500               0.165000   \n",
       "1051                    0.171795         0.256410               0.187179   \n",
       "1052                    0.143590         0.335897               0.187179   \n",
       "1053                    0.165000         0.347500               0.165000   \n",
       "\n",
       "      sector_social_health  sector_other  population  high_edu_share  \\\n",
       "0                      NaN           NaN   1644835.0       18.532193   \n",
       "1                 0.402130      0.372197   1645825.0       18.521046   \n",
       "2                 0.338188      0.288073   1648990.0       19.020249   \n",
       "3                 0.330096      0.235612   1650985.0       18.997265   \n",
       "4                 0.357403      0.228398   1660042.0       18.893618   \n",
       "...                    ...           ...         ...             ...   \n",
       "1049              0.728205      0.441026     76167.0       27.000000   \n",
       "1050              0.602500      0.385000     76167.0       27.400000   \n",
       "1051              0.666667      0.369231     76167.0       27.400000   \n",
       "1052              0.651282      0.469231     76167.0       27.400000   \n",
       "1053              0.665000      0.465000     75865.0       27.400000   \n",
       "\n",
       "      labour_force_share  urban_share country  \n",
       "0              54.716735    97.177557      DK  \n",
       "1              53.468625    97.179641      DK  \n",
       "2              54.093718    97.218878      DK  \n",
       "3              52.816955    97.216177      DK  \n",
       "4              50.239693    97.229164      DK  \n",
       "...                  ...          ...     ...  \n",
       "1049           68.000000    77.366742      NO  \n",
       "1050           69.000000    77.366742      NO  \n",
       "1051           69.000000    77.366742      NO  \n",
       "1052           69.000000    77.721323      NO  \n",
       "1053           70.000000    77.721323      NO  \n",
       "\n",
       "[1978 rows x 20 columns]"
      ]
     },
     "execution_count": 98,
     "metadata": {},
     "output_type": "execute_result"
    }
   ],
   "source": [
    "df_descriptive"
   ]
  },
  {
   "cell_type": "markdown",
   "metadata": {},
   "source": [
    "Secure that all are the same period"
   ]
  },
  {
   "cell_type": "code",
   "execution_count": 95,
   "metadata": {},
   "outputs": [],
   "source": [
    "df_descriptive = df_descriptive[df_descriptive.date >= df_DK.date.min()]\n",
    "df_descriptive = df_descriptive[df_descriptive.date <= df_DK.date.max()]"
   ]
  },
  {
   "cell_type": "markdown",
   "metadata": {},
   "source": [
    "Check the data"
   ]
  },
  {
   "cell_type": "code",
   "execution_count": 96,
   "metadata": {},
   "outputs": [
    {
     "data": {
      "text/plain": [
       "Akershus            46\n",
       "Aust-Agder          46\n",
       "Gävleborg           46\n",
       "Oppland             46\n",
       "Hordaland           46\n",
       "Møre og Romsdal     46\n",
       "Southern Denmark    46\n",
       "Troms               46\n",
       "Oslo                46\n",
       "Kronoberg           46\n",
       "Värmland            46\n",
       "Gotland             46\n",
       "Västernorrland      46\n",
       "Buskerud            46\n",
       "Jämtland            46\n",
       "Sogn og Fjordane    46\n",
       "Dalarna             46\n",
       "Södermanland        46\n",
       "Jönköping           46\n",
       "Zealand             46\n",
       "Kalmar              46\n",
       "Blekinge            46\n",
       "Telemark            46\n",
       "Nordland            46\n",
       "Rogaland            46\n",
       "Stockholm           46\n",
       "Västra Götalands    46\n",
       "Uppsala             46\n",
       "Norrbotten          46\n",
       "Skåne               46\n",
       "North Denmark       46\n",
       "Halland             46\n",
       "Hedmark             46\n",
       "Västmanland         46\n",
       "Østfold             46\n",
       "Örebro              46\n",
       "Västerbotten        46\n",
       "Östergötland        46\n",
       "Central Denmark     46\n",
       "Vestfold            46\n",
       "Vest-Agder          46\n",
       "Capital             46\n",
       "Finnmark            46\n",
       "Name: ID, dtype: int64"
      ]
     },
     "execution_count": 96,
     "metadata": {},
     "output_type": "execute_result"
    }
   ],
   "source": [
    "df_descriptive.ID.value_counts()"
   ]
  },
  {
   "cell_type": "code",
   "execution_count": 99,
   "metadata": {},
   "outputs": [
    {
     "data": {
      "text/plain": [
       "SE    966\n",
       "NO    782\n",
       "DK    230\n",
       "Name: country, dtype: int64"
      ]
     },
     "execution_count": 99,
     "metadata": {},
     "output_type": "execute_result"
    }
   ],
   "source": [
    "df_descriptive.country.value_counts()"
   ]
  },
  {
   "cell_type": "code",
   "execution_count": 100,
   "metadata": {},
   "outputs": [
    {
     "data": {
      "text/plain": [
       "date                             0\n",
       "target_actual                    0\n",
       "ID                               0\n",
       "target_lag                       5\n",
       "jobs                             5\n",
       "sector_information_technology    5\n",
       "sector_engineering_technology    5\n",
       "sector_management_staff          5\n",
       "sector_trade_service             5\n",
       "sector_industry_craft            5\n",
       "sector_sales_communication       5\n",
       "sector_teaching                  5\n",
       "sector_office_finance            5\n",
       "sector_social_health             5\n",
       "sector_other                     5\n",
       "population                       0\n",
       "high_edu_share                   0\n",
       "labour_force_share               0\n",
       "urban_share                      0\n",
       "country                          0\n",
       "dtype: int64"
      ]
     },
     "execution_count": 100,
     "metadata": {},
     "output_type": "execute_result"
    }
   ],
   "source": [
    "df_descriptive.isnull().sum()"
   ]
  },
  {
   "cell_type": "code",
   "execution_count": 101,
   "metadata": {},
   "outputs": [
    {
     "data": {
      "text/html": [
       "<div>\n",
       "<style scoped>\n",
       "    .dataframe tbody tr th:only-of-type {\n",
       "        vertical-align: middle;\n",
       "    }\n",
       "\n",
       "    .dataframe tbody tr th {\n",
       "        vertical-align: top;\n",
       "    }\n",
       "\n",
       "    .dataframe thead th {\n",
       "        text-align: right;\n",
       "    }\n",
       "</style>\n",
       "<table border=\"1\" class=\"dataframe\">\n",
       "  <thead>\n",
       "    <tr style=\"text-align: right;\">\n",
       "      <th></th>\n",
       "      <th>date</th>\n",
       "      <th>target_actual</th>\n",
       "      <th>ID</th>\n",
       "      <th>target_lag</th>\n",
       "      <th>jobs</th>\n",
       "      <th>sector_information_technology</th>\n",
       "      <th>sector_engineering_technology</th>\n",
       "      <th>sector_management_staff</th>\n",
       "      <th>sector_trade_service</th>\n",
       "      <th>sector_industry_craft</th>\n",
       "      <th>sector_sales_communication</th>\n",
       "      <th>sector_teaching</th>\n",
       "      <th>sector_office_finance</th>\n",
       "      <th>sector_social_health</th>\n",
       "      <th>sector_other</th>\n",
       "      <th>population</th>\n",
       "      <th>high_edu_share</th>\n",
       "      <th>labour_force_share</th>\n",
       "      <th>urban_share</th>\n",
       "      <th>country</th>\n",
       "    </tr>\n",
       "  </thead>\n",
       "  <tbody>\n",
       "  </tbody>\n",
       "</table>\n",
       "</div>"
      ],
      "text/plain": [
       "Empty DataFrame\n",
       "Columns: [date, target_actual, ID, target_lag, jobs, sector_information_technology, sector_engineering_technology, sector_management_staff, sector_trade_service, sector_industry_craft, sector_sales_communication, sector_teaching, sector_office_finance, sector_social_health, sector_other, population, high_edu_share, labour_force_share, urban_share, country]\n",
       "Index: []"
      ]
     },
     "execution_count": 101,
     "metadata": {},
     "output_type": "execute_result"
    }
   ],
   "source": [
    "temp = df_descriptive[df_descriptive.date.dt.year == 2010]\n",
    "temp[temp.urban_share.isnull()]"
   ]
  },
  {
   "cell_type": "code",
   "execution_count": 102,
   "metadata": {},
   "outputs": [
    {
     "data": {
      "text/plain": [
       "Timestamp('2019-04-01 00:00:00')"
      ]
     },
     "execution_count": 102,
     "metadata": {},
     "output_type": "execute_result"
    }
   ],
   "source": [
    "df_descriptive.date.max()"
   ]
  },
  {
   "cell_type": "code",
   "execution_count": 103,
   "metadata": {},
   "outputs": [
    {
     "data": {
      "text/plain": [
       "Timestamp('2008-01-01 00:00:00')"
      ]
     },
     "execution_count": 103,
     "metadata": {},
     "output_type": "execute_result"
    }
   ],
   "source": [
    "df_descriptive.date.min()"
   ]
  },
  {
   "cell_type": "markdown",
   "metadata": {},
   "source": [
    "Mean table"
   ]
  },
  {
   "cell_type": "code",
   "execution_count": 104,
   "metadata": {},
   "outputs": [
    {
     "data": {
      "text/html": [
       "<div>\n",
       "<style scoped>\n",
       "    .dataframe tbody tr th:only-of-type {\n",
       "        vertical-align: middle;\n",
       "    }\n",
       "\n",
       "    .dataframe tbody tr th {\n",
       "        vertical-align: top;\n",
       "    }\n",
       "\n",
       "    .dataframe thead th {\n",
       "        text-align: right;\n",
       "    }\n",
       "</style>\n",
       "<table border=\"1\" class=\"dataframe\">\n",
       "  <thead>\n",
       "    <tr style=\"text-align: right;\">\n",
       "      <th></th>\n",
       "      <th>target_actual</th>\n",
       "      <th>target_lag</th>\n",
       "      <th>jobs</th>\n",
       "      <th>sector_information_technology</th>\n",
       "      <th>sector_engineering_technology</th>\n",
       "      <th>sector_management_staff</th>\n",
       "      <th>sector_trade_service</th>\n",
       "      <th>sector_industry_craft</th>\n",
       "      <th>sector_sales_communication</th>\n",
       "      <th>sector_teaching</th>\n",
       "      <th>sector_office_finance</th>\n",
       "      <th>sector_social_health</th>\n",
       "      <th>sector_other</th>\n",
       "      <th>population</th>\n",
       "      <th>high_edu_share</th>\n",
       "      <th>labour_force_share</th>\n",
       "      <th>urban_share</th>\n",
       "    </tr>\n",
       "    <tr>\n",
       "      <th>country</th>\n",
       "      <th></th>\n",
       "      <th></th>\n",
       "      <th></th>\n",
       "      <th></th>\n",
       "      <th></th>\n",
       "      <th></th>\n",
       "      <th></th>\n",
       "      <th></th>\n",
       "      <th></th>\n",
       "      <th></th>\n",
       "      <th></th>\n",
       "      <th></th>\n",
       "      <th></th>\n",
       "      <th></th>\n",
       "      <th></th>\n",
       "      <th></th>\n",
       "      <th></th>\n",
       "    </tr>\n",
       "  </thead>\n",
       "  <tbody>\n",
       "    <tr>\n",
       "      <td>DK</td>\n",
       "      <td>6.513783</td>\n",
       "      <td>6.551067</td>\n",
       "      <td>1.790177</td>\n",
       "      <td>0.100824</td>\n",
       "      <td>0.146816</td>\n",
       "      <td>0.209666</td>\n",
       "      <td>0.244152</td>\n",
       "      <td>0.192992</td>\n",
       "      <td>0.167656</td>\n",
       "      <td>0.209310</td>\n",
       "      <td>0.263178</td>\n",
       "      <td>0.304478</td>\n",
       "      <td>0.258605</td>\n",
       "      <td>1.125711e+06</td>\n",
       "      <td>15.083701</td>\n",
       "      <td>49.806724</td>\n",
       "      <td>85.299181</td>\n",
       "    </tr>\n",
       "    <tr>\n",
       "      <td>NO</td>\n",
       "      <td>3.668120</td>\n",
       "      <td>3.638146</td>\n",
       "      <td>1.777810</td>\n",
       "      <td>0.071445</td>\n",
       "      <td>0.178991</td>\n",
       "      <td>0.117238</td>\n",
       "      <td>0.215437</td>\n",
       "      <td>0.194978</td>\n",
       "      <td>0.279041</td>\n",
       "      <td>0.263173</td>\n",
       "      <td>0.142080</td>\n",
       "      <td>0.521633</td>\n",
       "      <td>0.238751</td>\n",
       "      <td>2.704953e+05</td>\n",
       "      <td>27.150128</td>\n",
       "      <td>70.127877</td>\n",
       "      <td>75.603188</td>\n",
       "    </tr>\n",
       "    <tr>\n",
       "      <td>SE</td>\n",
       "      <td>7.527557</td>\n",
       "      <td>7.495859</td>\n",
       "      <td>1.630532</td>\n",
       "      <td>0.125786</td>\n",
       "      <td>0.099581</td>\n",
       "      <td>0.083549</td>\n",
       "      <td>0.235024</td>\n",
       "      <td>0.174969</td>\n",
       "      <td>0.296840</td>\n",
       "      <td>0.298750</td>\n",
       "      <td>0.226633</td>\n",
       "      <td>0.351321</td>\n",
       "      <td>0.138599</td>\n",
       "      <td>4.572620e+05</td>\n",
       "      <td>21.985772</td>\n",
       "      <td>72.430331</td>\n",
       "      <td>80.112908</td>\n",
       "    </tr>\n",
       "  </tbody>\n",
       "</table>\n",
       "</div>"
      ],
      "text/plain": [
       "         target_actual  target_lag      jobs  sector_information_technology  \\\n",
       "country                                                                       \n",
       "DK            6.513783    6.551067  1.790177                       0.100824   \n",
       "NO            3.668120    3.638146  1.777810                       0.071445   \n",
       "SE            7.527557    7.495859  1.630532                       0.125786   \n",
       "\n",
       "         sector_engineering_technology  sector_management_staff  \\\n",
       "country                                                           \n",
       "DK                            0.146816                 0.209666   \n",
       "NO                            0.178991                 0.117238   \n",
       "SE                            0.099581                 0.083549   \n",
       "\n",
       "         sector_trade_service  sector_industry_craft  \\\n",
       "country                                                \n",
       "DK                   0.244152               0.192992   \n",
       "NO                   0.215437               0.194978   \n",
       "SE                   0.235024               0.174969   \n",
       "\n",
       "         sector_sales_communication  sector_teaching  sector_office_finance  \\\n",
       "country                                                                       \n",
       "DK                         0.167656         0.209310               0.263178   \n",
       "NO                         0.279041         0.263173               0.142080   \n",
       "SE                         0.296840         0.298750               0.226633   \n",
       "\n",
       "         sector_social_health  sector_other    population  high_edu_share  \\\n",
       "country                                                                     \n",
       "DK                   0.304478      0.258605  1.125711e+06       15.083701   \n",
       "NO                   0.521633      0.238751  2.704953e+05       27.150128   \n",
       "SE                   0.351321      0.138599  4.572620e+05       21.985772   \n",
       "\n",
       "         labour_force_share  urban_share  \n",
       "country                                   \n",
       "DK                49.806724    85.299181  \n",
       "NO                70.127877    75.603188  \n",
       "SE                72.430331    80.112908  "
      ]
     },
     "execution_count": 104,
     "metadata": {},
     "output_type": "execute_result"
    }
   ],
   "source": [
    "df_descriptive.groupby('country').mean()"
   ]
  },
  {
   "cell_type": "markdown",
   "metadata": {},
   "source": [
    "## GT"
   ]
  },
  {
   "cell_type": "code",
   "execution_count": 89,
   "metadata": {},
   "outputs": [],
   "source": [
    "dfTrends = pd.read_csv('data/gt/dfTrends.csv', index_col=0, sep = ';', parse_dates=['date'])"
   ]
  },
  {
   "cell_type": "code",
   "execution_count": 90,
   "metadata": {},
   "outputs": [],
   "source": [
    "dfTrends.drop(['geo', 'trends', 'C_ID'], axis=1, inplace=True)"
   ]
  },
  {
   "cell_type": "code",
   "execution_count": 91,
   "metadata": {},
   "outputs": [],
   "source": [
    "df_descriptive = df_DK.copy()"
   ]
  },
  {
   "cell_type": "code",
   "execution_count": 92,
   "metadata": {},
   "outputs": [],
   "source": [
    "df_descriptive = df_descriptive[df_descriptive.date >= '01-01-2007']"
   ]
  },
  {
   "cell_type": "code",
   "execution_count": 93,
   "metadata": {},
   "outputs": [
    {
     "data": {
      "text/plain": [
       "(235, 19)"
      ]
     },
     "execution_count": 93,
     "metadata": {},
     "output_type": "execute_result"
    }
   ],
   "source": [
    "df_descriptive.shape"
   ]
  },
  {
   "cell_type": "code",
   "execution_count": 94,
   "metadata": {},
   "outputs": [],
   "source": [
    "df_descriptive = pd.merge(df_descriptive, dfTrends, how = 'left', left_on=['ID', 'date'], right_on=['ID', 'date'])"
   ]
  },
  {
   "cell_type": "code",
   "execution_count": 95,
   "metadata": {},
   "outputs": [
    {
     "data": {
      "text/plain": [
       "(235, 59)"
      ]
     },
     "execution_count": 95,
     "metadata": {},
     "output_type": "execute_result"
    }
   ],
   "source": [
    "df_descriptive.shape"
   ]
  },
  {
   "cell_type": "markdown",
   "metadata": {},
   "source": [
    "### Reindexing GT"
   ]
  },
  {
   "cell_type": "code",
   "execution_count": 96,
   "metadata": {},
   "outputs": [],
   "source": [
    "#Reindexing trends\n",
    "df_descriptive = df_descriptive.apply(lambda col: reindex(col) if col.name in GT_dict() else col).copy()"
   ]
  },
  {
   "cell_type": "code",
   "execution_count": 97,
   "metadata": {},
   "outputs": [
    {
     "data": {
      "text/plain": [
       "Index(['date', 'target_actual', 'ID', 'jobs', 'sector_information_technology',\n",
       "       'sector_engineering_technology', 'sector_management_staff',\n",
       "       'sector_trade_service', 'sector_industry_craft',\n",
       "       'sector_sales_communication', 'sector_teaching',\n",
       "       'sector_office_finance', 'sector_social_health', 'sector_other',\n",
       "       'population', 'high_edu_share', 'labour_force_share', 'urban_share',\n",
       "       'country', 'GT_DK_0', 'GT_DK_1', 'GT_DK_2', 'GT_DK_3', 'GT_DK_4',\n",
       "       'GT_DK_5', 'GT_DK_6', 'GT_DK_7', 'GT_DK_8', 'GT_DK_9', 'GT_DK_10',\n",
       "       'GT_DK_11', 'GT_DK_12', 'GT_DK_13', 'GT_DK_14', 'GT_DK_15', 'GT_DK_16',\n",
       "       'GT_DK_17', 'GT_DK_18', 'GT_DK_19', 'GT_DK_20', 'GT_DK_21', 'GT_NO_0',\n",
       "       'GT_NO_1', 'GT_NO_2', 'GT_NO_6', 'GT_NO_7', 'GT_NO_8', 'GT_NO_10',\n",
       "       'GT_NO_11', 'GT_SE_0', 'GT_SE_1', 'GT_SE_2', 'GT_SE_5', 'GT_SE_6',\n",
       "       'GT_SE_7', 'GT_SE_8', 'GT_SE_9', 'GT_SE_10', 'GT_SE_11'],\n",
       "      dtype='object')"
      ]
     },
     "execution_count": 97,
     "metadata": {},
     "output_type": "execute_result"
    }
   ],
   "source": [
    "df_descriptive.columns"
   ]
  },
  {
   "cell_type": "code",
   "execution_count": 98,
   "metadata": {},
   "outputs": [],
   "source": [
    "df_descriptive = df_descriptive.drop(['GT_NO_0', 'GT_NO_1', 'GT_NO_2', 'GT_NO_6', 'GT_NO_7', 'GT_NO_8', 'GT_NO_10', 'GT_NO_11', \n",
    "                                'GT_SE_0', 'GT_SE_1', 'GT_SE_2', 'GT_SE_5', 'GT_SE_6', 'GT_SE_7', 'GT_SE_8', 'GT_SE_9', \n",
    "                                'GT_SE_10', 'GT_SE_11'], axis = 1)"
   ]
  },
  {
   "cell_type": "markdown",
   "metadata": {
    "toc-hr-collapsed": false
   },
   "source": [
    "## Exporting"
   ]
  },
  {
   "cell_type": "code",
   "execution_count": 99,
   "metadata": {},
   "outputs": [],
   "source": [
    "df_descriptive.to_csv('data/descriptive/df_DK_descriptive.csv', index = False)"
   ]
  },
  {
   "cell_type": "code",
   "execution_count": null,
   "metadata": {},
   "outputs": [],
   "source": []
  }
 ],
 "metadata": {
  "kernelspec": {
   "display_name": "Python 3",
   "language": "python",
   "name": "python3"
  },
  "language_info": {
   "codemirror_mode": {
    "name": "ipython",
    "version": 3
   },
   "file_extension": ".py",
   "mimetype": "text/x-python",
   "name": "python",
   "nbconvert_exporter": "python",
   "pygments_lexer": "ipython3",
   "version": "3.7.1"
  }
 },
 "nbformat": 4,
 "nbformat_minor": 4
}
