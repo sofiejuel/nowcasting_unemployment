{
 "cells": [
  {
   "cell_type": "markdown",
   "metadata": {},
   "source": [
    "# Import "
   ]
  },
  {
   "cell_type": "code",
   "execution_count": 1,
   "metadata": {},
   "outputs": [],
   "source": [
    "# STANDARD PACKAGES\n",
    "import pandas as pd\n",
    "import numpy as np\n",
    "import matplotlib.pyplot as plt\n",
    "%matplotlib inline\n",
    "import seaborn as sns\n",
    "import re\n",
    "from datetime import datetime as dt\n",
    "import time\n",
    "import json\n",
    "import random\n",
    "from tqdm import tqdm #https://pypi.org/project/tqdm/#ipython-jupyter-integ½ration\n",
    "from functools import reduce\n",
    "import pickle\n",
    "import itertools\n",
    "import warnings\n",
    "import platform\n",
    "import multiprocessing as mp\n",
    "\n",
    "from xgboost import XGBRegressor\n",
    "import xgboost as xgb\n",
    "\n",
    "# SCRAPE PACKAGES\n",
    "import requests\n",
    "from bs4 import BeautifulSoup\n",
    "# from pytrends.request import TrendReq #pip install pytrends\n",
    "\n",
    "# MODEL PACKAGES\n",
    "    #SKLEARN\n",
    "from sklearn.linear_model import Ridge\n",
    "from sklearn.linear_model import Lasso\n",
    "from sklearn.linear_model import ElasticNet\n",
    "from sklearn.ensemble import RandomForestRegressor\n",
    "from sklearn.linear_model import LinearRegression\n",
    "from sklearn.preprocessing import StandardScaler\n",
    "from sklearn.preprocessing import PolynomialFeatures\n",
    "from sklearn.decomposition import PCA\n",
    "from statsmodels.tsa.x13 import x13_arima_analysis as x13\n",
    "\n",
    "\n",
    "\n",
    "# CUSTOM FUNCTIONS\n",
    "\n",
    "import os\n",
    "import sys\n",
    "currentdir = os.path.dirname(os.path.realpath('analysis_DK'))\n",
    "parentdir = os.path.dirname(currentdir)\n",
    "sys.path.append(parentdir)\n",
    "\n",
    "from func import (chunks, reindex, global_id, term_list, time_corr_plot, rmse, time_variable_plot, find_highest_corr, test_train_split, test_train_split_Q,\n",
    "                  bootstrap_all_windows, bootstrap_n_samples, bootstrap_sample, final_model, final_model_boot, ar_1, grid_bestpar, tuning_window, tuning_window_mp, tuning_window_bestpar,\n",
    "                  model_tuning, seasadj, seasadj_col_list, abs_percentage_change, add_poly_terms, create_interaction, GT_dict)"
   ]
  },
  {
   "cell_type": "markdown",
   "metadata": {},
   "source": [
    "## Bootstrap"
   ]
  },
  {
   "cell_type": "markdown",
   "metadata": {
    "toc-hr-collapsed": true
   },
   "source": [
    "### Baseline -  AR(2) with y_t-1 + y_t-12"
   ]
  },
  {
   "cell_type": "markdown",
   "metadata": {},
   "source": [
    "#### Subset data "
   ]
  },
  {
   "cell_type": "code",
   "execution_count": 2,
   "metadata": {},
   "outputs": [],
   "source": [
    "df_analysis = pd.read_csv('data/descriptive/df_descriptive.csv', parse_dates=['date'])"
   ]
  },
  {
   "cell_type": "code",
   "execution_count": 3,
   "metadata": {},
   "outputs": [],
   "source": [
    "df_analysis = df_analysis[df_analysis.country == 'SE']"
   ]
  },
  {
   "cell_type": "code",
   "execution_count": 4,
   "metadata": {},
   "outputs": [],
   "source": [
    "df_analysis = df_analysis[~(df_analysis.ID == 'Jämtland')]"
   ]
  },
  {
   "cell_type": "code",
   "execution_count": 5,
   "metadata": {},
   "outputs": [],
   "source": [
    "df_analysis = df_analysis.drop(['GT_NO_0', 'GT_NO_1', 'GT_NO_2', 'GT_NO_6', 'GT_NO_7', 'GT_NO_8', 'GT_NO_10', 'GT_NO_11',  \n",
    "                                'GT_DK_0', 'GT_DK_1','GT_DK_2', 'GT_DK_3', 'GT_DK_4', 'GT_DK_5', 'GT_DK_6', 'GT_DK_7', 'GT_DK_8',\n",
    "                                'GT_DK_9', 'GT_DK_10', 'GT_DK_11', 'GT_DK_12', 'GT_DK_13', 'GT_DK_14',\n",
    "                                'GT_DK_15', 'GT_DK_16', 'GT_DK_17', 'GT_DK_18', 'GT_DK_19', 'GT_DK_20', 'GT_DK_21',\n",
    "                                'country'], axis = 1)"
   ]
  },
  {
   "cell_type": "markdown",
   "metadata": {},
   "source": [
    "#### Preprocessing"
   ]
  },
  {
   "cell_type": "markdown",
   "metadata": {},
   "source": [
    "#### Transform relevant columns to abs change exept those with M_ and ID_, date and t"
   ]
  },
  {
   "cell_type": "code",
   "execution_count": 6,
   "metadata": {},
   "outputs": [],
   "source": [
    "df_analysis['target_actual'] = df_analysis.groupby(['ID'])['target_actual'].diff()"
   ]
  },
  {
   "cell_type": "markdown",
   "metadata": {},
   "source": [
    "#### Lagged variables"
   ]
  },
  {
   "cell_type": "code",
   "execution_count": 7,
   "metadata": {},
   "outputs": [],
   "source": [
    "df_analysis['target_lag'] = df_analysis.groupby(['ID'])['target_actual'].shift(1)"
   ]
  },
  {
   "cell_type": "code",
   "execution_count": 8,
   "metadata": {},
   "outputs": [],
   "source": [
    "df_analysis['target_4_lag'] = df_analysis.groupby(['ID'])['target_actual'].shift(4)"
   ]
  },
  {
   "cell_type": "markdown",
   "metadata": {},
   "source": [
    "#### Creating dummies from categorial variables - remember to drop the reference category (done after change is constructed)"
   ]
  },
  {
   "cell_type": "code",
   "execution_count": 9,
   "metadata": {},
   "outputs": [],
   "source": [
    "df_analysis = pd.get_dummies(df_analysis, prefix=['ID'], prefix_sep='_', columns=['ID']).copy()"
   ]
  },
  {
   "cell_type": "markdown",
   "metadata": {},
   "source": [
    "#### Adding interaction terms by regions and all variables"
   ]
  },
  {
   "cell_type": "code",
   "execution_count": 10,
   "metadata": {},
   "outputs": [],
   "source": [
    "# relevant interaction variables\n",
    "interaction_1 = ['target_lag', 'target_4_lag'] \n",
    "\n",
    "interaction_2 = [item for item in df_analysis if item.startswith('ID_')]"
   ]
  },
  {
   "cell_type": "code",
   "execution_count": 11,
   "metadata": {},
   "outputs": [],
   "source": [
    "for var1 in interaction_1:\n",
    "    for var2 in interaction_2:\n",
    "        name = var1 + \"*\" + var2\n",
    "        df_analysis[name] = pd.Series(df_analysis[var1] * df_analysis[var2], name=name)"
   ]
  },
  {
   "cell_type": "markdown",
   "metadata": {},
   "source": [
    "#### Drop na"
   ]
  },
  {
   "cell_type": "code",
   "execution_count": 12,
   "metadata": {},
   "outputs": [],
   "source": [
    "df_analysis.dropna(inplace=True)"
   ]
  },
  {
   "cell_type": "code",
   "execution_count": 13,
   "metadata": {},
   "outputs": [],
   "source": [
    "df_analysis.sort_index(axis=1, inplace=True)"
   ]
  },
  {
   "cell_type": "code",
   "execution_count": 14,
   "metadata": {},
   "outputs": [],
   "source": [
    "window = 11\n",
    "testsize = 1\n",
    "valsize = 1\n",
    "rolling_window = True\n",
    "params = []\n",
    "n_components = []"
   ]
  },
  {
   "cell_type": "code",
   "execution_count": null,
   "metadata": {},
   "outputs": [],
   "source": []
  },
  {
   "cell_type": "code",
   "execution_count": 15,
   "metadata": {},
   "outputs": [
    {
     "data": {
      "text/plain": [
       "Index(['GT_SE_0', 'GT_SE_1', 'GT_SE_10', 'GT_SE_11', 'GT_SE_2', 'GT_SE_5',\n",
       "       'GT_SE_6', 'GT_SE_7', 'GT_SE_8', 'GT_SE_9', 'ID_Blekinge', 'ID_Dalarna',\n",
       "       'ID_Gotland', 'ID_Gävleborg', 'ID_Halland', 'ID_Jönköping', 'ID_Kalmar',\n",
       "       'ID_Kronoberg', 'ID_Norrbotten', 'ID_Skåne', 'ID_Stockholm',\n",
       "       'ID_Södermanland', 'ID_Uppsala', 'ID_Värmland', 'ID_Västerbotten',\n",
       "       'ID_Västernorrland', 'ID_Västmanland', 'ID_Västra Götalands',\n",
       "       'ID_Örebro', 'ID_Östergötland', 'date', 'high_edu_share', 'jobs',\n",
       "       'labour_force_share', 'population', 'sector_engineering_technology',\n",
       "       'sector_industry_craft', 'sector_information_technology',\n",
       "       'sector_management_staff', 'sector_office_finance', 'sector_other',\n",
       "       'sector_sales_communication', 'sector_social_health', 'sector_teaching',\n",
       "       'sector_trade_service', 'target_4_lag', 'target_4_lag*ID_Blekinge',\n",
       "       'target_4_lag*ID_Dalarna', 'target_4_lag*ID_Gotland',\n",
       "       'target_4_lag*ID_Gävleborg', 'target_4_lag*ID_Halland',\n",
       "       'target_4_lag*ID_Jönköping', 'target_4_lag*ID_Kalmar',\n",
       "       'target_4_lag*ID_Kronoberg', 'target_4_lag*ID_Norrbotten',\n",
       "       'target_4_lag*ID_Skåne', 'target_4_lag*ID_Stockholm',\n",
       "       'target_4_lag*ID_Södermanland', 'target_4_lag*ID_Uppsala',\n",
       "       'target_4_lag*ID_Värmland', 'target_4_lag*ID_Västerbotten',\n",
       "       'target_4_lag*ID_Västernorrland', 'target_4_lag*ID_Västmanland',\n",
       "       'target_4_lag*ID_Västra Götalands', 'target_4_lag*ID_Örebro',\n",
       "       'target_4_lag*ID_Östergötland', 'target_actual', 'target_lag',\n",
       "       'target_lag*ID_Blekinge', 'target_lag*ID_Dalarna',\n",
       "       'target_lag*ID_Gotland', 'target_lag*ID_Gävleborg',\n",
       "       'target_lag*ID_Halland', 'target_lag*ID_Jönköping',\n",
       "       'target_lag*ID_Kalmar', 'target_lag*ID_Kronoberg',\n",
       "       'target_lag*ID_Norrbotten', 'target_lag*ID_Skåne',\n",
       "       'target_lag*ID_Stockholm', 'target_lag*ID_Södermanland',\n",
       "       'target_lag*ID_Uppsala', 'target_lag*ID_Värmland',\n",
       "       'target_lag*ID_Västerbotten', 'target_lag*ID_Västernorrland',\n",
       "       'target_lag*ID_Västmanland', 'target_lag*ID_Västra Götalands',\n",
       "       'target_lag*ID_Örebro', 'target_lag*ID_Östergötland', 'urban_share'],\n",
       "      dtype='object')"
      ]
     },
     "execution_count": 15,
     "metadata": {},
     "output_type": "execute_result"
    }
   ],
   "source": [
    "df_analysis.columns"
   ]
  },
  {
   "cell_type": "markdown",
   "metadata": {},
   "source": [
    "#### Select relevant columns"
   ]
  },
  {
   "cell_type": "code",
   "execution_count": 16,
   "metadata": {},
   "outputs": [],
   "source": [
    "df_ar = df_analysis[['date', 'target_actual', \n",
    "                     'target_lag*ID_Blekinge', 'target_lag*ID_Dalarna', 'target_lag*ID_Gotland', 'target_lag*ID_Gävleborg', \n",
    "                     'target_lag*ID_Halland', 'target_lag*ID_Jönköping', 'target_lag*ID_Kalmar', \n",
    "                     'target_lag*ID_Kronoberg', 'target_lag*ID_Norrbotten', 'target_lag*ID_Skåne', 'target_lag*ID_Stockholm', \n",
    "                     'target_lag*ID_Södermanland', 'target_lag*ID_Uppsala', 'target_lag*ID_Värmland', 'target_lag*ID_Västerbotten', \n",
    "                     'target_lag*ID_Västernorrland', 'target_lag*ID_Västmanland', 'target_lag*ID_Västra Götalands', 'target_lag*ID_Örebro', \n",
    "                     'target_lag*ID_Östergötland',\n",
    "                    'target_4_lag*ID_Blekinge', 'target_4_lag*ID_Dalarna', 'target_4_lag*ID_Gotland',\n",
    "                     'target_4_lag*ID_Gävleborg', 'target_4_lag*ID_Halland', 'target_4_lag*ID_Jönköping', \n",
    "                     'target_4_lag*ID_Kalmar', 'target_4_lag*ID_Kronoberg', 'target_4_lag*ID_Norrbotten', 'target_4_lag*ID_Skåne', \n",
    "                     'target_4_lag*ID_Stockholm', 'target_4_lag*ID_Södermanland', 'target_4_lag*ID_Uppsala', 'target_4_lag*ID_Värmland',\n",
    "                     'target_4_lag*ID_Västerbotten', 'target_4_lag*ID_Västernorrland', 'target_4_lag*ID_Västmanland', \n",
    "                     'target_4_lag*ID_Västra Götalands', 'target_4_lag*ID_Örebro', 'target_4_lag*ID_Östergötland',\n",
    "                    'ID_Blekinge', 'ID_Dalarna',\n",
    "       'ID_Gotland', 'ID_Gävleborg', 'ID_Halland', 'ID_Jönköping', 'ID_Kalmar',\n",
    "       'ID_Kronoberg', 'ID_Norrbotten', 'ID_Skåne', 'ID_Stockholm',\n",
    "       'ID_Södermanland', 'ID_Uppsala', 'ID_Värmland', 'ID_Västerbotten',\n",
    "       'ID_Västernorrland', 'ID_Västmanland', 'ID_Västra Götalands',\n",
    "       'ID_Örebro', 'ID_Östergötland']]"
   ]
  },
  {
   "cell_type": "code",
   "execution_count": 17,
   "metadata": {},
   "outputs": [],
   "source": [
    "df_ar = df_ar.drop(['ID_Blekinge'], axis = 1)"
   ]
  },
  {
   "cell_type": "markdown",
   "metadata": {},
   "source": [
    "#### To Quarter data"
   ]
  },
  {
   "cell_type": "code",
   "execution_count": 18,
   "metadata": {},
   "outputs": [],
   "source": [
    "df_ar['date'] = df_ar.set_index('date').index.to_period('Q')"
   ]
  },
  {
   "cell_type": "code",
   "execution_count": 19,
   "metadata": {},
   "outputs": [
    {
     "data": {
      "text/plain": [
       "Period('2008Q2', 'Q-DEC')"
      ]
     },
     "execution_count": 19,
     "metadata": {},
     "output_type": "execute_result"
    }
   ],
   "source": [
    "df_ar['date'].min()"
   ]
  },
  {
   "cell_type": "code",
   "execution_count": 20,
   "metadata": {},
   "outputs": [
    {
     "data": {
      "text/plain": [
       "Period('2019Q3', 'Q-DEC')"
      ]
     },
     "execution_count": 20,
     "metadata": {},
     "output_type": "execute_result"
    }
   ],
   "source": [
    "df_ar['date'].max()"
   ]
  },
  {
   "cell_type": "markdown",
   "metadata": {},
   "source": [
    "#### Subset for period to match DK"
   ]
  },
  {
   "cell_type": "code",
   "execution_count": 21,
   "metadata": {},
   "outputs": [],
   "source": [
    "df_ar = df_ar[df_ar.date >= '01-01-2008']"
   ]
  },
  {
   "cell_type": "markdown",
   "metadata": {},
   "source": [
    "#### Running baseline model"
   ]
  },
  {
   "cell_type": "code",
   "execution_count": 22,
   "metadata": {},
   "outputs": [],
   "source": [
    "X_train_ar, X_val_ar, X_test_ar, y_train_ar, y_val_ar, y_test_ar, y_dates_ar = test_train_split_Q(df = df_ar, window = window, testsize=testsize, valsize = valsize,\n",
    "                                                                  y_col='target_actual', rolling_window = rolling_window, df_output= True, geo_count = 20)"
   ]
  },
  {
   "cell_type": "markdown",
   "metadata": {},
   "source": [
    "#### Concatting val and train"
   ]
  },
  {
   "cell_type": "code",
   "execution_count": 23,
   "metadata": {},
   "outputs": [],
   "source": [
    "for win in X_train_ar.keys():\n",
    "    X_train_ar[win] = pd.concat((X_train_ar[win], X_val_ar[win])).copy()\n",
    "    y_train_ar[win] = pd.concat((y_train_ar[win], y_val_ar[win])).copy()"
   ]
  },
  {
   "cell_type": "markdown",
   "metadata": {
    "toc-hr-collapsed": true
   },
   "source": [
    "## ML - Data and preprocessing "
   ]
  },
  {
   "cell_type": "markdown",
   "metadata": {},
   "source": [
    "### Import data frame with adjusted here"
   ]
  },
  {
   "cell_type": "markdown",
   "metadata": {},
   "source": [
    "### Subset data "
   ]
  },
  {
   "cell_type": "code",
   "execution_count": 24,
   "metadata": {},
   "outputs": [],
   "source": [
    "df_analysis = pd.read_csv('data/descriptive/df_descriptive.csv', parse_dates=['date'])"
   ]
  },
  {
   "cell_type": "code",
   "execution_count": 25,
   "metadata": {},
   "outputs": [],
   "source": [
    "df_analysis = df_analysis[df_analysis.country == 'SE']"
   ]
  },
  {
   "cell_type": "code",
   "execution_count": 26,
   "metadata": {},
   "outputs": [],
   "source": [
    "df_analysis = df_analysis[~(df_analysis.ID == 'Jämtland')]"
   ]
  },
  {
   "cell_type": "code",
   "execution_count": 27,
   "metadata": {},
   "outputs": [],
   "source": [
    "df_analysis = df_analysis.drop(['GT_NO_0', 'GT_NO_1', 'GT_NO_2', 'GT_NO_6', 'GT_NO_7', 'GT_NO_8', 'GT_NO_10', 'GT_NO_11',  \n",
    "                                'GT_DK_0', 'GT_DK_1', 'GT_DK_2', 'GT_DK_3', 'GT_DK_4', 'GT_DK_5', 'GT_DK_6', 'GT_DK_7', 'GT_DK_8',\n",
    "                                'GT_DK_9', 'GT_DK_10', 'GT_DK_11', 'GT_DK_12', 'GT_DK_13', 'GT_DK_14',\n",
    "                                'GT_DK_15', 'GT_DK_16', 'GT_DK_17', 'GT_DK_18', 'GT_DK_19', 'GT_DK_20', 'GT_DK_21',\n",
    "                                'country'], axis = 1)"
   ]
  },
  {
   "cell_type": "code",
   "execution_count": 28,
   "metadata": {},
   "outputs": [
    {
     "data": {
      "text/plain": [
       "Timestamp('2007-01-01 00:00:00')"
      ]
     },
     "execution_count": 28,
     "metadata": {},
     "output_type": "execute_result"
    }
   ],
   "source": [
    "df_analysis.date.min()"
   ]
  },
  {
   "cell_type": "code",
   "execution_count": 29,
   "metadata": {},
   "outputs": [
    {
     "data": {
      "text/plain": [
       "Timestamp('2019-07-01 00:00:00')"
      ]
     },
     "execution_count": 29,
     "metadata": {},
     "output_type": "execute_result"
    }
   ],
   "source": [
    "df_analysis.date.max()"
   ]
  },
  {
   "cell_type": "markdown",
   "metadata": {},
   "source": [
    "### Initial preprocessing and feature construction\n",
    "\n",
    "- Create dummies \n",
    "- Create interaction terms"
   ]
  },
  {
   "cell_type": "markdown",
   "metadata": {},
   "source": [
    "Overall monthly time trend variable, $t=1,2...,T$ within `ID` variable:"
   ]
  },
  {
   "cell_type": "code",
   "execution_count": 30,
   "metadata": {},
   "outputs": [
    {
     "name": "stderr",
     "output_type": "stream",
     "text": [
      "C:\\Users\\WSCHUPPLI\\AppData\\Local\\Continuum\\anaconda3\\lib\\site-packages\\ipykernel_launcher.py:6: SettingWithCopyWarning: \n",
      "A value is trying to be set on a copy of a slice from a DataFrame.\n",
      "Try using .loc[row_indexer,col_indexer] = value instead\n",
      "\n",
      "See the caveats in the documentation: http://pandas.pydata.org/pandas-docs/stable/user_guide/indexing.html#returning-a-view-versus-a-copy\n",
      "  \n"
     ]
    }
   ],
   "source": [
    "#Temp container\n",
    "temp = {}\n",
    "\n",
    "for i in df_analysis['ID'].unique():\n",
    "    temp[i] = df_analysis[df_analysis['ID']==i]\n",
    "    temp[i]['t'] = range(1, len(temp[i]['ID'])+1)\n",
    "\n",
    "#Concatting the df's\n",
    "temp = pd.concat(temp, ignore_index=True, sort = False)\n",
    "\n",
    "#Merging onto analysis\n",
    "df_analysis = pd.merge(left = df_analysis, right = temp[['date', 'ID', 't']], left_on =['date', 'ID'], right_on = ['date', 'ID'])"
   ]
  },
  {
   "cell_type": "markdown",
   "metadata": {},
   "source": [
    "#### Drop sector variables"
   ]
  },
  {
   "cell_type": "markdown",
   "metadata": {},
   "source": [
    "criteria = 0.2"
   ]
  },
  {
   "cell_type": "code",
   "execution_count": 31,
   "metadata": {},
   "outputs": [],
   "source": [
    "df_analysis.drop(['sector_management_staff', 'sector_trade_service', 'sector_sales_communication', 'sector_teaching', 'sector_social_health', 'sector_other'], axis = 1, inplace=True)"
   ]
  },
  {
   "cell_type": "markdown",
   "metadata": {},
   "source": [
    "#### Transform relevant columns to abs change exept those with M_ and ID_, date and t"
   ]
  },
  {
   "cell_type": "code",
   "execution_count": 32,
   "metadata": {},
   "outputs": [],
   "source": [
    "df_analysis['target_actual'] = df_analysis.groupby(['ID'])['target_actual'].diff()"
   ]
  },
  {
   "cell_type": "markdown",
   "metadata": {},
   "source": [
    "### Lagged variables"
   ]
  },
  {
   "cell_type": "code",
   "execution_count": 33,
   "metadata": {},
   "outputs": [],
   "source": [
    "df_analysis['target_lag'] = df_analysis.groupby(['ID'])['target_actual'].shift(1)"
   ]
  },
  {
   "cell_type": "markdown",
   "metadata": {},
   "source": [
    "NB! As this is Quarterly data one year lag is 4 quarters"
   ]
  },
  {
   "cell_type": "code",
   "execution_count": 34,
   "metadata": {},
   "outputs": [],
   "source": [
    "df_analysis['target_4_lag'] = df_analysis.groupby(['ID'])['target_actual'].shift(4)"
   ]
  },
  {
   "cell_type": "markdown",
   "metadata": {},
   "source": [
    "#### Create new variables with 3 month (1 quarter) lag of jobrate"
   ]
  },
  {
   "cell_type": "code",
   "execution_count": 35,
   "metadata": {},
   "outputs": [],
   "source": [
    "columns_1q_lag = ['jobs', 'sector_information_technology', 'sector_engineering_technology', 'sector_industry_craft','sector_office_finance']\n",
    "\n",
    "for colname in columns_1q_lag:\n",
    "    df_analysis[str(colname + '_1_lag')] = df_analysis.groupby(['ID'])[colname].shift(1)"
   ]
  },
  {
   "cell_type": "markdown",
   "metadata": {},
   "source": [
    "#### Dropping some GT variables"
   ]
  },
  {
   "cell_type": "code",
   "execution_count": 36,
   "metadata": {},
   "outputs": [],
   "source": [
    "# Dropping some GT's\n",
    "drop_list = ['GT_SE_6', 'GT_SE_8', 'GT_SE_10', 'GT_SE_11']"
   ]
  },
  {
   "cell_type": "code",
   "execution_count": 37,
   "metadata": {},
   "outputs": [],
   "source": [
    "df_analysis.drop(drop_list, axis = 1, inplace=True)"
   ]
  },
  {
   "cell_type": "markdown",
   "metadata": {},
   "source": [
    "#### Create new variables with 1 month lag of GT"
   ]
  },
  {
   "cell_type": "code",
   "execution_count": 38,
   "metadata": {},
   "outputs": [],
   "source": [
    "columns_1q_lag = [ 'GT_SE_0', 'GT_SE_1', 'GT_SE_2', 'GT_SE_5', 'GT_SE_7', 'GT_SE_9']\n",
    "for colname in columns_1q_lag:\n",
    "    df_analysis[str(colname + '_1_lag')] = df_analysis.groupby(['ID'])[colname].shift(1)"
   ]
  },
  {
   "cell_type": "markdown",
   "metadata": {},
   "source": [
    "#### Month dummies for season effects"
   ]
  },
  {
   "cell_type": "code",
   "execution_count": 39,
   "metadata": {},
   "outputs": [],
   "source": [
    "df_analysis['quarter'] = pd.DatetimeIndex(df_analysis['date']).month.astype(str)"
   ]
  },
  {
   "cell_type": "markdown",
   "metadata": {},
   "source": [
    "#### Creating dummies from categorial variables - remember to drop the reference category (done after change is constructed)"
   ]
  },
  {
   "cell_type": "code",
   "execution_count": 40,
   "metadata": {},
   "outputs": [],
   "source": [
    "list_id = df_analysis.ID.value_counts().index.to_list()"
   ]
  },
  {
   "cell_type": "code",
   "execution_count": 41,
   "metadata": {},
   "outputs": [],
   "source": [
    "df_analysis = pd.get_dummies(df_analysis, prefix=['ID','Q'], prefix_sep='_', columns=['ID', 'quarter']).copy()"
   ]
  },
  {
   "cell_type": "markdown",
   "metadata": {},
   "source": [
    "#### Drop na"
   ]
  },
  {
   "cell_type": "code",
   "execution_count": 42,
   "metadata": {},
   "outputs": [],
   "source": [
    "df_analysis.dropna(inplace=True)"
   ]
  },
  {
   "cell_type": "code",
   "execution_count": 43,
   "metadata": {},
   "outputs": [
    {
     "data": {
      "text/plain": [
       "Timestamp('2019-07-01 00:00:00')"
      ]
     },
     "execution_count": 43,
     "metadata": {},
     "output_type": "execute_result"
    }
   ],
   "source": [
    "df_analysis.date.max()"
   ]
  },
  {
   "cell_type": "code",
   "execution_count": 44,
   "metadata": {},
   "outputs": [
    {
     "data": {
      "text/plain": [
       "Timestamp('2008-04-01 00:00:00')"
      ]
     },
     "execution_count": 44,
     "metadata": {},
     "output_type": "execute_result"
    }
   ],
   "source": [
    "df_analysis.date.min()"
   ]
  },
  {
   "cell_type": "markdown",
   "metadata": {},
   "source": [
    "#### Adding interaction terms"
   ]
  },
  {
   "cell_type": "markdown",
   "metadata": {},
   "source": [
    "Polynominal features - To be deleted later"
   ]
  },
  {
   "cell_type": "code",
   "execution_count": 45,
   "metadata": {},
   "outputs": [],
   "source": [
    "#df_analysis = add_poly_terms(df = df_analysis, \n",
    "#                            poly_columns = ['target_actual', 'GT_0', 'GT_1', 'GT_2', 'GT_3', 'GT_4', 'GT_5', 'GT_6', 'GT_7', 'GT_8', 'GT_9', 'GT_10', 'GT_11', 'GT_12', 'GT_13', 'GT_14', 'GT_15', 'GT_16', 'GT_17', 'GT_18', 'GT_19', 'target_lag', 'jobs', 'sector_information_technology', 'sector_engineering_technology', 'sector_management_staff', 'sector_trade_service', 'sector_industry_craft', 'sector_sales_communication', 'sector_teaching', 'sector_office_finance', 'sector_social_health', 'sector_other'])"
   ]
  },
  {
   "cell_type": "code",
   "execution_count": 46,
   "metadata": {},
   "outputs": [],
   "source": [
    "#df_analysis.dropna(inplace=True)"
   ]
  },
  {
   "cell_type": "markdown",
   "metadata": {},
   "source": [
    "Adding interaction terms by regions and all variables"
   ]
  },
  {
   "cell_type": "code",
   "execution_count": 47,
   "metadata": {},
   "outputs": [],
   "source": [
    "# # relevant interaction variables\n",
    "# interaction_1 = ['target_lag', 'target_4_lag'] \n",
    "# # 'sector_information_technology', 'sector_engineering_technology', 'sector_management_staff', 'sector_trade_service', 'sector_industry_craft', 'sector_sales_communication', 'sector_teaching', 'sector_office_finance', 'sector_social_health', 'sector_other'\n",
    "\n",
    "# # get list of all ID area \n",
    "# interaction_2 = [item for item in df_analysis if item.startswith('ID_')]"
   ]
  },
  {
   "cell_type": "code",
   "execution_count": 48,
   "metadata": {},
   "outputs": [],
   "source": [
    "# for var1 in interaction_1:\n",
    "#     for var2 in interaction_2:\n",
    "#         name = var1 + \"*\" + var2\n",
    "#         df_analysis[name] = pd.Series(df_analysis[var1] * df_analysis[var2], name=name)"
   ]
  },
  {
   "cell_type": "markdown",
   "metadata": {},
   "source": [
    "#### Drop variables to not end up in dummytrap"
   ]
  },
  {
   "cell_type": "code",
   "execution_count": 49,
   "metadata": {},
   "outputs": [],
   "source": [
    "df_analysis = df_analysis.drop(['ID_Blekinge', 'Q_1'], axis = 1)"
   ]
  },
  {
   "cell_type": "code",
   "execution_count": 50,
   "metadata": {},
   "outputs": [],
   "source": [
    "# df_analysis.drop(interaction_1, axis = 1, inplace=True)"
   ]
  },
  {
   "cell_type": "code",
   "execution_count": 51,
   "metadata": {},
   "outputs": [],
   "source": [
    "df_analysis.sort_index(axis=1, inplace=True)"
   ]
  },
  {
   "cell_type": "markdown",
   "metadata": {},
   "source": [
    "#### To Quarter data"
   ]
  },
  {
   "cell_type": "code",
   "execution_count": 52,
   "metadata": {},
   "outputs": [],
   "source": [
    "df_analysis['date'] = df_analysis.set_index('date').index.to_period('Q')"
   ]
  },
  {
   "cell_type": "code",
   "execution_count": 53,
   "metadata": {},
   "outputs": [
    {
     "data": {
      "text/plain": [
       "Period('2008Q2', 'Q-DEC')"
      ]
     },
     "execution_count": 53,
     "metadata": {},
     "output_type": "execute_result"
    }
   ],
   "source": [
    "df_analysis['date'].min()"
   ]
  },
  {
   "cell_type": "code",
   "execution_count": 54,
   "metadata": {},
   "outputs": [
    {
     "data": {
      "text/plain": [
       "Period('2019Q3', 'Q-DEC')"
      ]
     },
     "execution_count": 54,
     "metadata": {},
     "output_type": "execute_result"
    }
   ],
   "source": [
    "df_analysis['date'].max()"
   ]
  },
  {
   "cell_type": "markdown",
   "metadata": {},
   "source": [
    "#### Subset for period to match DK"
   ]
  },
  {
   "cell_type": "code",
   "execution_count": 55,
   "metadata": {},
   "outputs": [],
   "source": [
    "df_analysis = df_analysis[df_analysis.date >= '01-01-2008']"
   ]
  },
  {
   "cell_type": "markdown",
   "metadata": {},
   "source": [
    "#### Setting window size"
   ]
  },
  {
   "cell_type": "code",
   "execution_count": 56,
   "metadata": {},
   "outputs": [],
   "source": [
    "window = 11\n",
    "testsize = 1\n",
    "valsize = 1\n",
    "rolling_window = True"
   ]
  },
  {
   "cell_type": "markdown",
   "metadata": {},
   "source": [
    "# Bootstap"
   ]
  },
  {
   "cell_type": "markdown",
   "metadata": {},
   "source": [
    "#### Load and import"
   ]
  },
  {
   "cell_type": "code",
   "execution_count": 57,
   "metadata": {},
   "outputs": [],
   "source": [
    "import numpy as np, scipy.stats as st"
   ]
  },
  {
   "cell_type": "code",
   "execution_count": 58,
   "metadata": {},
   "outputs": [],
   "source": [
    "# load data\n",
    "with open('results/final/xgboost/results_final_noint.pickle', 'rb') as handle:\n",
    "    results_xgboost = pickle.load(handle)\n",
    "    \n",
    "with open('results/final/baseline/results_ar_year_lag.pickle', 'rb') as handle:\n",
    "    results_baseline = pickle.load(handle)\n",
    "    \n",
    "with open('results/final/randomforest/results_final_noint.pickle', 'rb') as handle:\n",
    "    results_randomforest = pickle.load(handle)    \n",
    "    \n",
    "with open('results/final/baseline/results_ar_year_lag.pickle', 'rb') as handle:\n",
    "    results_ar = pickle.load(handle)\n",
    "    \n",
    "# TEST DATES FOR EACH WINDOW\n",
    "with open('results/final/y_dates.pickle', 'rb') as handle:\n",
    "    y_dates = pickle.load(handle)"
   ]
  },
  {
   "cell_type": "code",
   "execution_count": 59,
   "metadata": {},
   "outputs": [],
   "source": [
    "df_analysis_temp = pd.read_csv('data/descriptive/df_analysis.csv', sep = ',', parse_dates = ['date'])\n",
    "\n",
    "df_results = df_analysis_temp[['ID', 'date', 'target_actual']].copy()\n",
    "\n",
    "df_results = df_results[~(df_results['ID'] =='Jämtland')]\n",
    "\n",
    "#1st diff\n",
    "df_results['target_diff'] = df_results.groupby('ID')['target_actual'].diff()"
   ]
  },
  {
   "cell_type": "code",
   "execution_count": 60,
   "metadata": {},
   "outputs": [],
   "source": [
    "y_dates[1]['temp']=df_results['ID']"
   ]
  },
  {
   "cell_type": "code",
   "execution_count": 61,
   "metadata": {},
   "outputs": [],
   "source": [
    "list_id = y_dates[1]['temp'].to_list()"
   ]
  },
  {
   "cell_type": "code",
   "execution_count": 62,
   "metadata": {},
   "outputs": [],
   "source": [
    "model =  results_xgboost #results_randomforest\n",
    "baseline = results_ar"
   ]
  },
  {
   "cell_type": "markdown",
   "metadata": {},
   "source": [
    "#### Construct bootstrap samples"
   ]
  },
  {
   "cell_type": "markdown",
   "metadata": {},
   "source": [
    "Concat X_train and x_val: X_train"
   ]
  },
  {
   "cell_type": "code",
   "execution_count": 63,
   "metadata": {},
   "outputs": [],
   "source": [
    "X_train, X_val, X_test, y_train, y_val, y_test, dates = test_train_split_Q(df = df_analysis, window = window, testsize=testsize, valsize = valsize,\n",
    "                                                                  y_col='target_actual', rolling_window = rolling_window, df_output= True, geo_count = 20)"
   ]
  },
  {
   "cell_type": "markdown",
   "metadata": {},
   "source": [
    " Create 1000 bootstraps in each window"
   ]
  },
  {
   "cell_type": "code",
   "execution_count": 64,
   "metadata": {},
   "outputs": [],
   "source": [
    "n_samples = 5000"
   ]
  },
  {
   "cell_type": "code",
   "execution_count": 65,
   "metadata": {},
   "outputs": [
    {
     "name": "stderr",
     "output_type": "stream",
     "text": [
      "Bootstrap sampling: 100%|██████████████████████████████████████████████████████████████| 34/34 [00:13<00:00,  2.53it/s]\n"
     ]
    }
   ],
   "source": [
    "X_train_boot_sample, X_test_boot_sample, y_train_boot_sample, y_test_boot_sample = bootstrap_all_windows(X_train, X_test, y_train, y_test, sample_size = 20,\n",
    "                                                                                                         n_samples = n_samples, df_output = True)\n"
   ]
  },
  {
   "cell_type": "code",
   "execution_count": 67,
   "metadata": {},
   "outputs": [],
   "source": [
    "with open('results/final/bootstrap/X_train_boot_sample.pickle', 'wb') as handle:\n",
    "    pickle.dump(X_train_boot_sample, handle, protocol= pickle.HIGHEST_PROTOCOL)\n",
    "    \n",
    "with open('results/final/bootstrap/X_test_boot_sample.pickle', 'wb') as handle:\n",
    "    pickle.dump(X_test_boot_sample, handle, protocol= pickle.HIGHEST_PROTOCOL)\n",
    "    \n",
    "with open('results/final/bootstrap/y_train_boot_sample.pickle', 'wb') as handle:\n",
    "    pickle.dump(y_train_boot_sample, handle, protocol= pickle.HIGHEST_PROTOCOL)\n",
    "    \n",
    "with open('results/final/bootstrap/y_test_boot_sample.pickle', 'wb') as handle:\n",
    "    pickle.dump(y_test_boot_sample, handle, protocol= pickle.HIGHEST_PROTOCOL)"
   ]
  },
  {
   "cell_type": "code",
   "execution_count": 68,
   "metadata": {},
   "outputs": [
    {
     "name": "stderr",
     "output_type": "stream",
     "text": [
      "Bootstrap sampling: 100%|██████████████████████████████████████████████████████████████| 34/34 [00:06<00:00,  5.05it/s]\n"
     ]
    }
   ],
   "source": [
    "X_train_boot_sample_ar, X_test_boot_sample_ar, y_train_boot_sample_ar, y_test_boot_sample_ar = bootstrap_all_windows(X_train_ar, X_test_ar, y_train_ar, y_test_ar, sample_size = 20,\n",
    "                                                                                                         n_samples = n_samples, df_output = True)\n"
   ]
  },
  {
   "cell_type": "code",
   "execution_count": 69,
   "metadata": {},
   "outputs": [],
   "source": [
    "with open('results/final/bootstrap/X_train_boot_sample_ar.pickle', 'wb') as handle:\n",
    "    pickle.dump(X_train_boot_sample_ar, handle, protocol= pickle.HIGHEST_PROTOCOL)\n",
    "    \n",
    "with open('results/final/bootstrap/X_test_boot_sample_ar.pickle', 'wb') as handle:\n",
    "    pickle.dump(X_test_boot_sample_ar, handle, protocol= pickle.HIGHEST_PROTOCOL)\n",
    "    \n",
    "with open('results/final/bootstrap/y_train_boot_sample_ar.pickle', 'wb') as handle:\n",
    "    pickle.dump(y_train_boot_sample_ar, handle, protocol= pickle.HIGHEST_PROTOCOL)\n",
    "    \n",
    "with open('results/final/bootstrap/y_test_boot_sample_ar.pickle', 'wb') as handle:\n",
    "    pickle.dump(y_test_boot_sample_ar, handle, protocol= pickle.HIGHEST_PROTOCOL)"
   ]
  },
  {
   "cell_type": "markdown",
   "metadata": {},
   "source": [
    "#### Results bootstrap"
   ]
  },
  {
   "cell_type": "code",
   "execution_count": 66,
   "metadata": {},
   "outputs": [],
   "source": [
    "def results_bootstrap(X_train_boot_sample, X_test_boot_sample, y_train_boot_sample, y_test_boot_sample, model):\n",
    "    \n",
    "    drop_list = ['ID_Dalarna',\n",
    "       'ID_Gotland', 'ID_Gävleborg', 'ID_Halland', 'ID_Jönköping', 'ID_Kalmar',\n",
    "       'ID_Kronoberg', 'ID_Norrbotten', 'ID_Skåne', 'ID_Stockholm',\n",
    "       'ID_Södermanland', 'ID_Uppsala', 'ID_Värmland', 'ID_Västerbotten',\n",
    "       'ID_Västernorrland', 'ID_Västmanland', 'ID_Västra Götalands',\n",
    "       'ID_Örebro', 'ID_Östergötland']\n",
    "    \n",
    "    \n",
    "    for win in X_train_ar.keys():\n",
    "        X_train_ar[win].drop(drop_list, axis = 1, inplace = True)\n",
    "        X_test_ar[win].drop(drop_list, axis = 1, inplace = True)\n",
    "        \n",
    "        for boot in X_train_boot_sample_ar[win].keys():\n",
    "            X_train_boot_sample_ar[win][boot].drop(drop_list, axis = 1, inplace = True)\n",
    "            X_test_boot_sample_ar[win][boot].drop(drop_list, axis = 1, inplace = True)\n",
    "    \n",
    "    for win in X_train.keys():\n",
    "        sc = StandardScaler()\n",
    "        X_train[win] = sc.fit_transform(X_train[win])\n",
    "        X_test[win] = sc.transform(X_test[win])\n",
    "    \n",
    "    for win in X_train_ar.keys():\n",
    "        sc = StandardScaler()\n",
    "        X_train_ar[win] = sc.fit_transform(X_train_ar[win])\n",
    "        X_test_ar[win] = sc.transform(X_test_ar[win])\n",
    "    \n",
    "    #Initial dataframe\n",
    "    results = {}\n",
    "    \n",
    "    \n",
    "\n",
    "    for win in tqdm(X_train_boot_sample.keys()):\n",
    "\n",
    "\n",
    "    # Create model for machine learning     \n",
    "        #initial dictionaries\n",
    "        results[win] = {}\n",
    "\n",
    "        #CREATING MODEL OBJECT\n",
    "        n_estimators = model[win]['best_rmse'][0][1]\n",
    "        max_depth = model[win]['best_rmse'][0][2]\n",
    "        colsample_bytree = model[win]['best_rmse'][0][3]\n",
    "        gamma = model[win]['best_rmse'][0][4]\n",
    "        subsample = model[win]['best_rmse'][0][5]\n",
    "        min_child_weight = model[win]['best_rmse'][0][6]\n",
    "\n",
    "        model_reg = XGBRegressor(objective ='reg:squarederror', \n",
    "                                                colsample_bytree = colsample_bytree, \n",
    "                                                learning_rate = 0.1,\n",
    "                                                max_depth = max_depth,\n",
    "                                                n_estimators = n_estimators,\n",
    "                                                gamma = gamma,\n",
    "                                                subsample = subsample,\n",
    "                                                min_child_weight = min_child_weight,\n",
    "                                                n_jobs = -1,\n",
    "                                                seed = 1)\n",
    "        \n",
    "        model_reg.fit(X_train[win], y_train[win])\n",
    "        \n",
    "    #Create model for baseline\n",
    "        \n",
    "        \n",
    "        model_reg_ar = LinearRegression()\n",
    "        model_reg_ar.fit(X_train_ar[win], y_train_ar[win])\n",
    "    \n",
    "        for boot in X_train_boot_sample[win].keys():\n",
    "            \n",
    "            sc = StandardScaler()\n",
    "            X_train_boot_sample_ar[win][boot] = sc.fit_transform(X_train_boot_sample_ar[win][boot])\n",
    "            X_test_boot_sample_ar[win][boot] = sc.transform(X_test_boot_sample_ar[win][boot])\n",
    "            \n",
    "            sc = StandardScaler()\n",
    "            X_train_boot_sample[win][boot] = sc.fit_transform(X_train_boot_sample[win][boot])\n",
    "            X_test_boot_sample[win][boot] = sc.transform(X_test_boot_sample[win][boot])\n",
    "\n",
    "            # Construct results\n",
    "            results[win][boot] = {}\n",
    "            \n",
    "            # results model\n",
    "            y_pred = model_reg.predict(X_test_boot_sample[win][boot]).round(2)\n",
    "            par_rmse = rmse(y_pred.round(2), y_true= y_test_boot_sample[win][boot])\n",
    "            \n",
    "            # results baseline\n",
    "            y_pred_ar = model_reg_ar.predict(X_test_boot_sample_ar[win][boot]).round(2)\n",
    "            par_rmse_ar = rmse(y_pred_ar.round(2), y_true= y_test_boot_sample_ar[win][boot])\n",
    "            \n",
    "            # save results to dict\n",
    "            # model\n",
    "            results[win][boot]['y_pred_model'] = y_pred\n",
    "            results[win][boot]['rmse_model'] =par_rmse\n",
    "            results[win][boot]['y_actual_model'] = y_test_boot_sample[win][boot]  \n",
    "            \n",
    "            # baseline\n",
    "            results[win][boot]['y_pred_ar'] = y_pred_ar\n",
    "            results[win][boot]['rmse_ar'] =par_rmse_ar\n",
    "            results[win][boot]['y_actual_ar'] = y_test_boot_sample_ar[win][boot] \n",
    "        \n",
    "    return results"
   ]
  },
  {
   "cell_type": "code",
   "execution_count": 67,
   "metadata": {},
   "outputs": [
    {
     "name": "stderr",
     "output_type": "stream",
     "text": [
      "  0%|                                                                                           | 0/34 [00:00<?, ?it/s]C:\\Users\\WSCHUPPLI\\AppData\\Local\\Continuum\\anaconda3\\lib\\site-packages\\xgboost\\core.py:587: FutureWarning: Series.base is deprecated and will be removed in a future version\n",
      "  if getattr(data, 'base', None) is not None and \\\n",
      "  3%|██▍                                                                                | 1/34 [00:07<04:05,  7.45s/it]C:\\Users\\WSCHUPPLI\\AppData\\Local\\Continuum\\anaconda3\\lib\\site-packages\\xgboost\\core.py:587: FutureWarning: Series.base is deprecated and will be removed in a future version\n",
      "  if getattr(data, 'base', None) is not None and \\\n",
      "  6%|████▉                                                                              | 2/34 [00:14<03:58,  7.46s/it]C:\\Users\\WSCHUPPLI\\AppData\\Local\\Continuum\\anaconda3\\lib\\site-packages\\xgboost\\core.py:587: FutureWarning: Series.base is deprecated and will be removed in a future version\n",
      "  if getattr(data, 'base', None) is not None and \\\n",
      "  9%|███████▎                                                                           | 3/34 [00:22<03:51,  7.47s/it]C:\\Users\\WSCHUPPLI\\AppData\\Local\\Continuum\\anaconda3\\lib\\site-packages\\xgboost\\core.py:587: FutureWarning: Series.base is deprecated and will be removed in a future version\n",
      "  if getattr(data, 'base', None) is not None and \\\n",
      " 12%|█████████▊                                                                         | 4/34 [00:30<03:47,  7.59s/it]C:\\Users\\WSCHUPPLI\\AppData\\Local\\Continuum\\anaconda3\\lib\\site-packages\\xgboost\\core.py:587: FutureWarning: Series.base is deprecated and will be removed in a future version\n",
      "  if getattr(data, 'base', None) is not None and \\\n",
      " 15%|████████████▏                                                                      | 5/34 [00:37<03:40,  7.62s/it]C:\\Users\\WSCHUPPLI\\AppData\\Local\\Continuum\\anaconda3\\lib\\site-packages\\xgboost\\core.py:587: FutureWarning: Series.base is deprecated and will be removed in a future version\n",
      "  if getattr(data, 'base', None) is not None and \\\n",
      " 18%|██████████████▋                                                                    | 6/34 [00:46<03:40,  7.89s/it]C:\\Users\\WSCHUPPLI\\AppData\\Local\\Continuum\\anaconda3\\lib\\site-packages\\xgboost\\core.py:587: FutureWarning: Series.base is deprecated and will be removed in a future version\n",
      "  if getattr(data, 'base', None) is not None and \\\n",
      " 21%|█████████████████                                                                  | 7/34 [00:54<03:31,  7.84s/it]C:\\Users\\WSCHUPPLI\\AppData\\Local\\Continuum\\anaconda3\\lib\\site-packages\\xgboost\\core.py:587: FutureWarning: Series.base is deprecated and will be removed in a future version\n",
      "  if getattr(data, 'base', None) is not None and \\\n",
      " 24%|███████████████████▌                                                               | 8/34 [01:02<03:23,  7.84s/it]C:\\Users\\WSCHUPPLI\\AppData\\Local\\Continuum\\anaconda3\\lib\\site-packages\\xgboost\\core.py:587: FutureWarning: Series.base is deprecated and will be removed in a future version\n",
      "  if getattr(data, 'base', None) is not None and \\\n",
      " 26%|█████████████████████▉                                                             | 9/34 [01:10<03:16,  7.87s/it]C:\\Users\\WSCHUPPLI\\AppData\\Local\\Continuum\\anaconda3\\lib\\site-packages\\xgboost\\core.py:587: FutureWarning: Series.base is deprecated and will be removed in a future version\n",
      "  if getattr(data, 'base', None) is not None and \\\n",
      " 29%|████████████████████████                                                          | 10/34 [01:18<03:09,  7.91s/it]C:\\Users\\WSCHUPPLI\\AppData\\Local\\Continuum\\anaconda3\\lib\\site-packages\\xgboost\\core.py:587: FutureWarning: Series.base is deprecated and will be removed in a future version\n",
      "  if getattr(data, 'base', None) is not None and \\\n",
      " 32%|██████████████████████████▌                                                       | 11/34 [01:26<03:05,  8.08s/it]C:\\Users\\WSCHUPPLI\\AppData\\Local\\Continuum\\anaconda3\\lib\\site-packages\\xgboost\\core.py:587: FutureWarning: Series.base is deprecated and will be removed in a future version\n",
      "  if getattr(data, 'base', None) is not None and \\\n",
      " 35%|████████████████████████████▉                                                     | 12/34 [01:35<03:01,  8.27s/it]C:\\Users\\WSCHUPPLI\\AppData\\Local\\Continuum\\anaconda3\\lib\\site-packages\\xgboost\\core.py:587: FutureWarning: Series.base is deprecated and will be removed in a future version\n",
      "  if getattr(data, 'base', None) is not None and \\\n",
      " 38%|███████████████████████████████▎                                                  | 13/34 [01:43<02:54,  8.30s/it]C:\\Users\\WSCHUPPLI\\AppData\\Local\\Continuum\\anaconda3\\lib\\site-packages\\xgboost\\core.py:587: FutureWarning: Series.base is deprecated and will be removed in a future version\n",
      "  if getattr(data, 'base', None) is not None and \\\n",
      " 41%|█████████████████████████████████▊                                                | 14/34 [01:51<02:46,  8.31s/it]C:\\Users\\WSCHUPPLI\\AppData\\Local\\Continuum\\anaconda3\\lib\\site-packages\\xgboost\\core.py:587: FutureWarning: Series.base is deprecated and will be removed in a future version\n",
      "  if getattr(data, 'base', None) is not None and \\\n",
      " 44%|████████████████████████████████████▏                                             | 15/34 [02:00<02:40,  8.47s/it]C:\\Users\\WSCHUPPLI\\AppData\\Local\\Continuum\\anaconda3\\lib\\site-packages\\xgboost\\core.py:587: FutureWarning: Series.base is deprecated and will be removed in a future version\n",
      "  if getattr(data, 'base', None) is not None and \\\n",
      " 47%|██████████████████████████████████████▌                                           | 16/34 [02:09<02:32,  8.48s/it]C:\\Users\\WSCHUPPLI\\AppData\\Local\\Continuum\\anaconda3\\lib\\site-packages\\xgboost\\core.py:587: FutureWarning: Series.base is deprecated and will be removed in a future version\n",
      "  if getattr(data, 'base', None) is not None and \\\n",
      " 50%|█████████████████████████████████████████                                         | 17/34 [02:17<02:24,  8.52s/it]C:\\Users\\WSCHUPPLI\\AppData\\Local\\Continuum\\anaconda3\\lib\\site-packages\\xgboost\\core.py:587: FutureWarning: Series.base is deprecated and will be removed in a future version\n",
      "  if getattr(data, 'base', None) is not None and \\\n",
      " 53%|███████████████████████████████████████████▍                                      | 18/34 [02:26<02:18,  8.64s/it]C:\\Users\\WSCHUPPLI\\AppData\\Local\\Continuum\\anaconda3\\lib\\site-packages\\xgboost\\core.py:587: FutureWarning: Series.base is deprecated and will be removed in a future version\n",
      "  if getattr(data, 'base', None) is not None and \\\n",
      " 56%|█████████████████████████████████████████████▊                                    | 19/34 [02:35<02:10,  8.70s/it]C:\\Users\\WSCHUPPLI\\AppData\\Local\\Continuum\\anaconda3\\lib\\site-packages\\xgboost\\core.py:587: FutureWarning: Series.base is deprecated and will be removed in a future version\n",
      "  if getattr(data, 'base', None) is not None and \\\n",
      " 59%|████████████████████████████████████████████████▏                                 | 20/34 [02:44<02:02,  8.78s/it]C:\\Users\\WSCHUPPLI\\AppData\\Local\\Continuum\\anaconda3\\lib\\site-packages\\xgboost\\core.py:587: FutureWarning: Series.base is deprecated and will be removed in a future version\n",
      "  if getattr(data, 'base', None) is not None and \\\n",
      " 62%|██████████████████████████████████████████████████▋                               | 21/34 [02:53<01:55,  8.92s/it]C:\\Users\\WSCHUPPLI\\AppData\\Local\\Continuum\\anaconda3\\lib\\site-packages\\xgboost\\core.py:587: FutureWarning: Series.base is deprecated and will be removed in a future version\n",
      "  if getattr(data, 'base', None) is not None and \\\n",
      " 65%|█████████████████████████████████████████████████████                             | 22/34 [03:02<01:44,  8.74s/it]C:\\Users\\WSCHUPPLI\\AppData\\Local\\Continuum\\anaconda3\\lib\\site-packages\\xgboost\\core.py:587: FutureWarning: Series.base is deprecated and will be removed in a future version\n",
      "  if getattr(data, 'base', None) is not None and \\\n",
      " 68%|███████████████████████████████████████████████████████▍                          | 23/34 [03:10<01:34,  8.62s/it]C:\\Users\\WSCHUPPLI\\AppData\\Local\\Continuum\\anaconda3\\lib\\site-packages\\xgboost\\core.py:587: FutureWarning: Series.base is deprecated and will be removed in a future version\n",
      "  if getattr(data, 'base', None) is not None and \\\n",
      " 71%|█████████████████████████████████████████████████████████▉                        | 24/34 [03:18<01:25,  8.54s/it]C:\\Users\\WSCHUPPLI\\AppData\\Local\\Continuum\\anaconda3\\lib\\site-packages\\xgboost\\core.py:587: FutureWarning: Series.base is deprecated and will be removed in a future version\n",
      "  if getattr(data, 'base', None) is not None and \\\n",
      " 74%|████████████████████████████████████████████████████████████▎                     | 25/34 [03:27<01:16,  8.50s/it]C:\\Users\\WSCHUPPLI\\AppData\\Local\\Continuum\\anaconda3\\lib\\site-packages\\xgboost\\core.py:587: FutureWarning: Series.base is deprecated and will be removed in a future version\n",
      "  if getattr(data, 'base', None) is not None and \\\n",
      " 76%|██████████████████████████████████████████████████████████████▋                   | 26/34 [03:35<01:08,  8.53s/it]C:\\Users\\WSCHUPPLI\\AppData\\Local\\Continuum\\anaconda3\\lib\\site-packages\\xgboost\\core.py:587: FutureWarning: Series.base is deprecated and will be removed in a future version\n",
      "  if getattr(data, 'base', None) is not None and \\\n",
      " 79%|█████████████████████████████████████████████████████████████████                 | 27/34 [03:44<01:00,  8.67s/it]C:\\Users\\WSCHUPPLI\\AppData\\Local\\Continuum\\anaconda3\\lib\\site-packages\\xgboost\\core.py:587: FutureWarning: Series.base is deprecated and will be removed in a future version\n",
      "  if getattr(data, 'base', None) is not None and \\\n",
      " 82%|███████████████████████████████████████████████████████████████████▌              | 28/34 [03:55<00:56,  9.34s/it]C:\\Users\\WSCHUPPLI\\AppData\\Local\\Continuum\\anaconda3\\lib\\site-packages\\xgboost\\core.py:587: FutureWarning: Series.base is deprecated and will be removed in a future version\n",
      "  if getattr(data, 'base', None) is not None and \\\n",
      " 85%|█████████████████████████████████████████████████████████████████████▉            | 29/34 [04:06<00:49,  9.81s/it]C:\\Users\\WSCHUPPLI\\AppData\\Local\\Continuum\\anaconda3\\lib\\site-packages\\xgboost\\core.py:587: FutureWarning: Series.base is deprecated and will be removed in a future version\n",
      "  if getattr(data, 'base', None) is not None and \\\n",
      " 88%|████████████████████████████████████████████████████████████████████████▎         | 30/34 [04:17<00:40, 10.21s/it]C:\\Users\\WSCHUPPLI\\AppData\\Local\\Continuum\\anaconda3\\lib\\site-packages\\xgboost\\core.py:587: FutureWarning: Series.base is deprecated and will be removed in a future version\n",
      "  if getattr(data, 'base', None) is not None and \\\n",
      " 91%|██████████████████████████████████████████████████████████████████████████▊       | 31/34 [04:31<00:34, 11.36s/it]C:\\Users\\WSCHUPPLI\\AppData\\Local\\Continuum\\anaconda3\\lib\\site-packages\\xgboost\\core.py:587: FutureWarning: Series.base is deprecated and will be removed in a future version\n",
      "  if getattr(data, 'base', None) is not None and \\\n",
      " 94%|█████████████████████████████████████████████████████████████████████████████▏    | 32/34 [04:48<00:26, 13.06s/it]C:\\Users\\WSCHUPPLI\\AppData\\Local\\Continuum\\anaconda3\\lib\\site-packages\\xgboost\\core.py:587: FutureWarning: Series.base is deprecated and will be removed in a future version\n",
      "  if getattr(data, 'base', None) is not None and \\\n",
      " 97%|███████████████████████████████████████████████████████████████████████████████▌  | 33/34 [05:00<00:12, 12.74s/it]C:\\Users\\WSCHUPPLI\\AppData\\Local\\Continuum\\anaconda3\\lib\\site-packages\\xgboost\\core.py:587: FutureWarning: Series.base is deprecated and will be removed in a future version\n",
      "  if getattr(data, 'base', None) is not None and \\\n",
      "100%|██████████████████████████████████████████████████████████████████████████████████| 34/34 [05:14<00:00,  9.24s/it]\n"
     ]
    }
   ],
   "source": [
    "results = results_bootstrap(X_train_boot_sample, X_test_boot_sample, y_train_boot_sample, y_test_boot_sample, model)"
   ]
  },
  {
   "cell_type": "markdown",
   "metadata": {},
   "source": [
    "Get list with y_pred and y_actual"
   ]
  },
  {
   "cell_type": "code",
   "execution_count": 68,
   "metadata": {},
   "outputs": [],
   "source": [
    "# Initiale region, bootstrap and windows\n",
    "region = {}\n",
    "windows = list(results.keys())\n",
    "bootstraps = list(results[1].keys())\n",
    "\n",
    "\n",
    "for win in windows:\n",
    "    # initiate lists\n",
    "    list_win_rmse = []\n",
    "    list_win_y_pred = []\n",
    "    list_win_y_actual_model = []\n",
    "    list_win_y_actual_ar = []    \n",
    "    list_win_rmse_ar = []\n",
    "    list_win_y_pred_ar = []\n",
    "\n",
    "    for boot in bootstraps:\n",
    "        #retrive rmse, y_pred, and y_actual for each bootstrap in each window\n",
    "        list_win_rmse.append(results[win][boot]['rmse_model'])\n",
    "        list_win_y_pred.append(results[win][boot]['y_pred_model'])\n",
    "        list_win_y_actual_model.append(list(results[win][boot]['y_actual_model'].round(2)))\n",
    "        \n",
    "              \n",
    "        list_win_rmse_ar.append(results[win][boot]['rmse_ar'])\n",
    "        list_win_y_pred_ar.append(results[win][boot]['y_pred_ar'])\n",
    "        list_win_y_actual_ar.append(list(results[win][boot]['y_actual_ar'].round(2)))  \n",
    "    \n",
    "    for reg in range(0,len(list_id)): \n",
    "        #Create result df with regions \n",
    "        result_region = {}\n",
    "        region_num = list_id[reg]\n",
    "\n",
    "        result_region[region_num] = {}\n",
    "        result_region[region_num]['y_pred_model'] = [boot[reg] for boot in list_win_y_pred]\n",
    "        result_region[region_num]['y_actual_model'] = [boot[reg] for boot in list_win_y_actual_model]\n",
    "        result_region[region_num]['y_actual_ar'] = [boot[reg] for boot in list_win_y_actual_ar]\n",
    "        \n",
    "        result_region[region_num]['y_pred_ar'] = [boot[reg] for boot in list_win_y_pred_ar]\n",
    "\n",
    "        region.update(result_region)\n",
    "        \n",
    "        #Append to results dict    \n",
    "        results[win]['bootstrap_results'] = region\n",
    "\n",
    "        # construct conf interval\n",
    "        results[win]['bootstrap_results']['rmse_model'] = list_win_rmse\n",
    "        results[win]['bootstrap_results']['conf_lower_model'] = np.percentile(results[win]['bootstrap_results']['rmse_model'], 2.5)\n",
    "        results[win]['bootstrap_results']['conf_upper_model'] =np.percentile(results[win]['bootstrap_results']['rmse_model'], 97.5)\n",
    "\n",
    "        results[win]['bootstrap_results']['rmse_ar'] = list_win_rmse_ar\n",
    "        results[win]['bootstrap_results']['conf_lower_ar'] = np.percentile(results[win]['bootstrap_results']['rmse_ar'], 2.5)\n",
    "        results[win]['bootstrap_results']['conf_upper_ar'] = np.percentile(results[win]['bootstrap_results']['rmse_ar'], 97.5)\n",
    "\n",
    "    "
   ]
  },
  {
   "cell_type": "markdown",
   "metadata": {},
   "source": [
    "#### Save to pickle"
   ]
  },
  {
   "cell_type": "code",
   "execution_count": 69,
   "metadata": {},
   "outputs": [],
   "source": [
    "with open('results/final/bootstrap/results_bootstrap.pickle', 'wb') as handle:\n",
    "    pickle.dump(results, handle, protocol= pickle.HIGHEST_PROTOCOL)"
   ]
  },
  {
   "cell_type": "code",
   "execution_count": 70,
   "metadata": {},
   "outputs": [
    {
     "data": {
      "text/plain": [
       "{'y_pred_model': array([-2.04, -0.97, -0.73, -0.97, -0.78, -0.7 , -0.97, -2.04, -1.34,\n",
       "        -1.57, -1.81, -1.81, -0.73, -0.16, -1.57, -1.1 , -2.06, -1.08,\n",
       "        -0.78, -1.81], dtype=float32),\n",
       " 'rmse_model': 0.8575022021708844,\n",
       " 'y_actual_model': index\n",
       " 226   -2.12\n",
       " 175   -0.41\n",
       " 481   -0.23\n",
       " 175   -0.41\n",
       " 889   -1.46\n",
       " 532   -0.55\n",
       " 175   -0.41\n",
       " 226   -2.12\n",
       " 124   -1.90\n",
       " 379    0.15\n",
       " 787   -2.06\n",
       " 787   -2.06\n",
       " 481   -0.23\n",
       " 22    -0.61\n",
       " 379    0.15\n",
       " 583    0.37\n",
       " 685   -0.24\n",
       " 634   -0.62\n",
       " 889   -1.46\n",
       " 787   -2.06\n",
       " Name: target_actual, dtype: float64,\n",
       " 'y_pred_ar': array([-0.02, -1.07, -0.06, -0.44, -1.07, -0.56,  0.06, -0.51, -0.9 ,\n",
       "        -0.9 , -2.29, -0.72, -0.56, -0.51, -0.56, -0.71, -0.51, -0.51,\n",
       "        -0.44, -0.06]),\n",
       " 'rmse_ar': 1.033706921714274,\n",
       " 'y_actual_ar': index\n",
       " 634     0.37\n",
       " 838    -2.06\n",
       " 328    -0.82\n",
       " 1042   -2.61\n",
       " 838    -2.06\n",
       " 940    -1.46\n",
       " 22     -0.61\n",
       " 583    -0.55\n",
       " 889    -2.55\n",
       " 889    -2.55\n",
       " 226    -2.12\n",
       " 175    -0.41\n",
       " 940    -1.46\n",
       " 583    -0.55\n",
       " 940    -1.46\n",
       " 532    -0.23\n",
       " 583    -0.55\n",
       " 583    -0.55\n",
       " 1042   -2.61\n",
       " 328    -0.82\n",
       " Name: target_actual, dtype: float64}"
      ]
     },
     "execution_count": 70,
     "metadata": {},
     "output_type": "execute_result"
    }
   ],
   "source": [
    "results[6][3]"
   ]
  },
  {
   "cell_type": "code",
   "execution_count": 71,
   "metadata": {},
   "outputs": [
    {
     "data": {
      "text/plain": [
       "[-0.99,\n",
       " 0.34,\n",
       " -1.35,\n",
       " -1.22,\n",
       " 0.48,\n",
       " -0.29,\n",
       " -0.15,\n",
       " 0.08,\n",
       " 0.01,\n",
       " -0.01,\n",
       " 0.1,\n",
       " -0.41,\n",
       " -0.56,\n",
       " 0.54,\n",
       " 0.09,\n",
       " -0.74,\n",
       " -1.41,\n",
       " -0.44,\n",
       " -0.14,\n",
       " -0.14,\n",
       " 0.09,\n",
       " -0.32,\n",
       " -0.35,\n",
       " -0.37,\n",
       " -0.69,\n",
       " -0.32,\n",
       " -0.87,\n",
       " -1.55,\n",
       " -0.27,\n",
       " -0.75,\n",
       " -0.28,\n",
       " -0.85,\n",
       " -0.71,\n",
       " -0.42,\n",
       " 0.44,\n",
       " -0.34,\n",
       " -0.96,\n",
       " -0.44,\n",
       " -0.66,\n",
       " -0.35,\n",
       " -0.56,\n",
       " -0.32,\n",
       " 0.47,\n",
       " -1.57,\n",
       " 0.57,\n",
       " -0.09,\n",
       " -0.0,\n",
       " 0.03,\n",
       " -0.53,\n",
       " 0.0,\n",
       " 0.11,\n",
       " -0.42,\n",
       " -1.04,\n",
       " -0.64,\n",
       " -0.5,\n",
       " -1.33,\n",
       " -0.66,\n",
       " -0.45,\n",
       " -1.13,\n",
       " -0.76,\n",
       " -0.21,\n",
       " 0.17,\n",
       " -0.49,\n",
       " -1.54,\n",
       " -0.22,\n",
       " -0.86,\n",
       " -0.89,\n",
       " -0.31,\n",
       " -1.18,\n",
       " -1.09,\n",
       " -0.31,\n",
       " 0.18,\n",
       " -0.58,\n",
       " -0.68,\n",
       " -0.25,\n",
       " -1.31,\n",
       " 0.22,\n",
       " -1.01,\n",
       " -0.57,\n",
       " -0.13,\n",
       " -0.99,\n",
       " 0.19,\n",
       " -1.1,\n",
       " 0.34,\n",
       " -0.48,\n",
       " 0.06,\n",
       " 0.16,\n",
       " -0.32,\n",
       " -1.21,\n",
       " -0.03,\n",
       " -0.83,\n",
       " -0.73,\n",
       " -0.34,\n",
       " 0.06,\n",
       " -0.47,\n",
       " -0.75,\n",
       " 0.04,\n",
       " -0.37,\n",
       " -0.55,\n",
       " -0.47,\n",
       " -1.03,\n",
       " 0.29,\n",
       " 0.41,\n",
       " 0.3,\n",
       " -0.91,\n",
       " -0.83,\n",
       " 0.39,\n",
       " 0.27,\n",
       " 0.02,\n",
       " -0.55,\n",
       " 0.13,\n",
       " 0.42,\n",
       " -1.42,\n",
       " -0.65,\n",
       " 0.6,\n",
       " -0.26,\n",
       " -0.17,\n",
       " -0.7,\n",
       " -0.57,\n",
       " -0.36,\n",
       " 0.4,\n",
       " -1.29,\n",
       " -0.67,\n",
       " 0.48,\n",
       " 0.26,\n",
       " 0.11,\n",
       " -0.88,\n",
       " 0.32,\n",
       " -1.62,\n",
       " 0.2,\n",
       " 0.11,\n",
       " -0.43,\n",
       " -0.05,\n",
       " -0.27,\n",
       " -1.03,\n",
       " -0.51,\n",
       " -0.39,\n",
       " -0.53,\n",
       " -1.23,\n",
       " -0.52,\n",
       " 0.05,\n",
       " -1.63,\n",
       " 0.07,\n",
       " -0.61,\n",
       " -0.49,\n",
       " -0.45,\n",
       " 0.7,\n",
       " -0.45,\n",
       " 0.33,\n",
       " -0.68,\n",
       " -0.35,\n",
       " -0.26,\n",
       " 0.18,\n",
       " -0.93,\n",
       " -0.35,\n",
       " 0.14,\n",
       " -0.22,\n",
       " 0.09,\n",
       " -1.82,\n",
       " 0.06,\n",
       " -0.63,\n",
       " 0.35,\n",
       " -0.01,\n",
       " -0.54,\n",
       " -0.18,\n",
       " 0.32,\n",
       " -0.67,\n",
       " -0.73,\n",
       " 0.05,\n",
       " -0.35,\n",
       " -0.39,\n",
       " -0.24,\n",
       " -1.52,\n",
       " -0.25,\n",
       " -0.16,\n",
       " -0.77,\n",
       " 0.06,\n",
       " -0.12,\n",
       " -1.68,\n",
       " -0.12,\n",
       " -0.75,\n",
       " -0.56,\n",
       " 0.18,\n",
       " -0.38,\n",
       " 0.26,\n",
       " 0.03,\n",
       " -1.83,\n",
       " -0.77,\n",
       " -2.06,\n",
       " -0.32,\n",
       " -0.23,\n",
       " 0.16,\n",
       " -1.44,\n",
       " 0.4,\n",
       " -0.38,\n",
       " 0.11,\n",
       " 0.03,\n",
       " 0.2,\n",
       " -0.36,\n",
       " -1.19,\n",
       " 0.46,\n",
       " -0.44,\n",
       " -0.25,\n",
       " -1.55,\n",
       " -0.45,\n",
       " -0.27,\n",
       " 0.01,\n",
       " -0.27,\n",
       " -0.28,\n",
       " -1.99,\n",
       " 0.45,\n",
       " -0.47,\n",
       " 0.26,\n",
       " 0.13,\n",
       " -0.54,\n",
       " -0.05,\n",
       " -0.1,\n",
       " -0.49,\n",
       " -0.97,\n",
       " -0.97,\n",
       " -1.45,\n",
       " 0.47,\n",
       " 0.34,\n",
       " -0.49,\n",
       " -0.37,\n",
       " -0.19,\n",
       " -0.66,\n",
       " -1.66,\n",
       " -0.21,\n",
       " -0.12,\n",
       " -1.74,\n",
       " -0.86,\n",
       " 0.31,\n",
       " -1.75,\n",
       " -1.09,\n",
       " -0.7,\n",
       " -0.2,\n",
       " -0.62,\n",
       " -1.5,\n",
       " -0.46,\n",
       " -0.49,\n",
       " -0.51,\n",
       " -0.53,\n",
       " -0.37,\n",
       " 0.11,\n",
       " 0.01,\n",
       " -1.58,\n",
       " -1.24,\n",
       " -0.39,\n",
       " -0.42,\n",
       " -0.46,\n",
       " 0.06,\n",
       " -1.52,\n",
       " -0.11,\n",
       " 0.19,\n",
       " -0.49,\n",
       " 0.05,\n",
       " -0.47,\n",
       " -0.25,\n",
       " -0.29,\n",
       " -0.48,\n",
       " -0.53,\n",
       " -0.05,\n",
       " -0.96,\n",
       " -0.79,\n",
       " -0.25,\n",
       " -0.59,\n",
       " -0.36,\n",
       " -0.26,\n",
       " -0.23,\n",
       " -0.39,\n",
       " 0.56,\n",
       " -0.31,\n",
       " -0.62,\n",
       " 0.13,\n",
       " -0.93,\n",
       " -0.44,\n",
       " -0.42,\n",
       " -1.41,\n",
       " -0.97,\n",
       " -0.39,\n",
       " -0.67,\n",
       " -2.73,\n",
       " -0.47,\n",
       " 0.16,\n",
       " -0.62,\n",
       " -1.57,\n",
       " 0.43,\n",
       " -0.91,\n",
       " 0.09,\n",
       " -0.05,\n",
       " -0.22,\n",
       " -0.33,\n",
       " -1.83,\n",
       " -0.77,\n",
       " 0.03,\n",
       " -0.14,\n",
       " 0.01,\n",
       " -1.87,\n",
       " -1.09,\n",
       " -0.63,\n",
       " -1.3,\n",
       " -0.64,\n",
       " -1.18,\n",
       " 0.41,\n",
       " -1.2,\n",
       " -0.86,\n",
       " 0.64,\n",
       " -0.12,\n",
       " -1.44,\n",
       " -0.16,\n",
       " 0.05,\n",
       " -0.73,\n",
       " -0.22,\n",
       " 0.17,\n",
       " -0.8,\n",
       " -0.2,\n",
       " -0.54,\n",
       " 0.07,\n",
       " -0.11,\n",
       " -0.4,\n",
       " -0.66,\n",
       " 0.02,\n",
       " -0.3,\n",
       " 0.12,\n",
       " -0.04,\n",
       " -0.91,\n",
       " 0.06,\n",
       " -0.27,\n",
       " -0.48,\n",
       " -0.69,\n",
       " 0.51,\n",
       " 0.1,\n",
       " 0.09,\n",
       " -0.04,\n",
       " -0.19,\n",
       " -0.38,\n",
       " -0.31,\n",
       " -0.38,\n",
       " 0.03,\n",
       " -0.39,\n",
       " -1.51,\n",
       " -0.57,\n",
       " -0.26,\n",
       " -0.67,\n",
       " -0.22,\n",
       " 0.13,\n",
       " -0.49,\n",
       " -0.32,\n",
       " -0.06,\n",
       " -0.74,\n",
       " -1.72,\n",
       " -0.01,\n",
       " -0.8,\n",
       " -0.23,\n",
       " -0.18,\n",
       " -0.33,\n",
       " -0.61,\n",
       " -0.34,\n",
       " -0.34,\n",
       " -1.04,\n",
       " -0.4,\n",
       " -0.2,\n",
       " 0.59,\n",
       " -0.27,\n",
       " -0.35,\n",
       " -0.65,\n",
       " -0.03,\n",
       " 0.09,\n",
       " -0.23,\n",
       " -0.51,\n",
       " -1.88,\n",
       " -0.72,\n",
       " 0.4,\n",
       " -0.35,\n",
       " -0.39,\n",
       " 0.28,\n",
       " 0.04,\n",
       " -0.28,\n",
       " -0.53,\n",
       " -0.42,\n",
       " -0.09,\n",
       " -1.36,\n",
       " -0.63,\n",
       " -0.07,\n",
       " 0.24,\n",
       " -0.19,\n",
       " -0.47,\n",
       " 0.13,\n",
       " 0.06,\n",
       " -0.55,\n",
       " -0.36,\n",
       " -0.51,\n",
       " -0.31,\n",
       " -0.51,\n",
       " -0.03,\n",
       " -0.39,\n",
       " -0.06,\n",
       " -0.13,\n",
       " -1.2,\n",
       " -0.51,\n",
       " -1.73,\n",
       " -0.6,\n",
       " -0.39,\n",
       " -0.15,\n",
       " -0.58,\n",
       " 0.43,\n",
       " 0.21,\n",
       " 0.06,\n",
       " 0.04,\n",
       " -0.56,\n",
       " -0.24,\n",
       " -0.46,\n",
       " -0.07,\n",
       " -1.36,\n",
       " 0.25,\n",
       " -0.14,\n",
       " -0.57,\n",
       " 0.09,\n",
       " -0.32,\n",
       " -1.63,\n",
       " -0.26,\n",
       " -0.82,\n",
       " -0.34,\n",
       " 0.43,\n",
       " -0.77,\n",
       " -1.48,\n",
       " -0.61,\n",
       " -0.29,\n",
       " -0.09,\n",
       " -0.56,\n",
       " -0.82,\n",
       " 0.08,\n",
       " -0.23,\n",
       " 0.31,\n",
       " 0.35,\n",
       " -0.68,\n",
       " -1.53,\n",
       " -0.3,\n",
       " -0.43,\n",
       " -0.2,\n",
       " 0.16,\n",
       " -0.12,\n",
       " -0.5,\n",
       " -0.52,\n",
       " -0.26,\n",
       " -0.74,\n",
       " 0.26,\n",
       " -0.61,\n",
       " -0.04,\n",
       " -1.69,\n",
       " 0.73,\n",
       " 0.05,\n",
       " 0.24,\n",
       " -0.72,\n",
       " -0.19,\n",
       " -0.04,\n",
       " -0.6,\n",
       " 0.04,\n",
       " -0.5,\n",
       " -0.22,\n",
       " 0.05,\n",
       " -0.36,\n",
       " 0.11,\n",
       " -0.35,\n",
       " -0.99,\n",
       " -0.5,\n",
       " -1.51,\n",
       " -1.44,\n",
       " -0.29,\n",
       " -1.13,\n",
       " -0.86,\n",
       " 0.4,\n",
       " -0.24,\n",
       " 0.17,\n",
       " 0.03,\n",
       " -0.04,\n",
       " -0.85,\n",
       " 0.2,\n",
       " -0.19,\n",
       " -0.11,\n",
       " 0.15,\n",
       " -0.69,\n",
       " -1.64,\n",
       " 0.11,\n",
       " 0.14,\n",
       " -0.85,\n",
       " 0.17,\n",
       " 0.08,\n",
       " -0.06,\n",
       " 0.02,\n",
       " -0.05,\n",
       " 0.18,\n",
       " -1.55,\n",
       " -0.68,\n",
       " -0.49,\n",
       " -0.42,\n",
       " -0.2,\n",
       " 0.32,\n",
       " -0.32]"
      ]
     },
     "execution_count": 71,
     "metadata": {},
     "output_type": "execute_result"
    }
   ],
   "source": [
    "results[1]['bootstrap_results']['Stockholm']['y_pred_model']"
   ]
  },
  {
   "cell_type": "markdown",
   "metadata": {},
   "source": [
    "#### Check the results"
   ]
  },
  {
   "cell_type": "code",
   "execution_count": 72,
   "metadata": {},
   "outputs": [
    {
     "data": {
      "image/png": "[encoded data removed]",
      "text/plain": [
       "<Figure size 432x288 with 1 Axes>"
      ]
     },
     "metadata": {
      "needs_background": "light"
     },
     "output_type": "display_data"
    }
   ],
   "source": [
    "plt.hist(results[1]['bootstrap_results']['rmse_model'])\n",
    "plt.show()"
   ]
  },
  {
   "cell_type": "code",
   "execution_count": 73,
   "metadata": {},
   "outputs": [
    {
     "data": {
      "image/png": "[encoded data removed]",
      "text/plain": [
       "<Figure size 432x288 with 1 Axes>"
      ]
     },
     "metadata": {
      "needs_background": "light"
     },
     "output_type": "display_data"
    }
   ],
   "source": [
    "plt.hist(results[1]['bootstrap_results']['Stockholm']['y_pred_model'])\n",
    "plt.show()"
   ]
  },
  {
   "cell_type": "code",
   "execution_count": 74,
   "metadata": {},
   "outputs": [
    {
     "data": {
      "text/plain": [
       "dict_keys(['Blekinge', 'rmse_model', 'conf_lower_model', 'conf_upper_model', 'rmse_ar', 'conf_lower_ar', 'conf_upper_ar', 'Dalarna', 'Gotland', 'Gävleborg', 'Halland', 'Jönköping', 'Kalmar', 'Kronoberg', 'Norrbotten', 'Skåne', 'Stockholm', 'Södermanland', 'Uppsala', 'Värmland', 'Västerbotten', 'Västernorrland', 'Västmanland', 'Västra Götalands', 'Örebro', 'Östergötland'])"
      ]
     },
     "execution_count": 74,
     "metadata": {},
     "output_type": "execute_result"
    }
   ],
   "source": [
    "results[1]['bootstrap_results'].keys()"
   ]
  },
  {
   "cell_type": "code",
   "execution_count": 75,
   "metadata": {},
   "outputs": [
    {
     "data": {
      "text/plain": [
       "0.8016579066512118"
      ]
     },
     "execution_count": 75,
     "metadata": {},
     "output_type": "execute_result"
    }
   ],
   "source": [
    "results[1]['bootstrap_results']['conf_lower_model']"
   ]
  },
  {
   "cell_type": "code",
   "execution_count": null,
   "metadata": {},
   "outputs": [],
   "source": [
    "results[1]['bootstrap_results']['conf_lower_ar']"
   ]
  },
  {
   "cell_type": "code",
   "execution_count": null,
   "metadata": {},
   "outputs": [],
   "source": [
    "results[1]['bootstrap_results']['conf_upper_ar']"
   ]
  },
  {
   "cell_type": "code",
   "execution_count": null,
   "metadata": {},
   "outputs": [],
   "source": [
    "results[1]['bootstrap_results']['conf_lower_model']"
   ]
  },
  {
   "cell_type": "code",
   "execution_count": null,
   "metadata": {},
   "outputs": [],
   "source": [
    "results[1]['bootstrap_results']['conf_upper_model']"
   ]
  },
  {
   "cell_type": "markdown",
   "metadata": {},
   "source": [
    "#### Function for XGBoost "
   ]
  },
  {
   "cell_type": "code",
   "execution_count": null,
   "metadata": {},
   "outputs": [],
   "source": [
    "# def results_bootstrap(X_train_boot_sample, X_test_boot_sample, y_train_boot_sample, y_test_boot_sample, model):\n",
    "    \n",
    "#     #Initial dataframe\n",
    "#     results = {}\n",
    "\n",
    "#     for win in tqdm(X_train_boot_sample.keys()):\n",
    "\n",
    "#     # Create model for machine learning     \n",
    "#         #initial dictionaries\n",
    "#         results[win] = {}\n",
    "\n",
    "#         #CREATING MODEL OBJECT\n",
    "#         n_estimators = model[win]['best_rmse'][0][1]\n",
    "#         max_depth = model[win]['best_rmse'][0][2]\n",
    "#         colsample_bytree = model[win]['best_rmse'][0][3]\n",
    "#         gamma = model[win]['best_rmse'][0][4]\n",
    "#         subsample = model[win]['best_rmse'][0][5]\n",
    "#         min_child_weight = model[win]['best_rmse'][0][6]\n",
    "\n",
    "#         model = XGBRegressor(objective ='reg:squarederror', \n",
    "#                                                 colsample_bytree = colsample_bytree, \n",
    "#                                                 learning_rate = 0.1,\n",
    "#                                                 max_depth = max_depth,\n",
    "#                                                 n_estimators = n_estimators,\n",
    "#                                                 gamma = gamma,\n",
    "#                                                 subsample = subsample,\n",
    "#                                                 min_child_weight = min_child_weight,\n",
    "#                                                 n_jobs = -1,\n",
    "#                                                 seed = 1)\n",
    "        \n",
    "#     #Create model for baseline \n",
    "#         model_reg_ar = LinearRegression()\n",
    "#         model_reg_ar.fit(X_train[win], y_train[win])\n",
    "    \n",
    "#         for boot in X_train_boot_sample[win].keys():\n",
    "\n",
    "#             # Construct results\n",
    "#             results[win][boot] = {}\n",
    "            \n",
    "#             # results model\n",
    "#             y_pred = model_reg.predict(X_test_boot_sample[win][boot]).round(2)\n",
    "#             par_rmse = rmse(y_pred.round(2), y_true= y_test_boot_sample[win][boot])\n",
    "            \n",
    "#             # results baseline\n",
    "#             y_pred_ar = model_reg_ar.predict(X_test_boot_sample[win][boot]).round(2)\n",
    "#             par_rmse_ar = rmse(y_pred_ar.round(2), y_true= y_test_boot_sample[win][boot])\n",
    "            \n",
    "#             # save results to dict\n",
    "#             # model\n",
    "#             results[win][boot]['y_pred_model'] = y_pred\n",
    "#             results[win][boot]['rmse_model'] =par_rmse\n",
    "#             results[win][boot]['y_actual'] = y_test_boot_sample[win][boot]  \n",
    "            \n",
    "#             # baseline\n",
    "#             results[win][boot]['y_pred_ar'] = y_pred_ar\n",
    "#             results[win][boot]['rmse_ar'] =par_rmse_ar\n",
    "        \n",
    "#     return results"
   ]
  },
  {
   "cell_type": "code",
   "execution_count": null,
   "metadata": {},
   "outputs": [],
   "source": []
  }
 ],
 "metadata": {
  "kernelspec": {
   "display_name": "Python 3",
   "language": "python",
   "name": "python3"
  },
  "language_info": {
   "codemirror_mode": {
    "name": "ipython",
    "version": 3
   },
   "file_extension": ".py",
   "mimetype": "text/x-python",
   "name": "python",
   "nbconvert_exporter": "python",
   "pygments_lexer": "ipython3",
   "version": "3.7.3"
  },
  "toc-autonumbering": false,
  "toc-showcode": false,
  "toc-showmarkdowntxt": false
 },
 "nbformat": 4,
 "nbformat_minor": 4
}
