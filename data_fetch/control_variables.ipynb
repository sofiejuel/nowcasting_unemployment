{
 "cells": [
  {
   "cell_type": "markdown",
   "metadata": {},
   "source": [
    "SE\n",
    "\n",
    "Population: http://www.statistikdatabasen.scb.se/pxweb/en/ssd/START__BE__BE0101__BE0101A/BefolkningNy/\n",
    "yearly -> 2018\n",
    "lag ->2018 published 21-02-2019\n",
    "\n",
    "Share labour force:\n",
    "http://www.statistikdatabasen.scb.se/pxweb/en/ssd/START__AM__AM0401__AM0401N/NAKUBefolkningLK/\n",
    "quarterly -> 2019K2\n",
    "lag ->2019K2 published 25-07-2019\n",
    "\n",
    "MVU_LVU share:\n",
    "http://www.statistikdatabasen.scb.se/pxweb/en/ssd/START__UF__UF0506/UtbBefRegionR/\n",
    "yearly -> 2018\n",
    "lag ->2018 published 23-04-2019\n",
    "\n",
    "Urban:\n",
    "http://www.statistikdatabasen.scb.se/pxweb/en/ssd/START__MI__MI0810__MI0810A/TatortGrad/table/tableViewLayout1/#\n",
    "\n",
    "https://en.wikipedia.org/wiki/List_of_urban_areas_in_Sweden_by_population\n",
    "\n",
    "yearly -> every 5th year\n",
    "lag ->2015 published 25-10-2016\n",
    "\n",
    "Socio:\n",
    "\n",
    "NO:\n",
    "\n",
    "Population:\n",
    "https://www.ssb.no/en/statbank/table/07459/\n",
    "yearly -> 2019\n",
    "updated: 2019-02-22\n",
    "\n",
    "Population share labour force:\n",
    "https://www.ssb.no/en/statbank/table/05615/\n",
    "quarterly -> 2019K2\n",
    "updated: 2019-07-25\n",
    "\n",
    "MVU_LVU share:\n",
    "https://www.ssb.no/en/statbank/table/08921/\n",
    "yearly -> 2018\n",
    "updated: 2019-06-20\n",
    "\n",
    "Urban:\n",
    "https://www.ssb.no/en/statbank/table/05212/\n",
    "yearly -> 2018\n",
    "updated:\n",
    "\n",
    "Socio:"
   ]
  },
  {
   "cell_type": "markdown",
   "metadata": {},
   "source": [
    "### Import"
   ]
  },
  {
   "cell_type": "code",
   "execution_count": 2,
   "metadata": {},
   "outputs": [
    {
     "name": "stderr",
     "output_type": "stream",
     "text": [
      "/anaconda3/lib/python3.7/site-packages/statsmodels/compat/pandas.py:49: FutureWarning: The Panel class is removed from pandas. Accessing it from the top-level namespace will also be removed in the next version\n",
      "  data_klasses = (pandas.Series, pandas.DataFrame, pandas.Panel)\n"
     ]
    }
   ],
   "source": [
    "import pydst\n",
    "from func import global_id, quarter_to_month\n",
    "import pandas as pd\n",
    "import numpy as np\n",
    "import requests\n",
    "import datetime"
   ]
  },
  {
   "cell_type": "markdown",
   "metadata": {
    "toc-hr-collapsed": true
   },
   "source": [
    "## DK"
   ]
  },
  {
   "cell_type": "markdown",
   "metadata": {
    "toc-hr-collapsed": true
   },
   "source": [
    "### Initial definitions"
   ]
  },
  {
   "cell_type": "markdown",
   "metadata": {},
   "source": [
    "##### df_global_mun_reg"
   ]
  },
  {
   "cell_type": "markdown",
   "metadata": {},
   "source": [
    "Urbanisation "
   ]
  },
  {
   "cell_type": "code",
   "execution_count": 263,
   "metadata": {},
   "outputs": [],
   "source": [
    "df_urban = pd.read_csv('data/other/df_urbanisation.csv', sep=\";\")"
   ]
  },
  {
   "cell_type": "markdown",
   "metadata": {},
   "source": [
    "Global kom nummer df"
   ]
  },
  {
   "cell_type": "code",
   "execution_count": 264,
   "metadata": {},
   "outputs": [],
   "source": [
    "mun = [101, 147, 155, 185, 165, 151, 153, 157, 159, 161, 163, 167, 169, 183, 173, 175, 187, 201, 240, 210, 250, 190, 270, 260, 217, 219, 223, 230, 400, 411, 253, 259, 350, 265, 269, 320,\n",
    "       376, 316, 326, 360, 370, 306, 329, 330, 340, 336, 390, 420, 430, 440, 482, 410, 480, 450, 461, 479, 492, 530, 561, 563, 607, 510, 621, 540, 550, 573, 575, 630, 580, 710, 766, 615,\n",
    "       707, 727, 730, 741, 740, 746, 706, 751, 657, 661, 756, 665, 760, 779, 671, 791, 810, 813, 860, 849, 825, 846, 773, 840, 787, 820, 851]"
   ]
  },
  {
   "cell_type": "code",
   "execution_count": 265,
   "metadata": {},
   "outputs": [],
   "source": [
    "dst_name = ['København', 'Frederiksberg', 'Dragør', 'Tårnby', 'Albertslund', 'Ballerup', 'Brøndby', 'Gentofte', 'Gladsaxe', 'Glostrup', 'Herlev', 'Hvidovre', 'Høje-Taastrup', 'Ishøj', 'Lyngby-Taarbæk',\n",
    "            'Rødovre', 'Vallensbæk', 'Allerød', 'Egedal', 'Fredensborg', 'Frederikssund', 'Furesø', 'Gribskov', 'Halsnæs', 'Helsingør', 'Hillerød','Hørsholm', 'Rudersdal','Bornholm', 'Christiansø', \n",
    "            'Greve', 'Køge', 'Lejre', 'Roskilde', 'Solrød', 'Faxe', 'Guldborgsund', 'Holbæk', 'Kalundborg', 'Lolland', 'Næstved', 'Odsherred', 'Ringsted', 'Slagelse', 'Sorø', 'Stevns', 'Vordingborg', 'Assens', \n",
    "            'Faaborg-Midtfyn', 'Kerteminde', 'Langeland', 'Middelfart', 'Nordfyns','Nyborg', 'Odense', 'Svendborg', 'Ærø', 'Billund', 'Esbjerg', 'Fanø', 'Fredericia', 'Haderslev', 'Kolding', 'Sønderborg', \n",
    "            'Tønder', 'Varde', 'Vejen','Vejle', 'Aabenraa', 'Favrskov', 'Hedensted','Horsens', 'Norddjurs', 'Odder', 'Randers', 'Samsø', 'Silkeborg', 'Skanderborg', 'Syddjurs','Aarhus', 'Herning',\n",
    "            'Holstebro','Ikast-Brande','Lemvig','Ringkøbing-Skjern','Skive','Struer','Viborg','Brønderslev','Frederikshavn','Hjørring','Jammerbugt','Læsø','Mariagerfjord',' Morsø','Rebild', 'Thisted', \n",
    "            'Vesthimmerlands', 'Aalborg']\n",
    "\n",
    "dst_name_en = ['Copenhagen', 'Frederiksberg', 'Dragør', 'Tårnby', 'Albertslund', 'Ballerup', 'Brøndby', 'Gentofte', 'Gladsaxe', 'Glostrup', 'Herlev', 'Hvidovre', 'Høje-Taastrup', 'Ishøj', 'Lyngby-Taarbæk',\n",
    "            'Rødovre', 'Vallensbæk', 'Allerød', 'Egedal', 'Fredensborg', 'Frederikssund', 'Furesø', 'Gribskov', 'Halsnæs', 'Helsingør', 'Hillerød','Hørsholm', 'Rudersdal','Bornholm', 'Christiansø', \n",
    "            'Greve', 'Køge', 'Lejre', 'Roskilde', 'Solrød', 'Faxe', 'Guldborgsund', 'Holbæk', 'Kalundborg', 'Lolland', 'Næstved', 'Odsherred', 'Ringsted', 'Slagelse', 'Sorø', 'Stevns', 'Vordingborg', 'Assens', \n",
    "            'Faaborg-Midtfyn', 'Kerteminde', 'Langeland', 'Middelfart', 'Nordfyns', 'Nyborg', 'Odense', 'Svendborg', 'Ærø', 'Billund', 'Esbjerg', 'Fanø', 'Fredericia', 'Haderslev', 'Kolding', 'Sønderborg', \n",
    "            'Tønder', 'Varde', 'Vejen','Vejle', 'Aabenraa', 'Favrskov', 'Hedensted','Horsens', 'Norddjurs', 'Odder', 'Randers', 'Samsø', 'Silkeborg', 'Skanderborg', 'Syddjurs','Aarhus', 'Herning',\n",
    "            'Holstebro','Ikast-Brande','Lemvig','Ringkøbing-Skjern','Skive','Struer','Viborg','Brønderslev','Frederikshavn','Hjørring','Jammerbugt','Læsø','Mariagerfjord','Morsø','Rebild', 'Thisted', \n",
    "            'Vesthimmerlands', 'Aalborg']"
   ]
  },
  {
   "cell_type": "code",
   "execution_count": 266,
   "metadata": {},
   "outputs": [],
   "source": [
    "df_dst = pd.DataFrame(\n",
    "    { 'Kom.nr': mun,\n",
    "     'dst_name' : dst_name,\n",
    "     'dst_name_en' : dst_name_en\n",
    "    })"
   ]
  },
  {
   "cell_type": "code",
   "execution_count": 267,
   "metadata": {},
   "outputs": [],
   "source": [
    "df_urban = df_urban.rename(columns = {'Unnamed: 0' :  'kom'})"
   ]
  },
  {
   "cell_type": "code",
   "execution_count": 268,
   "metadata": {},
   "outputs": [],
   "source": [
    "df_global_mun = df_urban[['Kom.nr', 'kom']].drop_duplicates()"
   ]
  },
  {
   "cell_type": "code",
   "execution_count": 269,
   "metadata": {},
   "outputs": [],
   "source": [
    "df_global_mun = df_dst.merge(df_global_mun, on = 'Kom.nr', how = 'left')"
   ]
  },
  {
   "cell_type": "code",
   "execution_count": 270,
   "metadata": {},
   "outputs": [],
   "source": [
    "df_kom_reg = pd.read_csv('data/other/df_kom_reg.csv', sep = ';')\n",
    "df_kom_reg['Kom.nr'] = [int(x[:3]) for x in df_kom_reg['kommune']]\n",
    "df_kom_reg['region'] = [ str('Region') + x[4:] for x in df_kom_reg['region']]\n",
    "df_kom_reg = df_kom_reg[['Kom.nr', 'region']] \n",
    "df_kom_reg = df_kom_reg.drop_duplicates()\n",
    "\n",
    "df_global_mun = df_global_mun.merge(df_kom_reg, on = 'Kom.nr', how = 'left')"
   ]
  },
  {
   "cell_type": "code",
   "execution_count": 271,
   "metadata": {},
   "outputs": [],
   "source": [
    "correct_id = global_id(geo='dk')\n",
    "df_global_mun = df_global_mun.merge(correct_id, left_on = 'region', right_on = 'target', how = 'left')"
   ]
  },
  {
   "cell_type": "code",
   "execution_count": 272,
   "metadata": {},
   "outputs": [],
   "source": [
    "df_global_mun =df_global_mun[['Kom.nr','dst_name', 'dst_name_en','kom','region','ID']]"
   ]
  },
  {
   "cell_type": "code",
   "execution_count": 273,
   "metadata": {},
   "outputs": [],
   "source": [
    "df_global_mun.to_csv(r'data/other/df_global_mun_reg.csv', index = False)"
   ]
  },
  {
   "cell_type": "code",
   "execution_count": 274,
   "metadata": {},
   "outputs": [
    {
     "data": {
      "text/html": [
       "<div>\n",
       "<style scoped>\n",
       "    .dataframe tbody tr th:only-of-type {\n",
       "        vertical-align: middle;\n",
       "    }\n",
       "\n",
       "    .dataframe tbody tr th {\n",
       "        vertical-align: top;\n",
       "    }\n",
       "\n",
       "    .dataframe thead th {\n",
       "        text-align: right;\n",
       "    }\n",
       "</style>\n",
       "<table border=\"1\" class=\"dataframe\">\n",
       "  <thead>\n",
       "    <tr style=\"text-align: right;\">\n",
       "      <th></th>\n",
       "      <th>Kom.nr</th>\n",
       "      <th>dst_name</th>\n",
       "      <th>dst_name_en</th>\n",
       "      <th>kom</th>\n",
       "      <th>region</th>\n",
       "      <th>ID</th>\n",
       "    </tr>\n",
       "  </thead>\n",
       "  <tbody>\n",
       "    <tr>\n",
       "      <td>0</td>\n",
       "      <td>101</td>\n",
       "      <td>København</td>\n",
       "      <td>Copenhagen</td>\n",
       "      <td>Københavns Kommune</td>\n",
       "      <td>Region Hovedstaden</td>\n",
       "      <td>Capital</td>\n",
       "    </tr>\n",
       "    <tr>\n",
       "      <td>1</td>\n",
       "      <td>147</td>\n",
       "      <td>Frederiksberg</td>\n",
       "      <td>Frederiksberg</td>\n",
       "      <td>Frederiksberg Kommune</td>\n",
       "      <td>Region Hovedstaden</td>\n",
       "      <td>Capital</td>\n",
       "    </tr>\n",
       "    <tr>\n",
       "      <td>2</td>\n",
       "      <td>155</td>\n",
       "      <td>Dragør</td>\n",
       "      <td>Dragør</td>\n",
       "      <td>Dragør Kommune</td>\n",
       "      <td>Region Hovedstaden</td>\n",
       "      <td>Capital</td>\n",
       "    </tr>\n",
       "    <tr>\n",
       "      <td>3</td>\n",
       "      <td>185</td>\n",
       "      <td>Tårnby</td>\n",
       "      <td>Tårnby</td>\n",
       "      <td>Tårnby Kommune</td>\n",
       "      <td>Region Hovedstaden</td>\n",
       "      <td>Capital</td>\n",
       "    </tr>\n",
       "    <tr>\n",
       "      <td>4</td>\n",
       "      <td>165</td>\n",
       "      <td>Albertslund</td>\n",
       "      <td>Albertslund</td>\n",
       "      <td>Albertslund Kommune</td>\n",
       "      <td>Region Hovedstaden</td>\n",
       "      <td>Capital</td>\n",
       "    </tr>\n",
       "  </tbody>\n",
       "</table>\n",
       "</div>"
      ],
      "text/plain": [
       "   Kom.nr       dst_name    dst_name_en                    kom  \\\n",
       "0     101      København     Copenhagen     Københavns Kommune   \n",
       "1     147  Frederiksberg  Frederiksberg  Frederiksberg Kommune   \n",
       "2     155         Dragør         Dragør         Dragør Kommune   \n",
       "3     185         Tårnby         Tårnby         Tårnby Kommune   \n",
       "4     165    Albertslund    Albertslund    Albertslund Kommune   \n",
       "\n",
       "               region       ID  \n",
       "0  Region Hovedstaden  Capital  \n",
       "1  Region Hovedstaden  Capital  \n",
       "2  Region Hovedstaden  Capital  \n",
       "3  Region Hovedstaden  Capital  \n",
       "4  Region Hovedstaden  Capital  "
      ]
     },
     "execution_count": 274,
     "metadata": {},
     "output_type": "execute_result"
    }
   ],
   "source": [
    "df_global_mun.head()"
   ]
  },
  {
   "cell_type": "markdown",
   "metadata": {},
   "source": [
    "Choose language "
   ]
  },
  {
   "cell_type": "code",
   "execution_count": 275,
   "metadata": {},
   "outputs": [],
   "source": [
    "Dst = pydst.Dst(lang='en')\n",
    "\n",
    "# Request table with relevant parameters\n",
    "# https://www.dst.dk/da/Statistik/statistikbanken/api"
   ]
  },
  {
   "cell_type": "markdown",
   "metadata": {},
   "source": [
    "### Population"
   ]
  },
  {
   "cell_type": "markdown",
   "metadata": {},
   "source": [
    "Includes:\n",
    "1. Regional population\n",
    "1. Regional average age\n",
    "1. Regional population growth"
   ]
  },
  {
   "cell_type": "markdown",
   "metadata": {
    "toc-hr-collapsed": false
   },
   "source": [
    "#### Regional population"
   ]
  },
  {
   "cell_type": "markdown",
   "metadata": {},
   "source": [
    "##### Municipality population"
   ]
  },
  {
   "cell_type": "markdown",
   "metadata": {},
   "source": [
    "\n",
    "FOLK1A: FOLKETAL DEN 1. I KVARTALET EFTER OMRÅDE, KØN, ALDER OG CIVILSTAND"
   ]
  },
  {
   "cell_type": "code",
   "execution_count": 276,
   "metadata": {},
   "outputs": [],
   "source": [
    "Dst.get_data(table_id = 'FOLK1A')\n",
    "\n",
    "# Create dataframe\n",
    "df_reg_pop = Dst.get_data(table_id = 'FOLK1A', variables={'OMRÅDE':['081', '082', '083', '084', '085'], \n",
    "                                                         'KØN': ['TOT'], \n",
    "                                                         'ALDER':['IALT'],\n",
    "                                                         'CIVILSTAND':['TOT'],\n",
    "                                                        'Tid': ['*']}) "
   ]
  },
  {
   "cell_type": "code",
   "execution_count": 277,
   "metadata": {},
   "outputs": [],
   "source": [
    "df_reg_pop = df_reg_pop.drop(['KØN', 'ALDER', 'CIVILSTAND'], axis = 1)"
   ]
  },
  {
   "cell_type": "markdown",
   "metadata": {},
   "source": [
    "Merge on previous years"
   ]
  },
  {
   "cell_type": "code",
   "execution_count": 278,
   "metadata": {},
   "outputs": [],
   "source": [
    "Dst.get_data(table_id = 'BEF1A07')\n",
    "\n",
    "# Create dataframe\n",
    "df_reg_pop_2 = Dst.get_data(table_id = 'BEF1A07', variables={'OMRÅDE':['081', '082', '083', '084', '085'], \n",
    "                                                             'KOEN': ['*'],\n",
    "                                                             'CIVILSTAND': ['*'],\n",
    "                                                             'ALDER': ['*'],\n",
    "                                                             'Tid': ['*']}) "
   ]
  },
  {
   "cell_type": "code",
   "execution_count": 279,
   "metadata": {},
   "outputs": [],
   "source": [
    "df_reg_pop_2 = df_reg_pop_2.drop(['KOEN', 'ALDER', 'CIVILSTAND'], axis = 1)"
   ]
  },
  {
   "cell_type": "code",
   "execution_count": 280,
   "metadata": {},
   "outputs": [],
   "source": [
    "df_reg_pop_2 = df_reg_pop_2.groupby(['OMRÅDE', 'TID']).sum().reset_index()"
   ]
  },
  {
   "cell_type": "markdown",
   "metadata": {},
   "source": [
    "Correct date "
   ]
  },
  {
   "cell_type": "code",
   "execution_count": 281,
   "metadata": {},
   "outputs": [],
   "source": [
    "def quarter_to_month(df, date_variable = 'date', variable_names = ['HFUDD', 'TID', 'INDHOLD', 'ID'], group_by = ['ID','year'], orig_format = '%YK%m', to_format = 'month', from_format = 'quarter') :\n",
    "    \n",
    "    if (from_format == 'quarter' and to_format == 'month'):\n",
    "        df= pd.DataFrame(np.repeat(df.values,3, axis=0))\n",
    "    elif (from_format == 'year' and to_format == 'month'):\n",
    "        df= pd.DataFrame(np.repeat(df.values,12, axis=0))\n",
    "    variable_range = range(len(variable_names))\n",
    "    df = df.rename(index=str, columns={i:variable_names[i] for i in variable_range})\n",
    "    df['year'] = pd.to_datetime(df[date_variable], format=orig_format).dt.to_period('y')\n",
    "    df['month'] = df.groupby(group_by).cumcount()+1\n",
    "    df[date_variable] = pd.to_datetime(df.year.astype(str) + '-' + df.month.astype(str))\n",
    "    df= df.drop(['year', 'month'], axis = 1)\n",
    "    return(df)"
   ]
  },
  {
   "cell_type": "code",
   "execution_count": 282,
   "metadata": {},
   "outputs": [],
   "source": [
    "df_reg_pop = quarter_to_month(df = df_reg_pop, date_variable = 'TID', orig_format = '%YQ%m', to_format = 'month', from_format = 'quarter', variable_names = [ 'OMRÅDE', 'TID', 'INDHOLD'], group_by = ['OMRÅDE', 'year'])"
   ]
  },
  {
   "cell_type": "code",
   "execution_count": 283,
   "metadata": {},
   "outputs": [],
   "source": [
    "df_reg_pop_2 = quarter_to_month(df = df_reg_pop_2, date_variable = 'TID', orig_format = '%Y', to_format = 'month', from_format = 'year', variable_names = [ 'OMRÅDE', 'TID', 'INDHOLD'], group_by = ['OMRÅDE', 'year'])"
   ]
  },
  {
   "cell_type": "code",
   "execution_count": 284,
   "metadata": {},
   "outputs": [
    {
     "data": {
      "text/plain": [
       "<matplotlib.axes._subplots.AxesSubplot at 0x130e78470>"
      ]
     },
     "execution_count": 284,
     "metadata": {},
     "output_type": "execute_result"
    },
    {
     "data": {
      "image/png": "[encoded data removed]",
      "text/plain": [
       "<Figure size 432x288 with 1 Axes>"
      ]
     },
     "metadata": {
      "needs_background": "light"
     },
     "output_type": "display_data"
    }
   ],
   "source": [
    "df_reg_pop[df_reg_pop.OMRÅDE == 'Region Hovedstaden'][['TID', 'INDHOLD']].set_index('TID').plot()"
   ]
  },
  {
   "cell_type": "code",
   "execution_count": 285,
   "metadata": {},
   "outputs": [
    {
     "data": {
      "text/plain": [
       "<matplotlib.axes._subplots.AxesSubplot at 0x131cc5080>"
      ]
     },
     "execution_count": 285,
     "metadata": {},
     "output_type": "execute_result"
    },
    {
     "data": {
      "image/png": "[encoded data removed]",
      "text/plain": [
       "<Figure size 432x288 with 1 Axes>"
      ]
     },
     "metadata": {
      "needs_background": "light"
     },
     "output_type": "display_data"
    }
   ],
   "source": [
    "df_reg_pop_2[df_reg_pop_2.OMRÅDE == 'Region Hovedstaden'][['TID', 'INDHOLD']].set_index('TID').plot()"
   ]
  },
  {
   "cell_type": "markdown",
   "metadata": {},
   "source": [
    "Correct ID"
   ]
  },
  {
   "cell_type": "code",
   "execution_count": 286,
   "metadata": {},
   "outputs": [],
   "source": [
    "correct_id = global_id(geo='dk')\n",
    "df_reg_pop_2 = df_reg_pop_2.merge(correct_id[['target', 'ID']], left_on = 'OMRÅDE', right_on = 'target', how = 'left')\n",
    "df_reg_pop_2 =df_reg_pop_2[['TID', 'INDHOLD', 'ID']]"
   ]
  },
  {
   "cell_type": "code",
   "execution_count": 287,
   "metadata": {},
   "outputs": [],
   "source": [
    "correct_id = global_id(geo='dk')\n",
    "df_reg_pop = df_reg_pop.merge(correct_id[['target', 'ID']], left_on = 'OMRÅDE', right_on = 'target', how = 'left')\n",
    "df_reg_pop =df_reg_pop[['TID', 'INDHOLD', 'ID']]"
   ]
  },
  {
   "cell_type": "markdown",
   "metadata": {},
   "source": [
    "Shift the data "
   ]
  },
  {
   "cell_type": "code",
   "execution_count": 288,
   "metadata": {},
   "outputs": [],
   "source": [
    "df_reg_pop = df_reg_pop.rename(columns = {'TID': 'date', 'INDHOLD':'pop'})"
   ]
  },
  {
   "cell_type": "code",
   "execution_count": 289,
   "metadata": {},
   "outputs": [],
   "source": [
    "df_reg_pop = df_reg_pop.sort_values(by = ['date']) "
   ]
  },
  {
   "cell_type": "code",
   "execution_count": 290,
   "metadata": {},
   "outputs": [],
   "source": [
    "df_reg_pop['pop'] = df_reg_pop.groupby(['ID'])['pop'].shift(1)"
   ]
  },
  {
   "cell_type": "code",
   "execution_count": 291,
   "metadata": {},
   "outputs": [],
   "source": [
    "df_reg_pop_2 = df_reg_pop_2.rename(columns = {'TID': 'date', 'INDHOLD':'pop'})"
   ]
  },
  {
   "cell_type": "code",
   "execution_count": 292,
   "metadata": {},
   "outputs": [],
   "source": [
    "df_reg_pop_2 = df_reg_pop_2.sort_values(by = ['date']) "
   ]
  },
  {
   "cell_type": "code",
   "execution_count": 293,
   "metadata": {},
   "outputs": [],
   "source": [
    "df_reg_pop_2['pop'] = df_reg_pop_2.groupby(['ID'])['pop'].shift(1)"
   ]
  },
  {
   "cell_type": "code",
   "execution_count": 294,
   "metadata": {},
   "outputs": [],
   "source": [
    "df_reg_pop_2 = df_reg_pop_2[df_reg_pop_2['pop'].notnull()]\n",
    "df_reg_pop = df_reg_pop[df_reg_pop['pop'].notnull()]"
   ]
  },
  {
   "cell_type": "markdown",
   "metadata": {},
   "source": [
    "Concat the data "
   ]
  },
  {
   "cell_type": "code",
   "execution_count": 295,
   "metadata": {},
   "outputs": [
    {
     "data": {
      "text/plain": [
       "Timestamp('2005-02-01 00:00:00')"
      ]
     },
     "execution_count": 295,
     "metadata": {},
     "output_type": "execute_result"
    }
   ],
   "source": [
    "df_reg_pop_2.date.min()"
   ]
  },
  {
   "cell_type": "code",
   "execution_count": 296,
   "metadata": {},
   "outputs": [
    {
     "data": {
      "text/plain": [
       "Timestamp('2008-02-01 00:00:00')"
      ]
     },
     "execution_count": 296,
     "metadata": {},
     "output_type": "execute_result"
    }
   ],
   "source": [
    "df_reg_pop.date.min()"
   ]
  },
  {
   "cell_type": "code",
   "execution_count": 297,
   "metadata": {},
   "outputs": [
    {
     "data": {
      "text/plain": [
       "Timestamp('2009-12-01 00:00:00')"
      ]
     },
     "execution_count": 297,
     "metadata": {},
     "output_type": "execute_result"
    }
   ],
   "source": [
    "df_reg_pop_2.date.max()"
   ]
  },
  {
   "cell_type": "code",
   "execution_count": 298,
   "metadata": {},
   "outputs": [
    {
     "data": {
      "text/plain": [
       "Timestamp('2019-09-01 00:00:00')"
      ]
     },
     "execution_count": 298,
     "metadata": {},
     "output_type": "execute_result"
    }
   ],
   "source": [
    "df_reg_pop.date.max()"
   ]
  },
  {
   "cell_type": "code",
   "execution_count": 299,
   "metadata": {},
   "outputs": [],
   "source": [
    "df_reg_pop_2 = df_reg_pop_2[df_reg_pop_2.date < '2008-02-01']"
   ]
  },
  {
   "cell_type": "code",
   "execution_count": 300,
   "metadata": {},
   "outputs": [],
   "source": [
    "df_reg_pop = pd.concat([df_reg_pop_2, df_reg_pop])"
   ]
  },
  {
   "cell_type": "code",
   "execution_count": 301,
   "metadata": {},
   "outputs": [],
   "source": [
    "df_reg_pop.to_csv(r'data/other/df_reg_pop_new.csv', index = False)"
   ]
  },
  {
   "cell_type": "markdown",
   "metadata": {},
   "source": [
    "### Mun population "
   ]
  },
  {
   "cell_type": "code",
   "execution_count": 302,
   "metadata": {},
   "outputs": [],
   "source": [
    "Dst.get_data(table_id = 'FOLK1A')\n",
    "\n",
    "# Create dataframe\n",
    "df_reg_pop = Dst.get_data(table_id = 'FOLK1A', variables={'OMRÅDE':['*'], \n",
    "                                                         'KØN': ['TOT'], \n",
    "                                                         'ALDER':['IALT'],\n",
    "                                                         'CIVILSTAND':['TOT'],\n",
    "                                                        'Tid': ['*']}) "
   ]
  },
  {
   "cell_type": "code",
   "execution_count": 303,
   "metadata": {},
   "outputs": [],
   "source": [
    "df_reg_pop = df_reg_pop.drop(['KØN', 'ALDER', 'CIVILSTAND'], axis = 1)"
   ]
  },
  {
   "cell_type": "markdown",
   "metadata": {},
   "source": [
    "Merge on previous years"
   ]
  },
  {
   "cell_type": "code",
   "execution_count": 304,
   "metadata": {},
   "outputs": [],
   "source": [
    "Dst.get_data(table_id = 'BEF1A07')\n",
    "\n",
    "# Create dataframe\n",
    "df_reg_pop_2 = Dst.get_data(table_id = 'BEF1A07', variables={'OMRÅDE':['*'], \n",
    "                                                             'KOEN': ['*'],\n",
    "                                                             'CIVILSTAND': ['*'],\n",
    "                                                             'ALDER': ['*'],\n",
    "                                                             'Tid': ['*']}) "
   ]
  },
  {
   "cell_type": "code",
   "execution_count": 305,
   "metadata": {},
   "outputs": [],
   "source": [
    "df_reg_pop_2 = df_reg_pop_2.drop(['KOEN', 'ALDER', 'CIVILSTAND'], axis = 1)"
   ]
  },
  {
   "cell_type": "code",
   "execution_count": 306,
   "metadata": {},
   "outputs": [],
   "source": [
    "df_reg_pop_2 = df_reg_pop_2.groupby(['OMRÅDE', 'TID']).sum().reset_index()"
   ]
  },
  {
   "cell_type": "markdown",
   "metadata": {},
   "source": [
    "Correct date "
   ]
  },
  {
   "cell_type": "code",
   "execution_count": 307,
   "metadata": {},
   "outputs": [],
   "source": [
    "def quarter_to_month(df, date_variable = 'date', variable_names = ['HFUDD', 'TID', 'INDHOLD', 'ID'], group_by = ['ID','year'], orig_format = '%YK%m', to_format = 'month', from_format = 'quarter') :\n",
    "    \n",
    "    if (from_format == 'quarter' and to_format == 'month'):\n",
    "        df= pd.DataFrame(np.repeat(df.values,3, axis=0))\n",
    "    elif (from_format == 'year' and to_format == 'month'):\n",
    "        df= pd.DataFrame(np.repeat(df.values,12, axis=0))\n",
    "    variable_range = range(len(variable_names))\n",
    "    df = df.rename(index=str, columns={i:variable_names[i] for i in variable_range})\n",
    "    df['year'] = pd.to_datetime(df[date_variable], format=orig_format).dt.to_period('y')\n",
    "    df['month'] = df.groupby(group_by).cumcount()+1\n",
    "    df[date_variable] = pd.to_datetime(df.year.astype(str) + '-' + df.month.astype(str))\n",
    "    df= df.drop(['year', 'month'], axis = 1)\n",
    "    return(df)"
   ]
  },
  {
   "cell_type": "code",
   "execution_count": 308,
   "metadata": {},
   "outputs": [],
   "source": [
    "df_reg_pop = quarter_to_month(df = df_reg_pop, date_variable = 'TID', orig_format = '%YQ%m', to_format = 'month', from_format = 'quarter', variable_names = [ 'OMRÅDE', 'TID', 'INDHOLD'], group_by = ['OMRÅDE', 'year'])"
   ]
  },
  {
   "cell_type": "code",
   "execution_count": 309,
   "metadata": {},
   "outputs": [],
   "source": [
    "df_reg_pop_2 = quarter_to_month(df = df_reg_pop_2, date_variable = 'TID', orig_format = '%Y', to_format = 'month', from_format = 'year', variable_names = [ 'OMRÅDE', 'TID', 'INDHOLD'], group_by = ['OMRÅDE', 'year'])"
   ]
  },
  {
   "cell_type": "code",
   "execution_count": 310,
   "metadata": {},
   "outputs": [
    {
     "data": {
      "text/plain": [
       "<matplotlib.axes._subplots.AxesSubplot at 0x1326ceeb8>"
      ]
     },
     "execution_count": 310,
     "metadata": {},
     "output_type": "execute_result"
    },
    {
     "data": {
      "image/png": "[encoded data removed]",
      "text/plain": [
       "<Figure size 432x288 with 1 Axes>"
      ]
     },
     "metadata": {
      "needs_background": "light"
     },
     "output_type": "display_data"
    }
   ],
   "source": [
    "df_reg_pop[df_reg_pop.OMRÅDE == 'Region Hovedstaden'][['TID', 'INDHOLD']].set_index('TID').plot()"
   ]
  },
  {
   "cell_type": "code",
   "execution_count": 311,
   "metadata": {},
   "outputs": [
    {
     "data": {
      "text/plain": [
       "<matplotlib.axes._subplots.AxesSubplot at 0x13274c668>"
      ]
     },
     "execution_count": 311,
     "metadata": {},
     "output_type": "execute_result"
    },
    {
     "data": {
      "image/png": "[encoded data removed]",
      "text/plain": [
       "<Figure size 432x288 with 1 Axes>"
      ]
     },
     "metadata": {
      "needs_background": "light"
     },
     "output_type": "display_data"
    }
   ],
   "source": [
    "df_reg_pop_2[df_reg_pop_2.OMRÅDE == 'Region Hovedstaden'][['TID', 'INDHOLD']].set_index('TID').plot()"
   ]
  },
  {
   "cell_type": "markdown",
   "metadata": {},
   "source": [
    "Correct ID"
   ]
  },
  {
   "cell_type": "code",
   "execution_count": 312,
   "metadata": {},
   "outputs": [],
   "source": [
    "#correct_id = global_id(geo='dk')\n",
    "#df_reg_pop_2 = df_reg_pop_2.merge(correct_id[['target', 'ID']], left_on = 'OMRÅDE', right_on = 'target', how = 'left')\n",
    "#df_reg_pop_2 =df_reg_pop_2[['TID', 'INDHOLD', 'ID']]"
   ]
  },
  {
   "cell_type": "code",
   "execution_count": 313,
   "metadata": {},
   "outputs": [],
   "source": [
    "#correct_id = global_id(geo='dk')\n",
    "#df_reg_pop = df_reg_pop.merge(correct_id[['target', 'ID']], left_on = 'OMRÅDE', right_on = 'target', how = 'left')\n",
    "#df_reg_pop =df_reg_pop[['TID', 'INDHOLD', 'ID']]"
   ]
  },
  {
   "cell_type": "markdown",
   "metadata": {},
   "source": [
    "Shift the data "
   ]
  },
  {
   "cell_type": "code",
   "execution_count": 314,
   "metadata": {},
   "outputs": [],
   "source": [
    "df_reg_pop = df_reg_pop.rename(columns = {'TID': 'date', 'INDHOLD':'pop'})"
   ]
  },
  {
   "cell_type": "code",
   "execution_count": 315,
   "metadata": {},
   "outputs": [],
   "source": [
    "df_reg_pop = df_reg_pop.sort_values(by = ['date']) "
   ]
  },
  {
   "cell_type": "code",
   "execution_count": 316,
   "metadata": {},
   "outputs": [
    {
     "data": {
      "text/html": [
       "<div>\n",
       "<style scoped>\n",
       "    .dataframe tbody tr th:only-of-type {\n",
       "        vertical-align: middle;\n",
       "    }\n",
       "\n",
       "    .dataframe tbody tr th {\n",
       "        vertical-align: top;\n",
       "    }\n",
       "\n",
       "    .dataframe thead th {\n",
       "        text-align: right;\n",
       "    }\n",
       "</style>\n",
       "<table border=\"1\" class=\"dataframe\">\n",
       "  <thead>\n",
       "    <tr style=\"text-align: right;\">\n",
       "      <th></th>\n",
       "      <th>OMRÅDE</th>\n",
       "      <th>date</th>\n",
       "      <th>pop</th>\n",
       "    </tr>\n",
       "  </thead>\n",
       "  <tbody>\n",
       "    <tr>\n",
       "      <td>1236</td>\n",
       "      <td>Kerteminde</td>\n",
       "      <td>2008-01-01</td>\n",
       "      <td>23668</td>\n",
       "    </tr>\n",
       "    <tr>\n",
       "      <td>2298</td>\n",
       "      <td>Ikast-Brande</td>\n",
       "      <td>2008-01-01</td>\n",
       "      <td>40138</td>\n",
       "    </tr>\n",
       "    <tr>\n",
       "      <td>2133</td>\n",
       "      <td>Skanderborg</td>\n",
       "      <td>2008-01-01</td>\n",
       "      <td>56308</td>\n",
       "    </tr>\n",
       "    <tr>\n",
       "      <td>3633</td>\n",
       "      <td>Region Hovedstaden</td>\n",
       "      <td>2008-01-01</td>\n",
       "      <td>1650985</td>\n",
       "    </tr>\n",
       "    <tr>\n",
       "      <td>1113</td>\n",
       "      <td>Odense</td>\n",
       "      <td>2008-01-01</td>\n",
       "      <td>186932</td>\n",
       "    </tr>\n",
       "    <tr>\n",
       "      <td>...</td>\n",
       "      <td>...</td>\n",
       "      <td>...</td>\n",
       "      <td>...</td>\n",
       "    </tr>\n",
       "    <tr>\n",
       "      <td>14651</td>\n",
       "      <td>Norddjurs</td>\n",
       "      <td>2019-09-01</td>\n",
       "      <td>37613</td>\n",
       "    </tr>\n",
       "    <tr>\n",
       "      <td>14654</td>\n",
       "      <td>Thisted</td>\n",
       "      <td>2019-09-01</td>\n",
       "      <td>43584</td>\n",
       "    </tr>\n",
       "    <tr>\n",
       "      <td>14657</td>\n",
       "      <td>Halsnæs</td>\n",
       "      <td>2019-09-01</td>\n",
       "      <td>31395</td>\n",
       "    </tr>\n",
       "    <tr>\n",
       "      <td>14636</td>\n",
       "      <td>Christiansø</td>\n",
       "      <td>2019-09-01</td>\n",
       "      <td>83</td>\n",
       "    </tr>\n",
       "    <tr>\n",
       "      <td>14804</td>\n",
       "      <td>Frederikshavn</td>\n",
       "      <td>2019-09-01</td>\n",
       "      <td>59960</td>\n",
       "    </tr>\n",
       "  </tbody>\n",
       "</table>\n",
       "<p>14805 rows × 3 columns</p>\n",
       "</div>"
      ],
      "text/plain": [
       "                   OMRÅDE       date      pop\n",
       "1236           Kerteminde 2008-01-01    23668\n",
       "2298         Ikast-Brande 2008-01-01    40138\n",
       "2133          Skanderborg 2008-01-01    56308\n",
       "3633   Region Hovedstaden 2008-01-01  1650985\n",
       "1113               Odense 2008-01-01   186932\n",
       "...                   ...        ...      ...\n",
       "14651           Norddjurs 2019-09-01    37613\n",
       "14654             Thisted 2019-09-01    43584\n",
       "14657             Halsnæs 2019-09-01    31395\n",
       "14636         Christiansø 2019-09-01       83\n",
       "14804       Frederikshavn 2019-09-01    59960\n",
       "\n",
       "[14805 rows x 3 columns]"
      ]
     },
     "execution_count": 316,
     "metadata": {},
     "output_type": "execute_result"
    }
   ],
   "source": [
    "df_reg_pop"
   ]
  },
  {
   "cell_type": "code",
   "execution_count": 317,
   "metadata": {},
   "outputs": [],
   "source": [
    "df_reg_pop['pop'] = df_reg_pop.groupby(['OMRÅDE'])['pop'].shift(1)"
   ]
  },
  {
   "cell_type": "code",
   "execution_count": 318,
   "metadata": {},
   "outputs": [],
   "source": [
    "df_reg_pop_2 = df_reg_pop_2.rename(columns = {'TID': 'date', 'INDHOLD':'pop'})"
   ]
  },
  {
   "cell_type": "code",
   "execution_count": 319,
   "metadata": {},
   "outputs": [],
   "source": [
    "df_reg_pop_2 = df_reg_pop_2.sort_values(by = ['date']) "
   ]
  },
  {
   "cell_type": "code",
   "execution_count": 320,
   "metadata": {},
   "outputs": [],
   "source": [
    "df_reg_pop_2['pop'] = df_reg_pop_2.groupby(['OMRÅDE'])['pop'].shift(1)"
   ]
  },
  {
   "cell_type": "code",
   "execution_count": 321,
   "metadata": {},
   "outputs": [],
   "source": [
    "df_reg_pop_2 = df_reg_pop_2[df_reg_pop_2['pop'].notnull()]\n",
    "df_reg_pop = df_reg_pop[df_reg_pop['pop'].notnull()]"
   ]
  },
  {
   "cell_type": "markdown",
   "metadata": {},
   "source": [
    "Concat the data "
   ]
  },
  {
   "cell_type": "code",
   "execution_count": 322,
   "metadata": {},
   "outputs": [
    {
     "data": {
      "text/plain": [
       "Timestamp('2005-02-01 00:00:00')"
      ]
     },
     "execution_count": 322,
     "metadata": {},
     "output_type": "execute_result"
    }
   ],
   "source": [
    "df_reg_pop_2.date.min()"
   ]
  },
  {
   "cell_type": "code",
   "execution_count": 323,
   "metadata": {},
   "outputs": [
    {
     "data": {
      "text/plain": [
       "Timestamp('2008-02-01 00:00:00')"
      ]
     },
     "execution_count": 323,
     "metadata": {},
     "output_type": "execute_result"
    }
   ],
   "source": [
    "df_reg_pop.date.min()"
   ]
  },
  {
   "cell_type": "code",
   "execution_count": 324,
   "metadata": {},
   "outputs": [
    {
     "data": {
      "text/plain": [
       "Timestamp('2009-12-01 00:00:00')"
      ]
     },
     "execution_count": 324,
     "metadata": {},
     "output_type": "execute_result"
    }
   ],
   "source": [
    "df_reg_pop_2.date.max()"
   ]
  },
  {
   "cell_type": "code",
   "execution_count": 325,
   "metadata": {},
   "outputs": [
    {
     "data": {
      "text/plain": [
       "Timestamp('2019-09-01 00:00:00')"
      ]
     },
     "execution_count": 325,
     "metadata": {},
     "output_type": "execute_result"
    }
   ],
   "source": [
    "df_reg_pop.date.max()"
   ]
  },
  {
   "cell_type": "code",
   "execution_count": 326,
   "metadata": {},
   "outputs": [],
   "source": [
    "df_reg_pop_2 = df_reg_pop_2[df_reg_pop_2.date < '2008-02-01']"
   ]
  },
  {
   "cell_type": "code",
   "execution_count": 327,
   "metadata": {},
   "outputs": [],
   "source": [
    "df_reg_pop = pd.concat([df_reg_pop_2, df_reg_pop])"
   ]
  },
  {
   "cell_type": "markdown",
   "metadata": {},
   "source": [
    "remove regions"
   ]
  },
  {
   "cell_type": "code",
   "execution_count": 328,
   "metadata": {},
   "outputs": [],
   "source": [
    "df_mun_pop = df_reg_pop[~df_reg_pop.OMRÅDE.isin(['Region Syddanmark', 'Region Midtjylland', 'Region Hovedstaden', 'Region Sjælland', 'Region Nordjylland', 'All Denmark'])]"
   ]
  },
  {
   "cell_type": "code",
   "execution_count": 329,
   "metadata": {},
   "outputs": [],
   "source": [
    "df_mun_pop.to_csv(r'data/other/df_mun_pop_new.csv', index = False)"
   ]
  },
  {
   "cell_type": "markdown",
   "metadata": {},
   "source": [
    "### OLD population statistics"
   ]
  },
  {
   "cell_type": "markdown",
   "metadata": {},
   "source": [
    "Retrieve data "
   ]
  },
  {
   "cell_type": "code",
   "execution_count": 52,
   "metadata": {},
   "outputs": [],
   "source": [
    "# Retrieve 2007Q1\n",
    "df_mun_pop_extra = Dst.get_data(table_id = 'BEV22', variables={'OMRÅDE':['*'], \n",
    "                                                             'BEVÆGELSE' : ['B01K'],\n",
    "                                                             'KØN': ['*'], \n",
    "                                                             'Tid':['2007K2']}) "
   ]
  },
  {
   "cell_type": "code",
   "execution_count": 53,
   "metadata": {},
   "outputs": [],
   "source": [
    "df_mun_pop_extra['TID'] = \"2007Q1\""
   ]
  },
  {
   "cell_type": "code",
   "execution_count": 54,
   "metadata": {},
   "outputs": [],
   "source": [
    "# Concat \n",
    "df_mun_pop = pd.concat([df_mun_pop, df_mun_pop_extra])"
   ]
  },
  {
   "cell_type": "code",
   "execution_count": 55,
   "metadata": {},
   "outputs": [],
   "source": [
    "df_mun_pop = df_mun_pop.groupby(['OMRÅDE', 'BEVÆGELSE', 'TID']).sum().reset_index()\n",
    "df_mun_pop_temp = df_mun_pop.copy()"
   ]
  },
  {
   "cell_type": "code",
   "execution_count": 56,
   "metadata": {},
   "outputs": [],
   "source": [
    "df_mun_pop= df_mun_pop.drop(['BEVÆGELSE'], axis=1)\n",
    "df_mun_pop = df_mun_pop.sort_values(by=['OMRÅDE', \"TID\"])"
   ]
  },
  {
   "cell_type": "markdown",
   "metadata": {},
   "source": [
    "Correct date format"
   ]
  },
  {
   "cell_type": "code",
   "execution_count": 57,
   "metadata": {},
   "outputs": [],
   "source": [
    "def quarter_to_month(df, date_variable = 'date', variable_names = ['HFUDD', 'TID', 'INDHOLD', 'ID'], group_by = ['ID','year'], orig_format = '%YK%m', to_format = 'month', from_format = 'quarter') :\n",
    "    \n",
    "    if (from_format == 'quarter' and to_format == 'month'):\n",
    "        df= pd.DataFrame(np.repeat(df.values,3, axis=0))\n",
    "    elif (from_format == 'year' and to_format == 'month'):\n",
    "        df= pd.DataFrame(np.repeat(df.values,12, axis=0))\n",
    "    variable_range = range(len(variable_names))\n",
    "    df = df.rename(index=str, columns={i:variable_names[i] for i in variable_range})\n",
    "    df['year'] = pd.to_datetime(df[date_variable], format=orig_format).dt.to_period('y')\n",
    "    df['month'] = df.groupby(group_by).cumcount()+1\n",
    "    df[date_variable] = pd.to_datetime(df.year.astype(str) + '-' + df.month.astype(str))\n",
    "    df= df.drop(['year', 'month'], axis = 1)\n",
    "    return(df)"
   ]
  },
  {
   "cell_type": "code",
   "execution_count": 58,
   "metadata": {},
   "outputs": [],
   "source": [
    "df_mun_pop = quarter_to_month(df = df_mun_pop, date_variable = 'TID', orig_format = '%YQ%m', to_format = 'month', from_format = 'quarter', variable_names = [ 'OMRÅDE', 'TID', 'INDHOLD'], group_by = ['OMRÅDE', 'year'])"
   ]
  },
  {
   "cell_type": "markdown",
   "metadata": {},
   "source": [
    "Shift data correct (6 months)"
   ]
  },
  {
   "cell_type": "code",
   "execution_count": 59,
   "metadata": {},
   "outputs": [],
   "source": [
    "mun = df_mun_pop.OMRÅDE.value_counts().index.tolist()\n",
    "new_date = [datetime.datetime(2019, 7, 1),datetime.datetime(2019, 8, 1),datetime.datetime(2019, 9, 1)]"
   ]
  },
  {
   "cell_type": "code",
   "execution_count": 60,
   "metadata": {},
   "outputs": [],
   "source": [
    "df= pd.DataFrame()\n",
    "\n",
    "for m in mun:\n",
    "    for new in new_date:\n",
    "        df = df.append({'OMRÅDE': m, 'TID': new, 'INDHOLD': np.nan}, ignore_index=True)\n",
    "df = df[['OMRÅDE','TID','INDHOLD']]"
   ]
  },
  {
   "cell_type": "code",
   "execution_count": 61,
   "metadata": {},
   "outputs": [],
   "source": [
    "df_mun_pop = df_mun_pop.append(df)"
   ]
  },
  {
   "cell_type": "code",
   "execution_count": 62,
   "metadata": {},
   "outputs": [],
   "source": [
    "df_mun_pop['INDHOLD']  = df_mun_pop.groupby(['OMRÅDE'])['INDHOLD'].shift(6)"
   ]
  },
  {
   "cell_type": "code",
   "execution_count": 63,
   "metadata": {},
   "outputs": [
    {
     "data": {
      "text/html": [
       "<div>\n",
       "<style scoped>\n",
       "    .dataframe tbody tr th:only-of-type {\n",
       "        vertical-align: middle;\n",
       "    }\n",
       "\n",
       "    .dataframe tbody tr th {\n",
       "        vertical-align: top;\n",
       "    }\n",
       "\n",
       "    .dataframe thead th {\n",
       "        text-align: right;\n",
       "    }\n",
       "</style>\n",
       "<table border=\"1\" class=\"dataframe\">\n",
       "  <thead>\n",
       "    <tr style=\"text-align: right;\">\n",
       "      <th></th>\n",
       "      <th>OMRÅDE</th>\n",
       "      <th>TID</th>\n",
       "      <th>INDHOLD</th>\n",
       "    </tr>\n",
       "  </thead>\n",
       "  <tbody>\n",
       "    <tr>\n",
       "      <td>0</td>\n",
       "      <td>Aabenraa</td>\n",
       "      <td>2007-01-01</td>\n",
       "      <td>NaN</td>\n",
       "    </tr>\n",
       "    <tr>\n",
       "      <td>1</td>\n",
       "      <td>Aabenraa</td>\n",
       "      <td>2007-02-01</td>\n",
       "      <td>NaN</td>\n",
       "    </tr>\n",
       "    <tr>\n",
       "      <td>2</td>\n",
       "      <td>Aabenraa</td>\n",
       "      <td>2007-03-01</td>\n",
       "      <td>NaN</td>\n",
       "    </tr>\n",
       "    <tr>\n",
       "      <td>3</td>\n",
       "      <td>Aabenraa</td>\n",
       "      <td>2007-04-01</td>\n",
       "      <td>NaN</td>\n",
       "    </tr>\n",
       "    <tr>\n",
       "      <td>4</td>\n",
       "      <td>Aabenraa</td>\n",
       "      <td>2007-05-01</td>\n",
       "      <td>NaN</td>\n",
       "    </tr>\n",
       "    <tr>\n",
       "      <td>...</td>\n",
       "      <td>...</td>\n",
       "      <td>...</td>\n",
       "      <td>...</td>\n",
       "    </tr>\n",
       "    <tr>\n",
       "      <td>292</td>\n",
       "      <td>Brønderslev</td>\n",
       "      <td>2019-08-01</td>\n",
       "      <td>36339</td>\n",
       "    </tr>\n",
       "    <tr>\n",
       "      <td>293</td>\n",
       "      <td>Brønderslev</td>\n",
       "      <td>2019-09-01</td>\n",
       "      <td>36339</td>\n",
       "    </tr>\n",
       "    <tr>\n",
       "      <td>294</td>\n",
       "      <td>Holstebro</td>\n",
       "      <td>2019-07-01</td>\n",
       "      <td>58525</td>\n",
       "    </tr>\n",
       "    <tr>\n",
       "      <td>295</td>\n",
       "      <td>Holstebro</td>\n",
       "      <td>2019-08-01</td>\n",
       "      <td>58525</td>\n",
       "    </tr>\n",
       "    <tr>\n",
       "      <td>296</td>\n",
       "      <td>Holstebro</td>\n",
       "      <td>2019-09-01</td>\n",
       "      <td>58525</td>\n",
       "    </tr>\n",
       "  </tbody>\n",
       "</table>\n",
       "<p>15147 rows × 3 columns</p>\n",
       "</div>"
      ],
      "text/plain": [
       "          OMRÅDE        TID INDHOLD\n",
       "0       Aabenraa 2007-01-01     NaN\n",
       "1       Aabenraa 2007-02-01     NaN\n",
       "2       Aabenraa 2007-03-01     NaN\n",
       "3       Aabenraa 2007-04-01     NaN\n",
       "4       Aabenraa 2007-05-01     NaN\n",
       "..           ...        ...     ...\n",
       "292  Brønderslev 2019-08-01   36339\n",
       "293  Brønderslev 2019-09-01   36339\n",
       "294    Holstebro 2019-07-01   58525\n",
       "295    Holstebro 2019-08-01   58525\n",
       "296    Holstebro 2019-09-01   58525\n",
       "\n",
       "[15147 rows x 3 columns]"
      ]
     },
     "execution_count": 63,
     "metadata": {},
     "output_type": "execute_result"
    }
   ],
   "source": [
    "df_mun_pop"
   ]
  },
  {
   "cell_type": "code",
   "execution_count": 111,
   "metadata": {},
   "outputs": [],
   "source": [
    "df_mun_pop.to_csv(r'data/other/df_mun_pop.csv', index = False)"
   ]
  },
  {
   "cell_type": "markdown",
   "metadata": {},
   "source": [
    "Correct region format "
   ]
  },
  {
   "cell_type": "code",
   "execution_count": 112,
   "metadata": {},
   "outputs": [],
   "source": [
    "df_pop = df_mun_pop.merge(df_global_mun[['dst_name_en', 'ID']], left_on = 'OMRÅDE', right_on = 'dst_name_en', how = 'left')\n",
    "df_pop = df_pop[['TID', 'INDHOLD', 'ID']]"
   ]
  },
  {
   "cell_type": "code",
   "execution_count": 113,
   "metadata": {},
   "outputs": [],
   "source": [
    "df_pop = df_pop.groupby(['TID', 'ID']).sum().reset_index()"
   ]
  },
  {
   "cell_type": "markdown",
   "metadata": {},
   "source": [
    "Check result"
   ]
  },
  {
   "cell_type": "code",
   "execution_count": 114,
   "metadata": {},
   "outputs": [
    {
     "data": {
      "text/plain": [
       "(765, 3)"
      ]
     },
     "execution_count": 114,
     "metadata": {},
     "output_type": "execute_result"
    }
   ],
   "source": [
    "df_pop.shape"
   ]
  },
  {
   "cell_type": "code",
   "execution_count": 115,
   "metadata": {},
   "outputs": [
    {
     "data": {
      "text/plain": [
       "(15147, 3)"
      ]
     },
     "execution_count": 115,
     "metadata": {},
     "output_type": "execute_result"
    }
   ],
   "source": [
    "df_mun_pop.shape"
   ]
  },
  {
   "cell_type": "markdown",
   "metadata": {},
   "source": [
    "Save result"
   ]
  },
  {
   "cell_type": "code",
   "execution_count": 116,
   "metadata": {},
   "outputs": [],
   "source": [
    "df_pop.to_csv(r'data/other/df_reg_pop.csv', index = False)"
   ]
  },
  {
   "cell_type": "markdown",
   "metadata": {},
   "source": [
    "#### Regional average age - skipped"
   ]
  },
  {
   "cell_type": "markdown",
   "metadata": {},
   "source": [
    "GALDER: Average age 1. January by municipality and sex (2005-2019)"
   ]
  },
  {
   "cell_type": "code",
   "execution_count": 131,
   "metadata": {},
   "outputs": [],
   "source": [
    "Dst.get_data(table_id = 'GALDER')\n",
    "\n",
    "# Create dataframe\n",
    "df_reg_avg_age = Dst.get_data(table_id = 'GALDER', variables={'KOMK':['081', '082', '083', '084', '085'], \n",
    "                                                             'KØN': ['TOT'], \n",
    "                                                             'TID':['*']}) \n",
    "\n",
    "df_reg_avg_age= df_reg_avg_age.drop(['KØN'], axis=1)"
   ]
  },
  {
   "cell_type": "markdown",
   "metadata": {},
   "source": [
    "Correct Region format"
   ]
  },
  {
   "cell_type": "code",
   "execution_count": 132,
   "metadata": {},
   "outputs": [],
   "source": [
    "correct_id = global_id(geo='dk')\n",
    "df_reg_avg_age = df_reg_avg_age.merge(correct_id[['target', 'ID']], left_on = 'KOMK', right_on = 'target', how = 'left')\n",
    "df_reg_avg_age = df_reg_avg_age[['TID', 'INDHOLD', 'ID']]"
   ]
  },
  {
   "cell_type": "markdown",
   "metadata": {},
   "source": [
    "Correct date format "
   ]
  },
  {
   "cell_type": "code",
   "execution_count": 133,
   "metadata": {},
   "outputs": [],
   "source": [
    "df_reg_avg_age = df_reg_avg_age.drop_duplicates()"
   ]
  },
  {
   "cell_type": "code",
   "execution_count": 134,
   "metadata": {},
   "outputs": [],
   "source": [
    "df_reg_avg_age = quarter_to_month(df = df_reg_avg_age, date_variable = 'TID', orig_format = '%Y', to_format = 'month', from_format = 'year', variable_names = [ 'TID', 'INDHOLD', 'ID'])"
   ]
  },
  {
   "cell_type": "code",
   "execution_count": 135,
   "metadata": {},
   "outputs": [
    {
     "data": {
      "text/html": [
       "<div>\n",
       "<style scoped>\n",
       "    .dataframe tbody tr th:only-of-type {\n",
       "        vertical-align: middle;\n",
       "    }\n",
       "\n",
       "    .dataframe tbody tr th {\n",
       "        vertical-align: top;\n",
       "    }\n",
       "\n",
       "    .dataframe thead th {\n",
       "        text-align: right;\n",
       "    }\n",
       "</style>\n",
       "<table border=\"1\" class=\"dataframe\">\n",
       "  <thead>\n",
       "    <tr style=\"text-align: right;\">\n",
       "      <th></th>\n",
       "      <th>date</th>\n",
       "      <th>avg_age</th>\n",
       "      <th>ID</th>\n",
       "    </tr>\n",
       "  </thead>\n",
       "  <tbody>\n",
       "    <tr>\n",
       "      <td>0</td>\n",
       "      <td>2005-01-01</td>\n",
       "      <td>40.2</td>\n",
       "      <td>North Denmark</td>\n",
       "    </tr>\n",
       "    <tr>\n",
       "      <td>1</td>\n",
       "      <td>2005-02-01</td>\n",
       "      <td>40.2</td>\n",
       "      <td>North Denmark</td>\n",
       "    </tr>\n",
       "    <tr>\n",
       "      <td>2</td>\n",
       "      <td>2005-03-01</td>\n",
       "      <td>40.2</td>\n",
       "      <td>North Denmark</td>\n",
       "    </tr>\n",
       "    <tr>\n",
       "      <td>3</td>\n",
       "      <td>2005-04-01</td>\n",
       "      <td>40.2</td>\n",
       "      <td>North Denmark</td>\n",
       "    </tr>\n",
       "    <tr>\n",
       "      <td>4</td>\n",
       "      <td>2005-05-01</td>\n",
       "      <td>40.2</td>\n",
       "      <td>North Denmark</td>\n",
       "    </tr>\n",
       "  </tbody>\n",
       "</table>\n",
       "</div>"
      ],
      "text/plain": [
       "        date avg_age             ID\n",
       "0 2005-01-01    40.2  North Denmark\n",
       "1 2005-02-01    40.2  North Denmark\n",
       "2 2005-03-01    40.2  North Denmark\n",
       "3 2005-04-01    40.2  North Denmark\n",
       "4 2005-05-01    40.2  North Denmark"
      ]
     },
     "execution_count": 135,
     "metadata": {},
     "output_type": "execute_result"
    }
   ],
   "source": [
    "df_reg_avg_age =df_reg_avg_age.rename(columns={\"TID\": \"date\", \"INDHOLD\": \"avg_age\"})\n",
    "df_reg_avg_age.head()"
   ]
  },
  {
   "cell_type": "code",
   "execution_count": null,
   "metadata": {},
   "outputs": [],
   "source": []
  },
  {
   "cell_type": "markdown",
   "metadata": {},
   "source": [
    "Shift data correct"
   ]
  },
  {
   "cell_type": "code",
   "execution_count": 1687,
   "metadata": {},
   "outputs": [],
   "source": [
    "df_reg_avg_age['avg_age']  = df_reg_avg_age.groupby(['ID'])['avg_age'].shift(3)"
   ]
  },
  {
   "cell_type": "markdown",
   "metadata": {},
   "source": [
    "Save result "
   ]
  },
  {
   "cell_type": "code",
   "execution_count": 1688,
   "metadata": {},
   "outputs": [],
   "source": [
    "df_reg_avg_age.to_csv(r'data/other/df_reg_avg_age.csv', index = False)"
   ]
  },
  {
   "cell_type": "markdown",
   "metadata": {},
   "source": [
    "### Regional population"
   ]
  },
  {
   "cell_type": "markdown",
   "metadata": {},
   "source": [
    "BEV22: Summary vital statistics (provisional data) by region, type of movement and sex (2007Q2-2019Q2)"
   ]
  },
  {
   "cell_type": "code",
   "execution_count": 117,
   "metadata": {},
   "outputs": [],
   "source": [
    "Dst.get_data(table_id = 'BEV22')\n",
    "\n",
    "# Create dataframe\n",
    "df_mun_pop_growth = Dst.get_data(table_id = 'BEV22', variables={'OMRÅDE':['*'], \n",
    "                                                             'BEVÆGELSE' : ['B11'],\n",
    "                                                             'KØN': ['*'], \n",
    "                                                             'Tid':['*']}) \n"
   ]
  },
  {
   "cell_type": "code",
   "execution_count": 118,
   "metadata": {},
   "outputs": [],
   "source": [
    "df_mun_pop_growth = df_mun_pop_growth.groupby(['OMRÅDE', 'BEVÆGELSE', 'TID']).sum().reset_index()\n",
    "df_mun_pop_growth= df_mun_pop_growth.drop(['BEVÆGELSE'], axis=1)\n",
    "df_mun_pop_growth = df_mun_pop_growth.sort_values(by=['OMRÅDE', \"TID\"])"
   ]
  },
  {
   "cell_type": "code",
   "execution_count": 119,
   "metadata": {},
   "outputs": [],
   "source": [
    "df_mun_pop_growth = quarter_to_month(df = df_mun_pop_growth, date_variable = 'TID', orig_format = '%YQ%m', to_format = 'month', from_format = 'quarter', variable_names = [ 'OMRÅDE', 'TID', 'INDHOLD'], group_by = ['OMRÅDE', 'year'])"
   ]
  },
  {
   "cell_type": "markdown",
   "metadata": {},
   "source": [
    "Correct region format "
   ]
  },
  {
   "cell_type": "code",
   "execution_count": 120,
   "metadata": {},
   "outputs": [],
   "source": [
    "df_pop_growth = df_mun_pop_growth.merge(df_global_mun[['dst_name', 'ID']], left_on = 'OMRÅDE', right_on = 'dst_name', how = 'left')\n",
    "df_pop_growth = df_pop_growth[['TID', 'INDHOLD', 'ID']]\n",
    "df_pop_growth = df_pop_growth.groupby(['TID', 'ID']).sum().reset_index()"
   ]
  },
  {
   "cell_type": "markdown",
   "metadata": {},
   "source": [
    "Correct shift (6 months)"
   ]
  },
  {
   "cell_type": "code",
   "execution_count": 121,
   "metadata": {},
   "outputs": [
    {
     "data": {
      "text/plain": [
       "Timestamp('2019-06-01 00:00:00')"
      ]
     },
     "execution_count": 121,
     "metadata": {},
     "output_type": "execute_result"
    }
   ],
   "source": [
    "df_pop_growth.TID.max()"
   ]
  },
  {
   "cell_type": "code",
   "execution_count": 122,
   "metadata": {},
   "outputs": [
    {
     "data": {
      "text/plain": [
       "['TID', 'ID', 'INDHOLD']"
      ]
     },
     "execution_count": 122,
     "metadata": {},
     "output_type": "execute_result"
    }
   ],
   "source": [
    "list(df_pop_growth)"
   ]
  },
  {
   "cell_type": "code",
   "execution_count": 123,
   "metadata": {},
   "outputs": [],
   "source": [
    "mun = df_pop_growth.ID.value_counts().index.tolist()\n",
    "new_date = [datetime.datetime(2019, 7, 1),datetime.datetime(2019, 8, 1),datetime.datetime(2019, 9, 1)]"
   ]
  },
  {
   "cell_type": "code",
   "execution_count": 124,
   "metadata": {},
   "outputs": [],
   "source": [
    "df= pd.DataFrame()\n",
    "\n",
    "for m in mun:\n",
    "    for new in new_date:\n",
    "        df = df.append({'ID': m, 'TID': new, 'INDHOLD': np.nan}, ignore_index=True)\n",
    "df = df[['TID','ID', 'INDHOLD']]"
   ]
  },
  {
   "cell_type": "code",
   "execution_count": 125,
   "metadata": {},
   "outputs": [],
   "source": [
    "df_pop_growth = df_pop_growth.append(df)"
   ]
  },
  {
   "cell_type": "code",
   "execution_count": 126,
   "metadata": {},
   "outputs": [],
   "source": [
    "df_pop_growth['INDHOLD']  = df_pop_growth.groupby(['ID'])['INDHOLD'].shift(6)"
   ]
  },
  {
   "cell_type": "code",
   "execution_count": 127,
   "metadata": {},
   "outputs": [],
   "source": [
    "df_pop_growth.to_csv(r'data/other/df_pop_growth.csv', index = False)"
   ]
  },
  {
   "cell_type": "markdown",
   "metadata": {},
   "source": [
    "### Share of population in labour force "
   ]
  },
  {
   "cell_type": "markdown",
   "metadata": {},
   "source": [
    "Retrieve labour force "
   ]
  },
  {
   "cell_type": "code",
   "execution_count": 330,
   "metadata": {},
   "outputs": [],
   "source": [
    "## choose language \n",
    "Dst = pydst.Dst(lang='en')\n",
    "\n",
    "# Request table with relevant parameters\n",
    "# https://www.dst.dk/da/Statistik/statistikbanken/api\n",
    "Dst.get_data(table_id = 'AUS08')\n",
    "\n",
    "# Seasonally adjusted figures in percent of the labour force\n",
    "# Create dataframe\n",
    "df_labour_force = Dst.get_data(table_id = 'AUS08', variables={'OMRÅDE':['081', '082', '083', '084', '085'], 'TID':['*'], 'SAESONFAK': ['22']}) \n",
    "\n",
    "df_labour_force_2 = Dst.get_data(table_id = 'AUS08', variables={'OMRÅDE':['081', '082', '083', '084', '085'], 'TID':['*'], 'SAESONFAK': ['24']}) "
   ]
  },
  {
   "cell_type": "code",
   "execution_count": 331,
   "metadata": {},
   "outputs": [],
   "source": [
    "df_labour_force = df_labour_force.drop(['SAESONFAK'], axis=1)\n",
    "df_labour_force_2 = df_labour_force_2.drop(['SAESONFAK'], axis=1)"
   ]
  },
  {
   "cell_type": "markdown",
   "metadata": {},
   "source": [
    "Left join"
   ]
  },
  {
   "cell_type": "code",
   "execution_count": 332,
   "metadata": {},
   "outputs": [],
   "source": [
    "df_labour_force = df_labour_force.merge(df_labour_force_2, on = ['TID', 'OMRÅDE'])"
   ]
  },
  {
   "cell_type": "code",
   "execution_count": 333,
   "metadata": {},
   "outputs": [],
   "source": [
    "df_labour_force = df_labour_force.rename(columns = {'INDHOLD_x': 'unemp', 'INDHOLD_y': 'actual', 'TID': 'date'})"
   ]
  },
  {
   "cell_type": "markdown",
   "metadata": {},
   "source": [
    "Get full unemployment"
   ]
  },
  {
   "cell_type": "code",
   "execution_count": 334,
   "metadata": {},
   "outputs": [],
   "source": [
    "df_labour_force['labour_force'] = df_labour_force['actual'] / df_labour_force['unemp'] * 100\n",
    "df_labour_force['labour_force'] = df_labour_force['labour_force'].round(2)"
   ]
  },
  {
   "cell_type": "code",
   "execution_count": 335,
   "metadata": {},
   "outputs": [],
   "source": [
    "df_labour_force = df_labour_force.drop(['actual', 'unemp'], axis = 1 )"
   ]
  },
  {
   "cell_type": "markdown",
   "metadata": {},
   "source": [
    "Correct ID"
   ]
  },
  {
   "cell_type": "code",
   "execution_count": 336,
   "metadata": {},
   "outputs": [],
   "source": [
    "correct_id = global_id(geo='dk')\n",
    "df_labour_force = df_labour_force.merge(correct_id, left_on = 'OMRÅDE', right_on = 'target', how = 'left')\n",
    "df_labour_force = df_labour_force[['OMRÅDE', 'date', 'labour_force', 'ID']]"
   ]
  },
  {
   "cell_type": "code",
   "execution_count": 337,
   "metadata": {},
   "outputs": [],
   "source": [
    "df_labour_force = df_labour_force.drop(['OMRÅDE'], axis = 1 )"
   ]
  },
  {
   "cell_type": "markdown",
   "metadata": {},
   "source": [
    "Correct date "
   ]
  },
  {
   "cell_type": "code",
   "execution_count": 338,
   "metadata": {},
   "outputs": [],
   "source": [
    "df_labour_force['date'] = pd.to_datetime(df_labour_force['date'], format='%YM%m')"
   ]
  },
  {
   "cell_type": "code",
   "execution_count": 339,
   "metadata": {},
   "outputs": [],
   "source": [
    "df_labour_force.to_csv(r'data/other/df_labour_force_new.csv', index = False)"
   ]
  },
  {
   "cell_type": "code",
   "execution_count": 340,
   "metadata": {},
   "outputs": [
    {
     "data": {
      "text/plain": [
       "Timestamp('2019-09-01 00:00:00')"
      ]
     },
     "execution_count": 340,
     "metadata": {},
     "output_type": "execute_result"
    }
   ],
   "source": [
    "df_labour_force.date.max()"
   ]
  },
  {
   "cell_type": "code",
   "execution_count": 341,
   "metadata": {},
   "outputs": [
    {
     "data": {
      "text/plain": [
       "Timestamp('2007-01-01 00:00:00')"
      ]
     },
     "execution_count": 341,
     "metadata": {},
     "output_type": "execute_result"
    }
   ],
   "source": [
    "df_labour_force.date.min()"
   ]
  },
  {
   "cell_type": "markdown",
   "metadata": {},
   "source": [
    "Shift the data"
   ]
  },
  {
   "cell_type": "code",
   "execution_count": 342,
   "metadata": {},
   "outputs": [],
   "source": [
    "df_labour_force = df_labour_force.sort_values(by = ['date'])"
   ]
  },
  {
   "cell_type": "code",
   "execution_count": 343,
   "metadata": {},
   "outputs": [],
   "source": [
    "df_labour_force['labour_force'] = df_labour_force.groupby(['ID'])['labour_force'].shift(1)"
   ]
  },
  {
   "cell_type": "code",
   "execution_count": 344,
   "metadata": {},
   "outputs": [],
   "source": [
    "df_labour_force.to_csv(r'data/other/df_labour_force_new.csv', index = False)\n",
    "df_labour_force.to_csv(r'DK/data/df_labour_force_DK.csv', index = False)"
   ]
  },
  {
   "cell_type": "markdown",
   "metadata": {},
   "source": [
    "Load in regional population "
   ]
  },
  {
   "cell_type": "code",
   "execution_count": 346,
   "metadata": {},
   "outputs": [],
   "source": [
    "df_reg_pop = pd.read_csv('data/other/df_reg_pop_new.csv', sep = ',',  parse_dates = ['date'])"
   ]
  },
  {
   "cell_type": "code",
   "execution_count": 348,
   "metadata": {},
   "outputs": [],
   "source": [
    "df_reg_pop_share = df_labour_force.merge(df_reg_pop, right_on = ['ID', 'date'], left_on = ['ID', 'date'])"
   ]
  },
  {
   "cell_type": "code",
   "execution_count": 33,
   "metadata": {},
   "outputs": [],
   "source": [
    "#df_reg_pop_share = df_reg_pop_share.drop(['TID'], axis = 1)"
   ]
  },
  {
   "cell_type": "code",
   "execution_count": 350,
   "metadata": {},
   "outputs": [],
   "source": [
    "df_reg_pop_share =df_reg_pop_share[df_reg_pop_share['labour_force'].notnull()]"
   ]
  },
  {
   "cell_type": "code",
   "execution_count": 351,
   "metadata": {},
   "outputs": [
    {
     "data": {
      "text/html": [
       "<div>\n",
       "<style scoped>\n",
       "    .dataframe tbody tr th:only-of-type {\n",
       "        vertical-align: middle;\n",
       "    }\n",
       "\n",
       "    .dataframe tbody tr th {\n",
       "        vertical-align: top;\n",
       "    }\n",
       "\n",
       "    .dataframe thead th {\n",
       "        text-align: right;\n",
       "    }\n",
       "</style>\n",
       "<table border=\"1\" class=\"dataframe\">\n",
       "  <thead>\n",
       "    <tr style=\"text-align: right;\">\n",
       "      <th></th>\n",
       "      <th>date</th>\n",
       "      <th>labour_force</th>\n",
       "      <th>ID</th>\n",
       "      <th>pop</th>\n",
       "    </tr>\n",
       "  </thead>\n",
       "  <tbody>\n",
       "    <tr>\n",
       "      <td>5</td>\n",
       "      <td>2007-02-01</td>\n",
       "      <td>288060.32</td>\n",
       "      <td>North Denmark</td>\n",
       "      <td>576972</td>\n",
       "    </tr>\n",
       "    <tr>\n",
       "      <td>6</td>\n",
       "      <td>2007-02-01</td>\n",
       "      <td>589597.83</td>\n",
       "      <td>Southern Denmark</td>\n",
       "      <td>1189817</td>\n",
       "    </tr>\n",
       "    <tr>\n",
       "      <td>7</td>\n",
       "      <td>2007-02-01</td>\n",
       "      <td>873200.00</td>\n",
       "      <td>Capital</td>\n",
       "      <td>1636749</td>\n",
       "    </tr>\n",
       "    <tr>\n",
       "      <td>8</td>\n",
       "      <td>2007-02-01</td>\n",
       "      <td>407458.70</td>\n",
       "      <td>Zealand</td>\n",
       "      <td>816118</td>\n",
       "    </tr>\n",
       "    <tr>\n",
       "      <td>9</td>\n",
       "      <td>2007-02-01</td>\n",
       "      <td>645957.50</td>\n",
       "      <td>Central Denmark</td>\n",
       "      <td>1227428</td>\n",
       "    </tr>\n",
       "    <tr>\n",
       "      <td>...</td>\n",
       "      <td>...</td>\n",
       "      <td>...</td>\n",
       "      <td>...</td>\n",
       "      <td>...</td>\n",
       "    </tr>\n",
       "    <tr>\n",
       "      <td>760</td>\n",
       "      <td>2019-09-01</td>\n",
       "      <td>283102.50</td>\n",
       "      <td>North Denmark</td>\n",
       "      <td>589731</td>\n",
       "    </tr>\n",
       "    <tr>\n",
       "      <td>761</td>\n",
       "      <td>2019-09-01</td>\n",
       "      <td>647362.86</td>\n",
       "      <td>Central Denmark</td>\n",
       "      <td>1323137</td>\n",
       "    </tr>\n",
       "    <tr>\n",
       "      <td>762</td>\n",
       "      <td>2019-09-01</td>\n",
       "      <td>573471.43</td>\n",
       "      <td>Southern Denmark</td>\n",
       "      <td>1223879</td>\n",
       "    </tr>\n",
       "    <tr>\n",
       "      <td>763</td>\n",
       "      <td>2019-09-01</td>\n",
       "      <td>386784.85</td>\n",
       "      <td>Zealand</td>\n",
       "      <td>837357</td>\n",
       "    </tr>\n",
       "    <tr>\n",
       "      <td>764</td>\n",
       "      <td>2019-09-01</td>\n",
       "      <td>944828.95</td>\n",
       "      <td>Capital</td>\n",
       "      <td>1840357</td>\n",
       "    </tr>\n",
       "  </tbody>\n",
       "</table>\n",
       "<p>760 rows × 4 columns</p>\n",
       "</div>"
      ],
      "text/plain": [
       "          date  labour_force                ID      pop\n",
       "5   2007-02-01     288060.32     North Denmark   576972\n",
       "6   2007-02-01     589597.83  Southern Denmark  1189817\n",
       "7   2007-02-01     873200.00           Capital  1636749\n",
       "8   2007-02-01     407458.70           Zealand   816118\n",
       "9   2007-02-01     645957.50   Central Denmark  1227428\n",
       "..         ...           ...               ...      ...\n",
       "760 2019-09-01     283102.50     North Denmark   589731\n",
       "761 2019-09-01     647362.86   Central Denmark  1323137\n",
       "762 2019-09-01     573471.43  Southern Denmark  1223879\n",
       "763 2019-09-01     386784.85           Zealand   837357\n",
       "764 2019-09-01     944828.95           Capital  1840357\n",
       "\n",
       "[760 rows x 4 columns]"
      ]
     },
     "execution_count": 351,
     "metadata": {},
     "output_type": "execute_result"
    }
   ],
   "source": [
    "df_reg_pop_share"
   ]
  },
  {
   "cell_type": "code",
   "execution_count": 354,
   "metadata": {},
   "outputs": [
    {
     "name": "stderr",
     "output_type": "stream",
     "text": [
      "/anaconda3/lib/python3.7/site-packages/ipykernel_launcher.py:1: SettingWithCopyWarning: \n",
      "A value is trying to be set on a copy of a slice from a DataFrame.\n",
      "Try using .loc[row_indexer,col_indexer] = value instead\n",
      "\n",
      "See the caveats in the documentation: http://pandas.pydata.org/pandas-docs/stable/user_guide/indexing.html#returning-a-view-versus-a-copy\n",
      "  \"\"\"Entry point for launching an IPython kernel.\n"
     ]
    }
   ],
   "source": [
    "df_reg_pop_share['labour_force_share'] =  df_reg_pop_share['labour_force'] / df_reg_pop_share['pop'] * 100"
   ]
  },
  {
   "cell_type": "code",
   "execution_count": 355,
   "metadata": {},
   "outputs": [],
   "source": [
    "df_reg_pop_share = df_reg_pop_share[['ID', 'date', 'labour_force_share']]"
   ]
  },
  {
   "cell_type": "code",
   "execution_count": 356,
   "metadata": {},
   "outputs": [],
   "source": [
    "df_reg_pop_share = df_reg_pop_share.sort_values(by = ['date'])"
   ]
  },
  {
   "cell_type": "code",
   "execution_count": 357,
   "metadata": {},
   "outputs": [
    {
     "data": {
      "text/html": [
       "<div>\n",
       "<style scoped>\n",
       "    .dataframe tbody tr th:only-of-type {\n",
       "        vertical-align: middle;\n",
       "    }\n",
       "\n",
       "    .dataframe tbody tr th {\n",
       "        vertical-align: top;\n",
       "    }\n",
       "\n",
       "    .dataframe thead th {\n",
       "        text-align: right;\n",
       "    }\n",
       "</style>\n",
       "<table border=\"1\" class=\"dataframe\">\n",
       "  <thead>\n",
       "    <tr style=\"text-align: right;\">\n",
       "      <th></th>\n",
       "      <th>ID</th>\n",
       "      <th>date</th>\n",
       "      <th>labour_force_share</th>\n",
       "    </tr>\n",
       "  </thead>\n",
       "  <tbody>\n",
       "    <tr>\n",
       "      <td>5</td>\n",
       "      <td>North Denmark</td>\n",
       "      <td>2007-02-01</td>\n",
       "      <td>49.926222</td>\n",
       "    </tr>\n",
       "    <tr>\n",
       "      <td>6</td>\n",
       "      <td>Southern Denmark</td>\n",
       "      <td>2007-02-01</td>\n",
       "      <td>49.553657</td>\n",
       "    </tr>\n",
       "    <tr>\n",
       "      <td>7</td>\n",
       "      <td>Capital</td>\n",
       "      <td>2007-02-01</td>\n",
       "      <td>53.349658</td>\n",
       "    </tr>\n",
       "    <tr>\n",
       "      <td>8</td>\n",
       "      <td>Zealand</td>\n",
       "      <td>2007-02-01</td>\n",
       "      <td>49.926444</td>\n",
       "    </tr>\n",
       "    <tr>\n",
       "      <td>9</td>\n",
       "      <td>Central Denmark</td>\n",
       "      <td>2007-02-01</td>\n",
       "      <td>52.626916</td>\n",
       "    </tr>\n",
       "    <tr>\n",
       "      <td>10</td>\n",
       "      <td>North Denmark</td>\n",
       "      <td>2007-03-01</td>\n",
       "      <td>50.613085</td>\n",
       "    </tr>\n",
       "    <tr>\n",
       "      <td>11</td>\n",
       "      <td>Southern Denmark</td>\n",
       "      <td>2007-03-01</td>\n",
       "      <td>49.904542</td>\n",
       "    </tr>\n",
       "    <tr>\n",
       "      <td>12</td>\n",
       "      <td>Capital</td>\n",
       "      <td>2007-03-01</td>\n",
       "      <td>53.111508</td>\n",
       "    </tr>\n",
       "    <tr>\n",
       "      <td>13</td>\n",
       "      <td>Zealand</td>\n",
       "      <td>2007-03-01</td>\n",
       "      <td>50.288752</td>\n",
       "    </tr>\n",
       "    <tr>\n",
       "      <td>14</td>\n",
       "      <td>Central Denmark</td>\n",
       "      <td>2007-03-01</td>\n",
       "      <td>52.828482</td>\n",
       "    </tr>\n",
       "    <tr>\n",
       "      <td>19</td>\n",
       "      <td>North Denmark</td>\n",
       "      <td>2007-04-01</td>\n",
       "      <td>50.192148</td>\n",
       "    </tr>\n",
       "    <tr>\n",
       "      <td>18</td>\n",
       "      <td>Central Denmark</td>\n",
       "      <td>2007-04-01</td>\n",
       "      <td>52.592203</td>\n",
       "    </tr>\n",
       "    <tr>\n",
       "      <td>15</td>\n",
       "      <td>Zealand</td>\n",
       "      <td>2007-04-01</td>\n",
       "      <td>50.342276</td>\n",
       "    </tr>\n",
       "    <tr>\n",
       "      <td>16</td>\n",
       "      <td>Capital</td>\n",
       "      <td>2007-04-01</td>\n",
       "      <td>52.977234</td>\n",
       "    </tr>\n",
       "    <tr>\n",
       "      <td>17</td>\n",
       "      <td>Southern Denmark</td>\n",
       "      <td>2007-04-01</td>\n",
       "      <td>49.499106</td>\n",
       "    </tr>\n",
       "    <tr>\n",
       "      <td>20</td>\n",
       "      <td>North Denmark</td>\n",
       "      <td>2007-05-01</td>\n",
       "      <td>50.667537</td>\n",
       "    </tr>\n",
       "    <tr>\n",
       "      <td>21</td>\n",
       "      <td>Central Denmark</td>\n",
       "      <td>2007-05-01</td>\n",
       "      <td>51.432498</td>\n",
       "    </tr>\n",
       "    <tr>\n",
       "      <td>22</td>\n",
       "      <td>Southern Denmark</td>\n",
       "      <td>2007-05-01</td>\n",
       "      <td>50.699907</td>\n",
       "    </tr>\n",
       "    <tr>\n",
       "      <td>23</td>\n",
       "      <td>Capital</td>\n",
       "      <td>2007-05-01</td>\n",
       "      <td>53.064493</td>\n",
       "    </tr>\n",
       "    <tr>\n",
       "      <td>24</td>\n",
       "      <td>Zealand</td>\n",
       "      <td>2007-05-01</td>\n",
       "      <td>50.140775</td>\n",
       "    </tr>\n",
       "  </tbody>\n",
       "</table>\n",
       "</div>"
      ],
      "text/plain": [
       "                  ID       date  labour_force_share\n",
       "5      North Denmark 2007-02-01           49.926222\n",
       "6   Southern Denmark 2007-02-01           49.553657\n",
       "7            Capital 2007-02-01           53.349658\n",
       "8            Zealand 2007-02-01           49.926444\n",
       "9    Central Denmark 2007-02-01           52.626916\n",
       "10     North Denmark 2007-03-01           50.613085\n",
       "11  Southern Denmark 2007-03-01           49.904542\n",
       "12           Capital 2007-03-01           53.111508\n",
       "13           Zealand 2007-03-01           50.288752\n",
       "14   Central Denmark 2007-03-01           52.828482\n",
       "19     North Denmark 2007-04-01           50.192148\n",
       "18   Central Denmark 2007-04-01           52.592203\n",
       "15           Zealand 2007-04-01           50.342276\n",
       "16           Capital 2007-04-01           52.977234\n",
       "17  Southern Denmark 2007-04-01           49.499106\n",
       "20     North Denmark 2007-05-01           50.667537\n",
       "21   Central Denmark 2007-05-01           51.432498\n",
       "22  Southern Denmark 2007-05-01           50.699907\n",
       "23           Capital 2007-05-01           53.064493\n",
       "24           Zealand 2007-05-01           50.140775"
      ]
     },
     "execution_count": 357,
     "metadata": {},
     "output_type": "execute_result"
    }
   ],
   "source": [
    "df_reg_pop_share.head(20)"
   ]
  },
  {
   "cell_type": "code",
   "execution_count": 358,
   "metadata": {},
   "outputs": [],
   "source": [
    "df_reg_pop_share.to_csv(r'data/other/df_reg_pop_share.csv', index = False)"
   ]
  },
  {
   "cell_type": "code",
   "execution_count": 359,
   "metadata": {},
   "outputs": [
    {
     "data": {
      "text/plain": [
       "Timestamp('2019-09-01 00:00:00')"
      ]
     },
     "execution_count": 359,
     "metadata": {},
     "output_type": "execute_result"
    }
   ],
   "source": [
    "df_reg_pop_share.date.max()"
   ]
  },
  {
   "cell_type": "markdown",
   "metadata": {},
   "source": [
    "### OLD Labour force "
   ]
  },
  {
   "cell_type": "code",
   "execution_count": 29,
   "metadata": {},
   "outputs": [],
   "source": [
    "df_labour_force = pd.read_csv(\"data/other/df_DK_labour_force.csv\", parse_dates = ['date'])"
   ]
  },
  {
   "cell_type": "markdown",
   "metadata": {},
   "source": [
    "Concat 2007 value"
   ]
  },
  {
   "cell_type": "code",
   "execution_count": 176,
   "metadata": {},
   "outputs": [],
   "source": [
    "df_labour_force_2007 = pd.read_csv('data/other/df_labour_force_2007.csv', sep = ';',  parse_dates = ['date'])"
   ]
  },
  {
   "cell_type": "code",
   "execution_count": 177,
   "metadata": {},
   "outputs": [],
   "source": [
    "df_labour_force = pd.concat([df_labour_force, df_labour_force_2007]) "
   ]
  },
  {
   "cell_type": "code",
   "execution_count": 178,
   "metadata": {},
   "outputs": [],
   "source": [
    "df_labour_force = df_labour_force.sort_values(by=['ID', 'date'])"
   ]
  },
  {
   "cell_type": "markdown",
   "metadata": {},
   "source": [
    "Shift the data "
   ]
  },
  {
   "cell_type": "code",
   "execution_count": 179,
   "metadata": {},
   "outputs": [],
   "source": [
    "df_labour_force = quarter_to_month(df =df_labour_force, date_variable = 'date', orig_format = '%Y-%m-%d', to_format = 'month', from_format = 'quarter', variable_names = [ 'date', 'labour_force', 'ID'])"
   ]
  },
  {
   "cell_type": "code",
   "execution_count": 180,
   "metadata": {},
   "outputs": [],
   "source": [
    "reg = df_labour_force.ID.value_counts().index.tolist()\n",
    "new_date = [datetime.datetime(2019, 7, 1),datetime.datetime(2019, 8, 1),datetime.datetime(2019, 9, 1)]"
   ]
  },
  {
   "cell_type": "code",
   "execution_count": 181,
   "metadata": {},
   "outputs": [],
   "source": [
    "df= pd.DataFrame()\n",
    "\n",
    "for r in reg:\n",
    "    for new in new_date:\n",
    "        df = df.append({'ID': r, 'date': new, 'labour_force': np.nan}, ignore_index=True)\n",
    "df = df[['date','labour_force','ID']]"
   ]
  },
  {
   "cell_type": "code",
   "execution_count": 182,
   "metadata": {},
   "outputs": [],
   "source": [
    "df_labour_force = df_labour_force.append(df)"
   ]
  },
  {
   "cell_type": "code",
   "execution_count": 183,
   "metadata": {},
   "outputs": [],
   "source": [
    "df_labour_force['labour_force'] = df_labour_force.groupby(['ID'])['labour_force'].shift(6)"
   ]
  },
  {
   "cell_type": "code",
   "execution_count": 185,
   "metadata": {},
   "outputs": [],
   "source": [
    "df_labour_force.to_csv(r'data/other/df_labour_force.csv', index = False)"
   ]
  },
  {
   "cell_type": "markdown",
   "metadata": {},
   "source": [
    "### Income  (Deleted)"
   ]
  },
  {
   "cell_type": "markdown",
   "metadata": {},
   "source": [
    "### Education"
   ]
  },
  {
   "cell_type": "markdown",
   "metadata": {},
   "source": [
    "Includes: \n",
    "1. Share of population with MVU or LVU"
   ]
  },
  {
   "cell_type": "markdown",
   "metadata": {},
   "source": [
    "HFUDD10: EDUCATIONAL ATTAINMENT (15-69 YEARS) BY REGION, ANCESTRY, HIGHEST EDUCATION COMPLETED, AGE AND SEX (2006 - 2019)"
   ]
  },
  {
   "cell_type": "code",
   "execution_count": 360,
   "metadata": {},
   "outputs": [],
   "source": [
    "Dst.get_data(table_id = 'HFUDD10')\n",
    "\n",
    "# Create dataframe\n",
    "df_reg_edu = Dst.get_data(table_id = 'HFUDD10', variables={'BOPOMR':['081', '082', '083', '084', '085'],\n",
    "                                                             'HFUDD': ['H50', 'H60', 'H70'],\n",
    "                                                               'HERKOMST': ['TOT'],\n",
    "                                                             'ALDER' : ['TOT'],\n",
    "                                                             'KØN': ['TOT'],  \n",
    "                                                             'Tid':['*']}) \n",
    "\n",
    "df_reg_edu= df_reg_edu.drop(['KØN', 'ALDER', 'HERKOMST'], axis=1)"
   ]
  },
  {
   "cell_type": "markdown",
   "metadata": {},
   "source": [
    "Correct ID variable"
   ]
  },
  {
   "cell_type": "code",
   "execution_count": 361,
   "metadata": {},
   "outputs": [],
   "source": [
    "correct_id = global_id(geo='dk')\n",
    "df_reg_edu = df_reg_edu.merge(correct_id, left_on = 'BOPOMR', right_on = 'target', how = 'left')\n",
    "df_reg_edu = df_reg_edu[['HFUDD', 'TID', 'INDHOLD', 'ID']]"
   ]
  },
  {
   "cell_type": "markdown",
   "metadata": {},
   "source": [
    "Add together MVU and LVU "
   ]
  },
  {
   "cell_type": "code",
   "execution_count": 362,
   "metadata": {},
   "outputs": [],
   "source": [
    "df_reg_edu = df_reg_edu.groupby(['TID', 'ID']).sum().reset_index()"
   ]
  },
  {
   "cell_type": "markdown",
   "metadata": {},
   "source": [
    "Correct time variable"
   ]
  },
  {
   "cell_type": "code",
   "execution_count": 363,
   "metadata": {},
   "outputs": [],
   "source": [
    "df_reg_edu['TID'] = pd.to_datetime(df_reg_edu.TID, format='%Y')"
   ]
  },
  {
   "cell_type": "code",
   "execution_count": 364,
   "metadata": {},
   "outputs": [],
   "source": [
    "def quarter_to_month(df, date_variable = 'date', variable_names = ['HFUDD', 'TID', 'INDHOLD', 'ID'], group_by = ['ID','year'], orig_format = '%YK%m', to_format = 'month', from_format = 'quarter') :\n",
    "    \n",
    "    if (from_format == 'quarter' and to_format == 'month'):\n",
    "        df= pd.DataFrame(np.repeat(df.values,3, axis=0))\n",
    "    elif (from_format == 'year' and to_format == 'month'):\n",
    "        df= pd.DataFrame(np.repeat(df.values,12, axis=0))\n",
    "    elif (from_format == 'year' and to_format == 'quarter'):\n",
    "        df= pd.DataFrame(np.repeat(df.values,12, axis=0))\n",
    "    \n",
    "    variable_range = range(len(variable_names))\n",
    "    df = df.rename(index=str, columns={i:variable_names[i] for i in variable_range})\n",
    "    df['year'] = pd.to_datetime(df[date_variable], format=orig_format).dt.to_period('y')\n",
    "    df['month'] = df.groupby(group_by).cumcount()+1\n",
    "    df[date_variable] = pd.to_datetime(df.year.astype(str) + '-' + df.month.astype(str))\n",
    "    df= df.drop(['year', 'month'], axis = 1)\n",
    "    \n",
    "    if (from_format == 'year' and to_format == 'quarter'):\n",
    "        df = df[df['date'].map(lambda x: x.month).isin([1, 4, 7, 10])]\n",
    "       \n",
    "    return(df)"
   ]
  },
  {
   "cell_type": "code",
   "execution_count": 365,
   "metadata": {},
   "outputs": [],
   "source": [
    "df_reg_edu = quarter_to_month(df = df_reg_edu, date_variable = 'TID', orig_format = '%Y', to_format = 'month', from_format = 'year', variable_names = [ 'TID', 'ID', 'INDHOLD'])"
   ]
  },
  {
   "cell_type": "code",
   "execution_count": 366,
   "metadata": {},
   "outputs": [
    {
     "data": {
      "text/plain": [
       "Timestamp('2019-12-01 00:00:00')"
      ]
     },
     "execution_count": 366,
     "metadata": {},
     "output_type": "execute_result"
    }
   ],
   "source": [
    "df_reg_edu.TID.max()"
   ]
  },
  {
   "cell_type": "markdown",
   "metadata": {},
   "source": [
    "Correct shift (6 months )"
   ]
  },
  {
   "cell_type": "code",
   "execution_count": 367,
   "metadata": {},
   "outputs": [],
   "source": [
    "df_reg_edu['INDHOLD'] = df_reg_edu.groupby(['ID'])['INDHOLD'].shift(6)"
   ]
  },
  {
   "cell_type": "markdown",
   "metadata": {},
   "source": [
    "Load in regional population "
   ]
  },
  {
   "cell_type": "code",
   "execution_count": 369,
   "metadata": {},
   "outputs": [],
   "source": [
    "df_reg_pop = pd.read_csv('data/other/df_reg_pop_new.csv', sep = ',',  parse_dates = ['date'])"
   ]
  },
  {
   "cell_type": "code",
   "execution_count": 375,
   "metadata": {},
   "outputs": [
    {
     "data": {
      "text/html": [
       "<div>\n",
       "<style scoped>\n",
       "    .dataframe tbody tr th:only-of-type {\n",
       "        vertical-align: middle;\n",
       "    }\n",
       "\n",
       "    .dataframe tbody tr th {\n",
       "        vertical-align: top;\n",
       "    }\n",
       "\n",
       "    .dataframe thead th {\n",
       "        text-align: right;\n",
       "    }\n",
       "</style>\n",
       "<table border=\"1\" class=\"dataframe\">\n",
       "  <thead>\n",
       "    <tr style=\"text-align: right;\">\n",
       "      <th></th>\n",
       "      <th>TID</th>\n",
       "      <th>ID</th>\n",
       "      <th>INDHOLD</th>\n",
       "      <th>date</th>\n",
       "      <th>pop</th>\n",
       "    </tr>\n",
       "  </thead>\n",
       "  <tbody>\n",
       "    <tr>\n",
       "      <td>0</td>\n",
       "      <td>2006-01-01</td>\n",
       "      <td>Capital</td>\n",
       "      <td>NaN</td>\n",
       "      <td>2006-01-01</td>\n",
       "      <td>1631635</td>\n",
       "    </tr>\n",
       "    <tr>\n",
       "      <td>1</td>\n",
       "      <td>2006-02-01</td>\n",
       "      <td>Capital</td>\n",
       "      <td>NaN</td>\n",
       "      <td>2006-02-01</td>\n",
       "      <td>1633565</td>\n",
       "    </tr>\n",
       "    <tr>\n",
       "      <td>2</td>\n",
       "      <td>2006-03-01</td>\n",
       "      <td>Capital</td>\n",
       "      <td>NaN</td>\n",
       "      <td>2006-03-01</td>\n",
       "      <td>1633565</td>\n",
       "    </tr>\n",
       "    <tr>\n",
       "      <td>3</td>\n",
       "      <td>2006-04-01</td>\n",
       "      <td>Capital</td>\n",
       "      <td>NaN</td>\n",
       "      <td>2006-04-01</td>\n",
       "      <td>1633565</td>\n",
       "    </tr>\n",
       "    <tr>\n",
       "      <td>4</td>\n",
       "      <td>2006-05-01</td>\n",
       "      <td>Capital</td>\n",
       "      <td>NaN</td>\n",
       "      <td>2006-05-01</td>\n",
       "      <td>1633565</td>\n",
       "    </tr>\n",
       "    <tr>\n",
       "      <td>...</td>\n",
       "      <td>...</td>\n",
       "      <td>...</td>\n",
       "      <td>...</td>\n",
       "      <td>...</td>\n",
       "      <td>...</td>\n",
       "    </tr>\n",
       "    <tr>\n",
       "      <td>820</td>\n",
       "      <td>2019-05-01</td>\n",
       "      <td>Zealand</td>\n",
       "      <td>113548</td>\n",
       "      <td>2019-05-01</td>\n",
       "      <td>836675</td>\n",
       "    </tr>\n",
       "    <tr>\n",
       "      <td>821</td>\n",
       "      <td>2019-06-01</td>\n",
       "      <td>Zealand</td>\n",
       "      <td>113548</td>\n",
       "      <td>2019-06-01</td>\n",
       "      <td>836675</td>\n",
       "    </tr>\n",
       "    <tr>\n",
       "      <td>822</td>\n",
       "      <td>2019-07-01</td>\n",
       "      <td>Zealand</td>\n",
       "      <td>115866</td>\n",
       "      <td>2019-07-01</td>\n",
       "      <td>836675</td>\n",
       "    </tr>\n",
       "    <tr>\n",
       "      <td>823</td>\n",
       "      <td>2019-08-01</td>\n",
       "      <td>Zealand</td>\n",
       "      <td>115866</td>\n",
       "      <td>2019-08-01</td>\n",
       "      <td>837357</td>\n",
       "    </tr>\n",
       "    <tr>\n",
       "      <td>824</td>\n",
       "      <td>2019-09-01</td>\n",
       "      <td>Zealand</td>\n",
       "      <td>115866</td>\n",
       "      <td>2019-09-01</td>\n",
       "      <td>837357</td>\n",
       "    </tr>\n",
       "  </tbody>\n",
       "</table>\n",
       "<p>825 rows × 5 columns</p>\n",
       "</div>"
      ],
      "text/plain": [
       "           TID       ID INDHOLD       date      pop\n",
       "0   2006-01-01  Capital     NaN 2006-01-01  1631635\n",
       "1   2006-02-01  Capital     NaN 2006-02-01  1633565\n",
       "2   2006-03-01  Capital     NaN 2006-03-01  1633565\n",
       "3   2006-04-01  Capital     NaN 2006-04-01  1633565\n",
       "4   2006-05-01  Capital     NaN 2006-05-01  1633565\n",
       "..         ...      ...     ...        ...      ...\n",
       "820 2019-05-01  Zealand  113548 2019-05-01   836675\n",
       "821 2019-06-01  Zealand  113548 2019-06-01   836675\n",
       "822 2019-07-01  Zealand  115866 2019-07-01   836675\n",
       "823 2019-08-01  Zealand  115866 2019-08-01   837357\n",
       "824 2019-09-01  Zealand  115866 2019-09-01   837357\n",
       "\n",
       "[825 rows x 5 columns]"
      ]
     },
     "execution_count": 375,
     "metadata": {},
     "output_type": "execute_result"
    }
   ],
   "source": [
    "df_reg_edu"
   ]
  },
  {
   "cell_type": "code",
   "execution_count": 374,
   "metadata": {},
   "outputs": [],
   "source": [
    "df_reg_edu = df_reg_edu.merge(df_reg_pop, right_on = ['ID', 'date'], left_on = ['ID', 'TID'])"
   ]
  },
  {
   "cell_type": "code",
   "execution_count": 376,
   "metadata": {},
   "outputs": [],
   "source": [
    "df_reg_edu = df_reg_edu.rename(columns = {'INDHOLD' : 'mvu_lvu', 'pop' : 'reg_pop'})"
   ]
  },
  {
   "cell_type": "code",
   "execution_count": 377,
   "metadata": {},
   "outputs": [],
   "source": [
    "df_reg_edu = df_reg_edu[~(df_reg_edu['reg_pop'] == 0)]"
   ]
  },
  {
   "cell_type": "code",
   "execution_count": 378,
   "metadata": {},
   "outputs": [],
   "source": [
    "df_reg_edu['mvu_lvu_share_pop'] = df_reg_edu['mvu_lvu'] / df_reg_edu['reg_pop']*100"
   ]
  },
  {
   "cell_type": "code",
   "execution_count": 379,
   "metadata": {},
   "outputs": [
    {
     "data": {
      "text/html": [
       "<div>\n",
       "<style scoped>\n",
       "    .dataframe tbody tr th:only-of-type {\n",
       "        vertical-align: middle;\n",
       "    }\n",
       "\n",
       "    .dataframe tbody tr th {\n",
       "        vertical-align: top;\n",
       "    }\n",
       "\n",
       "    .dataframe thead th {\n",
       "        text-align: right;\n",
       "    }\n",
       "</style>\n",
       "<table border=\"1\" class=\"dataframe\">\n",
       "  <thead>\n",
       "    <tr style=\"text-align: right;\">\n",
       "      <th></th>\n",
       "      <th>TID</th>\n",
       "      <th>ID</th>\n",
       "      <th>mvu_lvu</th>\n",
       "      <th>date</th>\n",
       "      <th>reg_pop</th>\n",
       "      <th>mvu_lvu_share_pop</th>\n",
       "    </tr>\n",
       "  </thead>\n",
       "  <tbody>\n",
       "    <tr>\n",
       "      <td>820</td>\n",
       "      <td>2019-05-01</td>\n",
       "      <td>Zealand</td>\n",
       "      <td>113548</td>\n",
       "      <td>2019-05-01</td>\n",
       "      <td>836675</td>\n",
       "      <td>13.5713</td>\n",
       "    </tr>\n",
       "    <tr>\n",
       "      <td>821</td>\n",
       "      <td>2019-06-01</td>\n",
       "      <td>Zealand</td>\n",
       "      <td>113548</td>\n",
       "      <td>2019-06-01</td>\n",
       "      <td>836675</td>\n",
       "      <td>13.5713</td>\n",
       "    </tr>\n",
       "    <tr>\n",
       "      <td>822</td>\n",
       "      <td>2019-07-01</td>\n",
       "      <td>Zealand</td>\n",
       "      <td>115866</td>\n",
       "      <td>2019-07-01</td>\n",
       "      <td>836675</td>\n",
       "      <td>13.8484</td>\n",
       "    </tr>\n",
       "    <tr>\n",
       "      <td>823</td>\n",
       "      <td>2019-08-01</td>\n",
       "      <td>Zealand</td>\n",
       "      <td>115866</td>\n",
       "      <td>2019-08-01</td>\n",
       "      <td>837357</td>\n",
       "      <td>13.8371</td>\n",
       "    </tr>\n",
       "    <tr>\n",
       "      <td>824</td>\n",
       "      <td>2019-09-01</td>\n",
       "      <td>Zealand</td>\n",
       "      <td>115866</td>\n",
       "      <td>2019-09-01</td>\n",
       "      <td>837357</td>\n",
       "      <td>13.8371</td>\n",
       "    </tr>\n",
       "  </tbody>\n",
       "</table>\n",
       "</div>"
      ],
      "text/plain": [
       "           TID       ID mvu_lvu       date  reg_pop mvu_lvu_share_pop\n",
       "820 2019-05-01  Zealand  113548 2019-05-01   836675           13.5713\n",
       "821 2019-06-01  Zealand  113548 2019-06-01   836675           13.5713\n",
       "822 2019-07-01  Zealand  115866 2019-07-01   836675           13.8484\n",
       "823 2019-08-01  Zealand  115866 2019-08-01   837357           13.8371\n",
       "824 2019-09-01  Zealand  115866 2019-09-01   837357           13.8371"
      ]
     },
     "execution_count": 379,
     "metadata": {},
     "output_type": "execute_result"
    }
   ],
   "source": [
    "df_reg_edu.tail()"
   ]
  },
  {
   "cell_type": "code",
   "execution_count": 380,
   "metadata": {},
   "outputs": [],
   "source": [
    "df_reg_edu = df_reg_edu[['TID', 'ID','mvu_lvu_share_pop']]"
   ]
  },
  {
   "cell_type": "markdown",
   "metadata": {},
   "source": [
    "Save"
   ]
  },
  {
   "cell_type": "code",
   "execution_count": 381,
   "metadata": {},
   "outputs": [],
   "source": [
    "df_reg_edu.to_csv(r'data/other/df_reg_edu.csv', index = False)"
   ]
  },
  {
   "cell_type": "code",
   "execution_count": 383,
   "metadata": {},
   "outputs": [
    {
     "data": {
      "text/plain": [
       "Timestamp('2019-09-01 00:00:00')"
      ]
     },
     "execution_count": 383,
     "metadata": {},
     "output_type": "execute_result"
    }
   ],
   "source": [
    "df_reg_edu.TID.max()"
   ]
  },
  {
   "cell_type": "markdown",
   "metadata": {},
   "source": [
    "### Socioeconomic status"
   ]
  },
  {
   "cell_type": "markdown",
   "metadata": {},
   "source": [
    "Includes: \n",
    "1. Regional socialeconomic index\n",
    "1. Share of population in labour force\n"
   ]
  },
  {
   "cell_type": "markdown",
   "metadata": {},
   "source": [
    "### Socialeconomic index"
   ]
  },
  {
   "cell_type": "code",
   "execution_count": 384,
   "metadata": {},
   "outputs": [],
   "source": [
    "df_socio = pd.read_csv('data/other/df_socio_raw.csv', sep = \";\")"
   ]
  },
  {
   "cell_type": "code",
   "execution_count": 386,
   "metadata": {},
   "outputs": [],
   "source": [
    "df_socio = pd.wide_to_long(df_socio, [\"Y\"], i=[\"komnr\", \"kom\"], j=\"date\").reset_index()"
   ]
  },
  {
   "cell_type": "code",
   "execution_count": 387,
   "metadata": {},
   "outputs": [],
   "source": [
    "df_socio = df_socio.rename(columns = {'Y': 'socio_index'})"
   ]
  },
  {
   "cell_type": "code",
   "execution_count": 388,
   "metadata": {},
   "outputs": [],
   "source": [
    "df_kom_reg = pd.read_csv('data/other/df_kom_reg.csv', sep = \";\")"
   ]
  },
  {
   "cell_type": "code",
   "execution_count": 389,
   "metadata": {},
   "outputs": [],
   "source": [
    "df_kom_reg['kommune'] =  [int(x[:3]) for x in df_kom_reg['kommune']]\n",
    "df_kom_reg['region'] =  [x[4:] for x in df_kom_reg['region']]"
   ]
  },
  {
   "cell_type": "code",
   "execution_count": 390,
   "metadata": {},
   "outputs": [],
   "source": [
    "df_socio = df_socio.merge(df_kom_reg, right_on = 'kommune', left_on = \"komnr\", how = 'left')\n",
    "df_socio['region'] = 'Region' + df_socio['region']"
   ]
  },
  {
   "cell_type": "code",
   "execution_count": 391,
   "metadata": {},
   "outputs": [],
   "source": [
    "def quarter_to_month(df, date_variable = 'date', variable_names = ['HFUDD', 'TID', 'INDHOLD', 'ID'], group_by = ['ID','year'], orig_format = '%YK%m', to_format = 'month', from_format = 'quarter') :\n",
    "    \n",
    "    if (from_format == 'quarter' and to_format == 'month'):\n",
    "        df= pd.DataFrame(np.repeat(df.values,3, axis=0))\n",
    "    elif (from_format == 'year' and to_format == 'month'):\n",
    "        df= pd.DataFrame(np.repeat(df.values,12, axis=0))\n",
    "    variable_range = range(len(variable_names))\n",
    "    df = df.rename(index=str, columns={i:variable_names[i] for i in variable_range})\n",
    "    df['year'] = pd.to_datetime(df[date_variable], format=orig_format).dt.to_period('y')\n",
    "    df['month'] = df.groupby(group_by).cumcount()+1\n",
    "    df[date_variable] = pd.to_datetime(df.year.astype(str) + '-' + df.month.astype(str))\n",
    "    df= df.drop(['year', 'month'], axis = 1)\n",
    "    return(df)"
   ]
  },
  {
   "cell_type": "code",
   "execution_count": 392,
   "metadata": {},
   "outputs": [],
   "source": [
    "df_socio = df_socio[['date', 'socio_index', 'komnr', 'region']].drop_duplicates()\n",
    "df_socio = quarter_to_month(df = df_socio, date_variable = 'date', orig_format = '%Y', to_format = 'month', from_format = 'year', variable_names = ['date', 'socio_index', 'komnr', 'region'],  group_by = ['komnr','year'])"
   ]
  },
  {
   "cell_type": "code",
   "execution_count": 393,
   "metadata": {},
   "outputs": [],
   "source": [
    "correct_id = global_id(geo='dk')\n",
    "df_socio = df_socio.merge(correct_id, left_on = 'region', right_on = 'target', how = 'left')\n",
    "df_socio = df_socio[['date', 'socio_index', 'ID', 'komnr']]"
   ]
  },
  {
   "cell_type": "markdown",
   "metadata": {},
   "source": [
    "Incoporate correct lag (8 months lead)"
   ]
  },
  {
   "cell_type": "code",
   "execution_count": 394,
   "metadata": {},
   "outputs": [],
   "source": [
    "df_socio['socio_index']  = df_socio.groupby(['ID'])['socio_index'].shift(8)"
   ]
  },
  {
   "cell_type": "markdown",
   "metadata": {},
   "source": [
    "Load in population"
   ]
  },
  {
   "cell_type": "code",
   "execution_count": 396,
   "metadata": {},
   "outputs": [],
   "source": [
    "df_mun_pop = pd.read_csv('data/other/df_mun_pop_new.csv', sep = ',',  parse_dates = ['date'])"
   ]
  },
  {
   "cell_type": "code",
   "execution_count": 397,
   "metadata": {},
   "outputs": [],
   "source": [
    "df_global_mun_reg = pd.read_csv('data/other/df_global_mun_reg.csv', sep = \",\")"
   ]
  },
  {
   "cell_type": "code",
   "execution_count": 398,
   "metadata": {},
   "outputs": [],
   "source": [
    "df_socio  = df_socio.merge(df_global_mun_reg[['Kom.nr', 'dst_name_en']], left_on = 'komnr', right_on = 'Kom.nr', how = 'left')"
   ]
  },
  {
   "cell_type": "code",
   "execution_count": 400,
   "metadata": {},
   "outputs": [],
   "source": [
    "df_socio = df_mun_pop.merge(df_socio, left_on = ['OMRÅDE', 'date'], right_on =  ['dst_name_en', 'date'], how = 'left')"
   ]
  },
  {
   "cell_type": "code",
   "execution_count": 403,
   "metadata": {},
   "outputs": [],
   "source": [
    "df_socio  =df_socio[['date', 'dst_name_en', 'socio_index', 'pop', 'ID']]"
   ]
  },
  {
   "cell_type": "code",
   "execution_count": 404,
   "metadata": {},
   "outputs": [],
   "source": [
    "df_socio = df_socio.rename(columns = {'pop' : 'popu'})"
   ]
  },
  {
   "cell_type": "code",
   "execution_count": 405,
   "metadata": {},
   "outputs": [],
   "source": [
    "df_socio = df_socio[df_socio.date.notnull()]\n",
    "df_socio = df_socio[df_socio.popu.notnull()]"
   ]
  },
  {
   "cell_type": "code",
   "execution_count": 406,
   "metadata": {},
   "outputs": [],
   "source": [
    "df_socio['socio_index']= df_socio['socio_index'].str.replace(',','.')"
   ]
  },
  {
   "cell_type": "markdown",
   "metadata": {},
   "source": [
    "Calculate weigthed average"
   ]
  },
  {
   "cell_type": "code",
   "execution_count": 407,
   "metadata": {},
   "outputs": [],
   "source": [
    "cols = ['popu', 'socio_index']\n",
    "df_socio[cols] = df_socio[cols].apply(pd.to_numeric, errors='coerce', axis = 1)"
   ]
  },
  {
   "cell_type": "code",
   "execution_count": 408,
   "metadata": {},
   "outputs": [],
   "source": [
    "#[x * y for x in df_socio.socio_index for y in df_socio.popu]"
   ]
  },
  {
   "cell_type": "code",
   "execution_count": 409,
   "metadata": {},
   "outputs": [],
   "source": [
    "def my_agg(x):\n",
    "    names = {'w_ave_socio_index': (x['socio_index'] * x['popu']).sum()/x['popu'].sum()}\n",
    "    return pd.Series(names, index=['w_ave_socio_index'])"
   ]
  },
  {
   "cell_type": "code",
   "execution_count": 410,
   "metadata": {},
   "outputs": [],
   "source": [
    "df_socio[['socio_index', 'popu']] = df_socio[['socio_index', 'popu']].apply(pd.to_numeric, errors='coerce', axis = 1)"
   ]
  },
  {
   "cell_type": "code",
   "execution_count": 411,
   "metadata": {},
   "outputs": [],
   "source": [
    "df_socio = df_socio.groupby(['date', 'ID']).apply(my_agg).reset_index()"
   ]
  },
  {
   "cell_type": "code",
   "execution_count": 412,
   "metadata": {},
   "outputs": [
    {
     "data": {
      "text/html": [
       "<div>\n",
       "<style scoped>\n",
       "    .dataframe tbody tr th:only-of-type {\n",
       "        vertical-align: middle;\n",
       "    }\n",
       "\n",
       "    .dataframe tbody tr th {\n",
       "        vertical-align: top;\n",
       "    }\n",
       "\n",
       "    .dataframe thead th {\n",
       "        text-align: right;\n",
       "    }\n",
       "</style>\n",
       "<table border=\"1\" class=\"dataframe\">\n",
       "  <thead>\n",
       "    <tr style=\"text-align: right;\">\n",
       "      <th></th>\n",
       "      <th>date</th>\n",
       "      <th>ID</th>\n",
       "      <th>w_ave_socio_index</th>\n",
       "    </tr>\n",
       "  </thead>\n",
       "  <tbody>\n",
       "    <tr>\n",
       "      <td>820</td>\n",
       "      <td>2019-09-01</td>\n",
       "      <td>Capital</td>\n",
       "      <td>1.000451</td>\n",
       "    </tr>\n",
       "    <tr>\n",
       "      <td>821</td>\n",
       "      <td>2019-09-01</td>\n",
       "      <td>Central Denmark</td>\n",
       "      <td>0.918964</td>\n",
       "    </tr>\n",
       "    <tr>\n",
       "      <td>822</td>\n",
       "      <td>2019-09-01</td>\n",
       "      <td>North Denmark</td>\n",
       "      <td>0.985923</td>\n",
       "    </tr>\n",
       "    <tr>\n",
       "      <td>823</td>\n",
       "      <td>2019-09-01</td>\n",
       "      <td>Southern Denmark</td>\n",
       "      <td>1.054024</td>\n",
       "    </tr>\n",
       "    <tr>\n",
       "      <td>824</td>\n",
       "      <td>2019-09-01</td>\n",
       "      <td>Zealand</td>\n",
       "      <td>1.063554</td>\n",
       "    </tr>\n",
       "  </tbody>\n",
       "</table>\n",
       "</div>"
      ],
      "text/plain": [
       "          date                ID  w_ave_socio_index\n",
       "820 2019-09-01           Capital           1.000451\n",
       "821 2019-09-01   Central Denmark           0.918964\n",
       "822 2019-09-01     North Denmark           0.985923\n",
       "823 2019-09-01  Southern Denmark           1.054024\n",
       "824 2019-09-01           Zealand           1.063554"
      ]
     },
     "execution_count": 412,
     "metadata": {},
     "output_type": "execute_result"
    }
   ],
   "source": [
    "df_socio.tail()"
   ]
  },
  {
   "cell_type": "markdown",
   "metadata": {},
   "source": [
    "Save the result"
   ]
  },
  {
   "cell_type": "code",
   "execution_count": 413,
   "metadata": {},
   "outputs": [],
   "source": [
    "df_socio.to_csv(r'data/other/df_socio.csv', index = False)"
   ]
  },
  {
   "cell_type": "markdown",
   "metadata": {},
   "source": [
    "### Urbanisation"
   ]
  },
  {
   "cell_type": "markdown",
   "metadata": {},
   "source": [
    "Includes: \n",
    "1. Share of population in city"
   ]
  },
  {
   "cell_type": "markdown",
   "metadata": {},
   "source": [
    "Urbanisation "
   ]
  },
  {
   "cell_type": "code",
   "execution_count": 490,
   "metadata": {},
   "outputs": [],
   "source": [
    "df_urban = pd.read_csv('data/other/df_urbanisation.csv', sep=\";\")"
   ]
  },
  {
   "cell_type": "code",
   "execution_count": 491,
   "metadata": {},
   "outputs": [
    {
     "data": {
      "text/html": [
       "<div>\n",
       "<style scoped>\n",
       "    .dataframe tbody tr th:only-of-type {\n",
       "        vertical-align: middle;\n",
       "    }\n",
       "\n",
       "    .dataframe tbody tr th {\n",
       "        vertical-align: top;\n",
       "    }\n",
       "\n",
       "    .dataframe thead th {\n",
       "        text-align: right;\n",
       "    }\n",
       "</style>\n",
       "<table border=\"1\" class=\"dataframe\">\n",
       "  <thead>\n",
       "    <tr style=\"text-align: right;\">\n",
       "      <th></th>\n",
       "      <th>Unnamed: 0</th>\n",
       "      <th>Kom.nr</th>\n",
       "      <th>Y2006</th>\n",
       "      <th>Y2007</th>\n",
       "      <th>Y2008</th>\n",
       "      <th>Y2009</th>\n",
       "      <th>Y2010</th>\n",
       "      <th>Y2011</th>\n",
       "      <th>Y2012</th>\n",
       "      <th>Y2013</th>\n",
       "      <th>Y2014</th>\n",
       "      <th>Y2015</th>\n",
       "      <th>Y2016</th>\n",
       "      <th>Y2017</th>\n",
       "      <th>Y2018</th>\n",
       "      <th>Y2019</th>\n",
       "    </tr>\n",
       "  </thead>\n",
       "  <tbody>\n",
       "    <tr>\n",
       "      <td>0</td>\n",
       "      <td>Københavns Kommune</td>\n",
       "      <td>101</td>\n",
       "      <td>100</td>\n",
       "      <td>100</td>\n",
       "      <td>100</td>\n",
       "      <td>100</td>\n",
       "      <td>100</td>\n",
       "      <td>100</td>\n",
       "      <td>100</td>\n",
       "      <td>100</td>\n",
       "      <td>100</td>\n",
       "      <td>100</td>\n",
       "      <td>100</td>\n",
       "      <td>100</td>\n",
       "      <td>100</td>\n",
       "      <td>100</td>\n",
       "    </tr>\n",
       "    <tr>\n",
       "      <td>1</td>\n",
       "      <td>Frederiksberg Kommune</td>\n",
       "      <td>147</td>\n",
       "      <td>100</td>\n",
       "      <td>100</td>\n",
       "      <td>100</td>\n",
       "      <td>100</td>\n",
       "      <td>100</td>\n",
       "      <td>100</td>\n",
       "      <td>100</td>\n",
       "      <td>100</td>\n",
       "      <td>100</td>\n",
       "      <td>100</td>\n",
       "      <td>100</td>\n",
       "      <td>100</td>\n",
       "      <td>100</td>\n",
       "      <td>100</td>\n",
       "    </tr>\n",
       "    <tr>\n",
       "      <td>2</td>\n",
       "      <td>Ballerup Kommune</td>\n",
       "      <td>151</td>\n",
       "      <td>99,5</td>\n",
       "      <td>99,5</td>\n",
       "      <td>99,5</td>\n",
       "      <td>99,5</td>\n",
       "      <td>99,5</td>\n",
       "      <td>99,5</td>\n",
       "      <td>99,5</td>\n",
       "      <td>99,4</td>\n",
       "      <td>99,5</td>\n",
       "      <td>99,5</td>\n",
       "      <td>99,5</td>\n",
       "      <td>99,5</td>\n",
       "      <td>99,5</td>\n",
       "      <td>99,5</td>\n",
       "    </tr>\n",
       "    <tr>\n",
       "      <td>3</td>\n",
       "      <td>Brøndby Kommune</td>\n",
       "      <td>153</td>\n",
       "      <td>100</td>\n",
       "      <td>100</td>\n",
       "      <td>100</td>\n",
       "      <td>100</td>\n",
       "      <td>99,8</td>\n",
       "      <td>99,8</td>\n",
       "      <td>99,9</td>\n",
       "      <td>99,9</td>\n",
       "      <td>99,9</td>\n",
       "      <td>99,9</td>\n",
       "      <td>99,9</td>\n",
       "      <td>99,9</td>\n",
       "      <td>99,8</td>\n",
       "      <td>99,8</td>\n",
       "    </tr>\n",
       "    <tr>\n",
       "      <td>4</td>\n",
       "      <td>Dragør Kommune</td>\n",
       "      <td>155</td>\n",
       "      <td>98,1</td>\n",
       "      <td>98,1</td>\n",
       "      <td>98,2</td>\n",
       "      <td>98,3</td>\n",
       "      <td>98,3</td>\n",
       "      <td>98,2</td>\n",
       "      <td>97,9</td>\n",
       "      <td>97,9</td>\n",
       "      <td>97,8</td>\n",
       "      <td>97,5</td>\n",
       "      <td>97,7</td>\n",
       "      <td>97,4</td>\n",
       "      <td>97,3</td>\n",
       "      <td>97,4</td>\n",
       "    </tr>\n",
       "    <tr>\n",
       "      <td>...</td>\n",
       "      <td>...</td>\n",
       "      <td>...</td>\n",
       "      <td>...</td>\n",
       "      <td>...</td>\n",
       "      <td>...</td>\n",
       "      <td>...</td>\n",
       "      <td>...</td>\n",
       "      <td>...</td>\n",
       "      <td>...</td>\n",
       "      <td>...</td>\n",
       "      <td>...</td>\n",
       "      <td>...</td>\n",
       "      <td>...</td>\n",
       "      <td>...</td>\n",
       "      <td>...</td>\n",
       "      <td>...</td>\n",
       "    </tr>\n",
       "    <tr>\n",
       "      <td>93</td>\n",
       "      <td>Rebild Kommune</td>\n",
       "      <td>840</td>\n",
       "      <td>63,4</td>\n",
       "      <td>63,9</td>\n",
       "      <td>65,1</td>\n",
       "      <td>65,6</td>\n",
       "      <td>66</td>\n",
       "      <td>65,5</td>\n",
       "      <td>65,5</td>\n",
       "      <td>65,2</td>\n",
       "      <td>65,9</td>\n",
       "      <td>66,9</td>\n",
       "      <td>67,4</td>\n",
       "      <td>67,9</td>\n",
       "      <td>67,9</td>\n",
       "      <td>68,5</td>\n",
       "    </tr>\n",
       "    <tr>\n",
       "      <td>94</td>\n",
       "      <td>Mariagerfjord Kommune</td>\n",
       "      <td>846</td>\n",
       "      <td>73,5</td>\n",
       "      <td>74,4</td>\n",
       "      <td>73,9</td>\n",
       "      <td>74,5</td>\n",
       "      <td>74,7</td>\n",
       "      <td>75,2</td>\n",
       "      <td>75,7</td>\n",
       "      <td>76,1</td>\n",
       "      <td>76,1</td>\n",
       "      <td>76,2</td>\n",
       "      <td>76,4</td>\n",
       "      <td>76,5</td>\n",
       "      <td>77,1</td>\n",
       "      <td>77,1</td>\n",
       "    </tr>\n",
       "    <tr>\n",
       "      <td>95</td>\n",
       "      <td>Jammerbugt Kommune</td>\n",
       "      <td>849</td>\n",
       "      <td>71,5</td>\n",
       "      <td>72,3</td>\n",
       "      <td>72,4</td>\n",
       "      <td>72,5</td>\n",
       "      <td>73,6</td>\n",
       "      <td>73,8</td>\n",
       "      <td>74,1</td>\n",
       "      <td>74,2</td>\n",
       "      <td>74,3</td>\n",
       "      <td>74,6</td>\n",
       "      <td>74,8</td>\n",
       "      <td>74,8</td>\n",
       "      <td>74,6</td>\n",
       "      <td>74,7</td>\n",
       "    </tr>\n",
       "    <tr>\n",
       "      <td>96</td>\n",
       "      <td>Aalborg Kommune</td>\n",
       "      <td>851</td>\n",
       "      <td>91,5</td>\n",
       "      <td>91,5</td>\n",
       "      <td>91,4</td>\n",
       "      <td>91,7</td>\n",
       "      <td>91,9</td>\n",
       "      <td>92</td>\n",
       "      <td>92</td>\n",
       "      <td>92,2</td>\n",
       "      <td>92,3</td>\n",
       "      <td>92,3</td>\n",
       "      <td>92,4</td>\n",
       "      <td>92,4</td>\n",
       "      <td>92,5</td>\n",
       "      <td>92,8</td>\n",
       "    </tr>\n",
       "    <tr>\n",
       "      <td>97</td>\n",
       "      <td>Hjørring Kommune</td>\n",
       "      <td>860</td>\n",
       "      <td>74,2</td>\n",
       "      <td>74,5</td>\n",
       "      <td>74,5</td>\n",
       "      <td>74,4</td>\n",
       "      <td>75,6</td>\n",
       "      <td>75,4</td>\n",
       "      <td>75,8</td>\n",
       "      <td>76</td>\n",
       "      <td>76,3</td>\n",
       "      <td>76,2</td>\n",
       "      <td>76,5</td>\n",
       "      <td>76,9</td>\n",
       "      <td>76,8</td>\n",
       "      <td>76,9</td>\n",
       "    </tr>\n",
       "  </tbody>\n",
       "</table>\n",
       "<p>98 rows × 16 columns</p>\n",
       "</div>"
      ],
      "text/plain": [
       "               Unnamed: 0  Kom.nr Y2006 Y2007 Y2008 Y2009 Y2010 Y2011 Y2012  \\\n",
       "0      Københavns Kommune     101   100   100   100   100   100   100   100   \n",
       "1   Frederiksberg Kommune     147   100   100   100   100   100   100   100   \n",
       "2        Ballerup Kommune     151  99,5  99,5  99,5  99,5  99,5  99,5  99,5   \n",
       "3         Brøndby Kommune     153   100   100   100   100  99,8  99,8  99,9   \n",
       "4          Dragør Kommune     155  98,1  98,1  98,2  98,3  98,3  98,2  97,9   \n",
       "..                    ...     ...   ...   ...   ...   ...   ...   ...   ...   \n",
       "93         Rebild Kommune     840  63,4  63,9  65,1  65,6    66  65,5  65,5   \n",
       "94  Mariagerfjord Kommune     846  73,5  74,4  73,9  74,5  74,7  75,2  75,7   \n",
       "95     Jammerbugt Kommune     849  71,5  72,3  72,4  72,5  73,6  73,8  74,1   \n",
       "96        Aalborg Kommune     851  91,5  91,5  91,4  91,7  91,9    92    92   \n",
       "97       Hjørring Kommune     860  74,2  74,5  74,5  74,4  75,6  75,4  75,8   \n",
       "\n",
       "   Y2013 Y2014 Y2015 Y2016 Y2017 Y2018 Y2019  \n",
       "0    100   100   100   100   100   100   100  \n",
       "1    100   100   100   100   100   100   100  \n",
       "2   99,4  99,5  99,5  99,5  99,5  99,5  99,5  \n",
       "3   99,9  99,9  99,9  99,9  99,9  99,8  99,8  \n",
       "4   97,9  97,8  97,5  97,7  97,4  97,3  97,4  \n",
       "..   ...   ...   ...   ...   ...   ...   ...  \n",
       "93  65,2  65,9  66,9  67,4  67,9  67,9  68,5  \n",
       "94  76,1  76,1  76,2  76,4  76,5  77,1  77,1  \n",
       "95  74,2  74,3  74,6  74,8  74,8  74,6  74,7  \n",
       "96  92,2  92,3  92,3  92,4  92,4  92,5  92,8  \n",
       "97    76  76,3  76,2  76,5  76,9  76,8  76,9  \n",
       "\n",
       "[98 rows x 16 columns]"
      ]
     },
     "execution_count": 491,
     "metadata": {},
     "output_type": "execute_result"
    }
   ],
   "source": [
    "df_urban"
   ]
  },
  {
   "cell_type": "markdown",
   "metadata": {},
   "source": [
    "Wide to long"
   ]
  },
  {
   "cell_type": "code",
   "execution_count": 492,
   "metadata": {},
   "outputs": [],
   "source": [
    "df_urban = pd.wide_to_long(df_urban, ['Y'], i=[\"Kom.nr\", 'Unnamed: 0'], j=\"date\").reset_index()"
   ]
  },
  {
   "cell_type": "code",
   "execution_count": 493,
   "metadata": {},
   "outputs": [],
   "source": [
    "df_urban.rename(columns = {'Unnamed: 0': 'kom', 'Y' : 'urban_index'}, inplace=True)"
   ]
  },
  {
   "cell_type": "code",
   "execution_count": 494,
   "metadata": {},
   "outputs": [],
   "source": [
    "df_urban['urban_index'] = df_urban['urban_index'].str.replace(',','.')"
   ]
  },
  {
   "cell_type": "markdown",
   "metadata": {},
   "source": [
    "Correct date format"
   ]
  },
  {
   "cell_type": "code",
   "execution_count": 495,
   "metadata": {},
   "outputs": [],
   "source": [
    "df_urban = df_urban.drop_duplicates()\n",
    "df_urban = quarter_to_month(df = df_urban, orig_format = '%Y', to_format = 'month', from_format = 'year', variable_names = ['Kom.nr', 'kom', 'date', 'urban_index'],  group_by = ['kom','year'])"
   ]
  },
  {
   "cell_type": "code",
   "execution_count": 496,
   "metadata": {},
   "outputs": [
    {
     "data": {
      "text/plain": [
       "Timestamp('2019-12-01 00:00:00')"
      ]
     },
     "execution_count": 496,
     "metadata": {},
     "output_type": "execute_result"
    }
   ],
   "source": [
    "df_urban.date.max()"
   ]
  },
  {
   "cell_type": "code",
   "execution_count": 497,
   "metadata": {},
   "outputs": [
    {
     "data": {
      "text/plain": [
       "Timestamp('2006-01-01 00:00:00')"
      ]
     },
     "execution_count": 497,
     "metadata": {},
     "output_type": "execute_result"
    }
   ],
   "source": [
    "df_urban.date.min()"
   ]
  },
  {
   "cell_type": "markdown",
   "metadata": {},
   "source": [
    "Shift 4 months"
   ]
  },
  {
   "cell_type": "code",
   "execution_count": 498,
   "metadata": {},
   "outputs": [],
   "source": [
    "df_urban['urban_index']  = df_urban.groupby(['Kom.nr'])['urban_index'].shift(4)"
   ]
  },
  {
   "cell_type": "markdown",
   "metadata": {},
   "source": [
    "Load in population"
   ]
  },
  {
   "cell_type": "code",
   "execution_count": 499,
   "metadata": {},
   "outputs": [],
   "source": [
    "df_mun_pop = pd.read_csv('data/other/df_mun_pop_new.csv', sep = ',',  parse_dates = ['date'])"
   ]
  },
  {
   "cell_type": "code",
   "execution_count": 501,
   "metadata": {},
   "outputs": [],
   "source": [
    "df_urban = df_urban.merge(df_global_mun_reg[['Kom.nr', 'dst_name_en']], left_on = 'Kom.nr', right_on = 'Kom.nr', how = 'left')"
   ]
  },
  {
   "cell_type": "code",
   "execution_count": 504,
   "metadata": {},
   "outputs": [],
   "source": [
    "df_urban = df_mun_pop.merge(df_urban, left_on = ['OMRÅDE', 'date'], right_on =  ['dst_name_en', 'date'], how = 'left')"
   ]
  },
  {
   "cell_type": "code",
   "execution_count": 505,
   "metadata": {},
   "outputs": [
    {
     "data": {
      "text/html": [
       "<div>\n",
       "<style scoped>\n",
       "    .dataframe tbody tr th:only-of-type {\n",
       "        vertical-align: middle;\n",
       "    }\n",
       "\n",
       "    .dataframe tbody tr th {\n",
       "        vertical-align: top;\n",
       "    }\n",
       "\n",
       "    .dataframe thead th {\n",
       "        text-align: right;\n",
       "    }\n",
       "</style>\n",
       "<table border=\"1\" class=\"dataframe\">\n",
       "  <thead>\n",
       "    <tr style=\"text-align: right;\">\n",
       "      <th></th>\n",
       "      <th>OMRÅDE</th>\n",
       "      <th>date</th>\n",
       "      <th>pop</th>\n",
       "      <th>Kom.nr</th>\n",
       "      <th>kom</th>\n",
       "      <th>urban_index</th>\n",
       "      <th>dst_name_en</th>\n",
       "    </tr>\n",
       "  </thead>\n",
       "  <tbody>\n",
       "    <tr>\n",
       "      <td>0</td>\n",
       "      <td>Nordfyns</td>\n",
       "      <td>2005-02-01</td>\n",
       "      <td>28655</td>\n",
       "      <td>NaN</td>\n",
       "      <td>NaN</td>\n",
       "      <td>NaN</td>\n",
       "      <td>NaN</td>\n",
       "    </tr>\n",
       "    <tr>\n",
       "      <td>1</td>\n",
       "      <td>Norddjurs</td>\n",
       "      <td>2005-02-01</td>\n",
       "      <td>38349</td>\n",
       "      <td>NaN</td>\n",
       "      <td>NaN</td>\n",
       "      <td>NaN</td>\n",
       "      <td>NaN</td>\n",
       "    </tr>\n",
       "    <tr>\n",
       "      <td>2</td>\n",
       "      <td>Holbæk</td>\n",
       "      <td>2005-02-01</td>\n",
       "      <td>66611</td>\n",
       "      <td>NaN</td>\n",
       "      <td>NaN</td>\n",
       "      <td>NaN</td>\n",
       "      <td>NaN</td>\n",
       "    </tr>\n",
       "    <tr>\n",
       "      <td>3</td>\n",
       "      <td>Allerød</td>\n",
       "      <td>2005-02-01</td>\n",
       "      <td>23458</td>\n",
       "      <td>NaN</td>\n",
       "      <td>NaN</td>\n",
       "      <td>NaN</td>\n",
       "      <td>NaN</td>\n",
       "    </tr>\n",
       "    <tr>\n",
       "      <td>4</td>\n",
       "      <td>Brøndby</td>\n",
       "      <td>2005-02-01</td>\n",
       "      <td>34513</td>\n",
       "      <td>NaN</td>\n",
       "      <td>NaN</td>\n",
       "      <td>NaN</td>\n",
       "      <td>NaN</td>\n",
       "    </tr>\n",
       "    <tr>\n",
       "      <td>...</td>\n",
       "      <td>...</td>\n",
       "      <td>...</td>\n",
       "      <td>...</td>\n",
       "      <td>...</td>\n",
       "      <td>...</td>\n",
       "      <td>...</td>\n",
       "      <td>...</td>\n",
       "    </tr>\n",
       "    <tr>\n",
       "      <td>17419</td>\n",
       "      <td>Norddjurs</td>\n",
       "      <td>2019-09-01</td>\n",
       "      <td>37613</td>\n",
       "      <td>707</td>\n",
       "      <td>Norddjurs Kommune</td>\n",
       "      <td>73.8</td>\n",
       "      <td>Norddjurs</td>\n",
       "    </tr>\n",
       "    <tr>\n",
       "      <td>17420</td>\n",
       "      <td>Thisted</td>\n",
       "      <td>2019-09-01</td>\n",
       "      <td>43584</td>\n",
       "      <td>787</td>\n",
       "      <td>Thisted Kommune</td>\n",
       "      <td>70.4</td>\n",
       "      <td>Thisted</td>\n",
       "    </tr>\n",
       "    <tr>\n",
       "      <td>17421</td>\n",
       "      <td>Halsnæs</td>\n",
       "      <td>2019-09-01</td>\n",
       "      <td>31395</td>\n",
       "      <td>260</td>\n",
       "      <td>Halsnæs Kommune</td>\n",
       "      <td>91.4</td>\n",
       "      <td>Halsnæs</td>\n",
       "    </tr>\n",
       "    <tr>\n",
       "      <td>17422</td>\n",
       "      <td>Christiansø</td>\n",
       "      <td>2019-09-01</td>\n",
       "      <td>83</td>\n",
       "      <td>NaN</td>\n",
       "      <td>NaN</td>\n",
       "      <td>NaN</td>\n",
       "      <td>NaN</td>\n",
       "    </tr>\n",
       "    <tr>\n",
       "      <td>17423</td>\n",
       "      <td>Frederikshavn</td>\n",
       "      <td>2019-09-01</td>\n",
       "      <td>59960</td>\n",
       "      <td>813</td>\n",
       "      <td>Frederikshavn Kommune</td>\n",
       "      <td>87.5</td>\n",
       "      <td>Frederikshavn</td>\n",
       "    </tr>\n",
       "  </tbody>\n",
       "</table>\n",
       "<p>17424 rows × 7 columns</p>\n",
       "</div>"
      ],
      "text/plain": [
       "              OMRÅDE       date    pop Kom.nr                    kom  \\\n",
       "0           Nordfyns 2005-02-01  28655    NaN                    NaN   \n",
       "1          Norddjurs 2005-02-01  38349    NaN                    NaN   \n",
       "2             Holbæk 2005-02-01  66611    NaN                    NaN   \n",
       "3            Allerød 2005-02-01  23458    NaN                    NaN   \n",
       "4            Brøndby 2005-02-01  34513    NaN                    NaN   \n",
       "...              ...        ...    ...    ...                    ...   \n",
       "17419      Norddjurs 2019-09-01  37613    707      Norddjurs Kommune   \n",
       "17420        Thisted 2019-09-01  43584    787        Thisted Kommune   \n",
       "17421        Halsnæs 2019-09-01  31395    260        Halsnæs Kommune   \n",
       "17422    Christiansø 2019-09-01     83    NaN                    NaN   \n",
       "17423  Frederikshavn 2019-09-01  59960    813  Frederikshavn Kommune   \n",
       "\n",
       "      urban_index    dst_name_en  \n",
       "0             NaN            NaN  \n",
       "1             NaN            NaN  \n",
       "2             NaN            NaN  \n",
       "3             NaN            NaN  \n",
       "4             NaN            NaN  \n",
       "...           ...            ...  \n",
       "17419        73.8      Norddjurs  \n",
       "17420        70.4        Thisted  \n",
       "17421        91.4        Halsnæs  \n",
       "17422         NaN            NaN  \n",
       "17423        87.5  Frederikshavn  \n",
       "\n",
       "[17424 rows x 7 columns]"
      ]
     },
     "execution_count": 505,
     "metadata": {},
     "output_type": "execute_result"
    }
   ],
   "source": [
    "df_urban"
   ]
  },
  {
   "cell_type": "code",
   "execution_count": 506,
   "metadata": {},
   "outputs": [],
   "source": [
    "df_urban  =df_urban[['date', 'Kom.nr', 'urban_index', 'pop']]"
   ]
  },
  {
   "cell_type": "code",
   "execution_count": 507,
   "metadata": {},
   "outputs": [],
   "source": [
    "df_urban = df_urban[df_urban.date.notnull()]\n",
    "df_urban = df_urban[df_urban['pop'].notnull()]"
   ]
  },
  {
   "cell_type": "markdown",
   "metadata": {},
   "source": [
    "Calculate weigthed average"
   ]
  },
  {
   "cell_type": "code",
   "execution_count": 508,
   "metadata": {},
   "outputs": [],
   "source": [
    "def my_agg(x):\n",
    "    names = {'w_ave_urban_index': (x['urban_index'] * x['pop']).sum()/x['pop'].sum()}\n",
    "    return pd.Series(names, index=['w_ave_urban_index'])"
   ]
  },
  {
   "cell_type": "markdown",
   "metadata": {},
   "source": [
    "Correct region format "
   ]
  },
  {
   "cell_type": "code",
   "execution_count": 509,
   "metadata": {},
   "outputs": [],
   "source": [
    "df_global_mun_reg = pd.read_csv('data/other/df_global_mun_reg.csv', sep = ',')"
   ]
  },
  {
   "cell_type": "code",
   "execution_count": 510,
   "metadata": {},
   "outputs": [],
   "source": [
    "df_urban = df_urban.merge(df_global_mun_reg[['Kom.nr', 'ID']], left_on = 'Kom.nr', right_on = 'Kom.nr', how = 'left')\n",
    "df_urban =df_urban.drop_duplicates()"
   ]
  },
  {
   "cell_type": "code",
   "execution_count": 511,
   "metadata": {},
   "outputs": [],
   "source": [
    "df_urban['urban_index'] = df_urban['urban_index'].apply(pd.to_numeric, errors='coerce')"
   ]
  },
  {
   "cell_type": "code",
   "execution_count": 512,
   "metadata": {},
   "outputs": [],
   "source": [
    "df_urban = df_urban.drop(['Kom.nr'], axis = 1)"
   ]
  },
  {
   "cell_type": "code",
   "execution_count": 513,
   "metadata": {},
   "outputs": [],
   "source": [
    "df_urban = df_urban.groupby(['ID', 'date']).apply(my_agg).reset_index()"
   ]
  },
  {
   "cell_type": "code",
   "execution_count": 514,
   "metadata": {},
   "outputs": [
    {
     "data": {
      "text/html": [
       "<div>\n",
       "<style scoped>\n",
       "    .dataframe tbody tr th:only-of-type {\n",
       "        vertical-align: middle;\n",
       "    }\n",
       "\n",
       "    .dataframe tbody tr th {\n",
       "        vertical-align: top;\n",
       "    }\n",
       "\n",
       "    .dataframe thead th {\n",
       "        text-align: right;\n",
       "    }\n",
       "</style>\n",
       "<table border=\"1\" class=\"dataframe\">\n",
       "  <thead>\n",
       "    <tr style=\"text-align: right;\">\n",
       "      <th></th>\n",
       "      <th>ID</th>\n",
       "      <th>date</th>\n",
       "      <th>w_ave_urban_index</th>\n",
       "    </tr>\n",
       "  </thead>\n",
       "  <tbody>\n",
       "    <tr>\n",
       "      <td>0</td>\n",
       "      <td>Capital</td>\n",
       "      <td>2006-01-01</td>\n",
       "      <td>0.000000</td>\n",
       "    </tr>\n",
       "    <tr>\n",
       "      <td>1</td>\n",
       "      <td>Capital</td>\n",
       "      <td>2006-02-01</td>\n",
       "      <td>0.000000</td>\n",
       "    </tr>\n",
       "    <tr>\n",
       "      <td>2</td>\n",
       "      <td>Capital</td>\n",
       "      <td>2006-03-01</td>\n",
       "      <td>0.000000</td>\n",
       "    </tr>\n",
       "    <tr>\n",
       "      <td>3</td>\n",
       "      <td>Capital</td>\n",
       "      <td>2006-04-01</td>\n",
       "      <td>0.000000</td>\n",
       "    </tr>\n",
       "    <tr>\n",
       "      <td>4</td>\n",
       "      <td>Capital</td>\n",
       "      <td>2006-05-01</td>\n",
       "      <td>97.100111</td>\n",
       "    </tr>\n",
       "  </tbody>\n",
       "</table>\n",
       "</div>"
      ],
      "text/plain": [
       "        ID       date  w_ave_urban_index\n",
       "0  Capital 2006-01-01           0.000000\n",
       "1  Capital 2006-02-01           0.000000\n",
       "2  Capital 2006-03-01           0.000000\n",
       "3  Capital 2006-04-01           0.000000\n",
       "4  Capital 2006-05-01          97.100111"
      ]
     },
     "execution_count": 514,
     "metadata": {},
     "output_type": "execute_result"
    }
   ],
   "source": [
    "df_urban.head()"
   ]
  },
  {
   "cell_type": "markdown",
   "metadata": {},
   "source": [
    "Save"
   ]
  },
  {
   "cell_type": "code",
   "execution_count": 515,
   "metadata": {},
   "outputs": [],
   "source": [
    "df_urban.to_csv(r'data/other/df_urban.csv', index = False)"
   ]
  },
  {
   "cell_type": "markdown",
   "metadata": {},
   "source": [
    "### Result dataframe"
   ]
  },
  {
   "cell_type": "markdown",
   "metadata": {},
   "source": [
    "Includes:\n",
    "1. Population\n",
    "1. Average age\n",
    "1. population growth\n",
    "1. labour force share of population\n",
    "1. share of population with MVU or LVU\n",
    "1. Socio\n",
    "1. Urbanisation\n"
   ]
  },
  {
   "cell_type": "markdown",
   "metadata": {},
   "source": [
    "Load relevant data frames"
   ]
  },
  {
   "cell_type": "code",
   "execution_count": 541,
   "metadata": {},
   "outputs": [],
   "source": [
    "df_reg_pop = pd.read_csv('data/other/df_reg_pop_new.csv', sep=\",\")\n",
    "df_reg_edu = pd.read_csv('data/other/df_reg_edu.csv', sep=\",\")\n",
    "df_pop_growth = pd.read_csv('data/other/df_pop_growth.csv', sep=\",\")\n",
    "df_reg_pop_share = pd.read_csv('data/other/df_reg_pop_share.csv', sep=\",\")\n",
    "df_socio = pd.read_csv('data/other/df_socio.csv', sep=\",\")\n",
    "df_urban = pd.read_csv('data/other/df_urban.csv', sep=\",\")"
   ]
  },
  {
   "cell_type": "markdown",
   "metadata": {},
   "source": [
    "Merge the results"
   ]
  },
  {
   "cell_type": "code",
   "execution_count": 542,
   "metadata": {},
   "outputs": [
    {
     "data": {
      "text/plain": [
       "(880, 3)"
      ]
     },
     "execution_count": 542,
     "metadata": {},
     "output_type": "execute_result"
    }
   ],
   "source": [
    "df_reg_pop = df_reg_pop.rename(columns = {'INDHOLD': 'pop', 'TID': 'date'})\n",
    "df_reg_pop.shape"
   ]
  },
  {
   "cell_type": "code",
   "execution_count": 543,
   "metadata": {},
   "outputs": [],
   "source": [
    "#df_pop_growth = df_pop_growth.rename(columns = {'INDHOLD': 'pop_growth', 'TID': 'date'})\n",
    "#result = result.merge(df_pop_growth, on = ['date', 'ID'], how = 'left')"
   ]
  },
  {
   "cell_type": "code",
   "execution_count": 544,
   "metadata": {},
   "outputs": [],
   "source": [
    "#result.shape"
   ]
  },
  {
   "cell_type": "code",
   "execution_count": 545,
   "metadata": {},
   "outputs": [],
   "source": [
    "df_reg_edu = df_reg_edu.rename(columns = {'TID': 'date'})"
   ]
  },
  {
   "cell_type": "code",
   "execution_count": 546,
   "metadata": {},
   "outputs": [],
   "source": [
    "result = df_reg_pop.merge(df_reg_edu, on = ['date', 'ID'], how = 'left')"
   ]
  },
  {
   "cell_type": "code",
   "execution_count": 547,
   "metadata": {},
   "outputs": [
    {
     "data": {
      "text/plain": [
       "(880, 4)"
      ]
     },
     "execution_count": 547,
     "metadata": {},
     "output_type": "execute_result"
    }
   ],
   "source": [
    "result.shape"
   ]
  },
  {
   "cell_type": "code",
   "execution_count": 548,
   "metadata": {},
   "outputs": [],
   "source": [
    "df_reg_pop_share = df_reg_pop_share.rename(columns = {'TID': 'date'})\n",
    "result = result.merge(df_reg_pop_share, on = ['date', 'ID'], how = 'left')"
   ]
  },
  {
   "cell_type": "code",
   "execution_count": 549,
   "metadata": {},
   "outputs": [
    {
     "data": {
      "text/plain": [
       "(880, 5)"
      ]
     },
     "execution_count": 549,
     "metadata": {},
     "output_type": "execute_result"
    }
   ],
   "source": [
    "result.shape"
   ]
  },
  {
   "cell_type": "code",
   "execution_count": 550,
   "metadata": {},
   "outputs": [],
   "source": [
    "result = result.merge(df_socio, on = ['date', 'ID'], how = 'left')"
   ]
  },
  {
   "cell_type": "code",
   "execution_count": 551,
   "metadata": {},
   "outputs": [
    {
     "data": {
      "text/plain": [
       "(880, 6)"
      ]
     },
     "execution_count": 551,
     "metadata": {},
     "output_type": "execute_result"
    }
   ],
   "source": [
    "result.shape"
   ]
  },
  {
   "cell_type": "code",
   "execution_count": 552,
   "metadata": {},
   "outputs": [],
   "source": [
    "result = result.merge(df_urban, on = ['date', 'ID'], how = 'left')"
   ]
  },
  {
   "cell_type": "code",
   "execution_count": 553,
   "metadata": {},
   "outputs": [
    {
     "data": {
      "text/plain": [
       "(880, 7)"
      ]
     },
     "execution_count": 553,
     "metadata": {},
     "output_type": "execute_result"
    }
   ],
   "source": [
    "result.shape"
   ]
  },
  {
   "cell_type": "code",
   "execution_count": 559,
   "metadata": {},
   "outputs": [],
   "source": [
    "result = result[result.mvu_lvu_share_pop.notnull()]\n",
    "result = result[result.w_ave_urban_index.notnull()]\n",
    "result = result[result.labour_force_share.notnull()]\n",
    "result = result[~(result['pop'] == 0)]"
   ]
  },
  {
   "cell_type": "code",
   "execution_count": 560,
   "metadata": {},
   "outputs": [
    {
     "data": {
      "text/plain": [
       "'2007-02-01'"
      ]
     },
     "execution_count": 560,
     "metadata": {},
     "output_type": "execute_result"
    }
   ],
   "source": [
    "result.date.min()"
   ]
  },
  {
   "cell_type": "code",
   "execution_count": 561,
   "metadata": {},
   "outputs": [
    {
     "data": {
      "text/plain": [
       "'2019-09-01'"
      ]
     },
     "execution_count": 561,
     "metadata": {},
     "output_type": "execute_result"
    }
   ],
   "source": [
    "result.date.max()"
   ]
  },
  {
   "cell_type": "markdown",
   "metadata": {},
   "source": [
    "Save the result"
   ]
  },
  {
   "cell_type": "code",
   "execution_count": 565,
   "metadata": {},
   "outputs": [],
   "source": [
    "result.to_csv(r'DK/data//df_controls.csv', index = False)"
   ]
  },
  {
   "cell_type": "code",
   "execution_count": 563,
   "metadata": {},
   "outputs": [
    {
     "data": {
      "text/html": [
       "<div>\n",
       "<style scoped>\n",
       "    .dataframe tbody tr th:only-of-type {\n",
       "        vertical-align: middle;\n",
       "    }\n",
       "\n",
       "    .dataframe tbody tr th {\n",
       "        vertical-align: top;\n",
       "    }\n",
       "\n",
       "    .dataframe thead th {\n",
       "        text-align: right;\n",
       "    }\n",
       "</style>\n",
       "<table border=\"1\" class=\"dataframe\">\n",
       "  <thead>\n",
       "    <tr style=\"text-align: right;\">\n",
       "      <th></th>\n",
       "      <th>date</th>\n",
       "      <th>pop</th>\n",
       "      <th>ID</th>\n",
       "      <th>mvu_lvu_share_pop</th>\n",
       "      <th>labour_force_share</th>\n",
       "      <th>w_ave_socio_index</th>\n",
       "      <th>w_ave_urban_index</th>\n",
       "    </tr>\n",
       "  </thead>\n",
       "  <tbody>\n",
       "    <tr>\n",
       "      <td>120</td>\n",
       "      <td>2007-02-01</td>\n",
       "      <td>1189817</td>\n",
       "      <td>Southern Denmark</td>\n",
       "      <td>11.347711</td>\n",
       "      <td>49.553657</td>\n",
       "      <td>1.028618</td>\n",
       "      <td>81.954235</td>\n",
       "    </tr>\n",
       "    <tr>\n",
       "      <td>121</td>\n",
       "      <td>2007-02-01</td>\n",
       "      <td>1636749</td>\n",
       "      <td>Capital</td>\n",
       "      <td>18.111390</td>\n",
       "      <td>53.349658</td>\n",
       "      <td>1.022836</td>\n",
       "      <td>97.098576</td>\n",
       "    </tr>\n",
       "    <tr>\n",
       "      <td>122</td>\n",
       "      <td>2007-02-01</td>\n",
       "      <td>576972</td>\n",
       "      <td>North Denmark</td>\n",
       "      <td>11.066395</td>\n",
       "      <td>49.926222</td>\n",
       "      <td>0.927014</td>\n",
       "      <td>78.977670</td>\n",
       "    </tr>\n",
       "    <tr>\n",
       "      <td>123</td>\n",
       "      <td>2007-02-01</td>\n",
       "      <td>1227428</td>\n",
       "      <td>Central Denmark</td>\n",
       "      <td>12.915462</td>\n",
       "      <td>52.626916</td>\n",
       "      <td>0.963735</td>\n",
       "      <td>83.054526</td>\n",
       "    </tr>\n",
       "    <tr>\n",
       "      <td>124</td>\n",
       "      <td>2007-02-01</td>\n",
       "      <td>816118</td>\n",
       "      <td>Zealand</td>\n",
       "      <td>11.064331</td>\n",
       "      <td>49.926444</td>\n",
       "      <td>1.025331</td>\n",
       "      <td>79.010224</td>\n",
       "    </tr>\n",
       "    <tr>\n",
       "      <td>...</td>\n",
       "      <td>...</td>\n",
       "      <td>...</td>\n",
       "      <td>...</td>\n",
       "      <td>...</td>\n",
       "      <td>...</td>\n",
       "      <td>...</td>\n",
       "      <td>...</td>\n",
       "    </tr>\n",
       "    <tr>\n",
       "      <td>875</td>\n",
       "      <td>2019-09-01</td>\n",
       "      <td>1223879</td>\n",
       "      <td>Southern Denmark</td>\n",
       "      <td>15.312053</td>\n",
       "      <td>46.856873</td>\n",
       "      <td>1.054024</td>\n",
       "      <td>84.237017</td>\n",
       "    </tr>\n",
       "    <tr>\n",
       "      <td>876</td>\n",
       "      <td>2019-09-01</td>\n",
       "      <td>589731</td>\n",
       "      <td>North Denmark</td>\n",
       "      <td>15.210664</td>\n",
       "      <td>48.005362</td>\n",
       "      <td>0.985923</td>\n",
       "      <td>81.629067</td>\n",
       "    </tr>\n",
       "    <tr>\n",
       "      <td>877</td>\n",
       "      <td>2019-09-01</td>\n",
       "      <td>1840357</td>\n",
       "      <td>Capital</td>\n",
       "      <td>25.136210</td>\n",
       "      <td>51.339438</td>\n",
       "      <td>1.000451</td>\n",
       "      <td>97.594630</td>\n",
       "    </tr>\n",
       "    <tr>\n",
       "      <td>878</td>\n",
       "      <td>2019-09-01</td>\n",
       "      <td>1323137</td>\n",
       "      <td>Central Denmark</td>\n",
       "      <td>17.732102</td>\n",
       "      <td>48.926367</td>\n",
       "      <td>0.918964</td>\n",
       "      <td>85.559032</td>\n",
       "    </tr>\n",
       "    <tr>\n",
       "      <td>879</td>\n",
       "      <td>2019-09-01</td>\n",
       "      <td>837357</td>\n",
       "      <td>Zealand</td>\n",
       "      <td>13.837109</td>\n",
       "      <td>46.191153</td>\n",
       "      <td>1.063554</td>\n",
       "      <td>81.526431</td>\n",
       "    </tr>\n",
       "  </tbody>\n",
       "</table>\n",
       "<p>760 rows × 7 columns</p>\n",
       "</div>"
      ],
      "text/plain": [
       "           date      pop                ID  mvu_lvu_share_pop  \\\n",
       "120  2007-02-01  1189817  Southern Denmark          11.347711   \n",
       "121  2007-02-01  1636749           Capital          18.111390   \n",
       "122  2007-02-01   576972     North Denmark          11.066395   \n",
       "123  2007-02-01  1227428   Central Denmark          12.915462   \n",
       "124  2007-02-01   816118           Zealand          11.064331   \n",
       "..          ...      ...               ...                ...   \n",
       "875  2019-09-01  1223879  Southern Denmark          15.312053   \n",
       "876  2019-09-01   589731     North Denmark          15.210664   \n",
       "877  2019-09-01  1840357           Capital          25.136210   \n",
       "878  2019-09-01  1323137   Central Denmark          17.732102   \n",
       "879  2019-09-01   837357           Zealand          13.837109   \n",
       "\n",
       "     labour_force_share  w_ave_socio_index  w_ave_urban_index  \n",
       "120           49.553657           1.028618          81.954235  \n",
       "121           53.349658           1.022836          97.098576  \n",
       "122           49.926222           0.927014          78.977670  \n",
       "123           52.626916           0.963735          83.054526  \n",
       "124           49.926444           1.025331          79.010224  \n",
       "..                  ...                ...                ...  \n",
       "875           46.856873           1.054024          84.237017  \n",
       "876           48.005362           0.985923          81.629067  \n",
       "877           51.339438           1.000451          97.594630  \n",
       "878           48.926367           0.918964          85.559032  \n",
       "879           46.191153           1.063554          81.526431  \n",
       "\n",
       "[760 rows x 7 columns]"
      ]
     },
     "execution_count": 563,
     "metadata": {},
     "output_type": "execute_result"
    }
   ],
   "source": [
    "result"
   ]
  },
  {
   "cell_type": "markdown",
   "metadata": {},
   "source": [
    "## SE"
   ]
  },
  {
   "cell_type": "markdown",
   "metadata": {},
   "source": [
    "Population"
   ]
  },
  {
   "cell_type": "code",
   "execution_count": 1810,
   "metadata": {},
   "outputs": [],
   "source": [
    "url = 'http://api.scb.se/OV0104/v1/doris/en/ssd/START/BE/BE0101/BE0101A/BefolkningNy'"
   ]
  },
  {
   "cell_type": "code",
   "execution_count": 1811,
   "metadata": {},
   "outputs": [],
   "source": [
    "params = {\n",
    "  \"query\": [\n",
    "    {\n",
    "      \"code\": \"Region\",\n",
    "      \"selection\": {\n",
    "        \"filter\": \"vs:RegionLän07\",\n",
    "        \"values\": [\n",
    "          \"01\",\n",
    "          \"03\",\n",
    "          \"04\",\n",
    "          \"05\",\n",
    "          \"06\",\n",
    "          \"07\",\n",
    "          \"08\",\n",
    "          \"09\",\n",
    "          \"10\",\n",
    "          \"12\",\n",
    "          \"13\",\n",
    "          \"14\",\n",
    "          \"17\",\n",
    "          \"18\",\n",
    "          \"19\",\n",
    "          \"20\",\n",
    "          \"21\",\n",
    "          \"22\",\n",
    "          \"23\",\n",
    "          \"24\",\n",
    "          \"25\"\n",
    "        ]\n",
    "      }\n",
    "    },\n",
    "    {\n",
    "      \"code\": \"ContentsCode\",\n",
    "      \"selection\": {\n",
    "        \"filter\": \"item\",\n",
    "        \"values\": [\n",
    "          \"BE0101N1\"\n",
    "        ]\n",
    "      }\n",
    "    }\n",
    "  ],\n",
    "  \"response\": {\n",
    "    \"format\": \"csv\"\n",
    "  }\n",
    "}"
   ]
  },
  {
   "cell_type": "code",
   "execution_count": 1812,
   "metadata": {},
   "outputs": [],
   "source": [
    "# request data\n",
    "r = requests.post(url, json = params)\n",
    "r= r.text"
   ]
  },
  {
   "cell_type": "code",
   "execution_count": 1813,
   "metadata": {},
   "outputs": [],
   "source": [
    "# Save to CSV\n",
    "text_file = open(\"data/other/df_se_pop.csv\", \"w\", encoding=\"utf8\")\n",
    "text_file.write(r)\n",
    "text_file.close()"
   ]
  },
  {
   "cell_type": "code",
   "execution_count": 1814,
   "metadata": {},
   "outputs": [],
   "source": [
    "# Open the csv file \n",
    "df_se_pop = pd.read_csv(\"data/other/df_se_pop.csv\") "
   ]
  },
  {
   "cell_type": "code",
   "execution_count": 1815,
   "metadata": {},
   "outputs": [],
   "source": [
    "df_se_pop = pd.wide_to_long(df_se_pop, [\"Population \"], i=[\"region\"], j=\"date\").reset_index()\n",
    "df_se_pop = df_se_pop.rename(columns = {'Population ': 'pop'})"
   ]
  },
  {
   "cell_type": "code",
   "execution_count": 1816,
   "metadata": {},
   "outputs": [],
   "source": [
    "df_se_pop['reg_nr'] = [x[:2] for x in df_se_pop['region']]\n",
    "df_se_pop['ID'] = [x[3:] for x in df_se_pop['region']]"
   ]
  },
  {
   "cell_type": "markdown",
   "metadata": {},
   "source": [
    "Correct ID"
   ]
  },
  {
   "cell_type": "code",
   "execution_count": 1817,
   "metadata": {},
   "outputs": [],
   "source": [
    "df_se_pop['ID'] = [x[:-7] for x in df_se_pop['ID']]"
   ]
  },
  {
   "cell_type": "code",
   "execution_count": 1818,
   "metadata": {},
   "outputs": [],
   "source": [
    "df_se_pop = df_se_pop.drop('region', axis = 1)"
   ]
  },
  {
   "cell_type": "markdown",
   "metadata": {},
   "source": [
    "Correct date format"
   ]
  },
  {
   "cell_type": "code",
   "execution_count": 1819,
   "metadata": {},
   "outputs": [],
   "source": [
    "def quarter_to_month(df, date_variable = 'date', variable_names = ['HFUDD', 'TID', 'INDHOLD', 'ID'], group_by = ['ID','year'], orig_format = '%YK%m', to_format = 'month', from_format = 'quarter') :\n",
    "    \n",
    "    if (from_format == 'quarter' and to_format == 'month'):\n",
    "        df= pd.DataFrame(np.repeat(df.values,3, axis=0))\n",
    "    elif (from_format == 'year' and to_format == 'month'):\n",
    "        df= pd.DataFrame(np.repeat(df.values,12, axis=0))\n",
    "    elif (from_format == 'year' and to_format == 'quarter'):\n",
    "        df= pd.DataFrame(np.repeat(df.values,12, axis=0))\n",
    "    \n",
    "    variable_range = range(len(variable_names))\n",
    "    df = df.rename(index=str, columns={i:variable_names[i] for i in variable_range})\n",
    "    df['year'] = pd.to_datetime(df[date_variable], format=orig_format).dt.to_period('y')\n",
    "    df['month'] = df.groupby(group_by).cumcount()+1\n",
    "    df[date_variable] = pd.to_datetime(df.year.astype(str) + '-' + df.month.astype(str))\n",
    "    df= df.drop(['year', 'month'], axis = 1)\n",
    "    \n",
    "    if (from_format == 'year' and to_format == 'quarter'):\n",
    "        df = df[df['date'].map(lambda x: x.month).isin([1, 4, 7, 10])]\n",
    "       \n",
    "    return(df)"
   ]
  },
  {
   "cell_type": "code",
   "execution_count": 1820,
   "metadata": {},
   "outputs": [],
   "source": [
    "df_se_pop = quarter_to_month(df = df_se_pop, date_variable = 'date', orig_format = '%Y', to_format = 'quarter', from_format = 'year', variable_names = ['date', 'pop', 'reg_nr', 'ID'], group_by = ['ID','date'])"
   ]
  },
  {
   "cell_type": "code",
   "execution_count": 1821,
   "metadata": {},
   "outputs": [
    {
     "data": {
      "text/html": [
       "<div>\n",
       "<style scoped>\n",
       "    .dataframe tbody tr th:only-of-type {\n",
       "        vertical-align: middle;\n",
       "    }\n",
       "\n",
       "    .dataframe tbody tr th {\n",
       "        vertical-align: top;\n",
       "    }\n",
       "\n",
       "    .dataframe thead th {\n",
       "        text-align: right;\n",
       "    }\n",
       "</style>\n",
       "<table border=\"1\" class=\"dataframe\">\n",
       "  <thead>\n",
       "    <tr style=\"text-align: right;\">\n",
       "      <th></th>\n",
       "      <th>date</th>\n",
       "      <th>pop</th>\n",
       "      <th>reg_nr</th>\n",
       "      <th>ID</th>\n",
       "    </tr>\n",
       "  </thead>\n",
       "  <tbody>\n",
       "    <tr>\n",
       "      <td>0</td>\n",
       "      <td>1968-01-01</td>\n",
       "      <td>1427236</td>\n",
       "      <td>01</td>\n",
       "      <td>Stockholm</td>\n",
       "    </tr>\n",
       "    <tr>\n",
       "      <td>3</td>\n",
       "      <td>1968-04-01</td>\n",
       "      <td>1427236</td>\n",
       "      <td>01</td>\n",
       "      <td>Stockholm</td>\n",
       "    </tr>\n",
       "    <tr>\n",
       "      <td>6</td>\n",
       "      <td>1968-07-01</td>\n",
       "      <td>1427236</td>\n",
       "      <td>01</td>\n",
       "      <td>Stockholm</td>\n",
       "    </tr>\n",
       "    <tr>\n",
       "      <td>9</td>\n",
       "      <td>1968-10-01</td>\n",
       "      <td>1427236</td>\n",
       "      <td>01</td>\n",
       "      <td>Stockholm</td>\n",
       "    </tr>\n",
       "    <tr>\n",
       "      <td>12</td>\n",
       "      <td>1968-01-01</td>\n",
       "      <td>209521</td>\n",
       "      <td>03</td>\n",
       "      <td>Uppsala</td>\n",
       "    </tr>\n",
       "    <tr>\n",
       "      <td>...</td>\n",
       "      <td>...</td>\n",
       "      <td>...</td>\n",
       "      <td>...</td>\n",
       "      <td>...</td>\n",
       "    </tr>\n",
       "    <tr>\n",
       "      <td>12837</td>\n",
       "      <td>2018-10-01</td>\n",
       "      <td>270154</td>\n",
       "      <td>24</td>\n",
       "      <td>Västerbotten</td>\n",
       "    </tr>\n",
       "    <tr>\n",
       "      <td>12840</td>\n",
       "      <td>2018-01-01</td>\n",
       "      <td>250497</td>\n",
       "      <td>25</td>\n",
       "      <td>Norrbotten</td>\n",
       "    </tr>\n",
       "    <tr>\n",
       "      <td>12843</td>\n",
       "      <td>2018-04-01</td>\n",
       "      <td>250497</td>\n",
       "      <td>25</td>\n",
       "      <td>Norrbotten</td>\n",
       "    </tr>\n",
       "    <tr>\n",
       "      <td>12846</td>\n",
       "      <td>2018-07-01</td>\n",
       "      <td>250497</td>\n",
       "      <td>25</td>\n",
       "      <td>Norrbotten</td>\n",
       "    </tr>\n",
       "    <tr>\n",
       "      <td>12849</td>\n",
       "      <td>2018-10-01</td>\n",
       "      <td>250497</td>\n",
       "      <td>25</td>\n",
       "      <td>Norrbotten</td>\n",
       "    </tr>\n",
       "  </tbody>\n",
       "</table>\n",
       "<p>4284 rows × 4 columns</p>\n",
       "</div>"
      ],
      "text/plain": [
       "            date      pop reg_nr            ID\n",
       "0     1968-01-01  1427236     01     Stockholm\n",
       "3     1968-04-01  1427236     01     Stockholm\n",
       "6     1968-07-01  1427236     01     Stockholm\n",
       "9     1968-10-01  1427236     01     Stockholm\n",
       "12    1968-01-01   209521     03       Uppsala\n",
       "...          ...      ...    ...           ...\n",
       "12837 2018-10-01   270154     24  Västerbotten\n",
       "12840 2018-01-01   250497     25    Norrbotten\n",
       "12843 2018-04-01   250497     25    Norrbotten\n",
       "12846 2018-07-01   250497     25    Norrbotten\n",
       "12849 2018-10-01   250497     25    Norrbotten\n",
       "\n",
       "[4284 rows x 4 columns]"
      ]
     },
     "execution_count": 1821,
     "metadata": {},
     "output_type": "execute_result"
    }
   ],
   "source": [
    "df_se_pop"
   ]
  },
  {
   "cell_type": "markdown",
   "metadata": {},
   "source": [
    "#### Labour force share"
   ]
  },
  {
   "cell_type": "code",
   "execution_count": 1822,
   "metadata": {},
   "outputs": [],
   "source": [
    "url = 'http://api.scb.se/OV0104/v1/doris/en/ssd/START/AM/AM0401/AM0401N/NAKUBefolkningLK'"
   ]
  },
  {
   "cell_type": "code",
   "execution_count": 1823,
   "metadata": {},
   "outputs": [],
   "source": [
    "params = {\n",
    "  \"query\": [\n",
    "    {\n",
    "      \"code\": \"Region\",\n",
    "      \"selection\": {\n",
    "        \"filter\": \"vs:RegionLän99EjAggr\",\n",
    "        \"values\": [\n",
    "          \"01\",\n",
    "          \"03\",\n",
    "          \"04\",\n",
    "          \"05\",\n",
    "          \"06\",\n",
    "          \"07\",\n",
    "          \"08\",\n",
    "          \"09\",\n",
    "          \"10\",\n",
    "          \"12\",\n",
    "          \"13\",\n",
    "          \"14\",\n",
    "          \"17\",\n",
    "          \"18\",\n",
    "          \"19\",\n",
    "          \"20\",\n",
    "          \"21\",\n",
    "          \"22\",\n",
    "          \"23\",\n",
    "          \"24\",\n",
    "          \"25\"\n",
    "        ]\n",
    "      }\n",
    "    },\n",
    "    {\n",
    "      \"code\": \"Arbetskraftstillh\",\n",
    "      \"selection\": {\n",
    "        \"filter\": \"item\",\n",
    "        \"values\": [\n",
    "          \"ALÖS\",\n",
    "          \"SYS\"\n",
    "        ]\n",
    "      }\n",
    "    },\n",
    "    {\n",
    "      \"code\": \"Kon\",\n",
    "      \"selection\": {\n",
    "        \"filter\": \"item\",\n",
    "        \"values\": [\n",
    "          \"1+2\"\n",
    "        ]\n",
    "      }\n",
    "    },\n",
    "    {\n",
    "      \"code\": \"ContentsCode\",\n",
    "      \"selection\": {\n",
    "        \"filter\": \"item\",\n",
    "        \"values\": [\n",
    "          \"AM0401VB\"\n",
    "        ]\n",
    "      }\n",
    "    }\n",
    "  ],\n",
    "  \"response\": {\n",
    "    \"format\": \"csv\"\n",
    "  }\n",
    "}"
   ]
  },
  {
   "cell_type": "code",
   "execution_count": 1824,
   "metadata": {},
   "outputs": [],
   "source": [
    "# request data\n",
    "r = requests.post(url, json = params)\n",
    "r= r.text"
   ]
  },
  {
   "cell_type": "code",
   "execution_count": 1825,
   "metadata": {},
   "outputs": [],
   "source": [
    "# Save to CSV\n",
    "text_file = open(\"data/other/df_se_labour_force.csv\", \"w\", encoding=\"utf8\")\n",
    "text_file.write(r)\n",
    "text_file.close()"
   ]
  },
  {
   "cell_type": "code",
   "execution_count": 1826,
   "metadata": {},
   "outputs": [],
   "source": [
    "# Open the csv file \n",
    "df_se_lf_share = pd.read_csv(\"data/other/df_se_labour_force.csv\") "
   ]
  },
  {
   "cell_type": "code",
   "execution_count": 1827,
   "metadata": {},
   "outputs": [],
   "source": [
    "df_se_lf_share = df_se_lf_share.groupby('region').sum().reset_index()"
   ]
  },
  {
   "cell_type": "code",
   "execution_count": 1828,
   "metadata": {},
   "outputs": [],
   "source": [
    "df_se_lf_share =pd.melt(df_se_lf_share, id_vars=['region'], value_vars=['Percent 2005K2', 'Percent 2005K3', 'Percent 2005K4',\n",
    "       'Percent 2006K1', 'Percent 2006K2', 'Percent 2006K3', 'Percent 2006K4',\n",
    "       'Percent 2007K1', 'Percent 2007K2', 'Percent 2007K3', 'Percent 2007K4',\n",
    "       'Percent 2008K1', 'Percent 2008K2', 'Percent 2008K3', 'Percent 2008K4',\n",
    "       'Percent 2009K1', 'Percent 2009K2', 'Percent 2009K3', 'Percent 2009K4',\n",
    "       'Percent 2010K1', 'Percent 2010K2', 'Percent 2010K3', 'Percent 2010K4',\n",
    "       'Percent 2011K1', 'Percent 2011K2', 'Percent 2011K3', 'Percent 2011K4',\n",
    "       'Percent 2012K1', 'Percent 2012K2', 'Percent 2012K3', 'Percent 2012K4',\n",
    "       'Percent 2013K1', 'Percent 2013K2', 'Percent 2013K3', 'Percent 2013K4',\n",
    "       'Percent 2014K1', 'Percent 2014K2', 'Percent 2014K3', 'Percent 2014K4',\n",
    "       'Percent 2015K1', 'Percent 2015K2', 'Percent 2015K3', 'Percent 2015K4',\n",
    "       'Percent 2016K1', 'Percent 2016K2', 'Percent 2016K3', 'Percent 2016K4',\n",
    "       'Percent 2017K1', 'Percent 2017K2', 'Percent 2017K3', 'Percent 2017K4',\n",
    "       'Percent 2018K1', 'Percent 2018K2', 'Percent 2018K3', 'Percent 2018K4',\n",
    "       'Percent 2019K1', 'Percent 2019K2', 'Percent 2019K3'])"
   ]
  },
  {
   "cell_type": "code",
   "execution_count": 1829,
   "metadata": {},
   "outputs": [],
   "source": [
    "df_se_lf_share = df_se_lf_share.rename(columns = {'value': 'labour_force_share'})"
   ]
  },
  {
   "cell_type": "code",
   "execution_count": 1830,
   "metadata": {},
   "outputs": [],
   "source": [
    "df_se_lf_share['reg_nr'] = [x[:2] for x in df_se_lf_share['region']]\n",
    "df_se_lf_share['ID'] = [x[3:] for x in df_se_lf_share['region']]"
   ]
  },
  {
   "cell_type": "markdown",
   "metadata": {},
   "source": [
    "Correct ID"
   ]
  },
  {
   "cell_type": "code",
   "execution_count": 1831,
   "metadata": {},
   "outputs": [],
   "source": [
    "df_se_lf_share['ID'] = [x[:-7] for x in df_se_lf_share['ID']]"
   ]
  },
  {
   "cell_type": "code",
   "execution_count": 1832,
   "metadata": {},
   "outputs": [],
   "source": [
    "df_se_lf_share = df_se_lf_share.drop('region', axis = 1)"
   ]
  },
  {
   "cell_type": "markdown",
   "metadata": {},
   "source": [
    "Correct date format"
   ]
  },
  {
   "cell_type": "code",
   "execution_count": 1833,
   "metadata": {},
   "outputs": [],
   "source": [
    "df_se_lf_share['date'] = [x[8:] for x in df_se_lf_share['variable']]"
   ]
  },
  {
   "cell_type": "code",
   "execution_count": 1834,
   "metadata": {},
   "outputs": [],
   "source": [
    "df_se_lf_share = df_se_lf_share.drop('variable', axis = 1)"
   ]
  },
  {
   "cell_type": "code",
   "execution_count": 1835,
   "metadata": {},
   "outputs": [],
   "source": [
    "df_se_lf_share = quarter_to_month(df = df_se_lf_share, date_variable = 'date', orig_format = '%YK%m', to_format = 'month', from_format = 'quarter', variable_names = ['labour_force_share','reg_nr','ID','date'], group_by = ['ID','year'])\n",
    "df_se_lf_share = df_se_lf_share[df_se_lf_share['date'].map(lambda x: x.month).isin([1, 4, 7, 10])]"
   ]
  },
  {
   "cell_type": "code",
   "execution_count": 1836,
   "metadata": {},
   "outputs": [
    {
     "data": {
      "text/html": [
       "<div>\n",
       "<style scoped>\n",
       "    .dataframe tbody tr th:only-of-type {\n",
       "        vertical-align: middle;\n",
       "    }\n",
       "\n",
       "    .dataframe tbody tr th {\n",
       "        vertical-align: top;\n",
       "    }\n",
       "\n",
       "    .dataframe thead th {\n",
       "        text-align: right;\n",
       "    }\n",
       "</style>\n",
       "<table border=\"1\" class=\"dataframe\">\n",
       "  <thead>\n",
       "    <tr style=\"text-align: right;\">\n",
       "      <th></th>\n",
       "      <th>labour_force_share</th>\n",
       "      <th>reg_nr</th>\n",
       "      <th>ID</th>\n",
       "      <th>date</th>\n",
       "    </tr>\n",
       "  </thead>\n",
       "  <tbody>\n",
       "    <tr>\n",
       "      <td>0</td>\n",
       "      <td>76.6</td>\n",
       "      <td>01</td>\n",
       "      <td>Stockholm</td>\n",
       "      <td>2005-01-01</td>\n",
       "    </tr>\n",
       "    <tr>\n",
       "      <td>3</td>\n",
       "      <td>76.6</td>\n",
       "      <td>03</td>\n",
       "      <td>Uppsala</td>\n",
       "      <td>2005-01-01</td>\n",
       "    </tr>\n",
       "    <tr>\n",
       "      <td>6</td>\n",
       "      <td>70.4</td>\n",
       "      <td>04</td>\n",
       "      <td>Södermanland</td>\n",
       "      <td>2005-01-01</td>\n",
       "    </tr>\n",
       "    <tr>\n",
       "      <td>9</td>\n",
       "      <td>72.2</td>\n",
       "      <td>05</td>\n",
       "      <td>Östergötland</td>\n",
       "      <td>2005-01-01</td>\n",
       "    </tr>\n",
       "    <tr>\n",
       "      <td>12</td>\n",
       "      <td>75.7</td>\n",
       "      <td>06</td>\n",
       "      <td>Jönköping</td>\n",
       "      <td>2005-01-01</td>\n",
       "    </tr>\n",
       "    <tr>\n",
       "      <td>...</td>\n",
       "      <td>...</td>\n",
       "      <td>...</td>\n",
       "      <td>...</td>\n",
       "      <td>...</td>\n",
       "    </tr>\n",
       "    <tr>\n",
       "      <td>3639</td>\n",
       "      <td>72.7</td>\n",
       "      <td>21</td>\n",
       "      <td>Gävleborg</td>\n",
       "      <td>2019-07-01</td>\n",
       "    </tr>\n",
       "    <tr>\n",
       "      <td>3642</td>\n",
       "      <td>72.3</td>\n",
       "      <td>22</td>\n",
       "      <td>Västernorrland</td>\n",
       "      <td>2019-07-01</td>\n",
       "    </tr>\n",
       "    <tr>\n",
       "      <td>3645</td>\n",
       "      <td>73.2</td>\n",
       "      <td>23</td>\n",
       "      <td>Jämtland</td>\n",
       "      <td>2019-07-01</td>\n",
       "    </tr>\n",
       "    <tr>\n",
       "      <td>3648</td>\n",
       "      <td>72.8</td>\n",
       "      <td>24</td>\n",
       "      <td>Västerbotten</td>\n",
       "      <td>2019-07-01</td>\n",
       "    </tr>\n",
       "    <tr>\n",
       "      <td>3651</td>\n",
       "      <td>70.8</td>\n",
       "      <td>25</td>\n",
       "      <td>Norrbotten</td>\n",
       "      <td>2019-07-01</td>\n",
       "    </tr>\n",
       "  </tbody>\n",
       "</table>\n",
       "<p>1218 rows × 4 columns</p>\n",
       "</div>"
      ],
      "text/plain": [
       "     labour_force_share reg_nr              ID       date\n",
       "0                  76.6     01       Stockholm 2005-01-01\n",
       "3                  76.6     03         Uppsala 2005-01-01\n",
       "6                  70.4     04    Södermanland 2005-01-01\n",
       "9                  72.2     05    Östergötland 2005-01-01\n",
       "12                 75.7     06       Jönköping 2005-01-01\n",
       "...                 ...    ...             ...        ...\n",
       "3639               72.7     21       Gävleborg 2019-07-01\n",
       "3642               72.3     22  Västernorrland 2019-07-01\n",
       "3645               73.2     23        Jämtland 2019-07-01\n",
       "3648               72.8     24    Västerbotten 2019-07-01\n",
       "3651               70.8     25      Norrbotten 2019-07-01\n",
       "\n",
       "[1218 rows x 4 columns]"
      ]
     },
     "execution_count": 1836,
     "metadata": {},
     "output_type": "execute_result"
    }
   ],
   "source": [
    "df_se_lf_share"
   ]
  },
  {
   "cell_type": "markdown",
   "metadata": {},
   "source": [
    "### MVU and LVU"
   ]
  },
  {
   "cell_type": "code",
   "execution_count": 3,
   "metadata": {},
   "outputs": [],
   "source": [
    "url = 'http://api.scb.se/OV0104/v1/doris/en/ssd/START/UF/UF0506/Utbildning'"
   ]
  },
  {
   "cell_type": "code",
   "execution_count": 4,
   "metadata": {},
   "outputs": [],
   "source": [
    "params = {\n",
    "  \"query\": [\n",
    "    {\n",
    "      \"code\": \"Region\",\n",
    "      \"selection\": {\n",
    "        \"filter\": \"vs:RegionLän07\",\n",
    "        \"values\": [\n",
    "          \"01\",\n",
    "          \"03\",\n",
    "          \"04\",\n",
    "          \"05\",\n",
    "          \"06\",\n",
    "          \"07\",\n",
    "          \"08\",\n",
    "          \"09\",\n",
    "          \"10\",\n",
    "          \"12\",\n",
    "          \"13\",\n",
    "          \"14\",\n",
    "          \"17\",\n",
    "          \"18\",\n",
    "          \"19\",\n",
    "          \"20\",\n",
    "          \"21\",\n",
    "          \"22\",\n",
    "          \"23\",\n",
    "          \"24\",\n",
    "          \"25\"\n",
    "        ]\n",
    "      }\n",
    "    },\n",
    "    {\n",
    "      \"code\": \"UtbildningsNiva\",\n",
    "      \"selection\": {\n",
    "        \"filter\": \"item\",\n",
    "        \"values\": [\n",
    "          \"5\",\n",
    "          \"6\",\n",
    "          \"7\"\n",
    "        ]\n",
    "      }\n",
    "    }\n",
    "  ],\n",
    "  \"response\": {\n",
    "    \"format\": \"csv\"\n",
    "  }\n",
    "}"
   ]
  },
  {
   "cell_type": "code",
   "execution_count": 5,
   "metadata": {},
   "outputs": [],
   "source": [
    "# request data\n",
    "r = requests.post(url, json = params)\n",
    "r= r.text"
   ]
  },
  {
   "cell_type": "code",
   "execution_count": 6,
   "metadata": {},
   "outputs": [],
   "source": [
    "# Save to CSV\n",
    "text_file = open(\"data/other/df_se_mvu_lvu.csv\", \"w\", encoding=\"utf8\")\n",
    "text_file.write(r)\n",
    "text_file.close()"
   ]
  },
  {
   "cell_type": "code",
   "execution_count": 7,
   "metadata": {},
   "outputs": [],
   "source": [
    "# Open the csv file \n",
    "df_se_mvu_lvu = pd.read_csv(\"data/other/df_se_mvu_lvu.csv\") "
   ]
  },
  {
   "cell_type": "code",
   "execution_count": 10,
   "metadata": {},
   "outputs": [
    {
     "data": {
      "text/plain": [
       "post-graduate education (ISCED97 6)                           21\n",
       "post-secondary education 3 years or more (ISCED97 5A)         21\n",
       "post-secondary education, less than 3 years (ISCED97 4+5B)    21\n",
       "Name: level of education, dtype: int64"
      ]
     },
     "execution_count": 10,
     "metadata": {},
     "output_type": "execute_result"
    }
   ],
   "source": [
    "df_se_mvu_lvu['level of education'].value_counts()"
   ]
  },
  {
   "cell_type": "code",
   "execution_count": 1843,
   "metadata": {},
   "outputs": [],
   "source": [
    "df_se_mvu_lvu = df_se_mvu_lvu.groupby('region').sum().reset_index()"
   ]
  },
  {
   "cell_type": "code",
   "execution_count": 1844,
   "metadata": {},
   "outputs": [],
   "source": [
    "df_se_mvu_lvu = pd.wide_to_long(df_se_mvu_lvu, [\"Population \"], i=[\"region\"], j=\"date\").reset_index()"
   ]
  },
  {
   "cell_type": "code",
   "execution_count": 1845,
   "metadata": {},
   "outputs": [],
   "source": [
    "df_se_mvu_lvu = df_se_mvu_lvu.rename(columns = {'Population ': 'mvu_lvu'})"
   ]
  },
  {
   "cell_type": "code",
   "execution_count": 1846,
   "metadata": {},
   "outputs": [],
   "source": [
    "df_se_mvu_lvu['reg_nr'] = [x[:2] for x in df_se_mvu_lvu['region']]\n",
    "df_se_mvu_lvu['ID'] = [x[3:] for x in df_se_mvu_lvu['region']]"
   ]
  },
  {
   "cell_type": "markdown",
   "metadata": {},
   "source": [
    "Correct ID"
   ]
  },
  {
   "cell_type": "code",
   "execution_count": 1847,
   "metadata": {},
   "outputs": [],
   "source": [
    "df_se_mvu_lvu['ID'] = [x[:-7] for x in df_se_mvu_lvu['ID']]"
   ]
  },
  {
   "cell_type": "code",
   "execution_count": 1848,
   "metadata": {},
   "outputs": [],
   "source": [
    "df_se_mvu_lvu = df_se_mvu_lvu.drop('region', axis = 1)"
   ]
  },
  {
   "cell_type": "markdown",
   "metadata": {},
   "source": [
    "Correct date"
   ]
  },
  {
   "cell_type": "code",
   "execution_count": 1849,
   "metadata": {},
   "outputs": [],
   "source": [
    "df_se_mvu_lvu = quarter_to_month(df = df_se_mvu_lvu, date_variable = 'date', orig_format = '%Y', to_format = 'quarter', from_format = 'year', variable_names = ['date', 'mvu_lvu', 'reg_nr', 'ID'], group_by = ['ID','date'])"
   ]
  },
  {
   "cell_type": "markdown",
   "metadata": {},
   "source": [
    "Merge on population to get share"
   ]
  },
  {
   "cell_type": "code",
   "execution_count": 1851,
   "metadata": {},
   "outputs": [],
   "source": [
    "df_se_mvu_lvu= df_se_mvu_lvu.merge(df_se_pop, on = ['date', 'ID', 'reg_nr'])"
   ]
  },
  {
   "cell_type": "code",
   "execution_count": 1852,
   "metadata": {},
   "outputs": [],
   "source": [
    "df_se_mvu_lvu['mvu_lvu_share'] =  df_se_mvu_lvu['mvu_lvu'] / df_se_mvu_lvu['pop'] *100"
   ]
  },
  {
   "cell_type": "code",
   "execution_count": 1853,
   "metadata": {},
   "outputs": [],
   "source": [
    "df_se_mvu_lvu = df_se_mvu_lvu.drop('pop', axis = 1)"
   ]
  },
  {
   "cell_type": "code",
   "execution_count": 1854,
   "metadata": {},
   "outputs": [
    {
     "data": {
      "text/html": [
       "<div>\n",
       "<style scoped>\n",
       "    .dataframe tbody tr th:only-of-type {\n",
       "        vertical-align: middle;\n",
       "    }\n",
       "\n",
       "    .dataframe tbody tr th {\n",
       "        vertical-align: top;\n",
       "    }\n",
       "\n",
       "    .dataframe thead th {\n",
       "        text-align: right;\n",
       "    }\n",
       "</style>\n",
       "<table border=\"1\" class=\"dataframe\">\n",
       "  <thead>\n",
       "    <tr style=\"text-align: right;\">\n",
       "      <th></th>\n",
       "      <th>date</th>\n",
       "      <th>mvu_lvu</th>\n",
       "      <th>reg_nr</th>\n",
       "      <th>ID</th>\n",
       "      <th>mvu_lvu_share</th>\n",
       "    </tr>\n",
       "  </thead>\n",
       "  <tbody>\n",
       "    <tr>\n",
       "      <td>0</td>\n",
       "      <td>1985-01-01</td>\n",
       "      <td>225887</td>\n",
       "      <td>01</td>\n",
       "      <td>Stockholm</td>\n",
       "      <td>14.3121</td>\n",
       "    </tr>\n",
       "    <tr>\n",
       "      <td>1</td>\n",
       "      <td>1985-04-01</td>\n",
       "      <td>225887</td>\n",
       "      <td>01</td>\n",
       "      <td>Stockholm</td>\n",
       "      <td>14.3121</td>\n",
       "    </tr>\n",
       "    <tr>\n",
       "      <td>2</td>\n",
       "      <td>1985-07-01</td>\n",
       "      <td>225887</td>\n",
       "      <td>01</td>\n",
       "      <td>Stockholm</td>\n",
       "      <td>14.3121</td>\n",
       "    </tr>\n",
       "    <tr>\n",
       "      <td>3</td>\n",
       "      <td>1985-10-01</td>\n",
       "      <td>225887</td>\n",
       "      <td>01</td>\n",
       "      <td>Stockholm</td>\n",
       "      <td>14.3121</td>\n",
       "    </tr>\n",
       "    <tr>\n",
       "      <td>4</td>\n",
       "      <td>1985-01-01</td>\n",
       "      <td>35145</td>\n",
       "      <td>03</td>\n",
       "      <td>Uppsala</td>\n",
       "      <td>13.9546</td>\n",
       "    </tr>\n",
       "    <tr>\n",
       "      <td>...</td>\n",
       "      <td>...</td>\n",
       "      <td>...</td>\n",
       "      <td>...</td>\n",
       "      <td>...</td>\n",
       "      <td>...</td>\n",
       "    </tr>\n",
       "    <tr>\n",
       "      <td>2851</td>\n",
       "      <td>2018-10-01</td>\n",
       "      <td>75548</td>\n",
       "      <td>24</td>\n",
       "      <td>Västerbotten</td>\n",
       "      <td>27.9648</td>\n",
       "    </tr>\n",
       "    <tr>\n",
       "      <td>2852</td>\n",
       "      <td>2018-01-01</td>\n",
       "      <td>56833</td>\n",
       "      <td>25</td>\n",
       "      <td>Norrbotten</td>\n",
       "      <td>22.6881</td>\n",
       "    </tr>\n",
       "    <tr>\n",
       "      <td>2853</td>\n",
       "      <td>2018-04-01</td>\n",
       "      <td>56833</td>\n",
       "      <td>25</td>\n",
       "      <td>Norrbotten</td>\n",
       "      <td>22.6881</td>\n",
       "    </tr>\n",
       "    <tr>\n",
       "      <td>2854</td>\n",
       "      <td>2018-07-01</td>\n",
       "      <td>56833</td>\n",
       "      <td>25</td>\n",
       "      <td>Norrbotten</td>\n",
       "      <td>22.6881</td>\n",
       "    </tr>\n",
       "    <tr>\n",
       "      <td>2855</td>\n",
       "      <td>2018-10-01</td>\n",
       "      <td>56833</td>\n",
       "      <td>25</td>\n",
       "      <td>Norrbotten</td>\n",
       "      <td>22.6881</td>\n",
       "    </tr>\n",
       "  </tbody>\n",
       "</table>\n",
       "<p>2856 rows × 5 columns</p>\n",
       "</div>"
      ],
      "text/plain": [
       "           date mvu_lvu reg_nr            ID mvu_lvu_share\n",
       "0    1985-01-01  225887     01     Stockholm       14.3121\n",
       "1    1985-04-01  225887     01     Stockholm       14.3121\n",
       "2    1985-07-01  225887     01     Stockholm       14.3121\n",
       "3    1985-10-01  225887     01     Stockholm       14.3121\n",
       "4    1985-01-01   35145     03       Uppsala       13.9546\n",
       "...         ...     ...    ...           ...           ...\n",
       "2851 2018-10-01   75548     24  Västerbotten       27.9648\n",
       "2852 2018-01-01   56833     25    Norrbotten       22.6881\n",
       "2853 2018-04-01   56833     25    Norrbotten       22.6881\n",
       "2854 2018-07-01   56833     25    Norrbotten       22.6881\n",
       "2855 2018-10-01   56833     25    Norrbotten       22.6881\n",
       "\n",
       "[2856 rows x 5 columns]"
      ]
     },
     "execution_count": 1854,
     "metadata": {},
     "output_type": "execute_result"
    }
   ],
   "source": [
    "df_se_mvu_lvu"
   ]
  },
  {
   "cell_type": "markdown",
   "metadata": {},
   "source": [
    "#### Urban"
   ]
  },
  {
   "cell_type": "code",
   "execution_count": 1855,
   "metadata": {},
   "outputs": [],
   "source": [
    "url = 'http://api.scb.se/OV0104/v1/doris/en/ssd/START/MI/MI0810/MI0810A/BefLandInvKvmTO'"
   ]
  },
  {
   "cell_type": "code",
   "execution_count": 1856,
   "metadata": {},
   "outputs": [],
   "source": [
    "params = {\n",
    "  \"query\": [\n",
    "    {\n",
    "      \"code\": \"Region\",\n",
    "      \"selection\": {\n",
    "        \"filter\": \"vs:RegionLän07\",\n",
    "        \"values\": [\n",
    "          \"01\",\n",
    "          \"03\",\n",
    "          \"04\",\n",
    "          \"05\",\n",
    "          \"06\",\n",
    "          \"07\",\n",
    "          \"08\",\n",
    "          \"09\",\n",
    "          \"10\",\n",
    "          \"12\",\n",
    "          \"13\",\n",
    "          \"14\",\n",
    "          \"17\",\n",
    "          \"18\",\n",
    "          \"19\",\n",
    "          \"20\",\n",
    "          \"21\",\n",
    "          \"22\",\n",
    "          \"23\",\n",
    "          \"24\",\n",
    "          \"25\"\n",
    "        ]\n",
    "      }\n",
    "    },\n",
    "    {\n",
    "      \"code\": \"TypOmr\",\n",
    "      \"selection\": {\n",
    "        \"filter\": \"item\",\n",
    "        \"values\": [\n",
    "          \"IT\",\n",
    "          \"TOT\"\n",
    "        ]\n",
    "      }\n",
    "    },\n",
    "    {\n",
    "      \"code\": \"ContentsCode\",\n",
    "      \"selection\": {\n",
    "        \"filter\": \"item\",\n",
    "        \"values\": [\n",
    "          \"MI0810AG\"\n",
    "        ]\n",
    "      }\n",
    "    }\n",
    "  ],\n",
    "  \"response\": {\n",
    "    \"format\": \"csv\"\n",
    "  }\n",
    "}"
   ]
  },
  {
   "cell_type": "code",
   "execution_count": 1857,
   "metadata": {},
   "outputs": [],
   "source": [
    "# request data\n",
    "r = requests.post(url, json = params)\n",
    "r= r.text"
   ]
  },
  {
   "cell_type": "code",
   "execution_count": 1858,
   "metadata": {},
   "outputs": [],
   "source": [
    "# Save to CSV\n",
    "text_file = open(\"data/other/df_se_urban.csv\", \"w\", encoding=\"utf8\")\n",
    "text_file.write(r)\n",
    "text_file.close()"
   ]
  },
  {
   "cell_type": "code",
   "execution_count": 1859,
   "metadata": {},
   "outputs": [],
   "source": [
    "# Open the csv file \n",
    "df_se_urban = pd.read_csv(\"data/other/df_se_urban.csv\") "
   ]
  },
  {
   "cell_type": "code",
   "execution_count": 1860,
   "metadata": {},
   "outputs": [],
   "source": [
    "temp = df_se_urban.groupby('region').transform(lambda x: x / x.max()).rename(columns = {'Population 2005' : 'urban_share_2005',\t'Population 2010': 'urban_share_2010',\t'Population 2015': 'urban_share_2015'})"
   ]
  },
  {
   "cell_type": "code",
   "execution_count": 1861,
   "metadata": {},
   "outputs": [],
   "source": [
    "df_se_urban = df_se_urban.merge(temp, left_index=True, right_index=True)"
   ]
  },
  {
   "cell_type": "code",
   "execution_count": 1862,
   "metadata": {},
   "outputs": [],
   "source": [
    "df_se_urban = df_se_urban[df_se_urban['type of area'] == 'within locality']\n",
    "\n",
    "df_se_urban = df_se_urban[['region', 'urban_share_2005', 'urban_share_2010', 'urban_share_2015']]"
   ]
  },
  {
   "cell_type": "code",
   "execution_count": 1863,
   "metadata": {},
   "outputs": [],
   "source": [
    "df_se_urban =pd.melt(df_se_urban, id_vars=['region'], value_vars=['urban_share_2005', 'urban_share_2010', 'urban_share_2015'])"
   ]
  },
  {
   "cell_type": "code",
   "execution_count": 1864,
   "metadata": {},
   "outputs": [],
   "source": [
    "df_se_urban = df_se_urban.rename(columns = {'value': 'urban_share'})"
   ]
  },
  {
   "cell_type": "code",
   "execution_count": 1865,
   "metadata": {},
   "outputs": [],
   "source": [
    "df_se_urban['reg_nr'] = [x[:2] for x in df_se_urban['region']]\n",
    "df_se_urban['ID'] = [x[3:] for x in df_se_urban['region']]"
   ]
  },
  {
   "cell_type": "markdown",
   "metadata": {},
   "source": [
    "Correct ID"
   ]
  },
  {
   "cell_type": "code",
   "execution_count": 1866,
   "metadata": {},
   "outputs": [],
   "source": [
    "df_se_urban['ID'] = [x[:-7] for x in df_se_urban['ID']]"
   ]
  },
  {
   "cell_type": "code",
   "execution_count": 1867,
   "metadata": {},
   "outputs": [],
   "source": [
    "df_se_urban = df_se_urban.drop('region', axis = 1)"
   ]
  },
  {
   "cell_type": "markdown",
   "metadata": {},
   "source": [
    "Correct date"
   ]
  },
  {
   "cell_type": "code",
   "execution_count": 1868,
   "metadata": {},
   "outputs": [],
   "source": [
    "df_se_urban['date'] = [x[12:] for x in df_se_urban['variable']]\n",
    "df_se_urban = df_se_urban.drop('variable', axis = 1)\n",
    "variable_names = list(df_se_urban)"
   ]
  },
  {
   "cell_type": "code",
   "execution_count": 1869,
   "metadata": {},
   "outputs": [],
   "source": [
    "\n",
    "df_se_urban= pd.DataFrame(np.repeat(df_se_urban.values,5, axis=0))"
   ]
  },
  {
   "cell_type": "code",
   "execution_count": 1870,
   "metadata": {},
   "outputs": [],
   "source": [
    "variable_range = range(len(variable_names))\n",
    "df_se_urban = df_se_urban.rename(index=str, columns={i:variable_names[i] for i in variable_range})\n"
   ]
  },
  {
   "cell_type": "code",
   "execution_count": 1871,
   "metadata": {},
   "outputs": [],
   "source": [
    "df_se_urban = df_se_urban.sort_values(['ID', 'date'])"
   ]
  },
  {
   "cell_type": "code",
   "execution_count": 1872,
   "metadata": {},
   "outputs": [],
   "source": [
    "df_se_urban['date'] = list(np.arange(2005,2020))*df_se_urban['ID'].nunique()"
   ]
  },
  {
   "cell_type": "markdown",
   "metadata": {},
   "source": [
    "Correct date format"
   ]
  },
  {
   "cell_type": "code",
   "execution_count": 1873,
   "metadata": {},
   "outputs": [],
   "source": [
    "def quarter_to_month(df, date_variable = 'date', variable_names = ['HFUDD', 'TID', 'INDHOLD', 'ID'], group_by = ['ID','year'], orig_format = '%YK%m', to_format = 'month', from_format = 'quarter') :\n",
    "    \n",
    "    if (from_format == 'quarter' and to_format == 'month'):\n",
    "        df= pd.DataFrame(np.repeat(df.values,3, axis=0))\n",
    "    elif (from_format == 'year' and to_format == 'month'):\n",
    "        df= pd.DataFrame(np.repeat(df.values,12, axis=0))\n",
    "    elif (from_format == 'year' and to_format == 'quarter'):\n",
    "        df= pd.DataFrame(np.repeat(df.values,12, axis=0))\n",
    "    \n",
    "    variable_range = range(len(variable_names))\n",
    "    df = df.rename(index=str, columns={i:variable_names[i] for i in variable_range})\n",
    "    df['year'] = pd.to_datetime(df[date_variable], format=orig_format).dt.to_period('y')\n",
    "    df['month'] = df.groupby(group_by).cumcount()+1\n",
    "    df[date_variable] = pd.to_datetime(df.year.astype(str) + '-' + df.month.astype(str))\n",
    "    df= df.drop(['year', 'month'], axis = 1)\n",
    "    \n",
    "    if (from_format == 'year' and to_format == 'quarter'):\n",
    "        df = df[df['date'].map(lambda x: x.month).isin([1, 4, 7, 10])]\n",
    "       \n",
    "    return(df)"
   ]
  },
  {
   "cell_type": "code",
   "execution_count": 1874,
   "metadata": {},
   "outputs": [],
   "source": [
    "df_se_urban = quarter_to_month(df = df_se_urban, date_variable = 'date', orig_format = '%Y', to_format = 'quarter', from_format = 'year', variable_names = [ 'urban_share', 'reg_nr', 'ID', 'date'], group_by = ['ID','date'])"
   ]
  },
  {
   "cell_type": "code",
   "execution_count": 1875,
   "metadata": {},
   "outputs": [],
   "source": [
    "df_se_urban['urban_share'] = df_se_urban['urban_share']*100"
   ]
  },
  {
   "cell_type": "markdown",
   "metadata": {},
   "source": [
    "Merge controls "
   ]
  },
  {
   "cell_type": "code",
   "execution_count": 1876,
   "metadata": {},
   "outputs": [],
   "source": [
    "df_SE_controls = df_se_lf_share.merge(df_se_pop, on = ['date', 'ID', 'reg_nr'], how = 'left')"
   ]
  },
  {
   "cell_type": "code",
   "execution_count": 1877,
   "metadata": {},
   "outputs": [
    {
     "data": {
      "text/plain": [
       "(1218, 5)"
      ]
     },
     "execution_count": 1877,
     "metadata": {},
     "output_type": "execute_result"
    }
   ],
   "source": [
    "df_SE_controls.shape"
   ]
  },
  {
   "cell_type": "code",
   "execution_count": 1878,
   "metadata": {},
   "outputs": [],
   "source": [
    "df_SE_controls = df_SE_controls.merge(df_se_mvu_lvu, on = ['date', 'ID', 'reg_nr'], how = 'left')"
   ]
  },
  {
   "cell_type": "code",
   "execution_count": 1879,
   "metadata": {},
   "outputs": [
    {
     "data": {
      "text/plain": [
       "(1218, 7)"
      ]
     },
     "execution_count": 1879,
     "metadata": {},
     "output_type": "execute_result"
    }
   ],
   "source": [
    "df_SE_controls.shape"
   ]
  },
  {
   "cell_type": "code",
   "execution_count": 1880,
   "metadata": {},
   "outputs": [],
   "source": [
    "df_SE_controls = df_SE_controls.merge(df_se_urban, on = ['date', 'ID', 'reg_nr'], how = 'left')"
   ]
  },
  {
   "cell_type": "code",
   "execution_count": 1881,
   "metadata": {},
   "outputs": [
    {
     "data": {
      "text/plain": [
       "(1218, 8)"
      ]
     },
     "execution_count": 1881,
     "metadata": {},
     "output_type": "execute_result"
    }
   ],
   "source": [
    "df_SE_controls.shape"
   ]
  },
  {
   "cell_type": "markdown",
   "metadata": {},
   "source": [
    "Save controls"
   ]
  },
  {
   "cell_type": "code",
   "execution_count": 1882,
   "metadata": {},
   "outputs": [],
   "source": [
    "df_SE_controls.to_csv('data/other/df_SE_controls.csv', index = False)"
   ]
  },
  {
   "cell_type": "markdown",
   "metadata": {},
   "source": [
    "## NO"
   ]
  },
  {
   "cell_type": "markdown",
   "metadata": {},
   "source": [
    "##### Population"
   ]
  },
  {
   "cell_type": "code",
   "execution_count": 1485,
   "metadata": {},
   "outputs": [],
   "source": [
    "\n",
    "url = 'https://data.ssb.no/api/v0/en/table/07459/'"
   ]
  },
  {
   "cell_type": "code",
   "execution_count": 1486,
   "metadata": {},
   "outputs": [],
   "source": [
    "# params\n",
    "params = {\n",
    "  \"query\": [\n",
    "    {\n",
    "      \"code\": \"Region\",\n",
    "      \"selection\": {\n",
    "        \"filter\": \"agg_single:Fylker1972\",\n",
    "        \"values\": [\n",
    "          \"01\",\n",
    "          \"02\",\n",
    "          \"03\",\n",
    "          \"04\",\n",
    "          \"05\",\n",
    "          \"06\",\n",
    "          \"07\",\n",
    "          \"08\",\n",
    "          \"09\",\n",
    "          \"10\",\n",
    "          \"11\",\n",
    "          \"12\",\n",
    "          \"14\",\n",
    "          \"15\",\n",
    "          \"50\",\n",
    "          \"16\",\n",
    "          \"17\",\n",
    "          \"18\",\n",
    "          \"19\",\n",
    "          \"20\",\n",
    "          \"21\"\n",
    "        ]\n",
    "      }\n",
    "    },\n",
    "    {\n",
    "      \"code\": \"Alder\",\n",
    "      \"selection\": {\n",
    "        \"filter\": \"vs:AlleAldre00B\",\n",
    "        \"values\": []\n",
    "      }\n",
    "    },\n",
    "    {\n",
    "      \"code\": \"Tid\",\n",
    "      \"selection\": {\n",
    "        \"filter\": \"item\",\n",
    "        \"values\": [\n",
    "          \"2003\",\n",
    "          \"2004\",\n",
    "          \"2005\",\n",
    "          \"2006\",\n",
    "          \"2007\",\n",
    "          \"2008\",\n",
    "          \"2009\",\n",
    "          \"2010\",\n",
    "          \"2011\",\n",
    "          \"2012\",\n",
    "          \"2013\",\n",
    "          \"2014\",\n",
    "          \"2015\",\n",
    "          \"2016\",\n",
    "          \"2017\",\n",
    "          \"2018\",\n",
    "          \"2019\"\n",
    "        ]\n",
    "      }\n",
    "    }\n",
    "  ],\n",
    "  \"response\": {\n",
    "    \"format\": \"csv\"\n",
    "  }\n",
    "}"
   ]
  },
  {
   "cell_type": "code",
   "execution_count": 1487,
   "metadata": {},
   "outputs": [],
   "source": [
    "# request data\n",
    "r = requests.post(url, json = params)\n",
    "r= r.text"
   ]
  },
  {
   "cell_type": "code",
   "execution_count": 1488,
   "metadata": {},
   "outputs": [],
   "source": [
    "# Save to CSV\n",
    "text_file = open(\"data/other/df_no_pop.csv\", \"w\", encoding=\"utf8\")\n",
    "text_file.write(r)\n",
    "text_file.close()"
   ]
  },
  {
   "cell_type": "code",
   "execution_count": 1489,
   "metadata": {},
   "outputs": [],
   "source": [
    "# Open the csv file \n",
    "df_no_pop = pd.read_csv(\"data/other/df_no_pop.csv\") "
   ]
  },
  {
   "cell_type": "markdown",
   "metadata": {},
   "source": [
    "wide to long"
   ]
  },
  {
   "cell_type": "code",
   "execution_count": 1490,
   "metadata": {},
   "outputs": [],
   "source": [
    "df_no_pop = pd.wide_to_long(df_no_pop, [\"Persons \"], i=[\"region\"], j=\"date\").reset_index()\n",
    "df_no_pop = df_no_pop.rename(columns = {'Persons ': 'pop'})"
   ]
  },
  {
   "cell_type": "markdown",
   "metadata": {},
   "source": [
    "subset county nr"
   ]
  },
  {
   "cell_type": "code",
   "execution_count": 1491,
   "metadata": {},
   "outputs": [],
   "source": [
    "df_no_pop['reg_nr'] = [x[:2] for x in df_no_pop['region']]\n",
    "df_no_pop['region'] = [x[2::] for x in df_no_pop['region']]"
   ]
  },
  {
   "cell_type": "code",
   "execution_count": 1492,
   "metadata": {},
   "outputs": [],
   "source": [
    "df_no_pop.to_csv('data/other/df_NO_pop_', index = False)"
   ]
  },
  {
   "cell_type": "markdown",
   "metadata": {},
   "source": [
    "nord- Sør Trøndeslag"
   ]
  },
  {
   "cell_type": "markdown",
   "metadata": {},
   "source": [
    "##### Collapse Nord-Trøndeslag and Sør-Trøndelag to Trøndelag"
   ]
  },
  {
   "cell_type": "code",
   "execution_count": 1493,
   "metadata": {},
   "outputs": [],
   "source": [
    "test = df_no_pop[df_no_pop['region'].str.startswith(' Nord-Trøndelag ')]\n",
    "test = test.reset_index()\n",
    "\n",
    "test2 = df_no_pop[df_no_pop['region'].str.startswith(' Sør-Trøndelag ')]\n",
    "test2 = test2.reset_index()\n",
    "\n",
    "test3 = df_no_pop[df_no_pop['region'].str.startswith(' Trøndelag')]\n",
    "test3 = test3.reset_index()"
   ]
  },
  {
   "cell_type": "code",
   "execution_count": 1494,
   "metadata": {},
   "outputs": [],
   "source": [
    "temp = pd.concat([test,test2, test3])\n",
    "temp = temp.groupby('date').sum()\n",
    "temp['region'] =' Trøndelag'"
   ]
  },
  {
   "cell_type": "code",
   "execution_count": 1495,
   "metadata": {},
   "outputs": [],
   "source": [
    "temp = temp.reset_index()"
   ]
  },
  {
   "cell_type": "code",
   "execution_count": 1496,
   "metadata": {},
   "outputs": [],
   "source": [
    "temp['reg_nr'] = '50'"
   ]
  },
  {
   "cell_type": "code",
   "execution_count": 1497,
   "metadata": {},
   "outputs": [],
   "source": [
    "temp = temp[['region', 'date', 'pop', 'reg_nr']]"
   ]
  },
  {
   "cell_type": "markdown",
   "metadata": {},
   "source": [
    "Delete rows from df_no_pop and replace with new values"
   ]
  },
  {
   "cell_type": "code",
   "execution_count": 1498,
   "metadata": {},
   "outputs": [],
   "source": [
    "df_no_pop = df_no_pop[~df_no_pop.reg_nr.isin(['16', '17', '50'])]\n",
    "\n",
    "df_no_pop = pd.concat([df_no_pop, temp])"
   ]
  },
  {
   "cell_type": "markdown",
   "metadata": {},
   "source": [
    "Correct ID format "
   ]
  },
  {
   "cell_type": "code",
   "execution_count": 1499,
   "metadata": {},
   "outputs": [],
   "source": [
    "df_no_pop = df_no_pop.rename(columns = {'region' : 'ID'})"
   ]
  },
  {
   "cell_type": "markdown",
   "metadata": {},
   "source": [
    "Correct date format"
   ]
  },
  {
   "cell_type": "code",
   "execution_count": 1500,
   "metadata": {},
   "outputs": [],
   "source": [
    "def quarter_to_month(df, date_variable = 'date', variable_names = ['HFUDD', 'TID', 'INDHOLD', 'ID'], group_by = ['ID','year'], orig_format = '%YK%m', to_format = 'month', from_format = 'quarter') :\n",
    "    \n",
    "    if (from_format == 'quarter' and to_format == 'month'):\n",
    "        df= pd.DataFrame(np.repeat(df.values,3, axis=0))\n",
    "    elif (from_format == 'year' and to_format == 'month'):\n",
    "        df= pd.DataFrame(np.repeat(df.values,12, axis=0))\n",
    "    elif (from_format == 'year' and to_format == 'quarter'):\n",
    "        df= pd.DataFrame(np.repeat(df.values,12, axis=0))\n",
    "    \n",
    "    variable_range = range(len(variable_names))\n",
    "    df = df.rename(index=str, columns={i:variable_names[i] for i in variable_range})\n",
    "    df['year'] = pd.to_datetime(df[date_variable], format=orig_format).dt.to_period('y')\n",
    "    df['month'] = df.groupby(group_by).cumcount()+1\n",
    "    df[date_variable] = pd.to_datetime(df.year.astype(str) + '-' + df.month.astype(str))\n",
    "    df= df.drop(['year', 'month'], axis = 1)\n",
    "    \n",
    "    if (from_format == 'year' and to_format == 'quarter'):\n",
    "        df = df[df['date'].map(lambda x: x.month).isin([1, 4, 7, 10])]\n",
    "       \n",
    "    return(df)"
   ]
  },
  {
   "cell_type": "code",
   "execution_count": 1501,
   "metadata": {},
   "outputs": [],
   "source": [
    "df_no_pop = quarter_to_month(df = df_no_pop, date_variable = 'date', orig_format = '%Y', to_format = 'quarter', from_format = 'year', variable_names = [ 'ID', 'date', 'pop', 'reg_nr'], group_by = ['ID','date'])"
   ]
  },
  {
   "cell_type": "markdown",
   "metadata": {},
   "source": [
    "#### Labour force share"
   ]
  },
  {
   "cell_type": "code",
   "execution_count": 1502,
   "metadata": {},
   "outputs": [],
   "source": [
    "url = 'https://data.ssb.no/api/v0/en/table/05615/'"
   ]
  },
  {
   "cell_type": "code",
   "execution_count": 1503,
   "metadata": {},
   "outputs": [],
   "source": [
    "params = {\n",
    "  \"query\": [\n",
    "    {\n",
    "      \"code\": \"Region\",\n",
    "      \"selection\": {\n",
    "        \"filter\": \"item\",\n",
    "        \"values\": [\n",
    "          \"01\",\n",
    "          \"02\",\n",
    "          \"03\",\n",
    "          \"04\",\n",
    "          \"05\",\n",
    "          \"06\",\n",
    "          \"07\",\n",
    "          \"08\",\n",
    "          \"09\",\n",
    "          \"10\",\n",
    "          \"11\",\n",
    "          \"12\",\n",
    "          \"14\",\n",
    "          \"15\",\n",
    "          \"50\",\n",
    "          \"16\",\n",
    "          \"17\",\n",
    "          \"18\",\n",
    "          \"19\",\n",
    "          \"20\"\n",
    "        ]\n",
    "      }\n",
    "    },\n",
    "    {\n",
    "      \"code\": \"Kjonn\",\n",
    "      \"selection\": {\n",
    "        \"filter\": \"item\",\n",
    "        \"values\": [\n",
    "          \"0\"\n",
    "        ]\n",
    "      }\n",
    "    },\n",
    "    {\n",
    "      \"code\": \"ArbStyrkStatus\",\n",
    "      \"selection\": {\n",
    "        \"filter\": \"item\",\n",
    "        \"values\": [\n",
    "          \"0a\"\n",
    "        ]\n",
    "      }\n",
    "    },\n",
    "    {\n",
    "      \"code\": \"ContentsCode\",\n",
    "      \"selection\": {\n",
    "        \"filter\": \"item\",\n",
    "        \"values\": [\n",
    "          \"SysselsattProsent\"\n",
    "        ]\n",
    "      }\n",
    "    },\n",
    "    {\n",
    "      \"code\": \"Tid\",\n",
    "      \"selection\": {\n",
    "        \"filter\": \"item\",\n",
    "        \"values\": [\n",
    "          \"2004K1\",\n",
    "          \"2004K2\",\n",
    "          \"2004K3\",\n",
    "          \"2004K4\",\n",
    "          \"2005K1\",\n",
    "          \"2005K2\",\n",
    "          \"2005K3\",\n",
    "          \"2005K4\",\n",
    "          \"2006K1\",\n",
    "          \"2006K1 Gml\",\n",
    "          \"2006K2\",\n",
    "          \"2006K2 Gml\",\n",
    "          \"2006K3\",\n",
    "          \"2006K3 Gml\",\n",
    "          \"2006K4\",\n",
    "          \"2006K4 Gml\",\n",
    "          \"2007K1\",\n",
    "          \"2007K2\",\n",
    "          \"2007K3\",\n",
    "          \"2007K4\",\n",
    "          \"2008K1\",\n",
    "          \"2008K2\",\n",
    "          \"2008K3\",\n",
    "          \"2008K4\",\n",
    "          \"2009K1\",\n",
    "          \"2009K2\",\n",
    "          \"2009K3\",\n",
    "          \"2009K4\",\n",
    "          \"2010K1\",\n",
    "          \"2010K2\",\n",
    "          \"2010K3\",\n",
    "          \"2010K4\",\n",
    "          \"2011K1\",\n",
    "          \"2011K2\",\n",
    "          \"2011K3\",\n",
    "          \"2011K4\",\n",
    "          \"2012K1\",\n",
    "          \"2012K2\",\n",
    "          \"2012K3\",\n",
    "          \"2012K4\",\n",
    "          \"2013K1\",\n",
    "          \"2013K2\",\n",
    "          \"2013K3\",\n",
    "          \"2013K4\",\n",
    "          \"2014K1\",\n",
    "          \"2014K2\",\n",
    "          \"2014K3\",\n",
    "          \"2014K4\",\n",
    "          \"2015K1\",\n",
    "          \"2015K2\",\n",
    "          \"2015K3\",\n",
    "          \"2015K4\",\n",
    "          \"2016K1\",\n",
    "          \"2016K2\",\n",
    "          \"2016K3\",\n",
    "          \"2016K4\",\n",
    "          \"2017K1\",\n",
    "          \"2017K2\",\n",
    "          \"2017K3\",\n",
    "          \"2017K4\",\n",
    "          \"2018K1\",\n",
    "          \"2018K2\",\n",
    "          \"2018K3\",\n",
    "          \"2018K4\",\n",
    "          \"2019K1\",\n",
    "          \"2019K2\"\n",
    "        ]\n",
    "      }\n",
    "    }\n",
    "  ],\n",
    "  \"response\": {\n",
    "    \"format\": \"csv\"\n",
    "  }\n",
    "}"
   ]
  },
  {
   "cell_type": "code",
   "execution_count": 1504,
   "metadata": {},
   "outputs": [],
   "source": [
    "# request data\n",
    "r = requests.post(url, json = params)\n",
    "r= r.text"
   ]
  },
  {
   "cell_type": "code",
   "execution_count": 1505,
   "metadata": {},
   "outputs": [],
   "source": [
    "# Save to CSV\n",
    "text_file = open(\"data/other/df_no_labour_force_share.csv\", \"w\", encoding=\"utf8\")\n",
    "text_file.write(r)\n",
    "text_file.close()"
   ]
  },
  {
   "cell_type": "code",
   "execution_count": 1506,
   "metadata": {},
   "outputs": [],
   "source": [
    "# Open the csv file \n",
    "df_no_lf_share = pd.read_csv(\"data/other/df_no_labour_force_share.csv\") "
   ]
  },
  {
   "cell_type": "markdown",
   "metadata": {},
   "source": [
    "wide to long"
   ]
  },
  {
   "cell_type": "code",
   "execution_count": 1507,
   "metadata": {},
   "outputs": [],
   "source": [
    "df_no_lf_share = df_no_lf_share.drop(['labour force status', 'sex'], axis = 1)"
   ]
  },
  {
   "cell_type": "code",
   "execution_count": 1508,
   "metadata": {},
   "outputs": [],
   "source": [
    "df_no_lf_share = df_no_lf_share.drop(df_no_lf_share.filter(regex='Gml').columns, axis=1)"
   ]
  },
  {
   "cell_type": "code",
   "execution_count": 1509,
   "metadata": {},
   "outputs": [],
   "source": [
    "df_no_lf_share['reg_nr'] = [x[:2] for x in df_no_lf_share['region']]\n",
    "df_no_lf_share['region'] = [x[2::] for x in df_no_lf_share['region']]"
   ]
  },
  {
   "cell_type": "code",
   "execution_count": 1510,
   "metadata": {},
   "outputs": [],
   "source": [
    "df_no_lf_share = pd.melt(df_no_lf_share, id_vars=['region', 'reg_nr'], value_vars=['Per cent of population 2004K1',\n",
    "       'Per cent of population 2004K2', 'Per cent of population 2004K3',\n",
    "       'Per cent of population 2004K4', 'Per cent of population 2005K1',\n",
    "       'Per cent of population 2005K2', 'Per cent of population 2005K3',\n",
    "       'Per cent of population 2005K4', 'Per cent of population 2006K1',\n",
    "       'Per cent of population 2006K2', 'Per cent of population 2006K3',\n",
    "       'Per cent of population 2006K4', 'Per cent of population 2007K1',\n",
    "       'Per cent of population 2007K2', 'Per cent of population 2007K3',\n",
    "       'Per cent of population 2007K4', 'Per cent of population 2008K1',\n",
    "       'Per cent of population 2008K2', 'Per cent of population 2008K3',\n",
    "       'Per cent of population 2008K4', 'Per cent of population 2009K1',\n",
    "       'Per cent of population 2009K2', 'Per cent of population 2009K3',\n",
    "       'Per cent of population 2009K4', 'Per cent of population 2010K1',\n",
    "       'Per cent of population 2010K2', 'Per cent of population 2010K3',\n",
    "       'Per cent of population 2010K4', 'Per cent of population 2011K1',\n",
    "       'Per cent of population 2011K2', 'Per cent of population 2011K3',\n",
    "       'Per cent of population 2011K4', 'Per cent of population 2012K1',\n",
    "       'Per cent of population 2012K2', 'Per cent of population 2012K3',\n",
    "       'Per cent of population 2012K4', 'Per cent of population 2013K1',\n",
    "       'Per cent of population 2013K2', 'Per cent of population 2013K3',\n",
    "       'Per cent of population 2013K4', 'Per cent of population 2014K1',\n",
    "       'Per cent of population 2014K2', 'Per cent of population 2014K3',\n",
    "       'Per cent of population 2014K4', 'Per cent of population 2015K1',\n",
    "       'Per cent of population 2015K2', 'Per cent of population 2015K3',\n",
    "       'Per cent of population 2015K4', 'Per cent of population 2016K1',\n",
    "       'Per cent of population 2016K2', 'Per cent of population 2016K3',\n",
    "       'Per cent of population 2016K4', 'Per cent of population 2017K1',\n",
    "       'Per cent of population 2017K2', 'Per cent of population 2017K3',\n",
    "       'Per cent of population 2017K4', 'Per cent of population 2018K1',\n",
    "       'Per cent of population 2018K2', 'Per cent of population 2018K3',\n",
    "       'Per cent of population 2018K4', 'Per cent of population 2019K1',\n",
    "       'Per cent of population 2019K2'])"
   ]
  },
  {
   "cell_type": "code",
   "execution_count": 1511,
   "metadata": {},
   "outputs": [],
   "source": [
    "df_no_lf_share['date'] = [x[-6:] for x in df_no_lf_share['variable']]"
   ]
  },
  {
   "cell_type": "code",
   "execution_count": 1512,
   "metadata": {},
   "outputs": [],
   "source": [
    "df_no_lf_share = df_no_lf_share.drop(['variable'], axis = 1)"
   ]
  },
  {
   "cell_type": "code",
   "execution_count": 1513,
   "metadata": {},
   "outputs": [],
   "source": [
    "df_no_lf_share = df_no_lf_share.rename(columns = {'value': 'labour_force_share'})"
   ]
  },
  {
   "cell_type": "markdown",
   "metadata": {},
   "source": [
    "nord- Sør Trøndeslag"
   ]
  },
  {
   "cell_type": "markdown",
   "metadata": {},
   "source": [
    "##### Collapse Nord-Trøndeslag and Sør-Trøndelag to Trøndelag"
   ]
  },
  {
   "cell_type": "code",
   "execution_count": 1514,
   "metadata": {},
   "outputs": [],
   "source": [
    "test = df_no_lf_share[df_no_lf_share['region'].str.startswith(' Nord-Trøndelag ')]\n",
    "test = test.reset_index()\n",
    "\n",
    "test2 = df_no_lf_share[df_no_lf_share['region'].str.startswith(' Sør-Trøndelag ')]\n",
    "test2 = test2.reset_index()"
   ]
  },
  {
   "cell_type": "code",
   "execution_count": 1515,
   "metadata": {},
   "outputs": [],
   "source": [
    "temp = pd.concat([test,test2])\n",
    "temp = temp.groupby('date').mean()\n",
    "temp['region'] =' Trøndelag'"
   ]
  },
  {
   "cell_type": "code",
   "execution_count": 1516,
   "metadata": {},
   "outputs": [],
   "source": [
    "temp = temp.reset_index()"
   ]
  },
  {
   "cell_type": "code",
   "execution_count": 1517,
   "metadata": {},
   "outputs": [],
   "source": [
    "temp['reg_nr'] = '50'"
   ]
  },
  {
   "cell_type": "code",
   "execution_count": 1518,
   "metadata": {},
   "outputs": [],
   "source": [
    "temp = temp[['region', 'reg_nr','labour_force_share', 'date']]"
   ]
  },
  {
   "cell_type": "markdown",
   "metadata": {},
   "source": [
    "Delete rows from df_no_pop and replace with new values"
   ]
  },
  {
   "cell_type": "code",
   "execution_count": 1519,
   "metadata": {},
   "outputs": [],
   "source": [
    "df_no_lf_share = df_no_lf_share[~df_no_lf_share.reg_nr.isin(['16', '17'])]\n",
    "\n",
    "df_no_lf_share = pd.concat([df_no_lf_share, temp])"
   ]
  },
  {
   "cell_type": "code",
   "execution_count": 1520,
   "metadata": {},
   "outputs": [],
   "source": [
    "df_no_lf_share = df_no_lf_share.groupby(['region', 'reg_nr', 'date']).sum().reset_index()"
   ]
  },
  {
   "cell_type": "markdown",
   "metadata": {},
   "source": [
    "Correct ID format "
   ]
  },
  {
   "cell_type": "code",
   "execution_count": 1521,
   "metadata": {},
   "outputs": [],
   "source": [
    "df_no_lf_share =df_no_lf_share.rename(columns = {'region' : 'ID'})"
   ]
  },
  {
   "cell_type": "markdown",
   "metadata": {},
   "source": [
    "Correct date format"
   ]
  },
  {
   "cell_type": "code",
   "execution_count": 1522,
   "metadata": {},
   "outputs": [],
   "source": [
    "df_no_lf_share =quarter_to_month(df = df_no_lf_share, date_variable = 'date', orig_format = '%YK%m', to_format = 'month', from_format = 'quarter', variable_names = ['ID', 'reg_nr', 'date', 'labour_force_share'], group_by = ['ID','year'])\n",
    "df_no_lf_share = df_no_lf_share[df_no_lf_share['date'].map(lambda x: x.month).isin([1, 4, 7, 10])]"
   ]
  },
  {
   "cell_type": "markdown",
   "metadata": {},
   "source": [
    "####  MVU and LVU "
   ]
  },
  {
   "cell_type": "code",
   "execution_count": 1523,
   "metadata": {},
   "outputs": [],
   "source": [
    "url = 'https://data.ssb.no/api/v0/en/table/08921/'"
   ]
  },
  {
   "cell_type": "code",
   "execution_count": 1524,
   "metadata": {},
   "outputs": [],
   "source": [
    "params = {\n",
    "  \"query\": [\n",
    "    {\n",
    "      \"code\": \"Region\",\n",
    "      \"selection\": {\n",
    "        \"filter\": \"item\",\n",
    "        \"values\": [\n",
    "          \"01\",\n",
    "          \"02\",\n",
    "          \"03\",\n",
    "          \"04\",\n",
    "          \"05\",\n",
    "          \"06\",\n",
    "          \"07\",\n",
    "          \"08\",\n",
    "          \"09\",\n",
    "          \"10\",\n",
    "          \"11\",\n",
    "          \"12\",\n",
    "          \"14\",\n",
    "          \"15\",\n",
    "          \"50\",\n",
    "          \"16\",\n",
    "          \"17\",\n",
    "          \"18\",\n",
    "          \"19\",\n",
    "          \"20\"\n",
    "        ]\n",
    "      }\n",
    "    },\n",
    "    {\n",
    "      \"code\": \"Kjonn\",\n",
    "      \"selection\": {\n",
    "        \"filter\": \"item\",\n",
    "        \"values\": [\n",
    "          \"0\"\n",
    "        ]\n",
    "      }\n",
    "    },\n",
    "    {\n",
    "      \"code\": \"Alder\",\n",
    "      \"selection\": {\n",
    "        \"filter\": \"item\",\n",
    "        \"values\": [\n",
    "          \"00000\"\n",
    "        ]\n",
    "      }\n",
    "    },\n",
    "    {\n",
    "      \"code\": \"UtdanNivaa\",\n",
    "      \"selection\": {\n",
    "        \"filter\": \"item\",\n",
    "        \"values\": [\n",
    "          \"03a\",\n",
    "          \"04a\"\n",
    "        ]\n",
    "      }\n",
    "    },\n",
    "    {\n",
    "      \"code\": \"ContentsCode\",\n",
    "      \"selection\": {\n",
    "        \"filter\": \"item\",\n",
    "        \"values\": [\n",
    "          \"PersonPros\"\n",
    "        ]\n",
    "      }\n",
    "    }\n",
    "  ],\n",
    "  \"response\": {\n",
    "    \"format\": \"csv\"\n",
    "  }\n",
    "}"
   ]
  },
  {
   "cell_type": "code",
   "execution_count": 1525,
   "metadata": {},
   "outputs": [],
   "source": [
    "# request data\n",
    "r = requests.post(url, json = params)\n",
    "r= r.text"
   ]
  },
  {
   "cell_type": "code",
   "execution_count": 1526,
   "metadata": {},
   "outputs": [],
   "source": [
    "# Save to CSV\n",
    "text_file = open(\"data/other/df_no_mvu_lvu.csv\", \"w\", encoding=\"utf8\")\n",
    "text_file.write(r)\n",
    "text_file.close()"
   ]
  },
  {
   "cell_type": "code",
   "execution_count": 1527,
   "metadata": {},
   "outputs": [],
   "source": [
    "# Open the csv file \n",
    "df_no_mvu_lvu = pd.read_csv(\"data/other/df_no_mvu_lvu.csv\") "
   ]
  },
  {
   "cell_type": "code",
   "execution_count": 1528,
   "metadata": {},
   "outputs": [],
   "source": [
    "temp1 = df_no_mvu_lvu.iloc[:,-1]\n",
    "temp2 = df_no_mvu_lvu.iloc[:,0:1]\n",
    "temp2 = temp2.merge(temp1, right_index = True, left_index = True)\n",
    "temp2['date'] = 2018\n",
    "temp2 = temp2.rename(columns = {'Persons 16 years and older (per cent) 2018' : 'mvu_lvu_share'})"
   ]
  },
  {
   "cell_type": "code",
   "execution_count": 1529,
   "metadata": {},
   "outputs": [],
   "source": [
    "temp = temp2[['region', 'date', 'mvu_lvu_share']]"
   ]
  },
  {
   "cell_type": "code",
   "execution_count": 1530,
   "metadata": {},
   "outputs": [
    {
     "name": "stderr",
     "output_type": "stream",
     "text": [
      "/anaconda3/lib/python3.7/site-packages/ipykernel_launcher.py:1: SettingWithCopyWarning: \n",
      "A value is trying to be set on a copy of a slice from a DataFrame.\n",
      "Try using .loc[row_indexer,col_indexer] = value instead\n",
      "\n",
      "See the caveats in the documentation: http://pandas.pydata.org/pandas-docs/stable/user_guide/indexing.html#returning-a-view-versus-a-copy\n",
      "  \"\"\"Entry point for launching an IPython kernel.\n",
      "/anaconda3/lib/python3.7/site-packages/ipykernel_launcher.py:2: SettingWithCopyWarning: \n",
      "A value is trying to be set on a copy of a slice from a DataFrame.\n",
      "Try using .loc[row_indexer,col_indexer] = value instead\n",
      "\n",
      "See the caveats in the documentation: http://pandas.pydata.org/pandas-docs/stable/user_guide/indexing.html#returning-a-view-versus-a-copy\n",
      "  \n"
     ]
    }
   ],
   "source": [
    "temp['reg_nr'] = [x[:2] for x in temp['region']]\n",
    "temp['region'] = [x[2::] for x in temp['region']]"
   ]
  },
  {
   "cell_type": "code",
   "execution_count": 1531,
   "metadata": {},
   "outputs": [],
   "source": [
    "temp = temp[~temp.reg_nr.isin(['16', '17'])]"
   ]
  },
  {
   "cell_type": "code",
   "execution_count": 1532,
   "metadata": {},
   "outputs": [],
   "source": [
    "temp['mvu_lvu_share'] = temp.mvu_lvu_share.apply(pd.to_numeric)"
   ]
  },
  {
   "cell_type": "code",
   "execution_count": 1533,
   "metadata": {},
   "outputs": [],
   "source": [
    "temp =  temp.groupby(['region', 'date', 'reg_nr']).sum().reset_index()"
   ]
  },
  {
   "cell_type": "code",
   "execution_count": 1534,
   "metadata": {},
   "outputs": [],
   "source": [
    "temp_final = temp.copy()"
   ]
  },
  {
   "cell_type": "markdown",
   "metadata": {},
   "source": [
    "wide to long"
   ]
  },
  {
   "cell_type": "code",
   "execution_count": 1535,
   "metadata": {},
   "outputs": [],
   "source": [
    "df_no_mvu_lvu = df_no_mvu_lvu.drop(['age', 'sex'], axis = 1)"
   ]
  },
  {
   "cell_type": "code",
   "execution_count": 1536,
   "metadata": {},
   "outputs": [],
   "source": [
    "df_no_mvu_lvu = df_no_mvu_lvu.groupby(['region']).sum().reset_index()"
   ]
  },
  {
   "cell_type": "code",
   "execution_count": 1537,
   "metadata": {},
   "outputs": [],
   "source": [
    "df_no_mvu_lvu = pd.wide_to_long(df_no_mvu_lvu, [\"Persons 16 years and older (per cent) \"], i=[\"region\"], j=\"date\").reset_index()\n",
    "df_no_mvu_lvu = df_no_mvu_lvu.rename(columns = {'Persons 16 years and older (per cent) ': 'mvu_lvu_share'})"
   ]
  },
  {
   "cell_type": "markdown",
   "metadata": {},
   "source": [
    "subset county nr"
   ]
  },
  {
   "cell_type": "code",
   "execution_count": 1538,
   "metadata": {},
   "outputs": [],
   "source": [
    "df_no_mvu_lvu['reg_nr'] = [x[:2] for x in df_no_mvu_lvu['region']]\n",
    "df_no_mvu_lvu['region'] = [x[2::] for x in df_no_mvu_lvu['region']]"
   ]
  },
  {
   "cell_type": "markdown",
   "metadata": {},
   "source": [
    "nord- Sør Trøndeslag"
   ]
  },
  {
   "cell_type": "markdown",
   "metadata": {},
   "source": [
    "##### Collapse Nord-Trøndeslag and Sør-Trøndelag to Trøndelag"
   ]
  },
  {
   "cell_type": "code",
   "execution_count": 1539,
   "metadata": {},
   "outputs": [],
   "source": [
    "test = df_no_mvu_lvu[df_no_mvu_lvu['region'].str.startswith(' Nord-Trøndelag ')]\n",
    "test = test.reset_index()\n",
    "\n",
    "test2 = df_no_mvu_lvu[df_no_mvu_lvu['region'].str.startswith(' Sør-Trøndelag ')]\n",
    "test2 = test2.reset_index()"
   ]
  },
  {
   "cell_type": "code",
   "execution_count": 1540,
   "metadata": {},
   "outputs": [],
   "source": [
    "temp = pd.concat([test,test2])"
   ]
  },
  {
   "cell_type": "code",
   "execution_count": 1541,
   "metadata": {},
   "outputs": [],
   "source": [
    "temp = temp.groupby('date').mean()\n",
    "temp['region'] =' Trøndelag'"
   ]
  },
  {
   "cell_type": "code",
   "execution_count": 1542,
   "metadata": {},
   "outputs": [],
   "source": [
    "temp = temp.reset_index()"
   ]
  },
  {
   "cell_type": "code",
   "execution_count": 1543,
   "metadata": {},
   "outputs": [],
   "source": [
    "temp['reg_nr'] = '50'"
   ]
  },
  {
   "cell_type": "code",
   "execution_count": 1544,
   "metadata": {},
   "outputs": [],
   "source": [
    "temp = temp[['region', 'date', 'mvu_lvu_share', 'reg_nr']]"
   ]
  },
  {
   "cell_type": "markdown",
   "metadata": {},
   "source": [
    "Delete rows from df_no_pop and replace with new values"
   ]
  },
  {
   "cell_type": "code",
   "execution_count": 1545,
   "metadata": {},
   "outputs": [],
   "source": [
    "df_no_mvu_lvu = df_no_mvu_lvu[~df_no_mvu_lvu.reg_nr.isin(['16', '17', '50'])]\n",
    "\n",
    "df_no_mvu_lvu = pd.concat([df_no_mvu_lvu, temp])"
   ]
  },
  {
   "cell_type": "code",
   "execution_count": 1546,
   "metadata": {},
   "outputs": [],
   "source": [
    "temp_final = temp_final[['region', 'date', 'mvu_lvu_share', 'reg_nr']]"
   ]
  },
  {
   "cell_type": "code",
   "execution_count": 1547,
   "metadata": {},
   "outputs": [],
   "source": [
    "df_no_mvu_lvu = pd.concat([df_no_mvu_lvu, temp_final])"
   ]
  },
  {
   "cell_type": "markdown",
   "metadata": {},
   "source": [
    "Correct ID format "
   ]
  },
  {
   "cell_type": "code",
   "execution_count": 1548,
   "metadata": {},
   "outputs": [],
   "source": [
    "df_no_mvu_lvu =df_no_mvu_lvu.rename(columns = {'region' : 'ID'})"
   ]
  },
  {
   "cell_type": "markdown",
   "metadata": {},
   "source": [
    "Correct date format"
   ]
  },
  {
   "cell_type": "code",
   "execution_count": 1549,
   "metadata": {},
   "outputs": [],
   "source": [
    "df_no_mvu_lvu = quarter_to_month(df = df_no_mvu_lvu, date_variable = 'date', orig_format = '%Y', to_format = 'quarter', from_format = 'year', variable_names = [ 'ID', 'date', 'mvu_lvu_share', 'reg_nr'], group_by = ['ID','date'])\n",
    "\n"
   ]
  },
  {
   "cell_type": "markdown",
   "metadata": {},
   "source": [
    "#### w_ave_urban_index"
   ]
  },
  {
   "cell_type": "code",
   "execution_count": 1550,
   "metadata": {},
   "outputs": [],
   "source": [
    "url = 'https://data.ssb.no/api/v0/en/table/05212/'"
   ]
  },
  {
   "cell_type": "code",
   "execution_count": 1551,
   "metadata": {},
   "outputs": [],
   "source": [
    "params = {\n",
    "  \"query\": [\n",
    "    {\n",
    "      \"code\": \"Region\",\n",
    "      \"selection\": {\n",
    "        \"filter\": \"agg_single:Fylker1972\",\n",
    "        \"values\": [\n",
    "          \"01\",\n",
    "          \"02\",\n",
    "          \"03\",\n",
    "          \"04\",\n",
    "          \"05\",\n",
    "          \"06\",\n",
    "          \"07\",\n",
    "          \"08\",\n",
    "          \"09\",\n",
    "          \"10\",\n",
    "          \"11\",\n",
    "          \"12\",\n",
    "          \"14\",\n",
    "          \"15\",\n",
    "          \"50\",\n",
    "          \"16\",\n",
    "          \"17\",\n",
    "          \"18\",\n",
    "          \"19\",\n",
    "          \"20\",\n",
    "          \"21\"\n",
    "        ]\n",
    "      }\n",
    "    },\n",
    "    {\n",
    "      \"code\": \"TettSpredt\",\n",
    "      \"selection\": {\n",
    "        \"filter\": \"item\",\n",
    "        \"values\": [\n",
    "          \"10\"\n",
    "        ]\n",
    "      }\n",
    "    }\n",
    "  ],\n",
    "  \"response\": {\n",
    "    \"format\": \"csv\"\n",
    "  }\n",
    "}"
   ]
  },
  {
   "cell_type": "code",
   "execution_count": 1552,
   "metadata": {},
   "outputs": [],
   "source": [
    "# request data\n",
    "r = requests.post(url, json = params)\n",
    "r= r.text"
   ]
  },
  {
   "cell_type": "code",
   "execution_count": 1553,
   "metadata": {},
   "outputs": [],
   "source": [
    "# Save to CSV\n",
    "text_file = open(\"data/other/df_no_urban.csv\", \"w\", encoding=\"utf8\")\n",
    "text_file.write(r)\n",
    "text_file.close()"
   ]
  },
  {
   "cell_type": "code",
   "execution_count": 1554,
   "metadata": {},
   "outputs": [],
   "source": [
    "# Open the csv file \n",
    "df_no_urban = pd.read_csv(\"data/other/df_no_urban.csv\") "
   ]
  },
  {
   "cell_type": "markdown",
   "metadata": {},
   "source": [
    "wide to long"
   ]
  },
  {
   "cell_type": "code",
   "execution_count": 1555,
   "metadata": {},
   "outputs": [],
   "source": [
    "df_no_urban = df_no_urban.drop(['densely/sparsely populated areas'], axis = 1)"
   ]
  },
  {
   "cell_type": "code",
   "execution_count": 1556,
   "metadata": {},
   "outputs": [],
   "source": [
    "df_no_urban = pd.wide_to_long(df_no_urban, [\"Population \"], i=[\"region\"], j=\"date\").reset_index()\n",
    "df_no_urban = df_no_urban.rename(columns = {'Population ': 'urban_pop'})"
   ]
  },
  {
   "cell_type": "markdown",
   "metadata": {},
   "source": [
    "subset county nr"
   ]
  },
  {
   "cell_type": "code",
   "execution_count": 1557,
   "metadata": {},
   "outputs": [],
   "source": [
    "df_no_urban['reg_nr'] = [x[:2] for x in df_no_urban['region']]\n",
    "df_no_urban['region'] = [x[2::] for x in df_no_urban['region']]"
   ]
  },
  {
   "cell_type": "markdown",
   "metadata": {},
   "source": [
    "nord- Sør Trøndeslag"
   ]
  },
  {
   "cell_type": "markdown",
   "metadata": {},
   "source": [
    "##### Collapse Nord-Trøndeslag and Sør-Trøndelag to Trøndelag"
   ]
  },
  {
   "cell_type": "code",
   "execution_count": 1558,
   "metadata": {},
   "outputs": [],
   "source": [
    "test = df_no_urban[df_no_urban['region'].str.startswith(' Nord-Trøndelag ')]\n",
    "test = test.reset_index()\n",
    "\n",
    "test2 = df_no_urban[df_no_urban['region'].str.startswith(' Sør-Trøndelag ')]\n",
    "test2 = test2.reset_index()\n",
    "\n",
    "test3 = df_no_urban[df_no_urban['region'].str.startswith(' Trøndelag')]\n",
    "test3 = test3.reset_index()"
   ]
  },
  {
   "cell_type": "code",
   "execution_count": 1559,
   "metadata": {},
   "outputs": [],
   "source": [
    "temp = pd.concat([test,test2, test3])\n",
    "temp = temp.groupby('date').sum()\n",
    "temp['region'] =' Trøndelag'"
   ]
  },
  {
   "cell_type": "code",
   "execution_count": 1560,
   "metadata": {},
   "outputs": [],
   "source": [
    "temp = temp.reset_index()"
   ]
  },
  {
   "cell_type": "code",
   "execution_count": 1561,
   "metadata": {},
   "outputs": [],
   "source": [
    "temp['reg_nr'] = '50'"
   ]
  },
  {
   "cell_type": "code",
   "execution_count": 1562,
   "metadata": {},
   "outputs": [],
   "source": [
    "temp = temp[['region', 'date', 'urban_pop', 'reg_nr']]"
   ]
  },
  {
   "cell_type": "markdown",
   "metadata": {},
   "source": [
    "Delete rows from df_no_pop and replace with new values"
   ]
  },
  {
   "cell_type": "code",
   "execution_count": 1563,
   "metadata": {},
   "outputs": [],
   "source": [
    "df_no_urban = df_no_urban[~df_no_urban.reg_nr.isin(['16', '17', '50'])]\n",
    "\n",
    "df_no_urban = pd.concat([df_no_urban, temp])"
   ]
  },
  {
   "cell_type": "markdown",
   "metadata": {},
   "source": [
    "Correct ID format "
   ]
  },
  {
   "cell_type": "code",
   "execution_count": 1564,
   "metadata": {},
   "outputs": [],
   "source": [
    "df_no_urban =df_no_urban.rename(columns = {'region' : 'ID'})"
   ]
  },
  {
   "cell_type": "markdown",
   "metadata": {},
   "source": [
    "Correct date format"
   ]
  },
  {
   "cell_type": "code",
   "execution_count": 1565,
   "metadata": {},
   "outputs": [],
   "source": [
    "df_no_urban.date.iloc[0]\n",
    "df_no_urban['date'] = pd.to_datetime(df_no_urban['date'], format='%Y').dt.to_period('y')"
   ]
  },
  {
   "cell_type": "code",
   "execution_count": 1566,
   "metadata": {},
   "outputs": [],
   "source": [
    "df_no_urban = quarter_to_month(df = df_no_urban, date_variable = 'date', orig_format = '%Y', to_format = 'quarter', from_format = 'year', variable_names = [ 'ID', 'date', 'urban_pop', 'reg_nr'], group_by = ['ID','date'])\n",
    "\n"
   ]
  },
  {
   "cell_type": "code",
   "execution_count": 1567,
   "metadata": {},
   "outputs": [],
   "source": [
    "from dateutil.relativedelta import relativedelta"
   ]
  },
  {
   "cell_type": "code",
   "execution_count": 1568,
   "metadata": {},
   "outputs": [
    {
     "name": "stderr",
     "output_type": "stream",
     "text": [
      "/anaconda3/lib/python3.7/site-packages/ipykernel_launcher.py:2: SettingWithCopyWarning: \n",
      "A value is trying to be set on a copy of a slice from a DataFrame.\n",
      "Try using .loc[row_indexer,col_indexer] = value instead\n",
      "\n",
      "See the caveats in the documentation: http://pandas.pydata.org/pandas-docs/stable/user_guide/indexing.html#returning-a-view-versus-a-copy\n",
      "  \n"
     ]
    }
   ],
   "source": [
    "temp = df_no_urban[df_no_urban.date.dt.year ==2009]\n",
    "temp['date'] = [x + relativedelta(years=+1)for x in temp.date]\n",
    "df_no_urban = pd.concat([df_no_urban, temp])"
   ]
  },
  {
   "cell_type": "code",
   "execution_count": 1569,
   "metadata": {},
   "outputs": [
    {
     "data": {
      "text/html": [
       "<div>\n",
       "<style scoped>\n",
       "    .dataframe tbody tr th:only-of-type {\n",
       "        vertical-align: middle;\n",
       "    }\n",
       "\n",
       "    .dataframe tbody tr th {\n",
       "        vertical-align: top;\n",
       "    }\n",
       "\n",
       "    .dataframe thead th {\n",
       "        text-align: right;\n",
       "    }\n",
       "</style>\n",
       "<table border=\"1\" class=\"dataframe\">\n",
       "  <thead>\n",
       "    <tr style=\"text-align: right;\">\n",
       "      <th></th>\n",
       "      <th>ID</th>\n",
       "      <th>date</th>\n",
       "      <th>urban_pop</th>\n",
       "      <th>reg_nr</th>\n",
       "    </tr>\n",
       "  </thead>\n",
       "  <tbody>\n",
       "    <tr>\n",
       "      <td>0</td>\n",
       "      <td>Østfold</td>\n",
       "      <td>1990-01-01</td>\n",
       "      <td>185901</td>\n",
       "      <td>01</td>\n",
       "    </tr>\n",
       "    <tr>\n",
       "      <td>3</td>\n",
       "      <td>Østfold</td>\n",
       "      <td>1990-04-01</td>\n",
       "      <td>185901</td>\n",
       "      <td>01</td>\n",
       "    </tr>\n",
       "    <tr>\n",
       "      <td>6</td>\n",
       "      <td>Østfold</td>\n",
       "      <td>1990-07-01</td>\n",
       "      <td>185901</td>\n",
       "      <td>01</td>\n",
       "    </tr>\n",
       "    <tr>\n",
       "      <td>9</td>\n",
       "      <td>Østfold</td>\n",
       "      <td>1990-10-01</td>\n",
       "      <td>185901</td>\n",
       "      <td>01</td>\n",
       "    </tr>\n",
       "    <tr>\n",
       "      <td>12</td>\n",
       "      <td>Akershus</td>\n",
       "      <td>1990-01-01</td>\n",
       "      <td>350264</td>\n",
       "      <td>02</td>\n",
       "    </tr>\n",
       "    <tr>\n",
       "      <td>...</td>\n",
       "      <td>...</td>\n",
       "      <td>...</td>\n",
       "      <td>...</td>\n",
       "      <td>...</td>\n",
       "    </tr>\n",
       "    <tr>\n",
       "      <td>4317</td>\n",
       "      <td>Svalbard</td>\n",
       "      <td>2010-10-01</td>\n",
       "      <td>0</td>\n",
       "      <td>21</td>\n",
       "    </tr>\n",
       "    <tr>\n",
       "      <td>6276</td>\n",
       "      <td>Trøndelag</td>\n",
       "      <td>2010-01-01</td>\n",
       "      <td>298759</td>\n",
       "      <td>50</td>\n",
       "    </tr>\n",
       "    <tr>\n",
       "      <td>6279</td>\n",
       "      <td>Trøndelag</td>\n",
       "      <td>2010-04-01</td>\n",
       "      <td>298759</td>\n",
       "      <td>50</td>\n",
       "    </tr>\n",
       "    <tr>\n",
       "      <td>6282</td>\n",
       "      <td>Trøndelag</td>\n",
       "      <td>2010-07-01</td>\n",
       "      <td>298759</td>\n",
       "      <td>50</td>\n",
       "    </tr>\n",
       "    <tr>\n",
       "      <td>6285</td>\n",
       "      <td>Trøndelag</td>\n",
       "      <td>2010-10-01</td>\n",
       "      <td>298759</td>\n",
       "      <td>50</td>\n",
       "    </tr>\n",
       "  </tbody>\n",
       "</table>\n",
       "<p>2204 rows × 4 columns</p>\n",
       "</div>"
      ],
      "text/plain": [
       "              ID       date urban_pop reg_nr\n",
       "0        Østfold 1990-01-01    185901     01\n",
       "3        Østfold 1990-04-01    185901     01\n",
       "6        Østfold 1990-07-01    185901     01\n",
       "9        Østfold 1990-10-01    185901     01\n",
       "12      Akershus 1990-01-01    350264     02\n",
       "...          ...        ...       ...    ...\n",
       "4317    Svalbard 2010-10-01         0     21\n",
       "6276   Trøndelag 2010-01-01    298759     50\n",
       "6279   Trøndelag 2010-04-01    298759     50\n",
       "6282   Trøndelag 2010-07-01    298759     50\n",
       "6285   Trøndelag 2010-10-01    298759     50\n",
       "\n",
       "[2204 rows x 4 columns]"
      ]
     },
     "execution_count": 1569,
     "metadata": {},
     "output_type": "execute_result"
    }
   ],
   "source": [
    "df_no_urban"
   ]
  },
  {
   "cell_type": "markdown",
   "metadata": {},
   "source": [
    "Merge controls "
   ]
  },
  {
   "cell_type": "code",
   "execution_count": 1570,
   "metadata": {},
   "outputs": [],
   "source": [
    "df_NO_controls = df_no_pop.merge(df_no_lf_share, on = ['date', 'ID', 'reg_nr'], how = 'left')"
   ]
  },
  {
   "cell_type": "code",
   "execution_count": 1571,
   "metadata": {},
   "outputs": [
    {
     "data": {
      "text/plain": [
       "(1292, 5)"
      ]
     },
     "execution_count": 1571,
     "metadata": {},
     "output_type": "execute_result"
    }
   ],
   "source": [
    "df_NO_controls.shape"
   ]
  },
  {
   "cell_type": "markdown",
   "metadata": {},
   "source": [
    "delete Svalbard"
   ]
  },
  {
   "cell_type": "code",
   "execution_count": 1572,
   "metadata": {},
   "outputs": [],
   "source": [
    "df_NO_controls[df_NO_controls['pop'] == 0]\n",
    "df_NO_controls = df_NO_controls.loc[df_NO_controls['ID'] != ' Svalbard']"
   ]
  },
  {
   "cell_type": "code",
   "execution_count": 1573,
   "metadata": {},
   "outputs": [],
   "source": [
    "df_NO_controls = df_NO_controls.merge(df_no_mvu_lvu, on = ['date', 'ID', 'reg_nr'], how = 'left')"
   ]
  },
  {
   "cell_type": "code",
   "execution_count": 1574,
   "metadata": {},
   "outputs": [
    {
     "data": {
      "text/plain": [
       "(1224, 6)"
      ]
     },
     "execution_count": 1574,
     "metadata": {},
     "output_type": "execute_result"
    }
   ],
   "source": [
    "df_NO_controls.shape"
   ]
  },
  {
   "cell_type": "code",
   "execution_count": 1575,
   "metadata": {},
   "outputs": [],
   "source": [
    "df_NO_controls = df_NO_controls.merge(df_no_urban, on = ['date', 'ID', 'reg_nr'], how = 'left')"
   ]
  },
  {
   "cell_type": "code",
   "execution_count": 1576,
   "metadata": {},
   "outputs": [
    {
     "data": {
      "text/plain": [
       "(1224, 7)"
      ]
     },
     "execution_count": 1576,
     "metadata": {},
     "output_type": "execute_result"
    }
   ],
   "source": [
    "df_NO_controls.shape"
   ]
  },
  {
   "cell_type": "code",
   "execution_count": 1577,
   "metadata": {},
   "outputs": [],
   "source": [
    "df_NO_controls['urban_share'] = df_NO_controls['urban_pop'] /df_NO_controls['pop'] *100\n",
    "df_NO_controls = df_NO_controls.drop('urban_pop', axis = 1)"
   ]
  },
  {
   "cell_type": "code",
   "execution_count": 1578,
   "metadata": {},
   "outputs": [],
   "source": [
    "df_NO_controls['ID'] = [x[1:] for x in df_NO_controls.ID]"
   ]
  },
  {
   "cell_type": "code",
   "execution_count": 1579,
   "metadata": {},
   "outputs": [
    {
     "data": {
      "text/html": [
       "<div>\n",
       "<style scoped>\n",
       "    .dataframe tbody tr th:only-of-type {\n",
       "        vertical-align: middle;\n",
       "    }\n",
       "\n",
       "    .dataframe tbody tr th {\n",
       "        vertical-align: top;\n",
       "    }\n",
       "\n",
       "    .dataframe thead th {\n",
       "        text-align: right;\n",
       "    }\n",
       "</style>\n",
       "<table border=\"1\" class=\"dataframe\">\n",
       "  <thead>\n",
       "    <tr style=\"text-align: right;\">\n",
       "      <th></th>\n",
       "      <th>ID</th>\n",
       "      <th>date</th>\n",
       "      <th>pop</th>\n",
       "      <th>reg_nr</th>\n",
       "      <th>labour_force_share</th>\n",
       "      <th>mvu_lvu_share</th>\n",
       "      <th>urban_share</th>\n",
       "    </tr>\n",
       "  </thead>\n",
       "  <tbody>\n",
       "    <tr>\n",
       "      <td>1204</td>\n",
       "      <td>Trøndelag</td>\n",
       "      <td>2015-01-01</td>\n",
       "      <td>445785</td>\n",
       "      <td>50</td>\n",
       "      <td>71</td>\n",
       "      <td>29.9</td>\n",
       "      <td>73.4394</td>\n",
       "    </tr>\n",
       "    <tr>\n",
       "      <td>1205</td>\n",
       "      <td>Trøndelag</td>\n",
       "      <td>2015-04-01</td>\n",
       "      <td>445785</td>\n",
       "      <td>50</td>\n",
       "      <td>72</td>\n",
       "      <td>29.9</td>\n",
       "      <td>73.4394</td>\n",
       "    </tr>\n",
       "    <tr>\n",
       "      <td>1206</td>\n",
       "      <td>Trøndelag</td>\n",
       "      <td>2015-07-01</td>\n",
       "      <td>445785</td>\n",
       "      <td>50</td>\n",
       "      <td>70</td>\n",
       "      <td>29.9</td>\n",
       "      <td>73.4394</td>\n",
       "    </tr>\n",
       "    <tr>\n",
       "      <td>1207</td>\n",
       "      <td>Trøndelag</td>\n",
       "      <td>2015-10-01</td>\n",
       "      <td>445785</td>\n",
       "      <td>50</td>\n",
       "      <td>69.5</td>\n",
       "      <td>29.9</td>\n",
       "      <td>73.4394</td>\n",
       "    </tr>\n",
       "    <tr>\n",
       "      <td>1208</td>\n",
       "      <td>Trøndelag</td>\n",
       "      <td>2016-01-01</td>\n",
       "      <td>449769</td>\n",
       "      <td>50</td>\n",
       "      <td>69.5</td>\n",
       "      <td>30.55</td>\n",
       "      <td>73.8297</td>\n",
       "    </tr>\n",
       "    <tr>\n",
       "      <td>1209</td>\n",
       "      <td>Trøndelag</td>\n",
       "      <td>2016-04-01</td>\n",
       "      <td>449769</td>\n",
       "      <td>50</td>\n",
       "      <td>70</td>\n",
       "      <td>30.55</td>\n",
       "      <td>73.8297</td>\n",
       "    </tr>\n",
       "    <tr>\n",
       "      <td>1210</td>\n",
       "      <td>Trøndelag</td>\n",
       "      <td>2016-07-01</td>\n",
       "      <td>449769</td>\n",
       "      <td>50</td>\n",
       "      <td>71.5</td>\n",
       "      <td>30.55</td>\n",
       "      <td>73.8297</td>\n",
       "    </tr>\n",
       "    <tr>\n",
       "      <td>1211</td>\n",
       "      <td>Trøndelag</td>\n",
       "      <td>2016-10-01</td>\n",
       "      <td>449769</td>\n",
       "      <td>50</td>\n",
       "      <td>70.5</td>\n",
       "      <td>30.55</td>\n",
       "      <td>73.8297</td>\n",
       "    </tr>\n",
       "    <tr>\n",
       "      <td>1212</td>\n",
       "      <td>Trøndelag</td>\n",
       "      <td>2017-01-01</td>\n",
       "      <td>454596</td>\n",
       "      <td>50</td>\n",
       "      <td>69.5</td>\n",
       "      <td>31.15</td>\n",
       "      <td>74.3619</td>\n",
       "    </tr>\n",
       "    <tr>\n",
       "      <td>1213</td>\n",
       "      <td>Trøndelag</td>\n",
       "      <td>2017-04-01</td>\n",
       "      <td>454596</td>\n",
       "      <td>50</td>\n",
       "      <td>70</td>\n",
       "      <td>31.15</td>\n",
       "      <td>74.3619</td>\n",
       "    </tr>\n",
       "    <tr>\n",
       "      <td>1214</td>\n",
       "      <td>Trøndelag</td>\n",
       "      <td>2017-07-01</td>\n",
       "      <td>454596</td>\n",
       "      <td>50</td>\n",
       "      <td>69</td>\n",
       "      <td>31.15</td>\n",
       "      <td>74.3619</td>\n",
       "    </tr>\n",
       "    <tr>\n",
       "      <td>1215</td>\n",
       "      <td>Trøndelag</td>\n",
       "      <td>2017-10-01</td>\n",
       "      <td>454596</td>\n",
       "      <td>50</td>\n",
       "      <td>69.5</td>\n",
       "      <td>31.15</td>\n",
       "      <td>74.3619</td>\n",
       "    </tr>\n",
       "    <tr>\n",
       "      <td>1216</td>\n",
       "      <td>Trøndelag</td>\n",
       "      <td>2018-01-01</td>\n",
       "      <td>458744</td>\n",
       "      <td>50</td>\n",
       "      <td>70</td>\n",
       "      <td>33.7</td>\n",
       "      <td>74.663</td>\n",
       "    </tr>\n",
       "    <tr>\n",
       "      <td>1217</td>\n",
       "      <td>Trøndelag</td>\n",
       "      <td>2018-04-01</td>\n",
       "      <td>458744</td>\n",
       "      <td>50</td>\n",
       "      <td>71</td>\n",
       "      <td>33.7</td>\n",
       "      <td>74.663</td>\n",
       "    </tr>\n",
       "    <tr>\n",
       "      <td>1218</td>\n",
       "      <td>Trøndelag</td>\n",
       "      <td>2018-07-01</td>\n",
       "      <td>458744</td>\n",
       "      <td>50</td>\n",
       "      <td>70</td>\n",
       "      <td>33.7</td>\n",
       "      <td>74.663</td>\n",
       "    </tr>\n",
       "    <tr>\n",
       "      <td>1219</td>\n",
       "      <td>Trøndelag</td>\n",
       "      <td>2018-10-01</td>\n",
       "      <td>458744</td>\n",
       "      <td>50</td>\n",
       "      <td>70</td>\n",
       "      <td>33.7</td>\n",
       "      <td>74.663</td>\n",
       "    </tr>\n",
       "    <tr>\n",
       "      <td>1220</td>\n",
       "      <td>Trøndelag</td>\n",
       "      <td>2019-01-01</td>\n",
       "      <td>464060</td>\n",
       "      <td>50</td>\n",
       "      <td>71</td>\n",
       "      <td>NaN</td>\n",
       "      <td>NaN</td>\n",
       "    </tr>\n",
       "    <tr>\n",
       "      <td>1221</td>\n",
       "      <td>Trøndelag</td>\n",
       "      <td>2019-04-01</td>\n",
       "      <td>464060</td>\n",
       "      <td>50</td>\n",
       "      <td>70</td>\n",
       "      <td>NaN</td>\n",
       "      <td>NaN</td>\n",
       "    </tr>\n",
       "    <tr>\n",
       "      <td>1222</td>\n",
       "      <td>Trøndelag</td>\n",
       "      <td>2019-07-01</td>\n",
       "      <td>464060</td>\n",
       "      <td>50</td>\n",
       "      <td>NaN</td>\n",
       "      <td>NaN</td>\n",
       "      <td>NaN</td>\n",
       "    </tr>\n",
       "    <tr>\n",
       "      <td>1223</td>\n",
       "      <td>Trøndelag</td>\n",
       "      <td>2019-10-01</td>\n",
       "      <td>464060</td>\n",
       "      <td>50</td>\n",
       "      <td>NaN</td>\n",
       "      <td>NaN</td>\n",
       "      <td>NaN</td>\n",
       "    </tr>\n",
       "  </tbody>\n",
       "</table>\n",
       "</div>"
      ],
      "text/plain": [
       "             ID       date     pop reg_nr labour_force_share mvu_lvu_share  \\\n",
       "1204  Trøndelag 2015-01-01  445785     50                 71          29.9   \n",
       "1205  Trøndelag 2015-04-01  445785     50                 72          29.9   \n",
       "1206  Trøndelag 2015-07-01  445785     50                 70          29.9   \n",
       "1207  Trøndelag 2015-10-01  445785     50               69.5          29.9   \n",
       "1208  Trøndelag 2016-01-01  449769     50               69.5         30.55   \n",
       "1209  Trøndelag 2016-04-01  449769     50                 70         30.55   \n",
       "1210  Trøndelag 2016-07-01  449769     50               71.5         30.55   \n",
       "1211  Trøndelag 2016-10-01  449769     50               70.5         30.55   \n",
       "1212  Trøndelag 2017-01-01  454596     50               69.5         31.15   \n",
       "1213  Trøndelag 2017-04-01  454596     50                 70         31.15   \n",
       "1214  Trøndelag 2017-07-01  454596     50                 69         31.15   \n",
       "1215  Trøndelag 2017-10-01  454596     50               69.5         31.15   \n",
       "1216  Trøndelag 2018-01-01  458744     50                 70          33.7   \n",
       "1217  Trøndelag 2018-04-01  458744     50                 71          33.7   \n",
       "1218  Trøndelag 2018-07-01  458744     50                 70          33.7   \n",
       "1219  Trøndelag 2018-10-01  458744     50                 70          33.7   \n",
       "1220  Trøndelag 2019-01-01  464060     50                 71           NaN   \n",
       "1221  Trøndelag 2019-04-01  464060     50                 70           NaN   \n",
       "1222  Trøndelag 2019-07-01  464060     50                NaN           NaN   \n",
       "1223  Trøndelag 2019-10-01  464060     50                NaN           NaN   \n",
       "\n",
       "     urban_share  \n",
       "1204     73.4394  \n",
       "1205     73.4394  \n",
       "1206     73.4394  \n",
       "1207     73.4394  \n",
       "1208     73.8297  \n",
       "1209     73.8297  \n",
       "1210     73.8297  \n",
       "1211     73.8297  \n",
       "1212     74.3619  \n",
       "1213     74.3619  \n",
       "1214     74.3619  \n",
       "1215     74.3619  \n",
       "1216      74.663  \n",
       "1217      74.663  \n",
       "1218      74.663  \n",
       "1219      74.663  \n",
       "1220         NaN  \n",
       "1221         NaN  \n",
       "1222         NaN  \n",
       "1223         NaN  "
      ]
     },
     "execution_count": 1579,
     "metadata": {},
     "output_type": "execute_result"
    }
   ],
   "source": [
    "df_NO_controls.tail(20)"
   ]
  },
  {
   "cell_type": "markdown",
   "metadata": {},
   "source": [
    "Save"
   ]
  },
  {
   "cell_type": "code",
   "execution_count": 1580,
   "metadata": {},
   "outputs": [],
   "source": [
    "df_NO_controls.to_csv('data/other/df_NO_controls.csv', index = False)"
   ]
  },
  {
   "cell_type": "code",
   "execution_count": null,
   "metadata": {},
   "outputs": [],
   "source": []
  }
 ],
 "metadata": {
  "kernelspec": {
   "display_name": "Python 3",
   "language": "python",
   "name": "python3"
  },
  "language_info": {
   "codemirror_mode": {
    "name": "ipython",
    "version": 3
   },
   "file_extension": ".py",
   "mimetype": "text/x-python",
   "name": "python",
   "nbconvert_exporter": "python",
   "pygments_lexer": "ipython3",
   "version": "3.7.1"
  }
 },
 "nbformat": 4,
 "nbformat_minor": 4
}
