{
 "cells": [
  {
   "cell_type": "markdown",
   "metadata": {},
   "source": [
    "## Imports"
   ]
  },
  {
   "cell_type": "markdown",
   "metadata": {},
   "source": [
    "https://github.com/GeneralMills/pytrends\n"
   ]
  },
  {
   "cell_type": "code",
   "execution_count": 1,
   "metadata": {},
   "outputs": [],
   "source": [
    "import pandas as pd\n",
    "import numpy as np\n",
    "import time\n",
    "import requests\n",
    "import json\n",
    "from bs4 import BeautifulSoup\n",
    "import random\n",
    "import time\n",
    "from tqdm import tqdm #https://pypi.org/project/tqdm/#ipython-jupyter-integration\n",
    "#from tqdm import tqdm_notebook as tqdm #[If run in Jupyter Notebook]\n",
    "import matplotlib.pyplot as plt\n",
    "#from matplotlib.lines import Line2D½\n",
    "%matplotlib inline\n",
    "import seaborn as sns\n",
    "import re\t\n",
    "from datetime import datetime as dt\n",
    "\n",
    "from pytrends.request import TrendReq #pip install pytrends  | pip install pytrends --upgrade\n",
    "\n",
    "from func import (chunks, reindex, global_id, term_list, time_corr_plot, trends_fetch, GT_dict, trends_fetch_cross)"
   ]
  },
  {
   "cell_type": "markdown",
   "metadata": {
    "toc-hr-collapsed": false
   },
   "source": [
    "# Pytrends"
   ]
  },
  {
   "cell_type": "markdown",
   "metadata": {},
   "source": [
    "https://trends.google.com/trends/explore?date=all&geo=DK&q=kontanthj%C3%A6lp,Dagpenge,A-kasse,ASE,3F"
   ]
  },
  {
   "cell_type": "markdown",
   "metadata": {},
   "source": [
    "For specifying conditions on terms: https://support.google.com/trends/answer/4359582?hl=en&ref_topic=4365599"
   ]
  },
  {
   "cell_type": "markdown",
   "metadata": {},
   "source": [
    "Sources for SE terms:\n",
    "- https://www.norden.org/da/info-norden/kontanthjaelp-i-sverige\n",
    "- https://www.sverigesakassor.se/om-so/in-english/\n",
    "- https://www.thenewbieguide.se/work/labour-legislation/labour-unions/\n",
    "\n",
    "Sources for NO terms:\n",
    "- https://www.norden.org/da/info-norden/norske-dagpenge-ved-ledighed\n",
    "- https://www.norden.org/en/info-norden/trade-unions-norway\n",
    "- https://www.jobboardfinder.com/search/best-job-site-in-norway"
   ]
  },
  {
   "cell_type": "markdown",
   "metadata": {
    "toc-hr-collapsed": true
   },
   "source": [
    "## Geo codes\n",
    "\n",
    "Test queries to get geo codes"
   ]
  },
  {
   "cell_type": "markdown",
   "metadata": {},
   "source": [
    "#### Denmark"
   ]
  },
  {
   "cell_type": "code",
   "execution_count": null,
   "metadata": {},
   "outputs": [],
   "source": [
    "# Login to Google. Only need to run this once, the rest of requests will use the same session.\n",
    "pytrend = TrendReq(hl='DK', tz=360, timeout=(2, 5), retries=3, backoff_factor=1)"
   ]
  },
  {
   "cell_type": "code",
   "execution_count": null,
   "metadata": {},
   "outputs": [],
   "source": [
    "# Create payload and capture API tokens. Only needed for interest_over_time(), interest_by_region() & related_queries()\n",
    "pytrend.build_payload(kw_list=['dagpenge + \"dagpenge regler\" + dagpengeregler'], timeframe='2007-01-01 2007-02-01', geo='DK')"
   ]
  },
  {
   "cell_type": "code",
   "execution_count": null,
   "metadata": {},
   "outputs": [],
   "source": [
    "# Interest by Region - percentage shares\n",
    "interest_by_region_df = pytrend.interest_by_region(resolution='CITY', inc_low_vol=True, inc_geo_code=True)"
   ]
  },
  {
   "cell_type": "code",
   "execution_count": null,
   "metadata": {},
   "outputs": [],
   "source": [
    "interest_by_region_df"
   ]
  },
  {
   "cell_type": "code",
   "execution_count": null,
   "metadata": {},
   "outputs": [],
   "source": [
    "#Manually labelling the regions\n",
    "geo_regions_DK = {'DK-81':'North Denmark',\n",
    "                  'DK-82':'Central Denmark',\n",
    "                  'DK-83':'Southern Denmark',\n",
    "                  'DK-84':'Capital',\n",
    "                  'DK-85':'Zealand'}"
   ]
  },
  {
   "cell_type": "markdown",
   "metadata": {},
   "source": [
    "#### Sweden"
   ]
  },
  {
   "cell_type": "code",
   "execution_count": null,
   "metadata": {},
   "outputs": [],
   "source": [
    "# Create payload and capture API tokens. Only needed for interest_over_time(), interest_by_region() & related_queries()\n",
    "pytrend.build_payload(kw_list=['jobcenter'], timeframe='all', geo='SE')"
   ]
  },
  {
   "cell_type": "code",
   "execution_count": null,
   "metadata": {},
   "outputs": [],
   "source": [
    "# Interest by Region - percentage shares\n",
    "interest_by_region_df = pytrend.interest_by_region(resolution='CITY', inc_low_vol=True, inc_geo_code=True)"
   ]
  },
  {
   "cell_type": "code",
   "execution_count": null,
   "metadata": {},
   "outputs": [],
   "source": [
    "#Dict in the same format as DK - no manual labelling\n",
    "    #Removing County\n",
    "geo_regions_SE = {y:x.replace(' County', '') for x,y in interest_by_region_df['geoCode'].to_dict().items()}"
   ]
  },
  {
   "cell_type": "code",
   "execution_count": null,
   "metadata": {},
   "outputs": [],
   "source": [
    "geo_regions_SE"
   ]
  },
  {
   "cell_type": "markdown",
   "metadata": {},
   "source": [
    "#### Norway"
   ]
  },
  {
   "cell_type": "code",
   "execution_count": null,
   "metadata": {},
   "outputs": [],
   "source": [
    "# Create payload and capture API tokens. Only needed for interest_over_time(), interest_by_region() & related_queries()\n",
    "pytrend.build_payload(kw_list=['jobcenter'], timeframe='all', geo='NO')"
   ]
  },
  {
   "cell_type": "code",
   "execution_count": null,
   "metadata": {},
   "outputs": [],
   "source": [
    "# Interest by Region - percentage shares\n",
    "interest_by_region_df = pytrend.interest_by_region(resolution='CITY', inc_low_vol=True, inc_geo_code=True)"
   ]
  },
  {
   "cell_type": "code",
   "execution_count": null,
   "metadata": {},
   "outputs": [],
   "source": [
    "#Dict in the same format as DK - no manual labelling\n",
    "geo_regions_NO = {y:x for x,y in interest_by_region_df['geoCode'].to_dict().items()}"
   ]
  },
  {
   "cell_type": "code",
   "execution_count": null,
   "metadata": {},
   "outputs": [],
   "source": [
    "geo_regions_NO"
   ]
  },
  {
   "cell_type": "markdown",
   "metadata": {},
   "source": [
    "## Scrape"
   ]
  },
  {
   "cell_type": "markdown",
   "metadata": {},
   "source": [
    "### Full query - DK"
   ]
  },
  {
   "cell_type": "code",
   "execution_count": null,
   "metadata": {},
   "outputs": [],
   "source": [
    "dfTrends_DK = trends_fetch(geo_codes=geo_regions_DK, terms=term_list(geo='DK'), sleep=15)"
   ]
  },
  {
   "cell_type": "code",
   "execution_count": null,
   "metadata": {},
   "outputs": [],
   "source": [
    "dfTrends_DK.shape"
   ]
  },
  {
   "cell_type": "code",
   "execution_count": null,
   "metadata": {},
   "outputs": [],
   "source": [
    "dfTrends_DK.isna().sum()"
   ]
  },
  {
   "cell_type": "code",
   "execution_count": null,
   "metadata": {},
   "outputs": [],
   "source": [
    "dfTrends_DK.to_csv('data/gt/dfTrends_DK_raw.csv', index=True, sep=';', encoding='utf-8-sig')"
   ]
  },
  {
   "cell_type": "markdown",
   "metadata": {},
   "source": [
    "### Full query - SE"
   ]
  },
  {
   "cell_type": "code",
   "execution_count": null,
   "metadata": {},
   "outputs": [],
   "source": [
    "term_list(geo = 'SE')"
   ]
  },
  {
   "cell_type": "code",
   "execution_count": null,
   "metadata": {},
   "outputs": [],
   "source": [
    "dfTrends_SE = trends_fetch(geo_codes=geo_regions_SE, terms=term_list(geo='SE'), sleep=10)"
   ]
  },
  {
   "cell_type": "code",
   "execution_count": null,
   "metadata": {},
   "outputs": [],
   "source": [
    "dfTrends_SE.shape"
   ]
  },
  {
   "cell_type": "code",
   "execution_count": null,
   "metadata": {},
   "outputs": [],
   "source": [
    "# Removing addtional index row ?!\n",
    "#dfTrends_SE.drop(['index'], axis = 1, inplace = True)"
   ]
  },
  {
   "cell_type": "code",
   "execution_count": null,
   "metadata": {},
   "outputs": [],
   "source": [
    "dfTrends_SE.isna().sum()"
   ]
  },
  {
   "cell_type": "code",
   "execution_count": null,
   "metadata": {},
   "outputs": [],
   "source": [
    "dfTrends_SE.to_csv('data/gt/dfTrends_SE_raw.csv', index=True, sep=';', encoding='utf-8-sig')"
   ]
  },
  {
   "cell_type": "markdown",
   "metadata": {},
   "source": [
    "### Full query - NO"
   ]
  },
  {
   "cell_type": "code",
   "execution_count": null,
   "metadata": {},
   "outputs": [],
   "source": [
    "term_list(geo = 'NO')"
   ]
  },
  {
   "cell_type": "code",
   "execution_count": null,
   "metadata": {},
   "outputs": [],
   "source": [
    "dfTrends_NO =  trends_fetch(geo_codes=geo_regions_NO, terms=term_list(geo='NO'), sleep = 10)"
   ]
  },
  {
   "cell_type": "code",
   "execution_count": null,
   "metadata": {},
   "outputs": [],
   "source": [
    "dfTrends_NO.shape"
   ]
  },
  {
   "cell_type": "code",
   "execution_count": null,
   "metadata": {},
   "outputs": [],
   "source": [
    "# Removing addtional index row ?!\n",
    "# dfTrends_NO.drop(['index'], axis = 1, inplace = True)"
   ]
  },
  {
   "cell_type": "code",
   "execution_count": null,
   "metadata": {},
   "outputs": [],
   "source": [
    "dfTrends_NO.isna().sum()"
   ]
  },
  {
   "cell_type": "code",
   "execution_count": null,
   "metadata": {},
   "outputs": [],
   "source": [
    "dfTrends_NO.to_csv('data/gt/dfTrends_NO_raw.csv', index=True, sep=';', encoding='utf-8-sig')"
   ]
  },
  {
   "cell_type": "markdown",
   "metadata": {},
   "source": [
    "## Cross-sectional scrape attempt"
   ]
  },
  {
   "cell_type": "markdown",
   "metadata": {},
   "source": [
    "#### Date lists"
   ]
  },
  {
   "cell_type": "code",
   "execution_count": 2,
   "metadata": {},
   "outputs": [],
   "source": [
    "date_range_1 = pd.date_range(start = '2006-01-01', end = '2019-12-01', freq ='1M')-pd.offsets.MonthBegin(1)\n",
    "date_range_2 = pd.date_range(start = '2006-02-01', end = '2019-12-01', freq ='1M')-pd.offsets.MonthBegin(1)"
   ]
  },
  {
   "cell_type": "code",
   "execution_count": 3,
   "metadata": {},
   "outputs": [],
   "source": [
    "date_range = [\"{} {}\".format(str(date_range_2_)[0:10], str(date_range_1_)[0:10]) for date_range_2_, date_range_1_ in zip(date_range_1, date_range_2)]\n"
   ]
  },
  {
   "cell_type": "markdown",
   "metadata": {},
   "source": [
    "#### Full query - DK cross section"
   ]
  },
  {
   "cell_type": "code",
   "execution_count": null,
   "metadata": {},
   "outputs": [],
   "source": [
    "dfTrends_DK_cross_0_50 = trends_fetch_cross(dates=date_range[0:50], terms = term_list(geo='DK'), sleep = 11)"
   ]
  },
  {
   "cell_type": "code",
   "execution_count": null,
   "metadata": {},
   "outputs": [],
   "source": [
    "dfTrends_DK_cross_0_50.to_csv('data/gt/dfTrends_DK_cross_0_50.csv', index=True, sep=';', encoding='utf-8-sig')"
   ]
  },
  {
   "cell_type": "code",
   "execution_count": null,
   "metadata": {},
   "outputs": [],
   "source": []
  },
  {
   "cell_type": "code",
   "execution_count": null,
   "metadata": {},
   "outputs": [],
   "source": [
    "dfTrends_DK_cross_50_75 = trends_fetch_cross(dates=date_range[50:75], terms = term_list(geo='DK'), sleep = 20)"
   ]
  },
  {
   "cell_type": "code",
   "execution_count": null,
   "metadata": {},
   "outputs": [],
   "source": [
    "dfTrends_DK_cross_50_75.to_csv('data/gt/dfTrends_DK_cross_50_75.csv', index=True, sep=';', encoding='utf-8-sig')"
   ]
  },
  {
   "cell_type": "code",
   "execution_count": null,
   "metadata": {},
   "outputs": [],
   "source": [
    "dfTrends_DK_cross_75_100 = trends_fetch_cross(dates=date_range[75:100], terms = term_list(geo='DK'), sleep = 20)"
   ]
  },
  {
   "cell_type": "code",
   "execution_count": null,
   "metadata": {},
   "outputs": [],
   "source": [
    "dfTrends_DK_cross_75_100.to_csv('data/gt/dfTrends_DK_cross_75_100.csv', index=True, sep=';', encoding='utf-8-sig')"
   ]
  },
  {
   "cell_type": "code",
   "execution_count": 4,
   "metadata": {},
   "outputs": [
    {
     "name": "stderr",
     "output_type": "stream",
     "text": [
      "Keyterms for each date:   8%|████▍                                                   | 2/25 [14:58<2:52:10, 449.17s/it]"
     ]
    },
    {
     "name": "stdout",
     "output_type": "stream",
     "text": [
      "Got blocked at ['\"lærernes a-kasse\" + \"lærernes a kasse\"'] for date: 2014-07-01 2014-08-01\n"
     ]
    },
    {
     "name": "stderr",
     "output_type": "stream",
     "text": [
      "Keyterms for each date:  20%|███████████▏                                            | 5/25 [38:30<2:32:53, 458.65s/it]"
     ]
    },
    {
     "name": "stdout",
     "output_type": "stream",
     "text": [
      "Got blocked at ['faglig fælles a-kasse + \"3f\" + \"3f a-kasse\" + \"3f a kasse\"'] for date: 2014-10-01 2014-11-01\n"
     ]
    },
    {
     "name": "stderr",
     "output_type": "stream",
     "text": [
      "Keyterms for each date: 100%|███████████████████████████████████████████████████████| 25/25 [3:09:58<00:00, 455.95s/it]\n"
     ]
    },
    {
     "name": "stdout",
     "output_type": "stream",
     "text": [
      "Number of search terms matches number of columns in the dataframe\n"
     ]
    }
   ],
   "source": [
    "dfTrends_DK_cross_100_125 = trends_fetch_cross(dates=date_range[100:125], terms = term_list(geo='DK'), sleep = 20)"
   ]
  },
  {
   "cell_type": "code",
   "execution_count": 5,
   "metadata": {},
   "outputs": [],
   "source": [
    "dfTrends_DK_cross_100_125.to_csv('data/gt/dfTrends_DK_cross_100_125.csv', index=True, sep=';', encoding='utf-8-sig')"
   ]
  },
  {
   "cell_type": "code",
   "execution_count": 4,
   "metadata": {},
   "outputs": [
    {
     "name": "stderr",
     "output_type": "stream",
     "text": [
      "Keyterms for each date:  15%|████████▏                                               | 6/41 [45:31<4:25:35, 455.31s/it]"
     ]
    },
    {
     "name": "stdout",
     "output_type": "stream",
     "text": [
      "Got blocked at ['dagpenge + \"dagpenge regler\" + dagpengeregler'] for date: 2016-12-01 2017-01-01\n",
      "Got blocked at ['fyret'] for date: 2016-12-01 2017-01-01\n"
     ]
    },
    {
     "name": "stderr",
     "output_type": "stream",
     "text": [
      "Keyterms for each date:  29%|███████████████▌                                     | 12/41 [1:33:09<3:43:13, 461.84s/it]"
     ]
    },
    {
     "name": "stdout",
     "output_type": "stream",
     "text": [
      "Got blocked at ['jobindex + \"job index\"'] for date: 2017-06-01 2017-07-01\n"
     ]
    },
    {
     "name": "stderr",
     "output_type": "stream",
     "text": [
      "Keyterms for each date:  73%|██████████████████████████████████████▊              | 30/41 [3:50:40<1:23:23, 454.85s/it]"
     ]
    },
    {
     "name": "stdout",
     "output_type": "stream",
     "text": [
      "Got blocked at ['jobcenter + jobcentre + \"job center\" + \"job centre\"'] for date: 2018-12-01 2019-01-01\n"
     ]
    },
    {
     "name": "stderr",
     "output_type": "stream",
     "text": [
      "Keyterms for each date:  98%|█████████████████████████████████████████████████████▋ | 40/41 [5:07:28<07:34, 454.98s/it]"
     ]
    },
    {
     "name": "stdout",
     "output_type": "stream",
     "text": [
      "Got blocked at ['ofir + ofir.dk + \"ofir jobportal\"'] for date: 2019-10-01 2019-11-01\n"
     ]
    },
    {
     "name": "stderr",
     "output_type": "stream",
     "text": [
      "Keyterms for each date: 100%|███████████████████████████████████████████████████████| 41/41 [5:15:47<00:00, 462.12s/it]\n"
     ]
    },
    {
     "name": "stdout",
     "output_type": "stream",
     "text": [
      "Number of search terms matches number of columns in the dataframe\n"
     ]
    }
   ],
   "source": [
    "dfTrends_DK_cross_125_166 = trends_fetch_cross(dates=date_range[125:], terms = term_list(geo='DK'), sleep = 20)"
   ]
  },
  {
   "cell_type": "code",
   "execution_count": 5,
   "metadata": {},
   "outputs": [],
   "source": [
    "dfTrends_DK_cross_125_166.to_csv('data/gt/dfTrends_DK_cross_125_166.csv', index=True, sep=';', encoding='utf-8-sig')"
   ]
  },
  {
   "cell_type": "markdown",
   "metadata": {},
   "source": [
    "#### Merging and exporting cross section"
   ]
  },
  {
   "cell_type": "code",
   "execution_count": 9,
   "metadata": {},
   "outputs": [],
   "source": [
    "dfTrends_DK_cross_0_50 = pd.read_csv('data/gt/dfTrends_DK_cross_0_50.csv', sep = ';', encoding = 'utf-8-sig', index_col=0, parse_dates=['date'])\n",
    "dfTrends_DK_cross_50_75 = pd.read_csv('data/gt/dfTrends_DK_cross_50_75.csv', sep = ';', encoding = 'utf-8-sig', index_col=0, parse_dates=['date'])\n",
    "dfTrends_DK_cross_75_100 = pd.read_csv('data/gt/dfTrends_DK_cross_75_100.csv', sep = ';', encoding = 'utf-8-sig', index_col=0, parse_dates=['date'])\n",
    "dfTrends_DK_cross_100_125 = pd.read_csv('data/gt/dfTrends_DK_cross_100_125.csv', sep = ';', encoding = 'utf-8-sig', index_col=0, parse_dates=['date'])\n",
    "dfTrends_DK_cross_125_166 = pd.read_csv('data/gt/dfTrends_DK_cross_125_166.csv', sep = ';', encoding = 'utf-8-sig', index_col=0, parse_dates=['date'])"
   ]
  },
  {
   "cell_type": "code",
   "execution_count": 12,
   "metadata": {},
   "outputs": [],
   "source": [
    "dfTrends_DK_cross = pd.concat([dfTrends_DK_cross_0_50, dfTrends_DK_cross_50_75, dfTrends_DK_cross_75_100, dfTrends_DK_cross_100_125, dfTrends_DK_cross_125_166], ignore_index=True)"
   ]
  },
  {
   "cell_type": "code",
   "execution_count": 14,
   "metadata": {},
   "outputs": [],
   "source": [
    "# Renaming cols\n",
    "dfTrends_DK_cross.rename(columns= {j : 'GT_DK'+'_'+str(i) +'_cross' for i, j in enumerate(term_list('DK'))}, inplace = True)"
   ]
  },
  {
   "cell_type": "code",
   "execution_count": 21,
   "metadata": {},
   "outputs": [],
   "source": [
    "#Merging ID\n",
    "dfTrends_DK_cross = pd.merge(dfTrends_DK_cross, global_id(geo='DK')[['ID', 'trends']], how = 'left', left_on = 'geoCode', right_on = 'trends')"
   ]
  },
  {
   "cell_type": "code",
   "execution_count": 22,
   "metadata": {},
   "outputs": [],
   "source": [
    "#Exporting\n",
    "dfTrends_DK_cross.to_csv('DK/data/dfTrends_DK_cross.csv', index=True, sep=';', encoding='utf-8-sig')"
   ]
  },
  {
   "cell_type": "markdown",
   "metadata": {
    "toc-hr-collapsed": true
   },
   "source": [
    "## All countries - merging and exporting"
   ]
  },
  {
   "cell_type": "code",
   "execution_count": 61,
   "metadata": {},
   "outputs": [],
   "source": [
    "dfTrends_DK = pd.read_csv('data/gt/dfTrends_DK_raw.csv', sep = ';', encoding = 'utf-8-sig', index_col=0, parse_dates=['date'])\n",
    "dfTrends_SE = pd.read_csv('data/gt/dfTrends_SE.csv', sep = ';', encoding = 'utf-8-sig', index_col=0, parse_dates=['date'])\n",
    "dfTrends_NO = pd.read_csv('data/gt/dfTrends_NO.csv', sep = ';', encoding = 'utf-8-sig', index_col=0, parse_dates=['date'])"
   ]
  },
  {
   "cell_type": "code",
   "execution_count": 62,
   "metadata": {},
   "outputs": [],
   "source": [
    "dfTrends_DK['C_ID'] = 'DK'\n",
    "dfTrends_NO['C_ID'] = 'NO'\n",
    "dfTrends_SE['C_ID'] = 'SE'"
   ]
  },
  {
   "cell_type": "code",
   "execution_count": 63,
   "metadata": {},
   "outputs": [
    {
     "name": "stdout",
     "output_type": "stream",
     "text": [
      "['DK']\n",
      "(950, 27)\n",
      "date                                                                                               0\n",
      "geo                                                                                                0\n",
      "kontanthjælp + \"kontanthjælp sats\" + \"kontanthjælp satser\"                                         0\n",
      "cv + \"cv eksempel\" + \"cv skabelon\"                                                                 0\n",
      "job + jobopslag + \"job opslag\"                                                                     0\n",
      "jobcenter + jobcentre + \"job center\" + \"job centre\"                                                0\n",
      "\"ledige job\" + \"ledige jobs\" + \"ledig stilling\" + \"ledige stillinger\"                              0\n",
      "ledig + ledighed                                                                                   0\n",
      "arbejdsløs + arbejdsløshed                                                                         0\n",
      "jobindex + \"job index\"                                                                             0\n",
      "ofir + ofir.dk + \"ofir jobportal\"                                                                  0\n",
      "jobnet + \"jobnet.dk\" + \"jobnet cv\"                                                                 0\n",
      "akasse + akasser + \"a-kasse\" + \"a-kasser\" + \"a kasse\"                                              0\n",
      "dagpenge + \"dagpenge regler\" + dagpengeregler                                                      0\n",
      "dagpengesats + \"dagpenge sats\" + dagpengesatser + \"dagpenge satser\"                                0\n",
      "akademikernes + \"akademikernes a-kasse\" + \"akademikernes akasse\" + \"ingeniørernes akasse\" + iak    0\n",
      "ase + \"ase a-kasse\" + \"ase akasse\"                                                                 0\n",
      "bupl + \"Børne- og Ungdomspædagogernes Landsforbund\" + \"Børne- og Ungdomspædagogernes a-kasse\"      0\n",
      "\"lærernes a-kasse\" + \"lærernes a kasse\"                                                            0\n",
      "faglig fælles a-kasse + \"3f\" + \"3f a-kasse\" + \"3f a kasse\"                                         0\n",
      "foa + \"fag og arbejde\" + \"fag og arbejde a-kasse\" + \"fag og arbejde a kasse\"                       0\n",
      "hk + hk a-kasse + \"hk a kasse\" + \"hk danmark\"                                                      0\n",
      "krifa + \"krifa a kasse\" + \"krifa a-kasse\"                                                          0\n",
      "fyret                                                                                              0\n",
      "ID                                                                                                 0\n",
      "trends                                                                                             0\n",
      "C_ID                                                                                               0\n",
      "dtype: int64\n",
      "\n",
      "\n",
      "['SE']\n",
      "(3990, 19)\n",
      "date           0\n",
      "geo            0\n",
      "GT_SE_0        0\n",
      "GT_SE_1        0\n",
      "GT_SE_2        0\n",
      "GT_SE_3      190\n",
      "GT_SE_4     1140\n",
      "GT_SE_5      190\n",
      "GT_SE_6        0\n",
      "GT_SE_7        0\n",
      "GT_SE_8        0\n",
      "GT_SE_9        0\n",
      "GT_SE_10       0\n",
      "GT_SE_11       0\n",
      "GT_SE_12     190\n",
      "GT_SE_13     190\n",
      "ID             0\n",
      "trends         0\n",
      "C_ID           0\n",
      "dtype: int64\n",
      "\n",
      "\n",
      "['NO']\n",
      "(3610, 20)\n",
      "date           0\n",
      "geo            0\n",
      "GT_NO_0        0\n",
      "GT_NO_1        0\n",
      "GT_NO_2        0\n",
      "GT_NO_3      570\n",
      "GT_NO_4      950\n",
      "GT_NO_5     2660\n",
      "GT_NO_6        0\n",
      "GT_NO_7        0\n",
      "GT_NO_8        0\n",
      "GT_NO_9      570\n",
      "GT_NO_10       0\n",
      "GT_NO_11       0\n",
      "GT_NO_12     190\n",
      "GT_NO_13     380\n",
      "GT_NO_14     380\n",
      "ID             0\n",
      "trends         0\n",
      "C_ID           0\n",
      "dtype: int64\n",
      "\n",
      "\n"
     ]
    }
   ],
   "source": [
    "for df in [dfTrends_DK, dfTrends_SE, dfTrends_NO]:\n",
    "    print(df['C_ID'].unique())\n",
    "    print(df.shape)\n",
    "    print(df.isna().sum())\n",
    "    print('\\n')\n",
    "    "
   ]
  },
  {
   "cell_type": "code",
   "execution_count": 64,
   "metadata": {},
   "outputs": [],
   "source": [
    "#Renaming cols and storing as a dict\n",
    "for df in [dfTrends_DK, dfTrends_SE, dfTrends_NO]:\n",
    "    df.rename(columns= {j : 'GT_'+str(df['C_ID'].unique()[0])+'_'+str(i) for i, j in enumerate(term_list(geo=df['C_ID'].unique()[0]))}, inplace = True)\n",
    "    "
   ]
  },
  {
   "cell_type": "markdown",
   "metadata": {},
   "source": [
    "#### Dict for GT lookups of terms"
   ]
  },
  {
   "cell_type": "code",
   "execution_count": 65,
   "metadata": {},
   "outputs": [],
   "source": [
    "# DK = {'GT_'+str(dfTrends_DK['C_ID'].unique()[0])+'_'+str(i) : j for i, j in enumerate(term_list(geo='DK'))}\n",
    "# SE = {'GT_'+str(dfTrends_SE['C_ID'].unique()[0])+'_'+str(i) : j for i, j in enumerate(term_list(geo='SE'))}\n",
    "# NO = {'GT_'+str(dfTrends_NO['C_ID'].unique()[0])+'_'+str(i) : j for i, j in enumerate(term_list(geo='NO'))}"
   ]
  },
  {
   "cell_type": "code",
   "execution_count": 66,
   "metadata": {},
   "outputs": [],
   "source": [
    "# GT_dict_temp = dict(list(DK.items()) + list(SE.items()) + list(NO.items()))"
   ]
  },
  {
   "cell_type": "code",
   "execution_count": 67,
   "metadata": {},
   "outputs": [
    {
     "ename": "TypeError",
     "evalue": "'dict' object is not callable",
     "output_type": "error",
     "traceback": [
      "\u001b[1;31m---------------------------------------------------------------------------\u001b[0m",
      "\u001b[1;31mTypeError\u001b[0m                                 Traceback (most recent call last)",
      "\u001b[1;32m<ipython-input-67-3bc233c2f64f>\u001b[0m in \u001b[0;36m<module>\u001b[1;34m\u001b[0m\n\u001b[1;32m----> 1\u001b[1;33m \u001b[0mGT_dict\u001b[0m \u001b[1;33m=\u001b[0m \u001b[0mGT_dict\u001b[0m\u001b[1;33m(\u001b[0m\u001b[1;33m)\u001b[0m\u001b[1;33m\u001b[0m\u001b[1;33m\u001b[0m\u001b[0m\n\u001b[0m",
      "\u001b[1;31mTypeError\u001b[0m: 'dict' object is not callable"
     ]
    }
   ],
   "source": [
    "GT_dict = GT_dict()"
   ]
  },
  {
   "cell_type": "markdown",
   "metadata": {},
   "source": [
    "Remember to update func for new or removed terms!"
   ]
  },
  {
   "cell_type": "markdown",
   "metadata": {},
   "source": [
    "Dropping all columns with missings - for now..."
   ]
  },
  {
   "cell_type": "code",
   "execution_count": 68,
   "metadata": {},
   "outputs": [
    {
     "data": {
      "text/plain": [
       "{'GT_DK_0': 'kontanthjælp + \"kontanthjælp sats\" + \"kontanthjælp satser\"',\n",
       " 'GT_DK_1': 'cv + \"cv eksempel\" + \"cv skabelon\"',\n",
       " 'GT_DK_2': 'job + jobopslag + \"job opslag\"',\n",
       " 'GT_DK_3': 'jobcenter + jobcentre + \"job center\" + \"job centre\"',\n",
       " 'GT_DK_4': '\"ledige job\" + \"ledige jobs\" + \"ledig stilling\" + \"ledige stillinger\"',\n",
       " 'GT_DK_5': 'ledig + ledighed',\n",
       " 'GT_DK_6': 'arbejdsløs + arbejdsløshed',\n",
       " 'GT_DK_7': 'jobindex + \"job index\"',\n",
       " 'GT_DK_8': 'ofir + ofir.dk + \"ofir jobportal\"',\n",
       " 'GT_DK_9': 'jobnet + \"jobnet.dk\" + \"jobnet cv\"',\n",
       " 'GT_DK_10': 'akasse + akasser + \"a-kasse\" + \"a-kasser\" + \"a kasse\"',\n",
       " 'GT_DK_11': 'dagpenge + \"dagpenge regler\" + dagpengeregler',\n",
       " 'GT_DK_12': 'dagpengesats + \"dagpenge sats\" + dagpengesatser + \"dagpenge satser\"',\n",
       " 'GT_DK_13': 'akademikernes + \"akademikernes a-kasse\" + \"akademikernes akasse\" + \"ingeniørernes akasse\" + iak',\n",
       " 'GT_DK_14': 'ase + \"ase a-kasse\" + \"ase akasse\"',\n",
       " 'GT_DK_15': 'bupl + \"Børne- og Ungdomspædagogernes Landsforbund\" + \"Børne- og Ungdomspædagogernes a-kasse\"',\n",
       " 'GT_DK_16': '\"lærernes a-kasse\" + \"lærernes a kasse\"',\n",
       " 'GT_DK_17': 'faglig fælles a-kasse + \"3f\" + \"3f a-kasse\" + \"3f a kasse\"',\n",
       " 'GT_DK_18': 'foa + \"fag og arbejde\" + \"fag og arbejde a-kasse\" + \"fag og arbejde a kasse\"',\n",
       " 'GT_DK_19': 'hk + hk a-kasse + \"hk a kasse\" + \"hk danmark\"',\n",
       " 'GT_DK_20': 'krifa + \"krifa a kasse\" + \"krifa a-kasse\"',\n",
       " 'GT_DK_21': 'fyret',\n",
       " 'GT_SE_0': 'jobb + platsannonser + platsannons',\n",
       " 'GT_SE_1': 'arbetsförmedlingen',\n",
       " 'GT_SE_2': '\"lediga platser\" + \"lediga jobb\" + vakans',\n",
       " 'GT_SE_3': 'arbetslös',\n",
       " 'GT_SE_4': '\"cv exempel\" + cv + \"cv-mall\" + \"cv mall\"',\n",
       " 'GT_SE_5': 'försörjningsstöd + socialbidrag + \"socialbidrag krav\" + \"ekonomiskt bistånd\"',\n",
       " 'GT_SE_6': 'jobbsafari',\n",
       " 'GT_SE_7': 'platsbanken + \"platsbanken arbetsförmedlingen\"',\n",
       " 'GT_SE_8': 'a-kassa + akassa + \"a kassa\"',\n",
       " 'GT_SE_9': 'arbetslöshetsersättningen + ersättning + ersättningsperiode',\n",
       " 'GT_SE_10': 'unionen + htf + sif + tjänstemannaförbundet + \"Svenska industritjänstemannaförbundet\"',\n",
       " 'GT_SE_11': 'lo + landsorganisationen + \"landsorganisationen sverige\"',\n",
       " 'GT_SE_12': 'tco',\n",
       " 'GT_SE_13': 'saco',\n",
       " 'GT_NO_0': 'jobb + stillingsannose + \"stilling annonse\"',\n",
       " 'GT_NO_1': '\"ledig jobb\" + \"ledige jobber\" + \"ledig stilling\" + \"ledige stillinger\" ',\n",
       " 'GT_NO_2': 'arbeidsledighet',\n",
       " 'GT_NO_3': 'cv +\"cv eksempel\" + \"cv mal\"',\n",
       " 'GT_NO_4': 'sosialhjelp',\n",
       " 'GT_NO_5': 'meldekort + \"elektronisk meldekort\"',\n",
       " 'GT_NO_6': 'jobbsafari',\n",
       " 'GT_NO_7': 'arbeidsplassen + \"arbeidsplassen nav.no\" + \"arbeidsplassen nav\" + \"nav ledige stillinger\"',\n",
       " 'GT_NO_8': 'finn + \"finn no\"',\n",
       " 'GT_NO_9': 'dagpenger + \"arbeids og velferdsetaten\" + \"dagpenger krav\"',\n",
       " 'GT_NO_10': 'nav + \"nav no\" + \"nav jobb-kontor\" + \"nav jobb kontor\" + \"nav jobbkontor\"',\n",
       " 'GT_NO_11': 'lo + landsorganisasjonen + \"landsorganisasjonen norge\"',\n",
       " 'GT_NO_12': 'unio +  sykepleierforbund + utdanningsforbundet + \"politiets fellesforbund\"',\n",
       " 'GT_NO_13': 'ys',\n",
       " 'GT_NO_14': 'akademikerne'}"
      ]
     },
     "execution_count": 68,
     "metadata": {},
     "output_type": "execute_result"
    }
   ],
   "source": [
    "GT_dict"
   ]
  },
  {
   "cell_type": "code",
   "execution_count": 75,
   "metadata": {},
   "outputs": [
    {
     "data": {
      "text/plain": [
       "date        0\n",
       "geo         0\n",
       "GT_SE_0     0\n",
       "GT_SE_1     0\n",
       "GT_SE_2     0\n",
       "GT_SE_5     0\n",
       "GT_SE_6     0\n",
       "GT_SE_7     0\n",
       "GT_SE_8     0\n",
       "GT_SE_9     0\n",
       "GT_SE_10    0\n",
       "GT_SE_11    0\n",
       "ID          0\n",
       "trends      0\n",
       "C_ID        0\n",
       "dtype: int64"
      ]
     },
     "execution_count": 75,
     "metadata": {},
     "output_type": "execute_result"
    }
   ],
   "source": [
    "dfTrends_SE.isna().sum()"
   ]
  },
  {
   "cell_type": "code",
   "execution_count": 71,
   "metadata": {},
   "outputs": [],
   "source": [
    "dfTrends_SE = dfTrends_SE[dfTrends_SE['ID']!='Jämtland'].copy()"
   ]
  },
  {
   "cell_type": "code",
   "execution_count": 72,
   "metadata": {},
   "outputs": [],
   "source": [
    "dfTrends_SE.drop(['GT_SE_4', 'GT_SE_12', 'GT_SE_13', 'GT_SE_3'], axis = 1, inplace = True)"
   ]
  },
  {
   "cell_type": "code",
   "execution_count": 74,
   "metadata": {},
   "outputs": [],
   "source": [
    "for df in [dfTrends_DK, dfTrends_SE, dfTrends_NO]:\n",
    "    df.dropna(axis=1, inplace=True)"
   ]
  },
  {
   "cell_type": "markdown",
   "metadata": {},
   "source": [
    "### Fixing NO - Trøndelag"
   ]
  },
  {
   "cell_type": "code",
   "execution_count": 76,
   "metadata": {},
   "outputs": [
    {
     "data": {
      "text/plain": [
       "array(['Akershus', 'Aust-Agder', 'Buskerud', 'Finnmark', 'Hedmark',\n",
       "       'Hordaland', 'Møre og Romsdal', 'Nord-Trøndelag', 'Nordland',\n",
       "       'Oppland', 'Oslo', 'Østfold', 'Rogaland', 'Sogn og Fjordane',\n",
       "       'Sør-Trøndelag', 'Telemark', 'Troms', 'Vest-Agder', 'Vestfold'],\n",
       "      dtype=object)"
      ]
     },
     "execution_count": 76,
     "metadata": {},
     "output_type": "execute_result"
    }
   ],
   "source": [
    "dfTrends_NO['ID'].unique()"
   ]
  },
  {
   "cell_type": "code",
   "execution_count": 77,
   "metadata": {},
   "outputs": [
    {
     "data": {
      "text/plain": [
       "array([' Østfold', ' Akershus', ' Oslo', ' Hedmark', ' Oppland',\n",
       "       ' Buskerud', ' Vestfold', ' Telemark', ' Aust-Agder',\n",
       "       ' Vest-Agder', ' Rogaland', ' Hordaland', ' Sogn og Fjordane',\n",
       "       ' Møre og Romsdal', ' Trøndelag', ' Sør-Trøndelag (-2017)',\n",
       "       ' Nord-Trøndelag (-2017)', ' Nordland', ' Troms - Romsa',\n",
       "       ' Finnmark - Finnmárku', ' Svalbard'], dtype=object)"
      ]
     },
     "execution_count": 77,
     "metadata": {},
     "output_type": "execute_result"
    }
   ],
   "source": [
    "pop = pd.read_csv('data/other/df_NO_pop_initial.csv', sep = ',')\n",
    "pop['region'].unique()"
   ]
  },
  {
   "cell_type": "code",
   "execution_count": 78,
   "metadata": {},
   "outputs": [],
   "source": [
    "pop = pop[(pop['region'] == ' Nord-Trøndelag (-2017)') | (pop['region'] == ' Sør-Trøndelag (-2017)')].copy()\n",
    "pop = pop[pop['pop'] != 0].sort_values(by = ['region', 'date']).copy()"
   ]
  },
  {
   "cell_type": "code",
   "execution_count": 79,
   "metadata": {},
   "outputs": [
    {
     "data": {
      "text/plain": [
       "0.4537470259083401"
      ]
     },
     "execution_count": 79,
     "metadata": {},
     "output_type": "execute_result"
    }
   ],
   "source": [
    "pop_NORD = pop[(pop['region'] == ' Nord-Trøndelag (-2017)')].set_index('date').drop(['region', 'reg_nr'], axis = 1)\n",
    "\n",
    "pop_SYD = pop[(pop['region'] == ' Sør-Trøndelag (-2017)')].set_index('date').drop(['region', 'reg_nr'], axis = 1)\n",
    "\n",
    "pop_NORD['ratio'] = pop_NORD['pop'] / pop_SYD['pop']\n",
    "\n",
    "ratio = pop_NORD['ratio'].mean()\n",
    "ratio"
   ]
  },
  {
   "cell_type": "code",
   "execution_count": 80,
   "metadata": {},
   "outputs": [
    {
     "data": {
      "text/html": [
       "<div>\n",
       "<style scoped>\n",
       "    .dataframe tbody tr th:only-of-type {\n",
       "        vertical-align: middle;\n",
       "    }\n",
       "\n",
       "    .dataframe tbody tr th {\n",
       "        vertical-align: top;\n",
       "    }\n",
       "\n",
       "    .dataframe thead th {\n",
       "        text-align: right;\n",
       "    }\n",
       "</style>\n",
       "<table border=\"1\" class=\"dataframe\">\n",
       "  <thead>\n",
       "    <tr style=\"text-align: right;\">\n",
       "      <th></th>\n",
       "      <th>count</th>\n",
       "      <th>mean</th>\n",
       "      <th>std</th>\n",
       "      <th>min</th>\n",
       "      <th>25%</th>\n",
       "      <th>50%</th>\n",
       "      <th>75%</th>\n",
       "      <th>max</th>\n",
       "    </tr>\n",
       "    <tr>\n",
       "      <th>region</th>\n",
       "      <th></th>\n",
       "      <th></th>\n",
       "      <th></th>\n",
       "      <th></th>\n",
       "      <th></th>\n",
       "      <th></th>\n",
       "      <th></th>\n",
       "      <th></th>\n",
       "    </tr>\n",
       "  </thead>\n",
       "  <tbody>\n",
       "    <tr>\n",
       "      <td>Nord-Trøndelag (-2017)</td>\n",
       "      <td>15.0</td>\n",
       "      <td>131892.933333</td>\n",
       "      <td>3299.855894</td>\n",
       "      <td>127610.0</td>\n",
       "      <td>128881.5</td>\n",
       "      <td>131555.0</td>\n",
       "      <td>134792.5</td>\n",
       "      <td>137233.0</td>\n",
       "    </tr>\n",
       "    <tr>\n",
       "      <td>Sør-Trøndelag (-2017)</td>\n",
       "      <td>15.0</td>\n",
       "      <td>291151.800000</td>\n",
       "      <td>16363.174056</td>\n",
       "      <td>268188.0</td>\n",
       "      <td>277119.5</td>\n",
       "      <td>290547.0</td>\n",
       "      <td>304476.0</td>\n",
       "      <td>317363.0</td>\n",
       "    </tr>\n",
       "  </tbody>\n",
       "</table>\n",
       "</div>"
      ],
      "text/plain": [
       "                         count           mean           std       min  \\\n",
       "region                                                                  \n",
       " Nord-Trøndelag (-2017)   15.0  131892.933333   3299.855894  127610.0   \n",
       " Sør-Trøndelag (-2017)    15.0  291151.800000  16363.174056  268188.0   \n",
       "\n",
       "                              25%       50%       75%       max  \n",
       "region                                                           \n",
       " Nord-Trøndelag (-2017)  128881.5  131555.0  134792.5  137233.0  \n",
       " Sør-Trøndelag (-2017)   277119.5  290547.0  304476.0  317363.0  "
      ]
     },
     "execution_count": 80,
     "metadata": {},
     "output_type": "execute_result"
    }
   ],
   "source": [
    "pop.groupby('region')['pop'].describe()"
   ]
  },
  {
   "cell_type": "code",
   "execution_count": 81,
   "metadata": {},
   "outputs": [],
   "source": [
    "test_NORD = dfTrends_NO[(dfTrends_NO['ID'] == 'Nord-Trøndelag')].set_index('date').copy()\n",
    "test_SYD = dfTrends_NO[(dfTrends_NO['ID'] == 'Sør-Trøndelag')].set_index('date').copy()"
   ]
  },
  {
   "cell_type": "code",
   "execution_count": 82,
   "metadata": {},
   "outputs": [
    {
     "data": {
      "text/plain": [
       "Index(['date', 'geo', 'GT_NO_0', 'GT_NO_1', 'GT_NO_2', 'GT_NO_6', 'GT_NO_7',\n",
       "       'GT_NO_8', 'GT_NO_10', 'GT_NO_11', 'ID', 'trends', 'C_ID'],\n",
       "      dtype='object')"
      ]
     },
     "execution_count": 82,
     "metadata": {},
     "output_type": "execute_result"
    }
   ],
   "source": [
    "dfTrends_NO.columns"
   ]
  },
  {
   "cell_type": "code",
   "execution_count": 83,
   "metadata": {},
   "outputs": [],
   "source": [
    "cols = ['GT_NO_0', 'GT_NO_1', 'GT_NO_2', 'GT_NO_6', 'GT_NO_7',\n",
    "       'GT_NO_8', 'GT_NO_10', 'GT_NO_11']"
   ]
  },
  {
   "cell_type": "code",
   "execution_count": 84,
   "metadata": {},
   "outputs": [],
   "source": [
    "for col in cols:\n",
    "    test_NORD[col] = test_NORD[col]*ratio + (1-ratio) * test_SYD[col]"
   ]
  },
  {
   "cell_type": "code",
   "execution_count": 85,
   "metadata": {},
   "outputs": [],
   "source": [
    "test_NORD.reset_index()\n",
    "test_NORD['ID'] = 'Trøndelag'\n",
    "test_NORD['trends'] = 'NO-50'\n",
    "test_NORD['geo'] = 'NO-50'"
   ]
  },
  {
   "cell_type": "code",
   "execution_count": 86,
   "metadata": {},
   "outputs": [],
   "source": [
    "test_NORD.reset_index(inplace=True)"
   ]
  },
  {
   "cell_type": "code",
   "execution_count": 87,
   "metadata": {},
   "outputs": [],
   "source": [
    "dfTrends_NO = dfTrends_NO[(dfTrends_NO['ID'] != 'Nord-Trøndelag')].copy()\n",
    "dfTrends_NO = dfTrends_NO[(dfTrends_NO['ID'] != 'Sør-Trøndelag')].copy()"
   ]
  },
  {
   "cell_type": "code",
   "execution_count": 88,
   "metadata": {},
   "outputs": [],
   "source": [
    "dfTrends_NO = pd.concat([dfTrends_NO, test_NORD], ignore_index=True, sort=False).sort_values(['ID', 'date']).copy()"
   ]
  },
  {
   "cell_type": "code",
   "execution_count": 89,
   "metadata": {},
   "outputs": [
    {
     "data": {
      "text/plain": [
       "(3420, 13)"
      ]
     },
     "execution_count": 89,
     "metadata": {},
     "output_type": "execute_result"
    }
   ],
   "source": [
    "dfTrends_NO.shape"
   ]
  },
  {
   "cell_type": "markdown",
   "metadata": {},
   "source": [
    "### Concatting"
   ]
  },
  {
   "cell_type": "code",
   "execution_count": 90,
   "metadata": {},
   "outputs": [],
   "source": [
    "dfTrends = pd.concat([dfTrends_DK, dfTrends_NO, dfTrends_SE], ignore_index=True, sort = False).fillna(value = 0)"
   ]
  },
  {
   "cell_type": "code",
   "execution_count": 91,
   "metadata": {},
   "outputs": [],
   "source": [
    "dfTrends.sort_values(['geo', 'date'], inplace=True)"
   ]
  },
  {
   "cell_type": "code",
   "execution_count": 92,
   "metadata": {},
   "outputs": [
    {
     "data": {
      "text/plain": [
       "(8170, 45)"
      ]
     },
     "execution_count": 92,
     "metadata": {},
     "output_type": "execute_result"
    }
   ],
   "source": [
    "dfTrends.shape"
   ]
  },
  {
   "cell_type": "code",
   "execution_count": 93,
   "metadata": {},
   "outputs": [
    {
     "data": {
      "text/plain": [
       "Index(['date', 'geo', 'GT_DK_0', 'GT_DK_1', 'GT_DK_2', 'GT_DK_3', 'GT_DK_4',\n",
       "       'GT_DK_5', 'GT_DK_6', 'GT_DK_7', 'GT_DK_8', 'GT_DK_9', 'GT_DK_10',\n",
       "       'GT_DK_11', 'GT_DK_12', 'GT_DK_13', 'GT_DK_14', 'GT_DK_15', 'GT_DK_16',\n",
       "       'GT_DK_17', 'GT_DK_18', 'GT_DK_19', 'GT_DK_20', 'GT_DK_21', 'ID',\n",
       "       'trends', 'C_ID', 'GT_NO_0', 'GT_NO_1', 'GT_NO_2', 'GT_NO_6', 'GT_NO_7',\n",
       "       'GT_NO_8', 'GT_NO_10', 'GT_NO_11', 'GT_SE_0', 'GT_SE_1', 'GT_SE_2',\n",
       "       'GT_SE_5', 'GT_SE_6', 'GT_SE_7', 'GT_SE_8', 'GT_SE_9', 'GT_SE_10',\n",
       "       'GT_SE_11'],\n",
       "      dtype='object')"
      ]
     },
     "execution_count": 93,
     "metadata": {},
     "output_type": "execute_result"
    }
   ],
   "source": [
    "dfTrends.columns"
   ]
  },
  {
   "cell_type": "markdown",
   "metadata": {},
   "source": [
    "### Aggregating to quarterly"
   ]
  },
  {
   "cell_type": "code",
   "execution_count": 94,
   "metadata": {},
   "outputs": [],
   "source": [
    "temp = dfTrends.set_index('date').index.to_period('Q')"
   ]
  },
  {
   "cell_type": "code",
   "execution_count": 95,
   "metadata": {},
   "outputs": [],
   "source": [
    "dfTrends['date'] = temp"
   ]
  },
  {
   "cell_type": "code",
   "execution_count": 96,
   "metadata": {},
   "outputs": [],
   "source": [
    "dfTrends = dfTrends.groupby(['C_ID', 'geo', 'trends', 'ID', 'date'], as_index=False).mean()"
   ]
  },
  {
   "cell_type": "code",
   "execution_count": 97,
   "metadata": {},
   "outputs": [
    {
     "data": {
      "text/plain": [
       "(2752, 45)"
      ]
     },
     "execution_count": 97,
     "metadata": {},
     "output_type": "execute_result"
    }
   ],
   "source": [
    "dfTrends.shape"
   ]
  },
  {
   "cell_type": "code",
   "execution_count": 98,
   "metadata": {},
   "outputs": [
    {
     "data": {
      "text/html": [
       "<div>\n",
       "<style scoped>\n",
       "    .dataframe tbody tr th:only-of-type {\n",
       "        vertical-align: middle;\n",
       "    }\n",
       "\n",
       "    .dataframe tbody tr th {\n",
       "        vertical-align: top;\n",
       "    }\n",
       "\n",
       "    .dataframe thead th {\n",
       "        text-align: right;\n",
       "    }\n",
       "</style>\n",
       "<table border=\"1\" class=\"dataframe\">\n",
       "  <thead>\n",
       "    <tr style=\"text-align: right;\">\n",
       "      <th></th>\n",
       "      <th>C_ID</th>\n",
       "      <th>geo</th>\n",
       "      <th>trends</th>\n",
       "      <th>ID</th>\n",
       "      <th>date</th>\n",
       "      <th>GT_DK_0</th>\n",
       "      <th>GT_DK_1</th>\n",
       "      <th>GT_DK_2</th>\n",
       "      <th>GT_DK_3</th>\n",
       "      <th>GT_DK_4</th>\n",
       "      <th>...</th>\n",
       "      <th>GT_SE_0</th>\n",
       "      <th>GT_SE_1</th>\n",
       "      <th>GT_SE_2</th>\n",
       "      <th>GT_SE_5</th>\n",
       "      <th>GT_SE_6</th>\n",
       "      <th>GT_SE_7</th>\n",
       "      <th>GT_SE_8</th>\n",
       "      <th>GT_SE_9</th>\n",
       "      <th>GT_SE_10</th>\n",
       "      <th>GT_SE_11</th>\n",
       "    </tr>\n",
       "  </thead>\n",
       "  <tbody>\n",
       "    <tr>\n",
       "      <td>0</td>\n",
       "      <td>DK</td>\n",
       "      <td>DK-81</td>\n",
       "      <td>DK-81</td>\n",
       "      <td>North Denmark</td>\n",
       "      <td>2004Q1</td>\n",
       "      <td>0.000000</td>\n",
       "      <td>74.333333</td>\n",
       "      <td>81.000000</td>\n",
       "      <td>0.0</td>\n",
       "      <td>67.333333</td>\n",
       "      <td>...</td>\n",
       "      <td>0.000000</td>\n",
       "      <td>0.000000</td>\n",
       "      <td>0.000000</td>\n",
       "      <td>0.000000</td>\n",
       "      <td>0.000000</td>\n",
       "      <td>0.000000</td>\n",
       "      <td>0.000000</td>\n",
       "      <td>0.000000</td>\n",
       "      <td>0.000000</td>\n",
       "      <td>0.000000</td>\n",
       "    </tr>\n",
       "    <tr>\n",
       "      <td>1</td>\n",
       "      <td>DK</td>\n",
       "      <td>DK-81</td>\n",
       "      <td>DK-81</td>\n",
       "      <td>North Denmark</td>\n",
       "      <td>2004Q2</td>\n",
       "      <td>36.666667</td>\n",
       "      <td>73.000000</td>\n",
       "      <td>78.666667</td>\n",
       "      <td>0.0</td>\n",
       "      <td>36.666667</td>\n",
       "      <td>...</td>\n",
       "      <td>0.000000</td>\n",
       "      <td>0.000000</td>\n",
       "      <td>0.000000</td>\n",
       "      <td>0.000000</td>\n",
       "      <td>0.000000</td>\n",
       "      <td>0.000000</td>\n",
       "      <td>0.000000</td>\n",
       "      <td>0.000000</td>\n",
       "      <td>0.000000</td>\n",
       "      <td>0.000000</td>\n",
       "    </tr>\n",
       "    <tr>\n",
       "      <td>2</td>\n",
       "      <td>DK</td>\n",
       "      <td>DK-81</td>\n",
       "      <td>DK-81</td>\n",
       "      <td>North Denmark</td>\n",
       "      <td>2004Q3</td>\n",
       "      <td>59.000000</td>\n",
       "      <td>51.333333</td>\n",
       "      <td>79.000000</td>\n",
       "      <td>9.0</td>\n",
       "      <td>43.666667</td>\n",
       "      <td>...</td>\n",
       "      <td>0.000000</td>\n",
       "      <td>0.000000</td>\n",
       "      <td>0.000000</td>\n",
       "      <td>0.000000</td>\n",
       "      <td>0.000000</td>\n",
       "      <td>0.000000</td>\n",
       "      <td>0.000000</td>\n",
       "      <td>0.000000</td>\n",
       "      <td>0.000000</td>\n",
       "      <td>0.000000</td>\n",
       "    </tr>\n",
       "    <tr>\n",
       "      <td>3</td>\n",
       "      <td>DK</td>\n",
       "      <td>DK-81</td>\n",
       "      <td>DK-81</td>\n",
       "      <td>North Denmark</td>\n",
       "      <td>2004Q4</td>\n",
       "      <td>0.000000</td>\n",
       "      <td>57.000000</td>\n",
       "      <td>63.333333</td>\n",
       "      <td>18.0</td>\n",
       "      <td>52.333333</td>\n",
       "      <td>...</td>\n",
       "      <td>0.000000</td>\n",
       "      <td>0.000000</td>\n",
       "      <td>0.000000</td>\n",
       "      <td>0.000000</td>\n",
       "      <td>0.000000</td>\n",
       "      <td>0.000000</td>\n",
       "      <td>0.000000</td>\n",
       "      <td>0.000000</td>\n",
       "      <td>0.000000</td>\n",
       "      <td>0.000000</td>\n",
       "    </tr>\n",
       "    <tr>\n",
       "      <td>4</td>\n",
       "      <td>DK</td>\n",
       "      <td>DK-81</td>\n",
       "      <td>DK-81</td>\n",
       "      <td>North Denmark</td>\n",
       "      <td>2005Q1</td>\n",
       "      <td>42.000000</td>\n",
       "      <td>54.333333</td>\n",
       "      <td>92.666667</td>\n",
       "      <td>14.0</td>\n",
       "      <td>38.000000</td>\n",
       "      <td>...</td>\n",
       "      <td>0.000000</td>\n",
       "      <td>0.000000</td>\n",
       "      <td>0.000000</td>\n",
       "      <td>0.000000</td>\n",
       "      <td>0.000000</td>\n",
       "      <td>0.000000</td>\n",
       "      <td>0.000000</td>\n",
       "      <td>0.000000</td>\n",
       "      <td>0.000000</td>\n",
       "      <td>0.000000</td>\n",
       "    </tr>\n",
       "    <tr>\n",
       "      <td>...</td>\n",
       "      <td>...</td>\n",
       "      <td>...</td>\n",
       "      <td>...</td>\n",
       "      <td>...</td>\n",
       "      <td>...</td>\n",
       "      <td>...</td>\n",
       "      <td>...</td>\n",
       "      <td>...</td>\n",
       "      <td>...</td>\n",
       "      <td>...</td>\n",
       "      <td>...</td>\n",
       "      <td>...</td>\n",
       "      <td>...</td>\n",
       "      <td>...</td>\n",
       "      <td>...</td>\n",
       "      <td>...</td>\n",
       "      <td>...</td>\n",
       "      <td>...</td>\n",
       "      <td>...</td>\n",
       "      <td>...</td>\n",
       "      <td>...</td>\n",
       "    </tr>\n",
       "    <tr>\n",
       "      <td>2747</td>\n",
       "      <td>SE</td>\n",
       "      <td>SE-Y</td>\n",
       "      <td>SE-Y</td>\n",
       "      <td>Västernorrland</td>\n",
       "      <td>2018Q4</td>\n",
       "      <td>0.000000</td>\n",
       "      <td>0.000000</td>\n",
       "      <td>0.000000</td>\n",
       "      <td>0.0</td>\n",
       "      <td>0.000000</td>\n",
       "      <td>...</td>\n",
       "      <td>61.666667</td>\n",
       "      <td>56.333333</td>\n",
       "      <td>74.666667</td>\n",
       "      <td>25.333333</td>\n",
       "      <td>23.666667</td>\n",
       "      <td>32.000000</td>\n",
       "      <td>58.333333</td>\n",
       "      <td>28.333333</td>\n",
       "      <td>24.333333</td>\n",
       "      <td>19.333333</td>\n",
       "    </tr>\n",
       "    <tr>\n",
       "      <td>2748</td>\n",
       "      <td>SE</td>\n",
       "      <td>SE-Y</td>\n",
       "      <td>SE-Y</td>\n",
       "      <td>Västernorrland</td>\n",
       "      <td>2019Q1</td>\n",
       "      <td>0.000000</td>\n",
       "      <td>0.000000</td>\n",
       "      <td>0.000000</td>\n",
       "      <td>0.0</td>\n",
       "      <td>0.000000</td>\n",
       "      <td>...</td>\n",
       "      <td>73.666667</td>\n",
       "      <td>67.333333</td>\n",
       "      <td>85.666667</td>\n",
       "      <td>17.333333</td>\n",
       "      <td>22.666667</td>\n",
       "      <td>36.666667</td>\n",
       "      <td>79.000000</td>\n",
       "      <td>28.333333</td>\n",
       "      <td>27.666667</td>\n",
       "      <td>20.333333</td>\n",
       "    </tr>\n",
       "    <tr>\n",
       "      <td>2749</td>\n",
       "      <td>SE</td>\n",
       "      <td>SE-Y</td>\n",
       "      <td>SE-Y</td>\n",
       "      <td>Västernorrland</td>\n",
       "      <td>2019Q2</td>\n",
       "      <td>0.000000</td>\n",
       "      <td>0.000000</td>\n",
       "      <td>0.000000</td>\n",
       "      <td>0.0</td>\n",
       "      <td>0.000000</td>\n",
       "      <td>...</td>\n",
       "      <td>61.000000</td>\n",
       "      <td>60.666667</td>\n",
       "      <td>65.666667</td>\n",
       "      <td>30.666667</td>\n",
       "      <td>22.333333</td>\n",
       "      <td>29.666667</td>\n",
       "      <td>62.000000</td>\n",
       "      <td>32.333333</td>\n",
       "      <td>20.333333</td>\n",
       "      <td>18.000000</td>\n",
       "    </tr>\n",
       "    <tr>\n",
       "      <td>2750</td>\n",
       "      <td>SE</td>\n",
       "      <td>SE-Y</td>\n",
       "      <td>SE-Y</td>\n",
       "      <td>Västernorrland</td>\n",
       "      <td>2019Q3</td>\n",
       "      <td>0.000000</td>\n",
       "      <td>0.000000</td>\n",
       "      <td>0.000000</td>\n",
       "      <td>0.0</td>\n",
       "      <td>0.000000</td>\n",
       "      <td>...</td>\n",
       "      <td>66.000000</td>\n",
       "      <td>61.666667</td>\n",
       "      <td>73.000000</td>\n",
       "      <td>22.000000</td>\n",
       "      <td>21.333333</td>\n",
       "      <td>40.000000</td>\n",
       "      <td>61.333333</td>\n",
       "      <td>33.666667</td>\n",
       "      <td>17.333333</td>\n",
       "      <td>18.000000</td>\n",
       "    </tr>\n",
       "    <tr>\n",
       "      <td>2751</td>\n",
       "      <td>SE</td>\n",
       "      <td>SE-Y</td>\n",
       "      <td>SE-Y</td>\n",
       "      <td>Västernorrland</td>\n",
       "      <td>2019Q4</td>\n",
       "      <td>0.000000</td>\n",
       "      <td>0.000000</td>\n",
       "      <td>0.000000</td>\n",
       "      <td>0.0</td>\n",
       "      <td>0.000000</td>\n",
       "      <td>...</td>\n",
       "      <td>90.000000</td>\n",
       "      <td>74.000000</td>\n",
       "      <td>96.000000</td>\n",
       "      <td>28.000000</td>\n",
       "      <td>36.000000</td>\n",
       "      <td>33.000000</td>\n",
       "      <td>61.000000</td>\n",
       "      <td>36.000000</td>\n",
       "      <td>23.000000</td>\n",
       "      <td>34.000000</td>\n",
       "    </tr>\n",
       "  </tbody>\n",
       "</table>\n",
       "<p>2752 rows × 45 columns</p>\n",
       "</div>"
      ],
      "text/plain": [
       "     C_ID    geo trends              ID    date    GT_DK_0    GT_DK_1  \\\n",
       "0      DK  DK-81  DK-81   North Denmark  2004Q1   0.000000  74.333333   \n",
       "1      DK  DK-81  DK-81   North Denmark  2004Q2  36.666667  73.000000   \n",
       "2      DK  DK-81  DK-81   North Denmark  2004Q3  59.000000  51.333333   \n",
       "3      DK  DK-81  DK-81   North Denmark  2004Q4   0.000000  57.000000   \n",
       "4      DK  DK-81  DK-81   North Denmark  2005Q1  42.000000  54.333333   \n",
       "...   ...    ...    ...             ...     ...        ...        ...   \n",
       "2747   SE   SE-Y   SE-Y  Västernorrland  2018Q4   0.000000   0.000000   \n",
       "2748   SE   SE-Y   SE-Y  Västernorrland  2019Q1   0.000000   0.000000   \n",
       "2749   SE   SE-Y   SE-Y  Västernorrland  2019Q2   0.000000   0.000000   \n",
       "2750   SE   SE-Y   SE-Y  Västernorrland  2019Q3   0.000000   0.000000   \n",
       "2751   SE   SE-Y   SE-Y  Västernorrland  2019Q4   0.000000   0.000000   \n",
       "\n",
       "        GT_DK_2  GT_DK_3    GT_DK_4  ...    GT_SE_0    GT_SE_1    GT_SE_2  \\\n",
       "0     81.000000      0.0  67.333333  ...   0.000000   0.000000   0.000000   \n",
       "1     78.666667      0.0  36.666667  ...   0.000000   0.000000   0.000000   \n",
       "2     79.000000      9.0  43.666667  ...   0.000000   0.000000   0.000000   \n",
       "3     63.333333     18.0  52.333333  ...   0.000000   0.000000   0.000000   \n",
       "4     92.666667     14.0  38.000000  ...   0.000000   0.000000   0.000000   \n",
       "...         ...      ...        ...  ...        ...        ...        ...   \n",
       "2747   0.000000      0.0   0.000000  ...  61.666667  56.333333  74.666667   \n",
       "2748   0.000000      0.0   0.000000  ...  73.666667  67.333333  85.666667   \n",
       "2749   0.000000      0.0   0.000000  ...  61.000000  60.666667  65.666667   \n",
       "2750   0.000000      0.0   0.000000  ...  66.000000  61.666667  73.000000   \n",
       "2751   0.000000      0.0   0.000000  ...  90.000000  74.000000  96.000000   \n",
       "\n",
       "        GT_SE_5    GT_SE_6    GT_SE_7    GT_SE_8    GT_SE_9   GT_SE_10  \\\n",
       "0      0.000000   0.000000   0.000000   0.000000   0.000000   0.000000   \n",
       "1      0.000000   0.000000   0.000000   0.000000   0.000000   0.000000   \n",
       "2      0.000000   0.000000   0.000000   0.000000   0.000000   0.000000   \n",
       "3      0.000000   0.000000   0.000000   0.000000   0.000000   0.000000   \n",
       "4      0.000000   0.000000   0.000000   0.000000   0.000000   0.000000   \n",
       "...         ...        ...        ...        ...        ...        ...   \n",
       "2747  25.333333  23.666667  32.000000  58.333333  28.333333  24.333333   \n",
       "2748  17.333333  22.666667  36.666667  79.000000  28.333333  27.666667   \n",
       "2749  30.666667  22.333333  29.666667  62.000000  32.333333  20.333333   \n",
       "2750  22.000000  21.333333  40.000000  61.333333  33.666667  17.333333   \n",
       "2751  28.000000  36.000000  33.000000  61.000000  36.000000  23.000000   \n",
       "\n",
       "       GT_SE_11  \n",
       "0      0.000000  \n",
       "1      0.000000  \n",
       "2      0.000000  \n",
       "3      0.000000  \n",
       "4      0.000000  \n",
       "...         ...  \n",
       "2747  19.333333  \n",
       "2748  20.333333  \n",
       "2749  18.000000  \n",
       "2750  18.000000  \n",
       "2751  34.000000  \n",
       "\n",
       "[2752 rows x 45 columns]"
      ]
     },
     "execution_count": 98,
     "metadata": {},
     "output_type": "execute_result"
    }
   ],
   "source": [
    "dfTrends"
   ]
  },
  {
   "cell_type": "markdown",
   "metadata": {},
   "source": [
    "### Exporting"
   ]
  },
  {
   "cell_type": "code",
   "execution_count": 99,
   "metadata": {},
   "outputs": [],
   "source": [
    "dfTrends_DK.to_csv('data/gt/dfTrends_DK.csv', index=True, sep=';', encoding='utf-8-sig')\n",
    "dfTrends_NO.to_csv('data/gt/dfTrends_NO.csv', index=True, sep=';', encoding='utf-8-sig')\n",
    "dfTrends_SE.to_csv('data/gt/dfTrends_SE.csv', index=True, sep=';', encoding='utf-8-sig')"
   ]
  },
  {
   "cell_type": "code",
   "execution_count": null,
   "metadata": {},
   "outputs": [],
   "source": [
    "#For only DK data\n",
    "# Dropping country col\n",
    "dfTrends_DK.drop(['C_ID'], axis = 1, inplace=True)\n",
    "dfTrends_DK.to_csv('DK/data/dfTrends_DK.csv', index=True, sep=';', encoding='utf-8-sig')"
   ]
  },
  {
   "cell_type": "code",
   "execution_count": 103,
   "metadata": {},
   "outputs": [],
   "source": [
    "# dfTrends.to_csv('data/gt/dfTrends.csv', index=True, sep=';', encoding='utf-8-sig')\n",
    "dfTrends.to_csv('robustness/data/gt/dfTrends.csv', index=True, sep=';', encoding='utf-8-sig')"
   ]
  }
 ],
 "metadata": {
  "kernelspec": {
   "display_name": "Python 3",
   "language": "python",
   "name": "python3"
  },
  "language_info": {
   "codemirror_mode": {
    "name": "ipython",
    "version": 3
   },
   "file_extension": ".py",
   "mimetype": "text/x-python",
   "name": "python",
   "nbconvert_exporter": "python",
   "pygments_lexer": "ipython3",
   "version": "3.7.1"
  }
 },
 "nbformat": 4,
 "nbformat_minor": 4
}
