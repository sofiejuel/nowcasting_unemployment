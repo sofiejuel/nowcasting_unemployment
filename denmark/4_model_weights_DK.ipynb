{
 "cells": [
  {
   "cell_type": "code",
   "execution_count": 1,
   "metadata": {},
   "outputs": [],
   "source": [
    "import numpy as np\n",
    "import pickle\n",
    "from tqdm import tqdm \n",
    "\n",
    "import os\n",
    "import sys\n",
    "currentdir = os.path.dirname(os.path.realpath('results_DK'))\n",
    "parentdir = os.path.dirname(currentdir)\n",
    "sys.path.append(parentdir)\n",
    "\n",
    "from func import rmse, weight_gen"
   ]
  },
  {
   "cell_type": "markdown",
   "metadata": {},
   "source": [
    "Functions"
   ]
  },
  {
   "cell_type": "code",
   "execution_count": 2,
   "metadata": {},
   "outputs": [],
   "source": [
    "def attach_weights(w, models, win):\n",
    "    # Retrieve y_pred\n",
    "    y_pred = np.empty((0, len(models[0][1]['best_y_pred_rmse'])))\n",
    "    for model in models:\n",
    "        y_pred_temp = [model[win]['best_y_pred_rmse']]\n",
    "        y_pred = np.concatenate((y_pred, y_pred_temp))\n",
    "\n",
    "    # Matrix multiplication    \n",
    "    y_pred_w = np.dot(w, y_pred).round(2)\n",
    "\n",
    "    #Find rmse\n",
    "    y_true = model[win]['y_actual']\n",
    "    rmse_w = [rmse(y_pred = y_pred_w, y_true = y_true)]\n",
    "\n",
    "    # Create result_\n",
    "    result = {}\n",
    "    \n",
    "    \n",
    "    result['w'] = w\n",
    "    result['best_rmse'] = rmse_w\n",
    "    result['y_pred'] = y_pred\n",
    "    result['best_y_pred_rmse'] = y_pred_w\n",
    "    result['y_actual'] = y_true\n",
    "    \n",
    "    return result\n",
    "\n",
    "def lowest_rmse(weights, models, win):\n",
    "    result = {}\n",
    "\n",
    "    for w in weights: \n",
    "        result[tuple(w)] = attach_weights(w = w, models = models, win = win)\n",
    "        result_temp = result[tuple(w)]['best_rmse']\n",
    "        #print(result)\n",
    "    \n",
    "    # lowest rmse\n",
    "    best_par_rmse = min(result_temp)\n",
    "    best = [result[k] for k in result if result[k]['best_rmse'] == best_par_rmse ]\n",
    "    #print(len(best))\n",
    "    result = best[0]\n",
    "    \n",
    "    return result\n",
    "\n",
    "def w_windows(weights, models): \n",
    "    #CONTAINER WITH RESULTS\n",
    "    results_dict = {}\n",
    "    #LOOPING OVER EACH WINDOW\n",
    "    for win in tqdm(models[0].keys()):\n",
    "        results_dict[win] = lowest_rmse(weights = weights, models = models, win = win)\n",
    "    \n",
    "    return results_dict\n",
    "\n",
    "def test_weights(w_windows, models):\n",
    "\n",
    "    result = {}\n",
    "\n",
    "    for key in w_windows:\n",
    "        if key ==1:\n",
    "            continue\n",
    "\n",
    "        result[key] = attach_weights(w = w_windows[key-1]['w'], models = models, win = key)\n",
    "\n",
    "    return result  \n",
    "\n",
    "def mean_rmse(model, model_string, result_key = 'best_rmse'):\n",
    "    temp = []\n",
    "    for model_object, model_name in zip(model, model_string):\n",
    "        for key in model_object.keys():\n",
    "            temp.append(model_object[key][result_key][-1])\n",
    "        print('Mean RMSE in ' + model_name + ': ' + str(round(np.mean(temp),4)))"
   ]
  },
  {
   "cell_type": "markdown",
   "metadata": {},
   "source": [
    "Load data"
   ]
  },
  {
   "cell_type": "code",
   "execution_count": 3,
   "metadata": {},
   "outputs": [],
   "source": [
    "# BASELINE\n",
    "with open('results/final/baseline/results_baseline.pickle', 'rb') as handle:\n",
    "    results_baseline = pickle.load(handle)\n",
    "\n",
    "#LASSO\n",
    "with open('results/final/lasso/results_final.pickle', 'rb') as handle:\n",
    "    results_lasso = pickle.load(handle) \n",
    "\n",
    "#RIDGE\n",
    "with open('results/final/ridge/results_final.pickle', 'rb') as handle:\n",
    "    results_ridge = pickle.load(handle) \n",
    "\n",
    "# #ELASTIC\n",
    "with open('results/final/elastic/results_final.pickle', 'rb') as handle:\n",
    "    results_elastic = pickle.load(handle) \n",
    "    \n",
    "# #RANDOM FOREST\n",
    "with open('results/final/randomforest/results_final_no_int.pickle', 'rb') as handle:\n",
    "    results_randomforest = pickle.load(handle) \n",
    "\n",
    "#XGBOOST\n",
    "with open('results/final/xgboost/results_final_noint.pickle', 'rb') as handle:\n",
    "    results_xgboost = pickle.load(handle)\n",
    "# with open('results/final/xgboost/results_final_shap.pickle', 'rb') as handle:\n",
    "#     results_xgboost = pickle.load(handle)"
   ]
  },
  {
   "cell_type": "markdown",
   "metadata": {},
   "source": [
    "Initial definitions"
   ]
  },
  {
   "cell_type": "code",
   "execution_count": 4,
   "metadata": {},
   "outputs": [],
   "source": [
    "models = [results_lasso, results_ridge, results_elastic, results_randomforest, results_xgboost]"
   ]
  },
  {
   "cell_type": "code",
   "execution_count": 5,
   "metadata": {},
   "outputs": [],
   "source": [
    "weights = weight_gen(len(models), 30000)"
   ]
  },
  {
   "cell_type": "markdown",
   "metadata": {},
   "source": [
    "Loop over windows"
   ]
  },
  {
   "cell_type": "code",
   "execution_count": 6,
   "metadata": {},
   "outputs": [
    {
     "name": "stderr",
     "output_type": "stream",
     "text": [
      "100%|████████████████████████████████████████████████████████████████████████████████| 103/103 [10:26<00:00,  6.08s/it]\n"
     ]
    }
   ],
   "source": [
    "w_windows = w_windows(weights, models)"
   ]
  },
  {
   "cell_type": "markdown",
   "metadata": {},
   "source": [
    "Use previous key to set weights "
   ]
  },
  {
   "cell_type": "code",
   "execution_count": 7,
   "metadata": {},
   "outputs": [],
   "source": [
    "results_weights = test_weights(w_windows, models)"
   ]
  },
  {
   "cell_type": "code",
   "execution_count": 8,
   "metadata": {},
   "outputs": [
    {
     "data": {
      "text/plain": [
       "{'w': (0.19, 0.11, 0.3, 0.21, 0.19),\n",
       " 'best_rmse': [0.24649543606322624],\n",
       " 'y_pred': array([[ 0.1       ,  0.06      ,  0.1       ,  0.09      ,  0.07      ],\n",
       "        [ 0.09      ,  0.09      ,  0.09      ,  0.09      ,  0.09      ],\n",
       "        [ 0.09      ,  0.07      ,  0.09      ,  0.09      ,  0.08      ],\n",
       "        [ 0.09      , -0.07      , -0.19      , -0.08      , -0.27      ],\n",
       "        [ 0.01      , -0.23      , -0.44      , -0.22      , -0.40000001]]),\n",
       " 'best_y_pred_rmse': array([ 0.08, -0.02, -0.07, -0.  , -0.09]),\n",
       " 'y_actual': array([-0.2, -0.2, -0.4, -0.2, -0.3])}"
      ]
     },
     "execution_count": 8,
     "metadata": {},
     "output_type": "execute_result"
    }
   ],
   "source": [
    "results_weights[4]"
   ]
  },
  {
   "cell_type": "markdown",
   "metadata": {},
   "source": [
    "Save as pickle"
   ]
  },
  {
   "cell_type": "code",
   "execution_count": 9,
   "metadata": {},
   "outputs": [],
   "source": [
    "with open('results/final/weighted/results_final.pickle', 'wb') as handle:\n",
    "    pickle.dump(results_weights, handle, protocol= pickle.HIGHEST_PROTOCOL)"
   ]
  },
  {
   "cell_type": "code",
   "execution_count": 10,
   "metadata": {},
   "outputs": [],
   "source": [
    "with open('results/final/weighted/results_final.pickle', 'rb') as handle:\n",
    "    results_weighted = pickle.load(handle) "
   ]
  },
  {
   "cell_type": "markdown",
   "metadata": {},
   "source": [
    "Mean RMSE"
   ]
  },
  {
   "cell_type": "code",
   "execution_count": 11,
   "metadata": {},
   "outputs": [
    {
     "name": "stdout",
     "output_type": "stream",
     "text": [
      "Mean RMSE in weighted model: 0.1184\n"
     ]
    }
   ],
   "source": [
    "mean_rmse(model = [results_weighted], model_string = ['weighted model'], result_key = 'best_rmse')"
   ]
  }
 ],
 "metadata": {
  "kernelspec": {
   "display_name": "Python 3",
   "language": "python",
   "name": "python3"
  },
  "language_info": {
   "codemirror_mode": {
    "name": "ipython",
    "version": 3
   },
   "file_extension": ".py",
   "mimetype": "text/x-python",
   "name": "python",
   "nbconvert_exporter": "python",
   "pygments_lexer": "ipython3",
   "version": "3.7.3"
  }
 },
 "nbformat": 4,
 "nbformat_minor": 4
}
