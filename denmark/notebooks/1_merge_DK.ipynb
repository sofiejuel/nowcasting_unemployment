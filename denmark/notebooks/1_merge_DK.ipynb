{
 "cells": [
  {
   "cell_type": "markdown",
   "metadata": {},
   "source": [
    "## Import"
   ]
  },
  {
   "cell_type": "code",
   "execution_count": 16,
   "metadata": {},
   "outputs": [],
   "source": [
    "import pandas as pd"
   ]
  },
  {
   "cell_type": "code",
   "execution_count": 17,
   "metadata": {},
   "outputs": [],
   "source": [
    "import os\n",
    "import sys\n",
    "currentdir = os.path.dirname(os.path.realpath('merge_DK'))\n",
    "parentdir = os.path.dirname(currentdir)\n",
    "sys.path.append(parentdir)\n",
    "\n",
    "from func import quarter_to_month, GT_dict, reindex"
   ]
  },
  {
   "cell_type": "markdown",
   "metadata": {},
   "source": [
    "## Target"
   ]
  },
  {
   "cell_type": "code",
   "execution_count": 18,
   "metadata": {},
   "outputs": [],
   "source": [
    "# Importing AUS monthly regional data\n",
    "df_target_DK = pd.read_csv('data/df_target_DK.csv', sep = ',', index_col = None, parse_dates = ['date'])"
   ]
  },
  {
   "cell_type": "code",
   "execution_count": 19,
   "metadata": {},
   "outputs": [],
   "source": [
    "df_target_DK = df_target_DK.rename(columns = {'target_actual_lag' : 'target_lag'})"
   ]
  },
  {
   "cell_type": "code",
   "execution_count": 20,
   "metadata": {},
   "outputs": [],
   "source": [
    "df_target_DK = df_target_DK.sort_values(by = 'date')"
   ]
  },
  {
   "cell_type": "code",
   "execution_count": 21,
   "metadata": {},
   "outputs": [],
   "source": [
    "df_target_DK['target_lag'] =  df_target_DK.groupby(['ID'])['target_actual'].shift(1)"
   ]
  },
  {
   "cell_type": "code",
   "execution_count": 22,
   "metadata": {},
   "outputs": [
    {
     "data": {
      "text/plain": [
       "Timestamp('2019-09-01 00:00:00')"
      ]
     },
     "execution_count": 22,
     "metadata": {},
     "output_type": "execute_result"
    }
   ],
   "source": [
    "df_target_DK.date.max()"
   ]
  },
  {
   "cell_type": "code",
   "execution_count": 23,
   "metadata": {},
   "outputs": [
    {
     "data": {
      "text/plain": [
       "Timestamp('2007-01-01 00:00:00')"
      ]
     },
     "execution_count": 23,
     "metadata": {},
     "output_type": "execute_result"
    }
   ],
   "source": [
    "df_target_DK.date.min()"
   ]
  },
  {
   "cell_type": "markdown",
   "metadata": {},
   "source": [
    "## Job posts"
   ]
  },
  {
   "cell_type": "code",
   "execution_count": 24,
   "metadata": {},
   "outputs": [],
   "source": [
    "df_job_posts_DK = pd.read_csv(\"data/df_jobposts_DK.csv\", parse_dates = ['date']) "
   ]
  },
  {
   "cell_type": "code",
   "execution_count": 25,
   "metadata": {},
   "outputs": [],
   "source": [
    "df_job_posts_DK.drop(['labour_force'], axis = 1, inplace = True)"
   ]
  },
  {
   "cell_type": "markdown",
   "metadata": {},
   "source": [
    "#### Merge on labour force"
   ]
  },
  {
   "cell_type": "markdown",
   "metadata": {},
   "source": [
    "Note: This has been shiftet one month - check control.ipynb"
   ]
  },
  {
   "cell_type": "code",
   "execution_count": 26,
   "metadata": {},
   "outputs": [],
   "source": [
    "df_labour_force_DK = pd.read_csv(\"data/df_labour_force_DK.csv\", parse_dates = ['date']) "
   ]
  },
  {
   "cell_type": "code",
   "execution_count": 27,
   "metadata": {},
   "outputs": [],
   "source": [
    "df_job_posts_DK = df_job_posts_DK.merge(df_labour_force_DK, on = ['date', 'ID'])"
   ]
  },
  {
   "cell_type": "markdown",
   "metadata": {},
   "source": [
    "#### Create job rate"
   ]
  },
  {
   "cell_type": "code",
   "execution_count": 28,
   "metadata": {},
   "outputs": [],
   "source": [
    "jobindex_list = ['jobs', 'sector_information_technology', 'sector_engineering_technology','sector_management_staff', 'sector_trade_service',\n",
    "       'sector_industry_craft', 'sector_sales_communication',\n",
    "       'sector_teaching', 'sector_office_finance', 'sector_social_health',\n",
    "       'sector_other']"
   ]
  },
  {
   "cell_type": "code",
   "execution_count": 29,
   "metadata": {},
   "outputs": [],
   "source": [
    "for col in jobindex_list:\n",
    "    df_job_posts_DK[col] = (df_job_posts_DK[col] / df_job_posts_DK['labour_force'])*100"
   ]
  },
  {
   "cell_type": "code",
   "execution_count": 30,
   "metadata": {},
   "outputs": [],
   "source": [
    "df_job_posts_DK.drop(['labour_force'], axis = 1, inplace = True)"
   ]
  },
  {
   "cell_type": "code",
   "execution_count": 31,
   "metadata": {},
   "outputs": [
    {
     "data": {
      "text/plain": [
       "Index(['date', 'jobs', 'ID', 'sector_information_technology',\n",
       "       'sector_engineering_technology', 'sector_management_staff',\n",
       "       'sector_trade_service', 'sector_industry_craft',\n",
       "       'sector_sales_communication', 'sector_teaching',\n",
       "       'sector_office_finance', 'sector_social_health', 'sector_other'],\n",
       "      dtype='object')"
      ]
     },
     "execution_count": 31,
     "metadata": {},
     "output_type": "execute_result"
    }
   ],
   "source": [
    "df_job_posts_DK.columns"
   ]
  },
  {
   "cell_type": "code",
   "execution_count": 32,
   "metadata": {},
   "outputs": [],
   "source": [
    "df_job_posts_DK.dropna(inplace=True)"
   ]
  },
  {
   "cell_type": "code",
   "execution_count": 33,
   "metadata": {},
   "outputs": [
    {
     "data": {
      "text/plain": [
       "Timestamp('2019-09-01 00:00:00')"
      ]
     },
     "execution_count": 33,
     "metadata": {},
     "output_type": "execute_result"
    }
   ],
   "source": [
    "df_job_posts_DK.date.max()"
   ]
  },
  {
   "cell_type": "code",
   "execution_count": 34,
   "metadata": {},
   "outputs": [
    {
     "data": {
      "text/plain": [
       "Timestamp('2007-02-01 00:00:00')"
      ]
     },
     "execution_count": 34,
     "metadata": {},
     "output_type": "execute_result"
    }
   ],
   "source": [
    "df_job_posts_DK.date.min()"
   ]
  },
  {
   "cell_type": "markdown",
   "metadata": {},
   "source": [
    "New september values"
   ]
  },
  {
   "cell_type": "code",
   "execution_count": 37,
   "metadata": {},
   "outputs": [],
   "source": [
    "df_job_post_sep= pd.read_csv(\"data/df_DK_jobposts_sep_final.csv\", parse_dates = ['date']) "
   ]
  },
  {
   "cell_type": "code",
   "execution_count": 42,
   "metadata": {},
   "outputs": [],
   "source": [
    "df_job_posts_DK = df_job_posts_DK[df_job_posts_DK.date < df_job_posts_DK.date.max()]"
   ]
  },
  {
   "cell_type": "code",
   "execution_count": 45,
   "metadata": {},
   "outputs": [],
   "source": [
    "df_job_posts_DK = pd.concat([df_job_posts_DK, df_job_post_sep])"
   ]
  },
  {
   "cell_type": "markdown",
   "metadata": {},
   "source": [
    "## Controls"
   ]
  },
  {
   "cell_type": "code",
   "execution_count": 46,
   "metadata": {},
   "outputs": [],
   "source": [
    "df_controls_DK = pd.read_csv('data/df_controls.csv', sep = ',', index_col = None, parse_dates = ['date'])"
   ]
  },
  {
   "cell_type": "code",
   "execution_count": 47,
   "metadata": {},
   "outputs": [
    {
     "data": {
      "text/plain": [
       "Timestamp('2019-09-01 00:00:00')"
      ]
     },
     "execution_count": 47,
     "metadata": {},
     "output_type": "execute_result"
    }
   ],
   "source": [
    "df_controls_DK.date.max()"
   ]
  },
  {
   "cell_type": "code",
   "execution_count": 48,
   "metadata": {},
   "outputs": [
    {
     "data": {
      "text/plain": [
       "Timestamp('2007-02-01 00:00:00')"
      ]
     },
     "execution_count": 48,
     "metadata": {},
     "output_type": "execute_result"
    }
   ],
   "source": [
    "df_controls_DK.date.min()"
   ]
  },
  {
   "cell_type": "markdown",
   "metadata": {},
   "source": [
    "## Google"
   ]
  },
  {
   "cell_type": "code",
   "execution_count": 49,
   "metadata": {},
   "outputs": [],
   "source": [
    "dfTrends = pd.read_csv('data/dfTrends_DK.csv', sep = ';', index_col = 0, parse_dates=['date'])"
   ]
  },
  {
   "cell_type": "code",
   "execution_count": 50,
   "metadata": {},
   "outputs": [],
   "source": [
    "dfTrends.drop(['geo', 'trends'], axis=1, inplace=True)"
   ]
  },
  {
   "cell_type": "markdown",
   "metadata": {},
   "source": [
    "### Cross sectional GT"
   ]
  },
  {
   "cell_type": "code",
   "execution_count": 51,
   "metadata": {},
   "outputs": [],
   "source": [
    "# dfTrends_cross = pd.read_csv('data/dfTrends_DK_cross.csv', sep = ';', index_col=0, parse_dates=['date'])"
   ]
  },
  {
   "cell_type": "code",
   "execution_count": 52,
   "metadata": {},
   "outputs": [],
   "source": [
    "# dfTrends_cross.drop(['geoCode', 'geoName', 'trends'], axis = 1, inplace=True)"
   ]
  },
  {
   "cell_type": "code",
   "execution_count": 53,
   "metadata": {},
   "outputs": [],
   "source": [
    "# dfTrends_cross.columns"
   ]
  },
  {
   "cell_type": "markdown",
   "metadata": {},
   "source": [
    "## Merge\n"
   ]
  },
  {
   "cell_type": "code",
   "execution_count": 54,
   "metadata": {},
   "outputs": [],
   "source": [
    "df_DK = df_target_DK.merge(df_job_posts_DK, on = ['date', 'ID'], how = 'left')"
   ]
  },
  {
   "cell_type": "code",
   "execution_count": 55,
   "metadata": {},
   "outputs": [],
   "source": [
    "df_DK = df_DK.merge(df_controls_DK, on = ['date', 'ID'], how = 'left')"
   ]
  },
  {
   "cell_type": "code",
   "execution_count": 56,
   "metadata": {},
   "outputs": [],
   "source": [
    "df_DK = pd.merge(df_DK, dfTrends, how = 'left', left_on=['ID', 'date'], right_on=['ID', 'date'])"
   ]
  },
  {
   "cell_type": "code",
   "execution_count": 57,
   "metadata": {},
   "outputs": [],
   "source": [
    "# df_DK = pd.merge(df_DK, dfTrends_cross, how = 'left', on = ['ID', 'date'])"
   ]
  },
  {
   "cell_type": "code",
   "execution_count": 58,
   "metadata": {},
   "outputs": [],
   "source": [
    "df_DK.sort_values(['ID', 'date'], inplace=True)"
   ]
  },
  {
   "cell_type": "code",
   "execution_count": 59,
   "metadata": {},
   "outputs": [],
   "source": [
    "df_DK.dropna(inplace=True)"
   ]
  },
  {
   "cell_type": "markdown",
   "metadata": {},
   "source": [
    "### Reindexing GT\n"
   ]
  },
  {
   "cell_type": "code",
   "execution_count": 60,
   "metadata": {},
   "outputs": [],
   "source": [
    "#Reindexing trends\n",
    "df_DK = df_DK.apply(lambda col: reindex(col) if col.name in GT_dict() else col).copy()"
   ]
  },
  {
   "cell_type": "markdown",
   "metadata": {},
   "source": [
    "## Check result"
   ]
  },
  {
   "cell_type": "code",
   "execution_count": 61,
   "metadata": {},
   "outputs": [
    {
     "data": {
      "text/plain": [
       "North Denmark       152\n",
       "Central Denmark     152\n",
       "Zealand             152\n",
       "Southern Denmark    152\n",
       "Capital             152\n",
       "Name: ID, dtype: int64"
      ]
     },
     "execution_count": 61,
     "metadata": {},
     "output_type": "execute_result"
    }
   ],
   "source": [
    "df_DK.ID.value_counts()"
   ]
  },
  {
   "cell_type": "code",
   "execution_count": 62,
   "metadata": {},
   "outputs": [
    {
     "data": {
      "text/plain": [
       "Timestamp('2007-02-01 00:00:00')"
      ]
     },
     "execution_count": 62,
     "metadata": {},
     "output_type": "execute_result"
    }
   ],
   "source": [
    "df_DK.date.min()"
   ]
  },
  {
   "cell_type": "code",
   "execution_count": 63,
   "metadata": {},
   "outputs": [
    {
     "data": {
      "text/plain": [
       "Timestamp('2019-09-01 00:00:00')"
      ]
     },
     "execution_count": 63,
     "metadata": {},
     "output_type": "execute_result"
    }
   ],
   "source": [
    "df_DK.date.max()"
   ]
  },
  {
   "cell_type": "markdown",
   "metadata": {},
   "source": [
    "## Save"
   ]
  },
  {
   "cell_type": "code",
   "execution_count": 64,
   "metadata": {},
   "outputs": [],
   "source": [
    "df_DK.to_csv('data/df_DK.csv', index = False)"
   ]
  },
  {
   "cell_type": "code",
   "execution_count": 65,
   "metadata": {},
   "outputs": [
    {
     "data": {
      "text/html": [
       "<div>\n",
       "<style scoped>\n",
       "    .dataframe tbody tr th:only-of-type {\n",
       "        vertical-align: middle;\n",
       "    }\n",
       "\n",
       "    .dataframe tbody tr th {\n",
       "        vertical-align: top;\n",
       "    }\n",
       "\n",
       "    .dataframe thead th {\n",
       "        text-align: right;\n",
       "    }\n",
       "</style>\n",
       "<table border=\"1\" class=\"dataframe\">\n",
       "  <thead>\n",
       "    <tr style=\"text-align: right;\">\n",
       "      <th></th>\n",
       "      <th>date</th>\n",
       "      <th>target_actual</th>\n",
       "      <th>ID</th>\n",
       "      <th>target_lag</th>\n",
       "      <th>jobs</th>\n",
       "      <th>sector_information_technology</th>\n",
       "      <th>sector_engineering_technology</th>\n",
       "      <th>sector_management_staff</th>\n",
       "      <th>sector_trade_service</th>\n",
       "      <th>sector_industry_craft</th>\n",
       "      <th>...</th>\n",
       "      <th>GT_DK_12</th>\n",
       "      <th>GT_DK_13</th>\n",
       "      <th>GT_DK_14</th>\n",
       "      <th>GT_DK_15</th>\n",
       "      <th>GT_DK_16</th>\n",
       "      <th>GT_DK_17</th>\n",
       "      <th>GT_DK_18</th>\n",
       "      <th>GT_DK_19</th>\n",
       "      <th>GT_DK_20</th>\n",
       "      <th>GT_DK_21</th>\n",
       "    </tr>\n",
       "  </thead>\n",
       "  <tbody>\n",
       "    <tr>\n",
       "      <td>9</td>\n",
       "      <td>2007-02-01</td>\n",
       "      <td>4.8</td>\n",
       "      <td>Capital</td>\n",
       "      <td>4.9</td>\n",
       "      <td>1.260650</td>\n",
       "      <td>0.088754</td>\n",
       "      <td>0.089670</td>\n",
       "      <td>0.126546</td>\n",
       "      <td>0.184036</td>\n",
       "      <td>0.122309</td>\n",
       "      <td>...</td>\n",
       "      <td>29.35</td>\n",
       "      <td>46.46</td>\n",
       "      <td>62.0</td>\n",
       "      <td>18.0</td>\n",
       "      <td>24.0</td>\n",
       "      <td>32.0</td>\n",
       "      <td>15.0</td>\n",
       "      <td>79.0</td>\n",
       "      <td>9.0</td>\n",
       "      <td>18.0</td>\n",
       "    </tr>\n",
       "    <tr>\n",
       "      <td>13</td>\n",
       "      <td>2007-03-01</td>\n",
       "      <td>4.6</td>\n",
       "      <td>Capital</td>\n",
       "      <td>4.8</td>\n",
       "      <td>1.477047</td>\n",
       "      <td>0.100425</td>\n",
       "      <td>0.110088</td>\n",
       "      <td>0.136776</td>\n",
       "      <td>0.225928</td>\n",
       "      <td>0.150005</td>\n",
       "      <td>...</td>\n",
       "      <td>43.48</td>\n",
       "      <td>20.20</td>\n",
       "      <td>44.0</td>\n",
       "      <td>20.0</td>\n",
       "      <td>21.0</td>\n",
       "      <td>54.0</td>\n",
       "      <td>16.0</td>\n",
       "      <td>85.0</td>\n",
       "      <td>6.0</td>\n",
       "      <td>22.0</td>\n",
       "    </tr>\n",
       "    <tr>\n",
       "      <td>15</td>\n",
       "      <td>2007-04-01</td>\n",
       "      <td>4.3</td>\n",
       "      <td>Capital</td>\n",
       "      <td>4.6</td>\n",
       "      <td>1.369270</td>\n",
       "      <td>0.081074</td>\n",
       "      <td>0.102986</td>\n",
       "      <td>0.146464</td>\n",
       "      <td>0.210355</td>\n",
       "      <td>0.138738</td>\n",
       "      <td>...</td>\n",
       "      <td>13.04</td>\n",
       "      <td>38.38</td>\n",
       "      <td>72.0</td>\n",
       "      <td>19.0</td>\n",
       "      <td>0.0</td>\n",
       "      <td>59.0</td>\n",
       "      <td>25.0</td>\n",
       "      <td>99.0</td>\n",
       "      <td>10.0</td>\n",
       "      <td>36.0</td>\n",
       "    </tr>\n",
       "    <tr>\n",
       "      <td>23</td>\n",
       "      <td>2007-05-01</td>\n",
       "      <td>4.3</td>\n",
       "      <td>Capital</td>\n",
       "      <td>4.3</td>\n",
       "      <td>1.407431</td>\n",
       "      <td>0.080941</td>\n",
       "      <td>0.111567</td>\n",
       "      <td>0.144036</td>\n",
       "      <td>0.218530</td>\n",
       "      <td>0.144151</td>\n",
       "      <td>...</td>\n",
       "      <td>23.91</td>\n",
       "      <td>39.39</td>\n",
       "      <td>35.0</td>\n",
       "      <td>19.0</td>\n",
       "      <td>20.0</td>\n",
       "      <td>51.0</td>\n",
       "      <td>21.0</td>\n",
       "      <td>76.0</td>\n",
       "      <td>10.0</td>\n",
       "      <td>10.0</td>\n",
       "    </tr>\n",
       "    <tr>\n",
       "      <td>27</td>\n",
       "      <td>2007-06-01</td>\n",
       "      <td>4.1</td>\n",
       "      <td>Capital</td>\n",
       "      <td>4.3</td>\n",
       "      <td>1.342219</td>\n",
       "      <td>0.078108</td>\n",
       "      <td>0.107819</td>\n",
       "      <td>0.113041</td>\n",
       "      <td>0.208325</td>\n",
       "      <td>0.150760</td>\n",
       "      <td>...</td>\n",
       "      <td>16.30</td>\n",
       "      <td>43.43</td>\n",
       "      <td>33.0</td>\n",
       "      <td>21.0</td>\n",
       "      <td>0.0</td>\n",
       "      <td>43.0</td>\n",
       "      <td>30.0</td>\n",
       "      <td>89.0</td>\n",
       "      <td>9.0</td>\n",
       "      <td>11.0</td>\n",
       "    </tr>\n",
       "  </tbody>\n",
       "</table>\n",
       "<p>5 rows × 42 columns</p>\n",
       "</div>"
      ],
      "text/plain": [
       "         date  target_actual       ID  target_lag      jobs  \\\n",
       "9  2007-02-01            4.8  Capital         4.9  1.260650   \n",
       "13 2007-03-01            4.6  Capital         4.8  1.477047   \n",
       "15 2007-04-01            4.3  Capital         4.6  1.369270   \n",
       "23 2007-05-01            4.3  Capital         4.3  1.407431   \n",
       "27 2007-06-01            4.1  Capital         4.3  1.342219   \n",
       "\n",
       "    sector_information_technology  sector_engineering_technology  \\\n",
       "9                        0.088754                       0.089670   \n",
       "13                       0.100425                       0.110088   \n",
       "15                       0.081074                       0.102986   \n",
       "23                       0.080941                       0.111567   \n",
       "27                       0.078108                       0.107819   \n",
       "\n",
       "    sector_management_staff  sector_trade_service  sector_industry_craft  ...  \\\n",
       "9                  0.126546              0.184036               0.122309  ...   \n",
       "13                 0.136776              0.225928               0.150005  ...   \n",
       "15                 0.146464              0.210355               0.138738  ...   \n",
       "23                 0.144036              0.218530               0.144151  ...   \n",
       "27                 0.113041              0.208325               0.150760  ...   \n",
       "\n",
       "    GT_DK_12  GT_DK_13  GT_DK_14  GT_DK_15  GT_DK_16  GT_DK_17  GT_DK_18  \\\n",
       "9      29.35     46.46      62.0      18.0      24.0      32.0      15.0   \n",
       "13     43.48     20.20      44.0      20.0      21.0      54.0      16.0   \n",
       "15     13.04     38.38      72.0      19.0       0.0      59.0      25.0   \n",
       "23     23.91     39.39      35.0      19.0      20.0      51.0      21.0   \n",
       "27     16.30     43.43      33.0      21.0       0.0      43.0      30.0   \n",
       "\n",
       "    GT_DK_19  GT_DK_20  GT_DK_21  \n",
       "9       79.0       9.0      18.0  \n",
       "13      85.0       6.0      22.0  \n",
       "15      99.0      10.0      36.0  \n",
       "23      76.0      10.0      10.0  \n",
       "27      89.0       9.0      11.0  \n",
       "\n",
       "[5 rows x 42 columns]"
      ]
     },
     "execution_count": 65,
     "metadata": {},
     "output_type": "execute_result"
    }
   ],
   "source": [
    "df_DK.head()"
   ]
  },
  {
   "cell_type": "code",
   "execution_count": null,
   "metadata": {},
   "outputs": [],
   "source": []
  }
 ],
 "metadata": {
  "kernelspec": {
   "display_name": "Python 3",
   "language": "python",
   "name": "python3"
  },
  "language_info": {
   "codemirror_mode": {
    "name": "ipython",
    "version": 3
   },
   "file_extension": ".py",
   "mimetype": "text/x-python",
   "name": "python",
   "nbconvert_exporter": "python",
   "pygments_lexer": "ipython3",
   "version": "3.7.1"
  }
 },
 "nbformat": 4,
 "nbformat_minor": 4
}
